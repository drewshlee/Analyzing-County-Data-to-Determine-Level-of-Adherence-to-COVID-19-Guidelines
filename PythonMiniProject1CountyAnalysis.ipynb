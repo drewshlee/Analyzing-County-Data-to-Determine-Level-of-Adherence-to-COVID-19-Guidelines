{
 "cells": [
  {
   "cell_type": "code",
   "execution_count": 7,
   "metadata": {},
   "outputs": [],
   "source": [
    "# import libraries\n",
    "import pandas as pd\n",
    "import numpy as np"
   ]
  },
  {
   "cell_type": "code",
   "execution_count": 8,
   "metadata": {},
   "outputs": [],
   "source": [
    "import plotly.express as px\n",
    "import plotly.figure_factory as ff"
   ]
  },
  {
   "cell_type": "code",
   "execution_count": 9,
   "metadata": {},
   "outputs": [],
   "source": [
    "data_covid19 = \"https://raw.githubusercontent.com/nytimes/covid-19-data/master/us-counties.csv\""
   ]
  },
  {
   "cell_type": "code",
   "execution_count": 10,
   "metadata": {},
   "outputs": [],
   "source": [
    "df_covid = pd.read_csv(data_covid19)"
   ]
  },
  {
   "cell_type": "code",
   "execution_count": 11,
   "metadata": {},
   "outputs": [
    {
     "data": {
      "text/html": [
       "<div>\n",
       "<style scoped>\n",
       "    .dataframe tbody tr th:only-of-type {\n",
       "        vertical-align: middle;\n",
       "    }\n",
       "\n",
       "    .dataframe tbody tr th {\n",
       "        vertical-align: top;\n",
       "    }\n",
       "\n",
       "    .dataframe thead th {\n",
       "        text-align: right;\n",
       "    }\n",
       "</style>\n",
       "<table border=\"1\" class=\"dataframe\">\n",
       "  <thead>\n",
       "    <tr style=\"text-align: right;\">\n",
       "      <th></th>\n",
       "      <th>date</th>\n",
       "      <th>county</th>\n",
       "      <th>state</th>\n",
       "      <th>fips</th>\n",
       "      <th>cases</th>\n",
       "      <th>deaths</th>\n",
       "    </tr>\n",
       "  </thead>\n",
       "  <tbody>\n",
       "    <tr>\n",
       "      <th>0</th>\n",
       "      <td>2020-01-21</td>\n",
       "      <td>Snohomish</td>\n",
       "      <td>Washington</td>\n",
       "      <td>53061.0</td>\n",
       "      <td>1</td>\n",
       "      <td>0</td>\n",
       "    </tr>\n",
       "    <tr>\n",
       "      <th>1</th>\n",
       "      <td>2020-01-22</td>\n",
       "      <td>Snohomish</td>\n",
       "      <td>Washington</td>\n",
       "      <td>53061.0</td>\n",
       "      <td>1</td>\n",
       "      <td>0</td>\n",
       "    </tr>\n",
       "    <tr>\n",
       "      <th>2</th>\n",
       "      <td>2020-01-23</td>\n",
       "      <td>Snohomish</td>\n",
       "      <td>Washington</td>\n",
       "      <td>53061.0</td>\n",
       "      <td>1</td>\n",
       "      <td>0</td>\n",
       "    </tr>\n",
       "    <tr>\n",
       "      <th>3</th>\n",
       "      <td>2020-01-24</td>\n",
       "      <td>Cook</td>\n",
       "      <td>Illinois</td>\n",
       "      <td>17031.0</td>\n",
       "      <td>1</td>\n",
       "      <td>0</td>\n",
       "    </tr>\n",
       "    <tr>\n",
       "      <th>4</th>\n",
       "      <td>2020-01-24</td>\n",
       "      <td>Snohomish</td>\n",
       "      <td>Washington</td>\n",
       "      <td>53061.0</td>\n",
       "      <td>1</td>\n",
       "      <td>0</td>\n",
       "    </tr>\n",
       "  </tbody>\n",
       "</table>\n",
       "</div>"
      ],
      "text/plain": [
       "         date     county       state     fips  cases  deaths\n",
       "0  2020-01-21  Snohomish  Washington  53061.0      1       0\n",
       "1  2020-01-22  Snohomish  Washington  53061.0      1       0\n",
       "2  2020-01-23  Snohomish  Washington  53061.0      1       0\n",
       "3  2020-01-24       Cook    Illinois  17031.0      1       0\n",
       "4  2020-01-24  Snohomish  Washington  53061.0      1       0"
      ]
     },
     "execution_count": 11,
     "metadata": {},
     "output_type": "execute_result"
    }
   ],
   "source": [
    "df_covid.head()"
   ]
  },
  {
   "cell_type": "code",
   "execution_count": 12,
   "metadata": {},
   "outputs": [],
   "source": [
    "# import data for analysis\n",
    "\n",
    "df_population = pd.read_csv(\"ACSST1Y2018.S0101_data_with_overlays_2020-05-13T042119.csv\")\n",
    "df_states = pd.read_excel(\"state-geocodes-v2018.xlsx\")\n",
    "df_counties = pd.read_excel(\"all-geocodes-v2018.xlsx\")\n",
    "df_hospitals = pd.read_csv(\"Hospitals.csv\")"
   ]
  },
  {
   "cell_type": "code",
   "execution_count": 13,
   "metadata": {},
   "outputs": [
    {
     "data": {
      "text/html": [
       "<div>\n",
       "<style scoped>\n",
       "    .dataframe tbody tr th:only-of-type {\n",
       "        vertical-align: middle;\n",
       "    }\n",
       "\n",
       "    .dataframe tbody tr th {\n",
       "        vertical-align: top;\n",
       "    }\n",
       "\n",
       "    .dataframe thead th {\n",
       "        text-align: right;\n",
       "    }\n",
       "</style>\n",
       "<table border=\"1\" class=\"dataframe\">\n",
       "  <thead>\n",
       "    <tr style=\"text-align: right;\">\n",
       "      <th></th>\n",
       "      <th>GEO_ID</th>\n",
       "      <th>NAME</th>\n",
       "      <th>S0101_C01_001E</th>\n",
       "      <th>S0101_C01_001M</th>\n",
       "      <th>S0101_C02_001E</th>\n",
       "      <th>S0101_C02_001M</th>\n",
       "      <th>S0101_C03_001E</th>\n",
       "      <th>S0101_C03_001M</th>\n",
       "      <th>S0101_C04_001E</th>\n",
       "      <th>S0101_C04_001M</th>\n",
       "      <th>...</th>\n",
       "      <th>S0101_C02_038E</th>\n",
       "      <th>S0101_C02_038M</th>\n",
       "      <th>S0101_C03_038E</th>\n",
       "      <th>S0101_C03_038M</th>\n",
       "      <th>S0101_C04_038E</th>\n",
       "      <th>S0101_C04_038M</th>\n",
       "      <th>S0101_C05_038E</th>\n",
       "      <th>S0101_C05_038M</th>\n",
       "      <th>S0101_C06_038E</th>\n",
       "      <th>S0101_C06_038M</th>\n",
       "    </tr>\n",
       "  </thead>\n",
       "  <tbody>\n",
       "    <tr>\n",
       "      <th>0</th>\n",
       "      <td>id</td>\n",
       "      <td>Geographic Area Name</td>\n",
       "      <td>Estimate!!Total!!Total population</td>\n",
       "      <td>Margin of Error!!Total MOE!!Total population</td>\n",
       "      <td>Estimate!!Percent!!Total population</td>\n",
       "      <td>Margin of Error!!Percent MOE!!Total population</td>\n",
       "      <td>Estimate!!Male!!Total population</td>\n",
       "      <td>Margin of Error!!Male MOE!!Total population</td>\n",
       "      <td>Estimate!!Percent Male!!Total population</td>\n",
       "      <td>Margin of Error!!Percent Male MOE!!Total popul...</td>\n",
       "      <td>...</td>\n",
       "      <td>Estimate!!Percent!!PERCENT ALLOCATED!!Age</td>\n",
       "      <td>Margin of Error!!Percent MOE!!PERCENT ALLOCATE...</td>\n",
       "      <td>Estimate!!Male!!PERCENT ALLOCATED!!Age</td>\n",
       "      <td>Margin of Error!!Male MOE!!PERCENT ALLOCATED!!Age</td>\n",
       "      <td>Estimate!!Percent Male!!PERCENT ALLOCATED!!Age</td>\n",
       "      <td>Margin of Error!!Percent Male MOE!!PERCENT ALL...</td>\n",
       "      <td>Estimate!!Female!!PERCENT ALLOCATED!!Age</td>\n",
       "      <td>Margin of Error!!Female MOE!!PERCENT ALLOCATED...</td>\n",
       "      <td>Estimate!!Percent Female!!PERCENT ALLOCATED!!Age</td>\n",
       "      <td>Margin of Error!!Percent Female MOE!!PERCENT A...</td>\n",
       "    </tr>\n",
       "    <tr>\n",
       "      <th>1</th>\n",
       "      <td>0500000US01117</td>\n",
       "      <td>Shelby County, Alabama</td>\n",
       "      <td>215707</td>\n",
       "      <td>*****</td>\n",
       "      <td>(X)</td>\n",
       "      <td>(X)</td>\n",
       "      <td>105022</td>\n",
       "      <td>1416</td>\n",
       "      <td>(X)</td>\n",
       "      <td>(X)</td>\n",
       "      <td>...</td>\n",
       "      <td>0.7</td>\n",
       "      <td>(X)</td>\n",
       "      <td>(X)</td>\n",
       "      <td>(X)</td>\n",
       "      <td>(X)</td>\n",
       "      <td>(X)</td>\n",
       "      <td>(X)</td>\n",
       "      <td>(X)</td>\n",
       "      <td>(X)</td>\n",
       "      <td>(X)</td>\n",
       "    </tr>\n",
       "    <tr>\n",
       "      <th>2</th>\n",
       "      <td>0500000US01121</td>\n",
       "      <td>Talladega County, Alabama</td>\n",
       "      <td>79828</td>\n",
       "      <td>*****</td>\n",
       "      <td>(X)</td>\n",
       "      <td>(X)</td>\n",
       "      <td>38489</td>\n",
       "      <td>450</td>\n",
       "      <td>(X)</td>\n",
       "      <td>(X)</td>\n",
       "      <td>...</td>\n",
       "      <td>0.4</td>\n",
       "      <td>(X)</td>\n",
       "      <td>(X)</td>\n",
       "      <td>(X)</td>\n",
       "      <td>(X)</td>\n",
       "      <td>(X)</td>\n",
       "      <td>(X)</td>\n",
       "      <td>(X)</td>\n",
       "      <td>(X)</td>\n",
       "      <td>(X)</td>\n",
       "    </tr>\n",
       "    <tr>\n",
       "      <th>3</th>\n",
       "      <td>0500000US01125</td>\n",
       "      <td>Tuscaloosa County, Alabama</td>\n",
       "      <td>208911</td>\n",
       "      <td>*****</td>\n",
       "      <td>(X)</td>\n",
       "      <td>(X)</td>\n",
       "      <td>99576</td>\n",
       "      <td>877</td>\n",
       "      <td>(X)</td>\n",
       "      <td>(X)</td>\n",
       "      <td>...</td>\n",
       "      <td>9.2</td>\n",
       "      <td>(X)</td>\n",
       "      <td>(X)</td>\n",
       "      <td>(X)</td>\n",
       "      <td>(X)</td>\n",
       "      <td>(X)</td>\n",
       "      <td>(X)</td>\n",
       "      <td>(X)</td>\n",
       "      <td>(X)</td>\n",
       "      <td>(X)</td>\n",
       "    </tr>\n",
       "    <tr>\n",
       "      <th>4</th>\n",
       "      <td>0500000US04021</td>\n",
       "      <td>Pinal County, Arizona</td>\n",
       "      <td>447138</td>\n",
       "      <td>*****</td>\n",
       "      <td>(X)</td>\n",
       "      <td>(X)</td>\n",
       "      <td>233292</td>\n",
       "      <td>675</td>\n",
       "      <td>(X)</td>\n",
       "      <td>(X)</td>\n",
       "      <td>...</td>\n",
       "      <td>1.9</td>\n",
       "      <td>(X)</td>\n",
       "      <td>(X)</td>\n",
       "      <td>(X)</td>\n",
       "      <td>(X)</td>\n",
       "      <td>(X)</td>\n",
       "      <td>(X)</td>\n",
       "      <td>(X)</td>\n",
       "      <td>(X)</td>\n",
       "      <td>(X)</td>\n",
       "    </tr>\n",
       "  </tbody>\n",
       "</table>\n",
       "<p>5 rows × 458 columns</p>\n",
       "</div>"
      ],
      "text/plain": [
       "           GEO_ID                        NAME  \\\n",
       "0              id        Geographic Area Name   \n",
       "1  0500000US01117      Shelby County, Alabama   \n",
       "2  0500000US01121   Talladega County, Alabama   \n",
       "3  0500000US01125  Tuscaloosa County, Alabama   \n",
       "4  0500000US04021       Pinal County, Arizona   \n",
       "\n",
       "                      S0101_C01_001E  \\\n",
       "0  Estimate!!Total!!Total population   \n",
       "1                             215707   \n",
       "2                              79828   \n",
       "3                             208911   \n",
       "4                             447138   \n",
       "\n",
       "                                 S0101_C01_001M  \\\n",
       "0  Margin of Error!!Total MOE!!Total population   \n",
       "1                                         *****   \n",
       "2                                         *****   \n",
       "3                                         *****   \n",
       "4                                         *****   \n",
       "\n",
       "                        S0101_C02_001E  \\\n",
       "0  Estimate!!Percent!!Total population   \n",
       "1                                  (X)   \n",
       "2                                  (X)   \n",
       "3                                  (X)   \n",
       "4                                  (X)   \n",
       "\n",
       "                                   S0101_C02_001M  \\\n",
       "0  Margin of Error!!Percent MOE!!Total population   \n",
       "1                                             (X)   \n",
       "2                                             (X)   \n",
       "3                                             (X)   \n",
       "4                                             (X)   \n",
       "\n",
       "                     S0101_C03_001E  \\\n",
       "0  Estimate!!Male!!Total population   \n",
       "1                            105022   \n",
       "2                             38489   \n",
       "3                             99576   \n",
       "4                            233292   \n",
       "\n",
       "                                S0101_C03_001M  \\\n",
       "0  Margin of Error!!Male MOE!!Total population   \n",
       "1                                         1416   \n",
       "2                                          450   \n",
       "3                                          877   \n",
       "4                                          675   \n",
       "\n",
       "                             S0101_C04_001E  \\\n",
       "0  Estimate!!Percent Male!!Total population   \n",
       "1                                       (X)   \n",
       "2                                       (X)   \n",
       "3                                       (X)   \n",
       "4                                       (X)   \n",
       "\n",
       "                                      S0101_C04_001M  ...  \\\n",
       "0  Margin of Error!!Percent Male MOE!!Total popul...  ...   \n",
       "1                                                (X)  ...   \n",
       "2                                                (X)  ...   \n",
       "3                                                (X)  ...   \n",
       "4                                                (X)  ...   \n",
       "\n",
       "                              S0101_C02_038E  \\\n",
       "0  Estimate!!Percent!!PERCENT ALLOCATED!!Age   \n",
       "1                                        0.7   \n",
       "2                                        0.4   \n",
       "3                                        9.2   \n",
       "4                                        1.9   \n",
       "\n",
       "                                      S0101_C02_038M  \\\n",
       "0  Margin of Error!!Percent MOE!!PERCENT ALLOCATE...   \n",
       "1                                                (X)   \n",
       "2                                                (X)   \n",
       "3                                                (X)   \n",
       "4                                                (X)   \n",
       "\n",
       "                           S0101_C03_038E  \\\n",
       "0  Estimate!!Male!!PERCENT ALLOCATED!!Age   \n",
       "1                                     (X)   \n",
       "2                                     (X)   \n",
       "3                                     (X)   \n",
       "4                                     (X)   \n",
       "\n",
       "                                      S0101_C03_038M  \\\n",
       "0  Margin of Error!!Male MOE!!PERCENT ALLOCATED!!Age   \n",
       "1                                                (X)   \n",
       "2                                                (X)   \n",
       "3                                                (X)   \n",
       "4                                                (X)   \n",
       "\n",
       "                                   S0101_C04_038E  \\\n",
       "0  Estimate!!Percent Male!!PERCENT ALLOCATED!!Age   \n",
       "1                                             (X)   \n",
       "2                                             (X)   \n",
       "3                                             (X)   \n",
       "4                                             (X)   \n",
       "\n",
       "                                      S0101_C04_038M  \\\n",
       "0  Margin of Error!!Percent Male MOE!!PERCENT ALL...   \n",
       "1                                                (X)   \n",
       "2                                                (X)   \n",
       "3                                                (X)   \n",
       "4                                                (X)   \n",
       "\n",
       "                             S0101_C05_038E  \\\n",
       "0  Estimate!!Female!!PERCENT ALLOCATED!!Age   \n",
       "1                                       (X)   \n",
       "2                                       (X)   \n",
       "3                                       (X)   \n",
       "4                                       (X)   \n",
       "\n",
       "                                      S0101_C05_038M  \\\n",
       "0  Margin of Error!!Female MOE!!PERCENT ALLOCATED...   \n",
       "1                                                (X)   \n",
       "2                                                (X)   \n",
       "3                                                (X)   \n",
       "4                                                (X)   \n",
       "\n",
       "                                     S0101_C06_038E  \\\n",
       "0  Estimate!!Percent Female!!PERCENT ALLOCATED!!Age   \n",
       "1                                               (X)   \n",
       "2                                               (X)   \n",
       "3                                               (X)   \n",
       "4                                               (X)   \n",
       "\n",
       "                                      S0101_C06_038M  \n",
       "0  Margin of Error!!Percent Female MOE!!PERCENT A...  \n",
       "1                                                (X)  \n",
       "2                                                (X)  \n",
       "3                                                (X)  \n",
       "4                                                (X)  \n",
       "\n",
       "[5 rows x 458 columns]"
      ]
     },
     "execution_count": 13,
     "metadata": {},
     "output_type": "execute_result"
    }
   ],
   "source": [
    "df_population.head()"
   ]
  },
  {
   "cell_type": "code",
   "execution_count": 14,
   "metadata": {},
   "outputs": [],
   "source": [
    "# make the first row (Row 0) the column header names\n",
    "\n",
    "df_population.columns = df_population.iloc[0]"
   ]
  },
  {
   "cell_type": "code",
   "execution_count": 15,
   "metadata": {},
   "outputs": [
    {
     "data": {
      "text/html": [
       "<div>\n",
       "<style scoped>\n",
       "    .dataframe tbody tr th:only-of-type {\n",
       "        vertical-align: middle;\n",
       "    }\n",
       "\n",
       "    .dataframe tbody tr th {\n",
       "        vertical-align: top;\n",
       "    }\n",
       "\n",
       "    .dataframe thead th {\n",
       "        text-align: right;\n",
       "    }\n",
       "</style>\n",
       "<table border=\"1\" class=\"dataframe\">\n",
       "  <thead>\n",
       "    <tr style=\"text-align: right;\">\n",
       "      <th></th>\n",
       "      <th>id</th>\n",
       "      <th>Geographic Area Name</th>\n",
       "      <th>Estimate!!Total!!Total population</th>\n",
       "      <th>Margin of Error!!Total MOE!!Total population</th>\n",
       "      <th>Estimate!!Percent!!Total population</th>\n",
       "      <th>Margin of Error!!Percent MOE!!Total population</th>\n",
       "      <th>Estimate!!Male!!Total population</th>\n",
       "      <th>Margin of Error!!Male MOE!!Total population</th>\n",
       "      <th>Estimate!!Percent Male!!Total population</th>\n",
       "      <th>Margin of Error!!Percent Male MOE!!Total population</th>\n",
       "      <th>...</th>\n",
       "      <th>Estimate!!Percent!!PERCENT ALLOCATED!!Age</th>\n",
       "      <th>Margin of Error!!Percent MOE!!PERCENT ALLOCATED!!Age</th>\n",
       "      <th>Estimate!!Male!!PERCENT ALLOCATED!!Age</th>\n",
       "      <th>Margin of Error!!Male MOE!!PERCENT ALLOCATED!!Age</th>\n",
       "      <th>Estimate!!Percent Male!!PERCENT ALLOCATED!!Age</th>\n",
       "      <th>Margin of Error!!Percent Male MOE!!PERCENT ALLOCATED!!Age</th>\n",
       "      <th>Estimate!!Female!!PERCENT ALLOCATED!!Age</th>\n",
       "      <th>Margin of Error!!Female MOE!!PERCENT ALLOCATED!!Age</th>\n",
       "      <th>Estimate!!Percent Female!!PERCENT ALLOCATED!!Age</th>\n",
       "      <th>Margin of Error!!Percent Female MOE!!PERCENT ALLOCATED!!Age</th>\n",
       "    </tr>\n",
       "  </thead>\n",
       "  <tbody>\n",
       "    <tr>\n",
       "      <th>0</th>\n",
       "      <td>id</td>\n",
       "      <td>Geographic Area Name</td>\n",
       "      <td>Estimate!!Total!!Total population</td>\n",
       "      <td>Margin of Error!!Total MOE!!Total population</td>\n",
       "      <td>Estimate!!Percent!!Total population</td>\n",
       "      <td>Margin of Error!!Percent MOE!!Total population</td>\n",
       "      <td>Estimate!!Male!!Total population</td>\n",
       "      <td>Margin of Error!!Male MOE!!Total population</td>\n",
       "      <td>Estimate!!Percent Male!!Total population</td>\n",
       "      <td>Margin of Error!!Percent Male MOE!!Total popul...</td>\n",
       "      <td>...</td>\n",
       "      <td>Estimate!!Percent!!PERCENT ALLOCATED!!Age</td>\n",
       "      <td>Margin of Error!!Percent MOE!!PERCENT ALLOCATE...</td>\n",
       "      <td>Estimate!!Male!!PERCENT ALLOCATED!!Age</td>\n",
       "      <td>Margin of Error!!Male MOE!!PERCENT ALLOCATED!!Age</td>\n",
       "      <td>Estimate!!Percent Male!!PERCENT ALLOCATED!!Age</td>\n",
       "      <td>Margin of Error!!Percent Male MOE!!PERCENT ALL...</td>\n",
       "      <td>Estimate!!Female!!PERCENT ALLOCATED!!Age</td>\n",
       "      <td>Margin of Error!!Female MOE!!PERCENT ALLOCATED...</td>\n",
       "      <td>Estimate!!Percent Female!!PERCENT ALLOCATED!!Age</td>\n",
       "      <td>Margin of Error!!Percent Female MOE!!PERCENT A...</td>\n",
       "    </tr>\n",
       "    <tr>\n",
       "      <th>1</th>\n",
       "      <td>0500000US01117</td>\n",
       "      <td>Shelby County, Alabama</td>\n",
       "      <td>215707</td>\n",
       "      <td>*****</td>\n",
       "      <td>(X)</td>\n",
       "      <td>(X)</td>\n",
       "      <td>105022</td>\n",
       "      <td>1416</td>\n",
       "      <td>(X)</td>\n",
       "      <td>(X)</td>\n",
       "      <td>...</td>\n",
       "      <td>0.7</td>\n",
       "      <td>(X)</td>\n",
       "      <td>(X)</td>\n",
       "      <td>(X)</td>\n",
       "      <td>(X)</td>\n",
       "      <td>(X)</td>\n",
       "      <td>(X)</td>\n",
       "      <td>(X)</td>\n",
       "      <td>(X)</td>\n",
       "      <td>(X)</td>\n",
       "    </tr>\n",
       "    <tr>\n",
       "      <th>2</th>\n",
       "      <td>0500000US01121</td>\n",
       "      <td>Talladega County, Alabama</td>\n",
       "      <td>79828</td>\n",
       "      <td>*****</td>\n",
       "      <td>(X)</td>\n",
       "      <td>(X)</td>\n",
       "      <td>38489</td>\n",
       "      <td>450</td>\n",
       "      <td>(X)</td>\n",
       "      <td>(X)</td>\n",
       "      <td>...</td>\n",
       "      <td>0.4</td>\n",
       "      <td>(X)</td>\n",
       "      <td>(X)</td>\n",
       "      <td>(X)</td>\n",
       "      <td>(X)</td>\n",
       "      <td>(X)</td>\n",
       "      <td>(X)</td>\n",
       "      <td>(X)</td>\n",
       "      <td>(X)</td>\n",
       "      <td>(X)</td>\n",
       "    </tr>\n",
       "    <tr>\n",
       "      <th>3</th>\n",
       "      <td>0500000US01125</td>\n",
       "      <td>Tuscaloosa County, Alabama</td>\n",
       "      <td>208911</td>\n",
       "      <td>*****</td>\n",
       "      <td>(X)</td>\n",
       "      <td>(X)</td>\n",
       "      <td>99576</td>\n",
       "      <td>877</td>\n",
       "      <td>(X)</td>\n",
       "      <td>(X)</td>\n",
       "      <td>...</td>\n",
       "      <td>9.2</td>\n",
       "      <td>(X)</td>\n",
       "      <td>(X)</td>\n",
       "      <td>(X)</td>\n",
       "      <td>(X)</td>\n",
       "      <td>(X)</td>\n",
       "      <td>(X)</td>\n",
       "      <td>(X)</td>\n",
       "      <td>(X)</td>\n",
       "      <td>(X)</td>\n",
       "    </tr>\n",
       "    <tr>\n",
       "      <th>4</th>\n",
       "      <td>0500000US04021</td>\n",
       "      <td>Pinal County, Arizona</td>\n",
       "      <td>447138</td>\n",
       "      <td>*****</td>\n",
       "      <td>(X)</td>\n",
       "      <td>(X)</td>\n",
       "      <td>233292</td>\n",
       "      <td>675</td>\n",
       "      <td>(X)</td>\n",
       "      <td>(X)</td>\n",
       "      <td>...</td>\n",
       "      <td>1.9</td>\n",
       "      <td>(X)</td>\n",
       "      <td>(X)</td>\n",
       "      <td>(X)</td>\n",
       "      <td>(X)</td>\n",
       "      <td>(X)</td>\n",
       "      <td>(X)</td>\n",
       "      <td>(X)</td>\n",
       "      <td>(X)</td>\n",
       "      <td>(X)</td>\n",
       "    </tr>\n",
       "  </tbody>\n",
       "</table>\n",
       "<p>5 rows × 458 columns</p>\n",
       "</div>"
      ],
      "text/plain": [
       "0              id        Geographic Area Name  \\\n",
       "0              id        Geographic Area Name   \n",
       "1  0500000US01117      Shelby County, Alabama   \n",
       "2  0500000US01121   Talladega County, Alabama   \n",
       "3  0500000US01125  Tuscaloosa County, Alabama   \n",
       "4  0500000US04021       Pinal County, Arizona   \n",
       "\n",
       "0  Estimate!!Total!!Total population  \\\n",
       "0  Estimate!!Total!!Total population   \n",
       "1                             215707   \n",
       "2                              79828   \n",
       "3                             208911   \n",
       "4                             447138   \n",
       "\n",
       "0  Margin of Error!!Total MOE!!Total population  \\\n",
       "0  Margin of Error!!Total MOE!!Total population   \n",
       "1                                         *****   \n",
       "2                                         *****   \n",
       "3                                         *****   \n",
       "4                                         *****   \n",
       "\n",
       "0  Estimate!!Percent!!Total population  \\\n",
       "0  Estimate!!Percent!!Total population   \n",
       "1                                  (X)   \n",
       "2                                  (X)   \n",
       "3                                  (X)   \n",
       "4                                  (X)   \n",
       "\n",
       "0  Margin of Error!!Percent MOE!!Total population  \\\n",
       "0  Margin of Error!!Percent MOE!!Total population   \n",
       "1                                             (X)   \n",
       "2                                             (X)   \n",
       "3                                             (X)   \n",
       "4                                             (X)   \n",
       "\n",
       "0  Estimate!!Male!!Total population  \\\n",
       "0  Estimate!!Male!!Total population   \n",
       "1                            105022   \n",
       "2                             38489   \n",
       "3                             99576   \n",
       "4                            233292   \n",
       "\n",
       "0  Margin of Error!!Male MOE!!Total population  \\\n",
       "0  Margin of Error!!Male MOE!!Total population   \n",
       "1                                         1416   \n",
       "2                                          450   \n",
       "3                                          877   \n",
       "4                                          675   \n",
       "\n",
       "0  Estimate!!Percent Male!!Total population  \\\n",
       "0  Estimate!!Percent Male!!Total population   \n",
       "1                                       (X)   \n",
       "2                                       (X)   \n",
       "3                                       (X)   \n",
       "4                                       (X)   \n",
       "\n",
       "0 Margin of Error!!Percent Male MOE!!Total population  ...  \\\n",
       "0  Margin of Error!!Percent Male MOE!!Total popul...   ...   \n",
       "1                                                (X)   ...   \n",
       "2                                                (X)   ...   \n",
       "3                                                (X)   ...   \n",
       "4                                                (X)   ...   \n",
       "\n",
       "0  Estimate!!Percent!!PERCENT ALLOCATED!!Age  \\\n",
       "0  Estimate!!Percent!!PERCENT ALLOCATED!!Age   \n",
       "1                                        0.7   \n",
       "2                                        0.4   \n",
       "3                                        9.2   \n",
       "4                                        1.9   \n",
       "\n",
       "0 Margin of Error!!Percent MOE!!PERCENT ALLOCATED!!Age  \\\n",
       "0  Margin of Error!!Percent MOE!!PERCENT ALLOCATE...     \n",
       "1                                                (X)     \n",
       "2                                                (X)     \n",
       "3                                                (X)     \n",
       "4                                                (X)     \n",
       "\n",
       "0  Estimate!!Male!!PERCENT ALLOCATED!!Age  \\\n",
       "0  Estimate!!Male!!PERCENT ALLOCATED!!Age   \n",
       "1                                     (X)   \n",
       "2                                     (X)   \n",
       "3                                     (X)   \n",
       "4                                     (X)   \n",
       "\n",
       "0  Margin of Error!!Male MOE!!PERCENT ALLOCATED!!Age  \\\n",
       "0  Margin of Error!!Male MOE!!PERCENT ALLOCATED!!Age   \n",
       "1                                                (X)   \n",
       "2                                                (X)   \n",
       "3                                                (X)   \n",
       "4                                                (X)   \n",
       "\n",
       "0  Estimate!!Percent Male!!PERCENT ALLOCATED!!Age  \\\n",
       "0  Estimate!!Percent Male!!PERCENT ALLOCATED!!Age   \n",
       "1                                             (X)   \n",
       "2                                             (X)   \n",
       "3                                             (X)   \n",
       "4                                             (X)   \n",
       "\n",
       "0 Margin of Error!!Percent Male MOE!!PERCENT ALLOCATED!!Age  \\\n",
       "0  Margin of Error!!Percent Male MOE!!PERCENT ALL...          \n",
       "1                                                (X)          \n",
       "2                                                (X)          \n",
       "3                                                (X)          \n",
       "4                                                (X)          \n",
       "\n",
       "0  Estimate!!Female!!PERCENT ALLOCATED!!Age  \\\n",
       "0  Estimate!!Female!!PERCENT ALLOCATED!!Age   \n",
       "1                                       (X)   \n",
       "2                                       (X)   \n",
       "3                                       (X)   \n",
       "4                                       (X)   \n",
       "\n",
       "0 Margin of Error!!Female MOE!!PERCENT ALLOCATED!!Age  \\\n",
       "0  Margin of Error!!Female MOE!!PERCENT ALLOCATED...    \n",
       "1                                                (X)    \n",
       "2                                                (X)    \n",
       "3                                                (X)    \n",
       "4                                                (X)    \n",
       "\n",
       "0  Estimate!!Percent Female!!PERCENT ALLOCATED!!Age  \\\n",
       "0  Estimate!!Percent Female!!PERCENT ALLOCATED!!Age   \n",
       "1                                               (X)   \n",
       "2                                               (X)   \n",
       "3                                               (X)   \n",
       "4                                               (X)   \n",
       "\n",
       "0 Margin of Error!!Percent Female MOE!!PERCENT ALLOCATED!!Age  \n",
       "0  Margin of Error!!Percent Female MOE!!PERCENT A...           \n",
       "1                                                (X)           \n",
       "2                                                (X)           \n",
       "3                                                (X)           \n",
       "4                                                (X)           \n",
       "\n",
       "[5 rows x 458 columns]"
      ]
     },
     "execution_count": 15,
     "metadata": {},
     "output_type": "execute_result"
    }
   ],
   "source": [
    "df_population.head()"
   ]
  },
  {
   "cell_type": "code",
   "execution_count": 16,
   "metadata": {},
   "outputs": [],
   "source": [
    "# remove the first row \n",
    "#(i.e. make the dataframe now all of the data after the first row)\n",
    "\n",
    "df_population = df_population[1:]"
   ]
  },
  {
   "cell_type": "code",
   "execution_count": 17,
   "metadata": {},
   "outputs": [
    {
     "data": {
      "text/plain": [
       "['id',\n",
       " 'Geographic Area Name',\n",
       " 'Estimate!!Total!!Total population',\n",
       " 'Margin of Error!!Total MOE!!Total population',\n",
       " 'Estimate!!Percent!!Total population',\n",
       " 'Margin of Error!!Percent MOE!!Total population',\n",
       " 'Estimate!!Male!!Total population',\n",
       " 'Margin of Error!!Male MOE!!Total population',\n",
       " 'Estimate!!Percent Male!!Total population',\n",
       " 'Margin of Error!!Percent Male MOE!!Total population',\n",
       " 'Estimate!!Female!!Total population',\n",
       " 'Margin of Error!!Female MOE!!Total population',\n",
       " 'Estimate!!Percent Female!!Total population',\n",
       " 'Margin of Error!!Percent Female MOE!!Total population',\n",
       " 'Estimate!!Total!!Total population!!AGE!!Under 5 years',\n",
       " 'Margin of Error!!Total MOE!!Total population!!AGE!!Under 5 years',\n",
       " 'Estimate!!Percent!!Total population!!AGE!!Under 5 years',\n",
       " 'Margin of Error!!Percent MOE!!Total population!!AGE!!Under 5 years',\n",
       " 'Estimate!!Male!!Total population!!AGE!!Under 5 years',\n",
       " 'Margin of Error!!Male MOE!!Total population!!AGE!!Under 5 years',\n",
       " 'Estimate!!Percent Male!!Total population!!AGE!!Under 5 years',\n",
       " 'Margin of Error!!Percent Male MOE!!Total population!!AGE!!Under 5 years',\n",
       " 'Estimate!!Female!!Total population!!AGE!!Under 5 years',\n",
       " 'Margin of Error!!Female MOE!!Total population!!AGE!!Under 5 years',\n",
       " 'Estimate!!Percent Female!!Total population!!AGE!!Under 5 years',\n",
       " 'Margin of Error!!Percent Female MOE!!Total population!!AGE!!Under 5 years',\n",
       " 'Estimate!!Total!!Total population!!AGE!!5 to 9 years',\n",
       " 'Margin of Error!!Total MOE!!Total population!!AGE!!5 to 9 years',\n",
       " 'Estimate!!Percent!!Total population!!AGE!!5 to 9 years',\n",
       " 'Margin of Error!!Percent MOE!!Total population!!AGE!!5 to 9 years',\n",
       " 'Estimate!!Male!!Total population!!AGE!!5 to 9 years',\n",
       " 'Margin of Error!!Male MOE!!Total population!!AGE!!5 to 9 years',\n",
       " 'Estimate!!Percent Male!!Total population!!AGE!!5 to 9 years',\n",
       " 'Margin of Error!!Percent Male MOE!!Total population!!AGE!!5 to 9 years',\n",
       " 'Estimate!!Female!!Total population!!AGE!!5 to 9 years',\n",
       " 'Margin of Error!!Female MOE!!Total population!!AGE!!5 to 9 years',\n",
       " 'Estimate!!Percent Female!!Total population!!AGE!!5 to 9 years',\n",
       " 'Margin of Error!!Percent Female MOE!!Total population!!AGE!!5 to 9 years',\n",
       " 'Estimate!!Total!!Total population!!AGE!!10 to 14 years',\n",
       " 'Margin of Error!!Total MOE!!Total population!!AGE!!10 to 14 years',\n",
       " 'Estimate!!Percent!!Total population!!AGE!!10 to 14 years',\n",
       " 'Margin of Error!!Percent MOE!!Total population!!AGE!!10 to 14 years',\n",
       " 'Estimate!!Male!!Total population!!AGE!!10 to 14 years',\n",
       " 'Margin of Error!!Male MOE!!Total population!!AGE!!10 to 14 years',\n",
       " 'Estimate!!Percent Male!!Total population!!AGE!!10 to 14 years',\n",
       " 'Margin of Error!!Percent Male MOE!!Total population!!AGE!!10 to 14 years',\n",
       " 'Estimate!!Female!!Total population!!AGE!!10 to 14 years',\n",
       " 'Margin of Error!!Female MOE!!Total population!!AGE!!10 to 14 years',\n",
       " 'Estimate!!Percent Female!!Total population!!AGE!!10 to 14 years',\n",
       " 'Margin of Error!!Percent Female MOE!!Total population!!AGE!!10 to 14 years',\n",
       " 'Estimate!!Total!!Total population!!AGE!!15 to 19 years',\n",
       " 'Margin of Error!!Total MOE!!Total population!!AGE!!15 to 19 years',\n",
       " 'Estimate!!Percent!!Total population!!AGE!!15 to 19 years',\n",
       " 'Margin of Error!!Percent MOE!!Total population!!AGE!!15 to 19 years',\n",
       " 'Estimate!!Male!!Total population!!AGE!!15 to 19 years',\n",
       " 'Margin of Error!!Male MOE!!Total population!!AGE!!15 to 19 years',\n",
       " 'Estimate!!Percent Male!!Total population!!AGE!!15 to 19 years',\n",
       " 'Margin of Error!!Percent Male MOE!!Total population!!AGE!!15 to 19 years',\n",
       " 'Estimate!!Female!!Total population!!AGE!!15 to 19 years',\n",
       " 'Margin of Error!!Female MOE!!Total population!!AGE!!15 to 19 years',\n",
       " 'Estimate!!Percent Female!!Total population!!AGE!!15 to 19 years',\n",
       " 'Margin of Error!!Percent Female MOE!!Total population!!AGE!!15 to 19 years',\n",
       " 'Estimate!!Total!!Total population!!AGE!!20 to 24 years',\n",
       " 'Margin of Error!!Total MOE!!Total population!!AGE!!20 to 24 years',\n",
       " 'Estimate!!Percent!!Total population!!AGE!!20 to 24 years',\n",
       " 'Margin of Error!!Percent MOE!!Total population!!AGE!!20 to 24 years',\n",
       " 'Estimate!!Male!!Total population!!AGE!!20 to 24 years',\n",
       " 'Margin of Error!!Male MOE!!Total population!!AGE!!20 to 24 years',\n",
       " 'Estimate!!Percent Male!!Total population!!AGE!!20 to 24 years',\n",
       " 'Margin of Error!!Percent Male MOE!!Total population!!AGE!!20 to 24 years',\n",
       " 'Estimate!!Female!!Total population!!AGE!!20 to 24 years',\n",
       " 'Margin of Error!!Female MOE!!Total population!!AGE!!20 to 24 years',\n",
       " 'Estimate!!Percent Female!!Total population!!AGE!!20 to 24 years',\n",
       " 'Margin of Error!!Percent Female MOE!!Total population!!AGE!!20 to 24 years',\n",
       " 'Estimate!!Total!!Total population!!AGE!!25 to 29 years',\n",
       " 'Margin of Error!!Total MOE!!Total population!!AGE!!25 to 29 years',\n",
       " 'Estimate!!Percent!!Total population!!AGE!!25 to 29 years',\n",
       " 'Margin of Error!!Percent MOE!!Total population!!AGE!!25 to 29 years',\n",
       " 'Estimate!!Male!!Total population!!AGE!!25 to 29 years',\n",
       " 'Margin of Error!!Male MOE!!Total population!!AGE!!25 to 29 years',\n",
       " 'Estimate!!Percent Male!!Total population!!AGE!!25 to 29 years',\n",
       " 'Margin of Error!!Percent Male MOE!!Total population!!AGE!!25 to 29 years',\n",
       " 'Estimate!!Female!!Total population!!AGE!!25 to 29 years',\n",
       " 'Margin of Error!!Female MOE!!Total population!!AGE!!25 to 29 years',\n",
       " 'Estimate!!Percent Female!!Total population!!AGE!!25 to 29 years',\n",
       " 'Margin of Error!!Percent Female MOE!!Total population!!AGE!!25 to 29 years',\n",
       " 'Estimate!!Total!!Total population!!AGE!!30 to 34 years',\n",
       " 'Margin of Error!!Total MOE!!Total population!!AGE!!30 to 34 years',\n",
       " 'Estimate!!Percent!!Total population!!AGE!!30 to 34 years',\n",
       " 'Margin of Error!!Percent MOE!!Total population!!AGE!!30 to 34 years',\n",
       " 'Estimate!!Male!!Total population!!AGE!!30 to 34 years',\n",
       " 'Margin of Error!!Male MOE!!Total population!!AGE!!30 to 34 years',\n",
       " 'Estimate!!Percent Male!!Total population!!AGE!!30 to 34 years',\n",
       " 'Margin of Error!!Percent Male MOE!!Total population!!AGE!!30 to 34 years',\n",
       " 'Estimate!!Female!!Total population!!AGE!!30 to 34 years',\n",
       " 'Margin of Error!!Female MOE!!Total population!!AGE!!30 to 34 years',\n",
       " 'Estimate!!Percent Female!!Total population!!AGE!!30 to 34 years',\n",
       " 'Margin of Error!!Percent Female MOE!!Total population!!AGE!!30 to 34 years',\n",
       " 'Estimate!!Total!!Total population!!AGE!!35 to 39 years',\n",
       " 'Margin of Error!!Total MOE!!Total population!!AGE!!35 to 39 years',\n",
       " 'Estimate!!Percent!!Total population!!AGE!!35 to 39 years',\n",
       " 'Margin of Error!!Percent MOE!!Total population!!AGE!!35 to 39 years',\n",
       " 'Estimate!!Male!!Total population!!AGE!!35 to 39 years',\n",
       " 'Margin of Error!!Male MOE!!Total population!!AGE!!35 to 39 years',\n",
       " 'Estimate!!Percent Male!!Total population!!AGE!!35 to 39 years',\n",
       " 'Margin of Error!!Percent Male MOE!!Total population!!AGE!!35 to 39 years',\n",
       " 'Estimate!!Female!!Total population!!AGE!!35 to 39 years',\n",
       " 'Margin of Error!!Female MOE!!Total population!!AGE!!35 to 39 years',\n",
       " 'Estimate!!Percent Female!!Total population!!AGE!!35 to 39 years',\n",
       " 'Margin of Error!!Percent Female MOE!!Total population!!AGE!!35 to 39 years',\n",
       " 'Estimate!!Total!!Total population!!AGE!!40 to 44 years',\n",
       " 'Margin of Error!!Total MOE!!Total population!!AGE!!40 to 44 years',\n",
       " 'Estimate!!Percent!!Total population!!AGE!!40 to 44 years',\n",
       " 'Margin of Error!!Percent MOE!!Total population!!AGE!!40 to 44 years',\n",
       " 'Estimate!!Male!!Total population!!AGE!!40 to 44 years',\n",
       " 'Margin of Error!!Male MOE!!Total population!!AGE!!40 to 44 years',\n",
       " 'Estimate!!Percent Male!!Total population!!AGE!!40 to 44 years',\n",
       " 'Margin of Error!!Percent Male MOE!!Total population!!AGE!!40 to 44 years',\n",
       " 'Estimate!!Female!!Total population!!AGE!!40 to 44 years',\n",
       " 'Margin of Error!!Female MOE!!Total population!!AGE!!40 to 44 years',\n",
       " 'Estimate!!Percent Female!!Total population!!AGE!!40 to 44 years',\n",
       " 'Margin of Error!!Percent Female MOE!!Total population!!AGE!!40 to 44 years',\n",
       " 'Estimate!!Total!!Total population!!AGE!!45 to 49 years',\n",
       " 'Margin of Error!!Total MOE!!Total population!!AGE!!45 to 49 years',\n",
       " 'Estimate!!Percent!!Total population!!AGE!!45 to 49 years',\n",
       " 'Margin of Error!!Percent MOE!!Total population!!AGE!!45 to 49 years',\n",
       " 'Estimate!!Male!!Total population!!AGE!!45 to 49 years',\n",
       " 'Margin of Error!!Male MOE!!Total population!!AGE!!45 to 49 years',\n",
       " 'Estimate!!Percent Male!!Total population!!AGE!!45 to 49 years',\n",
       " 'Margin of Error!!Percent Male MOE!!Total population!!AGE!!45 to 49 years',\n",
       " 'Estimate!!Female!!Total population!!AGE!!45 to 49 years',\n",
       " 'Margin of Error!!Female MOE!!Total population!!AGE!!45 to 49 years',\n",
       " 'Estimate!!Percent Female!!Total population!!AGE!!45 to 49 years',\n",
       " 'Margin of Error!!Percent Female MOE!!Total population!!AGE!!45 to 49 years',\n",
       " 'Estimate!!Total!!Total population!!AGE!!50 to 54 years',\n",
       " 'Margin of Error!!Total MOE!!Total population!!AGE!!50 to 54 years',\n",
       " 'Estimate!!Percent!!Total population!!AGE!!50 to 54 years',\n",
       " 'Margin of Error!!Percent MOE!!Total population!!AGE!!50 to 54 years',\n",
       " 'Estimate!!Male!!Total population!!AGE!!50 to 54 years',\n",
       " 'Margin of Error!!Male MOE!!Total population!!AGE!!50 to 54 years',\n",
       " 'Estimate!!Percent Male!!Total population!!AGE!!50 to 54 years',\n",
       " 'Margin of Error!!Percent Male MOE!!Total population!!AGE!!50 to 54 years',\n",
       " 'Estimate!!Female!!Total population!!AGE!!50 to 54 years',\n",
       " 'Margin of Error!!Female MOE!!Total population!!AGE!!50 to 54 years',\n",
       " 'Estimate!!Percent Female!!Total population!!AGE!!50 to 54 years',\n",
       " 'Margin of Error!!Percent Female MOE!!Total population!!AGE!!50 to 54 years',\n",
       " 'Estimate!!Total!!Total population!!AGE!!55 to 59 years',\n",
       " 'Margin of Error!!Total MOE!!Total population!!AGE!!55 to 59 years',\n",
       " 'Estimate!!Percent!!Total population!!AGE!!55 to 59 years',\n",
       " 'Margin of Error!!Percent MOE!!Total population!!AGE!!55 to 59 years',\n",
       " 'Estimate!!Male!!Total population!!AGE!!55 to 59 years',\n",
       " 'Margin of Error!!Male MOE!!Total population!!AGE!!55 to 59 years',\n",
       " 'Estimate!!Percent Male!!Total population!!AGE!!55 to 59 years',\n",
       " 'Margin of Error!!Percent Male MOE!!Total population!!AGE!!55 to 59 years',\n",
       " 'Estimate!!Female!!Total population!!AGE!!55 to 59 years',\n",
       " 'Margin of Error!!Female MOE!!Total population!!AGE!!55 to 59 years',\n",
       " 'Estimate!!Percent Female!!Total population!!AGE!!55 to 59 years',\n",
       " 'Margin of Error!!Percent Female MOE!!Total population!!AGE!!55 to 59 years',\n",
       " 'Estimate!!Total!!Total population!!AGE!!60 to 64 years',\n",
       " 'Margin of Error!!Total MOE!!Total population!!AGE!!60 to 64 years',\n",
       " 'Estimate!!Percent!!Total population!!AGE!!60 to 64 years',\n",
       " 'Margin of Error!!Percent MOE!!Total population!!AGE!!60 to 64 years',\n",
       " 'Estimate!!Male!!Total population!!AGE!!60 to 64 years',\n",
       " 'Margin of Error!!Male MOE!!Total population!!AGE!!60 to 64 years',\n",
       " 'Estimate!!Percent Male!!Total population!!AGE!!60 to 64 years',\n",
       " 'Margin of Error!!Percent Male MOE!!Total population!!AGE!!60 to 64 years',\n",
       " 'Estimate!!Female!!Total population!!AGE!!60 to 64 years',\n",
       " 'Margin of Error!!Female MOE!!Total population!!AGE!!60 to 64 years',\n",
       " 'Estimate!!Percent Female!!Total population!!AGE!!60 to 64 years',\n",
       " 'Margin of Error!!Percent Female MOE!!Total population!!AGE!!60 to 64 years',\n",
       " 'Estimate!!Total!!Total population!!AGE!!65 to 69 years',\n",
       " 'Margin of Error!!Total MOE!!Total population!!AGE!!65 to 69 years',\n",
       " 'Estimate!!Percent!!Total population!!AGE!!65 to 69 years',\n",
       " 'Margin of Error!!Percent MOE!!Total population!!AGE!!65 to 69 years',\n",
       " 'Estimate!!Male!!Total population!!AGE!!65 to 69 years',\n",
       " 'Margin of Error!!Male MOE!!Total population!!AGE!!65 to 69 years',\n",
       " 'Estimate!!Percent Male!!Total population!!AGE!!65 to 69 years',\n",
       " 'Margin of Error!!Percent Male MOE!!Total population!!AGE!!65 to 69 years',\n",
       " 'Estimate!!Female!!Total population!!AGE!!65 to 69 years',\n",
       " 'Margin of Error!!Female MOE!!Total population!!AGE!!65 to 69 years',\n",
       " 'Estimate!!Percent Female!!Total population!!AGE!!65 to 69 years',\n",
       " 'Margin of Error!!Percent Female MOE!!Total population!!AGE!!65 to 69 years',\n",
       " 'Estimate!!Total!!Total population!!AGE!!70 to 74 years',\n",
       " 'Margin of Error!!Total MOE!!Total population!!AGE!!70 to 74 years',\n",
       " 'Estimate!!Percent!!Total population!!AGE!!70 to 74 years',\n",
       " 'Margin of Error!!Percent MOE!!Total population!!AGE!!70 to 74 years',\n",
       " 'Estimate!!Male!!Total population!!AGE!!70 to 74 years',\n",
       " 'Margin of Error!!Male MOE!!Total population!!AGE!!70 to 74 years',\n",
       " 'Estimate!!Percent Male!!Total population!!AGE!!70 to 74 years',\n",
       " 'Margin of Error!!Percent Male MOE!!Total population!!AGE!!70 to 74 years',\n",
       " 'Estimate!!Female!!Total population!!AGE!!70 to 74 years',\n",
       " 'Margin of Error!!Female MOE!!Total population!!AGE!!70 to 74 years',\n",
       " 'Estimate!!Percent Female!!Total population!!AGE!!70 to 74 years',\n",
       " 'Margin of Error!!Percent Female MOE!!Total population!!AGE!!70 to 74 years',\n",
       " 'Estimate!!Total!!Total population!!AGE!!75 to 79 years',\n",
       " 'Margin of Error!!Total MOE!!Total population!!AGE!!75 to 79 years',\n",
       " 'Estimate!!Percent!!Total population!!AGE!!75 to 79 years',\n",
       " 'Margin of Error!!Percent MOE!!Total population!!AGE!!75 to 79 years',\n",
       " 'Estimate!!Male!!Total population!!AGE!!75 to 79 years',\n",
       " 'Margin of Error!!Male MOE!!Total population!!AGE!!75 to 79 years',\n",
       " 'Estimate!!Percent Male!!Total population!!AGE!!75 to 79 years',\n",
       " 'Margin of Error!!Percent Male MOE!!Total population!!AGE!!75 to 79 years',\n",
       " 'Estimate!!Female!!Total population!!AGE!!75 to 79 years',\n",
       " 'Margin of Error!!Female MOE!!Total population!!AGE!!75 to 79 years',\n",
       " 'Estimate!!Percent Female!!Total population!!AGE!!75 to 79 years',\n",
       " 'Margin of Error!!Percent Female MOE!!Total population!!AGE!!75 to 79 years',\n",
       " 'Estimate!!Total!!Total population!!AGE!!80 to 84 years',\n",
       " 'Margin of Error!!Total MOE!!Total population!!AGE!!80 to 84 years',\n",
       " 'Estimate!!Percent!!Total population!!AGE!!80 to 84 years',\n",
       " 'Margin of Error!!Percent MOE!!Total population!!AGE!!80 to 84 years',\n",
       " 'Estimate!!Male!!Total population!!AGE!!80 to 84 years',\n",
       " 'Margin of Error!!Male MOE!!Total population!!AGE!!80 to 84 years',\n",
       " 'Estimate!!Percent Male!!Total population!!AGE!!80 to 84 years',\n",
       " 'Margin of Error!!Percent Male MOE!!Total population!!AGE!!80 to 84 years',\n",
       " 'Estimate!!Female!!Total population!!AGE!!80 to 84 years',\n",
       " 'Margin of Error!!Female MOE!!Total population!!AGE!!80 to 84 years',\n",
       " 'Estimate!!Percent Female!!Total population!!AGE!!80 to 84 years',\n",
       " 'Margin of Error!!Percent Female MOE!!Total population!!AGE!!80 to 84 years',\n",
       " 'Estimate!!Total!!Total population!!AGE!!85 years and over',\n",
       " 'Margin of Error!!Total MOE!!Total population!!AGE!!85 years and over',\n",
       " 'Estimate!!Percent!!Total population!!AGE!!85 years and over',\n",
       " 'Margin of Error!!Percent MOE!!Total population!!AGE!!85 years and over',\n",
       " 'Estimate!!Male!!Total population!!AGE!!85 years and over',\n",
       " 'Margin of Error!!Male MOE!!Total population!!AGE!!85 years and over',\n",
       " 'Estimate!!Percent Male!!Total population!!AGE!!85 years and over',\n",
       " 'Margin of Error!!Percent Male MOE!!Total population!!AGE!!85 years and over',\n",
       " 'Estimate!!Female!!Total population!!AGE!!85 years and over',\n",
       " 'Margin of Error!!Female MOE!!Total population!!AGE!!85 years and over',\n",
       " 'Estimate!!Percent Female!!Total population!!AGE!!85 years and over',\n",
       " 'Margin of Error!!Percent Female MOE!!Total population!!AGE!!85 years and over',\n",
       " 'Estimate!!Total!!Total population!!SELECTED AGE CATEGORIES!!5 to 14 years',\n",
       " 'Margin of Error!!Total MOE!!Total population!!SELECTED AGE CATEGORIES!!5 to 14 years',\n",
       " 'Estimate!!Percent!!Total population!!SELECTED AGE CATEGORIES!!5 to 14 years',\n",
       " 'Margin of Error!!Percent MOE!!Total population!!SELECTED AGE CATEGORIES!!5 to 14 years',\n",
       " 'Estimate!!Male!!Total population!!SELECTED AGE CATEGORIES!!5 to 14 years',\n",
       " 'Margin of Error!!Male MOE!!Total population!!SELECTED AGE CATEGORIES!!5 to 14 years',\n",
       " 'Estimate!!Percent Male!!Total population!!SELECTED AGE CATEGORIES!!5 to 14 years',\n",
       " 'Margin of Error!!Percent Male MOE!!Total population!!SELECTED AGE CATEGORIES!!5 to 14 years',\n",
       " 'Estimate!!Female!!Total population!!SELECTED AGE CATEGORIES!!5 to 14 years',\n",
       " 'Margin of Error!!Female MOE!!Total population!!SELECTED AGE CATEGORIES!!5 to 14 years',\n",
       " 'Estimate!!Percent Female!!Total population!!SELECTED AGE CATEGORIES!!5 to 14 years',\n",
       " 'Margin of Error!!Percent Female MOE!!Total population!!SELECTED AGE CATEGORIES!!5 to 14 years',\n",
       " 'Estimate!!Total!!Total population!!SELECTED AGE CATEGORIES!!15 to 17 years',\n",
       " 'Margin of Error!!Total MOE!!Total population!!SELECTED AGE CATEGORIES!!15 to 17 years',\n",
       " 'Estimate!!Percent!!Total population!!SELECTED AGE CATEGORIES!!15 to 17 years',\n",
       " 'Margin of Error!!Percent MOE!!Total population!!SELECTED AGE CATEGORIES!!15 to 17 years',\n",
       " 'Estimate!!Male!!Total population!!SELECTED AGE CATEGORIES!!15 to 17 years',\n",
       " 'Margin of Error!!Male MOE!!Total population!!SELECTED AGE CATEGORIES!!15 to 17 years',\n",
       " 'Estimate!!Percent Male!!Total population!!SELECTED AGE CATEGORIES!!15 to 17 years',\n",
       " 'Margin of Error!!Percent Male MOE!!Total population!!SELECTED AGE CATEGORIES!!15 to 17 years',\n",
       " 'Estimate!!Female!!Total population!!SELECTED AGE CATEGORIES!!15 to 17 years',\n",
       " 'Margin of Error!!Female MOE!!Total population!!SELECTED AGE CATEGORIES!!15 to 17 years',\n",
       " 'Estimate!!Percent Female!!Total population!!SELECTED AGE CATEGORIES!!15 to 17 years',\n",
       " 'Margin of Error!!Percent Female MOE!!Total population!!SELECTED AGE CATEGORIES!!15 to 17 years',\n",
       " 'Estimate!!Total!!Total population!!SELECTED AGE CATEGORIES!!Under 18 years',\n",
       " 'Margin of Error!!Total MOE!!Total population!!SELECTED AGE CATEGORIES!!Under 18 years',\n",
       " 'Estimate!!Percent!!Total population!!SELECTED AGE CATEGORIES!!Under 18 years',\n",
       " 'Margin of Error!!Percent MOE!!Total population!!SELECTED AGE CATEGORIES!!Under 18 years',\n",
       " 'Estimate!!Male!!Total population!!SELECTED AGE CATEGORIES!!Under 18 years',\n",
       " 'Margin of Error!!Male MOE!!Total population!!SELECTED AGE CATEGORIES!!Under 18 years',\n",
       " 'Estimate!!Percent Male!!Total population!!SELECTED AGE CATEGORIES!!Under 18 years',\n",
       " 'Margin of Error!!Percent Male MOE!!Total population!!SELECTED AGE CATEGORIES!!Under 18 years',\n",
       " 'Estimate!!Female!!Total population!!SELECTED AGE CATEGORIES!!Under 18 years',\n",
       " 'Margin of Error!!Female MOE!!Total population!!SELECTED AGE CATEGORIES!!Under 18 years',\n",
       " 'Estimate!!Percent Female!!Total population!!SELECTED AGE CATEGORIES!!Under 18 years',\n",
       " 'Margin of Error!!Percent Female MOE!!Total population!!SELECTED AGE CATEGORIES!!Under 18 years',\n",
       " 'Estimate!!Total!!Total population!!SELECTED AGE CATEGORIES!!18 to 24 years',\n",
       " 'Margin of Error!!Total MOE!!Total population!!SELECTED AGE CATEGORIES!!18 to 24 years',\n",
       " 'Estimate!!Percent!!Total population!!SELECTED AGE CATEGORIES!!18 to 24 years',\n",
       " 'Margin of Error!!Percent MOE!!Total population!!SELECTED AGE CATEGORIES!!18 to 24 years',\n",
       " 'Estimate!!Male!!Total population!!SELECTED AGE CATEGORIES!!18 to 24 years',\n",
       " 'Margin of Error!!Male MOE!!Total population!!SELECTED AGE CATEGORIES!!18 to 24 years',\n",
       " 'Estimate!!Percent Male!!Total population!!SELECTED AGE CATEGORIES!!18 to 24 years',\n",
       " 'Margin of Error!!Percent Male MOE!!Total population!!SELECTED AGE CATEGORIES!!18 to 24 years',\n",
       " 'Estimate!!Female!!Total population!!SELECTED AGE CATEGORIES!!18 to 24 years',\n",
       " 'Margin of Error!!Female MOE!!Total population!!SELECTED AGE CATEGORIES!!18 to 24 years',\n",
       " 'Estimate!!Percent Female!!Total population!!SELECTED AGE CATEGORIES!!18 to 24 years',\n",
       " 'Margin of Error!!Percent Female MOE!!Total population!!SELECTED AGE CATEGORIES!!18 to 24 years',\n",
       " 'Estimate!!Total!!Total population!!SELECTED AGE CATEGORIES!!15 to 44 years',\n",
       " 'Margin of Error!!Total MOE!!Total population!!SELECTED AGE CATEGORIES!!15 to 44 years',\n",
       " 'Estimate!!Percent!!Total population!!SELECTED AGE CATEGORIES!!15 to 44 years',\n",
       " 'Margin of Error!!Percent MOE!!Total population!!SELECTED AGE CATEGORIES!!15 to 44 years',\n",
       " 'Estimate!!Male!!Total population!!SELECTED AGE CATEGORIES!!15 to 44 years',\n",
       " 'Margin of Error!!Male MOE!!Total population!!SELECTED AGE CATEGORIES!!15 to 44 years',\n",
       " 'Estimate!!Percent Male!!Total population!!SELECTED AGE CATEGORIES!!15 to 44 years',\n",
       " 'Margin of Error!!Percent Male MOE!!Total population!!SELECTED AGE CATEGORIES!!15 to 44 years',\n",
       " 'Estimate!!Female!!Total population!!SELECTED AGE CATEGORIES!!15 to 44 years',\n",
       " 'Margin of Error!!Female MOE!!Total population!!SELECTED AGE CATEGORIES!!15 to 44 years',\n",
       " 'Estimate!!Percent Female!!Total population!!SELECTED AGE CATEGORIES!!15 to 44 years',\n",
       " 'Margin of Error!!Percent Female MOE!!Total population!!SELECTED AGE CATEGORIES!!15 to 44 years',\n",
       " 'Estimate!!Total!!Total population!!SELECTED AGE CATEGORIES!!16 years and over',\n",
       " 'Margin of Error!!Total MOE!!Total population!!SELECTED AGE CATEGORIES!!16 years and over',\n",
       " 'Estimate!!Percent!!Total population!!SELECTED AGE CATEGORIES!!16 years and over',\n",
       " 'Margin of Error!!Percent MOE!!Total population!!SELECTED AGE CATEGORIES!!16 years and over',\n",
       " 'Estimate!!Male!!Total population!!SELECTED AGE CATEGORIES!!16 years and over',\n",
       " 'Margin of Error!!Male MOE!!Total population!!SELECTED AGE CATEGORIES!!16 years and over',\n",
       " 'Estimate!!Percent Male!!Total population!!SELECTED AGE CATEGORIES!!16 years and over',\n",
       " 'Margin of Error!!Percent Male MOE!!Total population!!SELECTED AGE CATEGORIES!!16 years and over',\n",
       " 'Estimate!!Female!!Total population!!SELECTED AGE CATEGORIES!!16 years and over',\n",
       " 'Margin of Error!!Female MOE!!Total population!!SELECTED AGE CATEGORIES!!16 years and over',\n",
       " 'Estimate!!Percent Female!!Total population!!SELECTED AGE CATEGORIES!!16 years and over',\n",
       " 'Margin of Error!!Percent Female MOE!!Total population!!SELECTED AGE CATEGORIES!!16 years and over',\n",
       " 'Estimate!!Total!!Total population!!SELECTED AGE CATEGORIES!!18 years and over',\n",
       " 'Margin of Error!!Total MOE!!Total population!!SELECTED AGE CATEGORIES!!18 years and over',\n",
       " 'Estimate!!Percent!!Total population!!SELECTED AGE CATEGORIES!!18 years and over',\n",
       " 'Margin of Error!!Percent MOE!!Total population!!SELECTED AGE CATEGORIES!!18 years and over',\n",
       " 'Estimate!!Male!!Total population!!SELECTED AGE CATEGORIES!!18 years and over',\n",
       " 'Margin of Error!!Male MOE!!Total population!!SELECTED AGE CATEGORIES!!18 years and over',\n",
       " 'Estimate!!Percent Male!!Total population!!SELECTED AGE CATEGORIES!!18 years and over',\n",
       " 'Margin of Error!!Percent Male MOE!!Total population!!SELECTED AGE CATEGORIES!!18 years and over',\n",
       " 'Estimate!!Female!!Total population!!SELECTED AGE CATEGORIES!!18 years and over',\n",
       " 'Margin of Error!!Female MOE!!Total population!!SELECTED AGE CATEGORIES!!18 years and over',\n",
       " 'Estimate!!Percent Female!!Total population!!SELECTED AGE CATEGORIES!!18 years and over',\n",
       " 'Margin of Error!!Percent Female MOE!!Total population!!SELECTED AGE CATEGORIES!!18 years and over',\n",
       " 'Estimate!!Total!!Total population!!SELECTED AGE CATEGORIES!!21 years and over',\n",
       " 'Margin of Error!!Total MOE!!Total population!!SELECTED AGE CATEGORIES!!21 years and over',\n",
       " 'Estimate!!Percent!!Total population!!SELECTED AGE CATEGORIES!!21 years and over',\n",
       " 'Margin of Error!!Percent MOE!!Total population!!SELECTED AGE CATEGORIES!!21 years and over',\n",
       " 'Estimate!!Male!!Total population!!SELECTED AGE CATEGORIES!!21 years and over',\n",
       " 'Margin of Error!!Male MOE!!Total population!!SELECTED AGE CATEGORIES!!21 years and over',\n",
       " 'Estimate!!Percent Male!!Total population!!SELECTED AGE CATEGORIES!!21 years and over',\n",
       " 'Margin of Error!!Percent Male MOE!!Total population!!SELECTED AGE CATEGORIES!!21 years and over',\n",
       " 'Estimate!!Female!!Total population!!SELECTED AGE CATEGORIES!!21 years and over',\n",
       " 'Margin of Error!!Female MOE!!Total population!!SELECTED AGE CATEGORIES!!21 years and over',\n",
       " 'Estimate!!Percent Female!!Total population!!SELECTED AGE CATEGORIES!!21 years and over',\n",
       " 'Margin of Error!!Percent Female MOE!!Total population!!SELECTED AGE CATEGORIES!!21 years and over',\n",
       " 'Estimate!!Total!!Total population!!SELECTED AGE CATEGORIES!!60 years and over',\n",
       " 'Margin of Error!!Total MOE!!Total population!!SELECTED AGE CATEGORIES!!60 years and over',\n",
       " 'Estimate!!Percent!!Total population!!SELECTED AGE CATEGORIES!!60 years and over',\n",
       " 'Margin of Error!!Percent MOE!!Total population!!SELECTED AGE CATEGORIES!!60 years and over',\n",
       " 'Estimate!!Male!!Total population!!SELECTED AGE CATEGORIES!!60 years and over',\n",
       " 'Margin of Error!!Male MOE!!Total population!!SELECTED AGE CATEGORIES!!60 years and over',\n",
       " 'Estimate!!Percent Male!!Total population!!SELECTED AGE CATEGORIES!!60 years and over',\n",
       " 'Margin of Error!!Percent Male MOE!!Total population!!SELECTED AGE CATEGORIES!!60 years and over',\n",
       " 'Estimate!!Female!!Total population!!SELECTED AGE CATEGORIES!!60 years and over',\n",
       " 'Margin of Error!!Female MOE!!Total population!!SELECTED AGE CATEGORIES!!60 years and over',\n",
       " 'Estimate!!Percent Female!!Total population!!SELECTED AGE CATEGORIES!!60 years and over',\n",
       " 'Margin of Error!!Percent Female MOE!!Total population!!SELECTED AGE CATEGORIES!!60 years and over',\n",
       " 'Estimate!!Total!!Total population!!SELECTED AGE CATEGORIES!!62 years and over',\n",
       " 'Margin of Error!!Total MOE!!Total population!!SELECTED AGE CATEGORIES!!62 years and over',\n",
       " 'Estimate!!Percent!!Total population!!SELECTED AGE CATEGORIES!!62 years and over',\n",
       " 'Margin of Error!!Percent MOE!!Total population!!SELECTED AGE CATEGORIES!!62 years and over',\n",
       " 'Estimate!!Male!!Total population!!SELECTED AGE CATEGORIES!!62 years and over',\n",
       " 'Margin of Error!!Male MOE!!Total population!!SELECTED AGE CATEGORIES!!62 years and over',\n",
       " 'Estimate!!Percent Male!!Total population!!SELECTED AGE CATEGORIES!!62 years and over',\n",
       " 'Margin of Error!!Percent Male MOE!!Total population!!SELECTED AGE CATEGORIES!!62 years and over',\n",
       " 'Estimate!!Female!!Total population!!SELECTED AGE CATEGORIES!!62 years and over',\n",
       " 'Margin of Error!!Female MOE!!Total population!!SELECTED AGE CATEGORIES!!62 years and over',\n",
       " 'Estimate!!Percent Female!!Total population!!SELECTED AGE CATEGORIES!!62 years and over',\n",
       " 'Margin of Error!!Percent Female MOE!!Total population!!SELECTED AGE CATEGORIES!!62 years and over',\n",
       " 'Estimate!!Total!!Total population!!SELECTED AGE CATEGORIES!!65 years and over',\n",
       " 'Margin of Error!!Total MOE!!Total population!!SELECTED AGE CATEGORIES!!65 years and over',\n",
       " 'Estimate!!Percent!!Total population!!SELECTED AGE CATEGORIES!!65 years and over',\n",
       " 'Margin of Error!!Percent MOE!!Total population!!SELECTED AGE CATEGORIES!!65 years and over',\n",
       " 'Estimate!!Male!!Total population!!SELECTED AGE CATEGORIES!!65 years and over',\n",
       " 'Margin of Error!!Male MOE!!Total population!!SELECTED AGE CATEGORIES!!65 years and over',\n",
       " 'Estimate!!Percent Male!!Total population!!SELECTED AGE CATEGORIES!!65 years and over',\n",
       " 'Margin of Error!!Percent Male MOE!!Total population!!SELECTED AGE CATEGORIES!!65 years and over',\n",
       " 'Estimate!!Female!!Total population!!SELECTED AGE CATEGORIES!!65 years and over',\n",
       " 'Margin of Error!!Female MOE!!Total population!!SELECTED AGE CATEGORIES!!65 years and over',\n",
       " 'Estimate!!Percent Female!!Total population!!SELECTED AGE CATEGORIES!!65 years and over',\n",
       " 'Margin of Error!!Percent Female MOE!!Total population!!SELECTED AGE CATEGORIES!!65 years and over',\n",
       " 'Estimate!!Total!!Total population!!SELECTED AGE CATEGORIES!!75 years and over',\n",
       " 'Margin of Error!!Total MOE!!Total population!!SELECTED AGE CATEGORIES!!75 years and over',\n",
       " 'Estimate!!Percent!!Total population!!SELECTED AGE CATEGORIES!!75 years and over',\n",
       " 'Margin of Error!!Percent MOE!!Total population!!SELECTED AGE CATEGORIES!!75 years and over',\n",
       " 'Estimate!!Male!!Total population!!SELECTED AGE CATEGORIES!!75 years and over',\n",
       " 'Margin of Error!!Male MOE!!Total population!!SELECTED AGE CATEGORIES!!75 years and over',\n",
       " 'Estimate!!Percent Male!!Total population!!SELECTED AGE CATEGORIES!!75 years and over',\n",
       " 'Margin of Error!!Percent Male MOE!!Total population!!SELECTED AGE CATEGORIES!!75 years and over',\n",
       " 'Estimate!!Female!!Total population!!SELECTED AGE CATEGORIES!!75 years and over',\n",
       " 'Margin of Error!!Female MOE!!Total population!!SELECTED AGE CATEGORIES!!75 years and over',\n",
       " 'Estimate!!Percent Female!!Total population!!SELECTED AGE CATEGORIES!!75 years and over',\n",
       " 'Margin of Error!!Percent Female MOE!!Total population!!SELECTED AGE CATEGORIES!!75 years and over',\n",
       " 'Estimate!!Total!!Total population!!SUMMARY INDICATORS!!Median age (years)',\n",
       " 'Margin of Error!!Total MOE!!Total population!!SUMMARY INDICATORS!!Median age (years)',\n",
       " 'Estimate!!Percent!!Total population!!SUMMARY INDICATORS!!Median age (years)',\n",
       " 'Margin of Error!!Percent MOE!!Total population!!SUMMARY INDICATORS!!Median age (years)',\n",
       " 'Estimate!!Male!!Total population!!SUMMARY INDICATORS!!Median age (years)',\n",
       " 'Margin of Error!!Male MOE!!Total population!!SUMMARY INDICATORS!!Median age (years)',\n",
       " 'Estimate!!Percent Male!!Total population!!SUMMARY INDICATORS!!Median age (years)',\n",
       " 'Margin of Error!!Percent Male MOE!!Total population!!SUMMARY INDICATORS!!Median age (years)',\n",
       " 'Estimate!!Female!!Total population!!SUMMARY INDICATORS!!Median age (years)',\n",
       " 'Margin of Error!!Female MOE!!Total population!!SUMMARY INDICATORS!!Median age (years)',\n",
       " 'Estimate!!Percent Female!!Total population!!SUMMARY INDICATORS!!Median age (years)',\n",
       " 'Margin of Error!!Percent Female MOE!!Total population!!SUMMARY INDICATORS!!Median age (years)',\n",
       " 'Estimate!!Total!!Total population!!SUMMARY INDICATORS!!Sex ratio (males per 100 females)',\n",
       " 'Margin of Error!!Total MOE!!Total population!!SUMMARY INDICATORS!!Sex ratio (males per 100 females)',\n",
       " 'Estimate!!Percent!!Total population!!SUMMARY INDICATORS!!Sex ratio (males per 100 females)',\n",
       " 'Margin of Error!!Percent MOE!!Total population!!SUMMARY INDICATORS!!Sex ratio (males per 100 females)',\n",
       " 'Estimate!!Male!!Total population!!SUMMARY INDICATORS!!Sex ratio (males per 100 females)',\n",
       " 'Margin of Error!!Male MOE!!Total population!!SUMMARY INDICATORS!!Sex ratio (males per 100 females)',\n",
       " 'Estimate!!Percent Male!!Total population!!SUMMARY INDICATORS!!Sex ratio (males per 100 females)',\n",
       " 'Margin of Error!!Percent Male MOE!!Total population!!SUMMARY INDICATORS!!Sex ratio (males per 100 females)',\n",
       " 'Estimate!!Female!!Total population!!SUMMARY INDICATORS!!Sex ratio (males per 100 females)',\n",
       " 'Margin of Error!!Female MOE!!Total population!!SUMMARY INDICATORS!!Sex ratio (males per 100 females)',\n",
       " 'Estimate!!Percent Female!!Total population!!SUMMARY INDICATORS!!Sex ratio (males per 100 females)',\n",
       " 'Margin of Error!!Percent Female MOE!!Total population!!SUMMARY INDICATORS!!Sex ratio (males per 100 females)',\n",
       " 'Estimate!!Total!!Total population!!SUMMARY INDICATORS!!Age dependency ratio',\n",
       " 'Margin of Error!!Total MOE!!Total population!!SUMMARY INDICATORS!!Age dependency ratio',\n",
       " 'Estimate!!Percent!!Total population!!SUMMARY INDICATORS!!Age dependency ratio',\n",
       " 'Margin of Error!!Percent MOE!!Total population!!SUMMARY INDICATORS!!Age dependency ratio',\n",
       " 'Estimate!!Male!!Total population!!SUMMARY INDICATORS!!Age dependency ratio',\n",
       " 'Margin of Error!!Male MOE!!Total population!!SUMMARY INDICATORS!!Age dependency ratio',\n",
       " 'Estimate!!Percent Male!!Total population!!SUMMARY INDICATORS!!Age dependency ratio',\n",
       " 'Margin of Error!!Percent Male MOE!!Total population!!SUMMARY INDICATORS!!Age dependency ratio',\n",
       " 'Estimate!!Female!!Total population!!SUMMARY INDICATORS!!Age dependency ratio',\n",
       " 'Margin of Error!!Female MOE!!Total population!!SUMMARY INDICATORS!!Age dependency ratio',\n",
       " 'Estimate!!Percent Female!!Total population!!SUMMARY INDICATORS!!Age dependency ratio',\n",
       " 'Margin of Error!!Percent Female MOE!!Total population!!SUMMARY INDICATORS!!Age dependency ratio',\n",
       " 'Estimate!!Total!!Total population!!SUMMARY INDICATORS!!Old-age dependency ratio',\n",
       " 'Margin of Error!!Total MOE!!Total population!!SUMMARY INDICATORS!!Old-age dependency ratio',\n",
       " 'Estimate!!Percent!!Total population!!SUMMARY INDICATORS!!Old-age dependency ratio',\n",
       " 'Margin of Error!!Percent MOE!!Total population!!SUMMARY INDICATORS!!Old-age dependency ratio',\n",
       " 'Estimate!!Male!!Total population!!SUMMARY INDICATORS!!Old-age dependency ratio',\n",
       " 'Margin of Error!!Male MOE!!Total population!!SUMMARY INDICATORS!!Old-age dependency ratio',\n",
       " 'Estimate!!Percent Male!!Total population!!SUMMARY INDICATORS!!Old-age dependency ratio',\n",
       " 'Margin of Error!!Percent Male MOE!!Total population!!SUMMARY INDICATORS!!Old-age dependency ratio',\n",
       " 'Estimate!!Female!!Total population!!SUMMARY INDICATORS!!Old-age dependency ratio',\n",
       " 'Margin of Error!!Female MOE!!Total population!!SUMMARY INDICATORS!!Old-age dependency ratio',\n",
       " 'Estimate!!Percent Female!!Total population!!SUMMARY INDICATORS!!Old-age dependency ratio',\n",
       " 'Margin of Error!!Percent Female MOE!!Total population!!SUMMARY INDICATORS!!Old-age dependency ratio',\n",
       " 'Estimate!!Total!!Total population!!SUMMARY INDICATORS!!Child dependency ratio',\n",
       " 'Margin of Error!!Total MOE!!Total population!!SUMMARY INDICATORS!!Child dependency ratio',\n",
       " 'Estimate!!Percent!!Total population!!SUMMARY INDICATORS!!Child dependency ratio',\n",
       " 'Margin of Error!!Percent MOE!!Total population!!SUMMARY INDICATORS!!Child dependency ratio',\n",
       " 'Estimate!!Male!!Total population!!SUMMARY INDICATORS!!Child dependency ratio',\n",
       " 'Margin of Error!!Male MOE!!Total population!!SUMMARY INDICATORS!!Child dependency ratio',\n",
       " 'Estimate!!Percent Male!!Total population!!SUMMARY INDICATORS!!Child dependency ratio',\n",
       " 'Margin of Error!!Percent Male MOE!!Total population!!SUMMARY INDICATORS!!Child dependency ratio',\n",
       " 'Estimate!!Female!!Total population!!SUMMARY INDICATORS!!Child dependency ratio',\n",
       " 'Margin of Error!!Female MOE!!Total population!!SUMMARY INDICATORS!!Child dependency ratio',\n",
       " 'Estimate!!Percent Female!!Total population!!SUMMARY INDICATORS!!Child dependency ratio',\n",
       " 'Margin of Error!!Percent Female MOE!!Total population!!SUMMARY INDICATORS!!Child dependency ratio',\n",
       " 'Estimate!!Total!!PERCENT ALLOCATED!!Sex',\n",
       " 'Margin of Error!!Total MOE!!PERCENT ALLOCATED!!Sex',\n",
       " 'Estimate!!Percent!!PERCENT ALLOCATED!!Sex',\n",
       " 'Margin of Error!!Percent MOE!!PERCENT ALLOCATED!!Sex',\n",
       " 'Estimate!!Male!!PERCENT ALLOCATED!!Sex',\n",
       " 'Margin of Error!!Male MOE!!PERCENT ALLOCATED!!Sex',\n",
       " 'Estimate!!Percent Male!!PERCENT ALLOCATED!!Sex',\n",
       " 'Margin of Error!!Percent Male MOE!!PERCENT ALLOCATED!!Sex',\n",
       " 'Estimate!!Female!!PERCENT ALLOCATED!!Sex',\n",
       " 'Margin of Error!!Female MOE!!PERCENT ALLOCATED!!Sex',\n",
       " 'Estimate!!Percent Female!!PERCENT ALLOCATED!!Sex',\n",
       " 'Margin of Error!!Percent Female MOE!!PERCENT ALLOCATED!!Sex',\n",
       " 'Estimate!!Total!!PERCENT ALLOCATED!!Age',\n",
       " 'Margin of Error!!Total MOE!!PERCENT ALLOCATED!!Age',\n",
       " 'Estimate!!Percent!!PERCENT ALLOCATED!!Age',\n",
       " 'Margin of Error!!Percent MOE!!PERCENT ALLOCATED!!Age',\n",
       " 'Estimate!!Male!!PERCENT ALLOCATED!!Age',\n",
       " 'Margin of Error!!Male MOE!!PERCENT ALLOCATED!!Age',\n",
       " 'Estimate!!Percent Male!!PERCENT ALLOCATED!!Age',\n",
       " 'Margin of Error!!Percent Male MOE!!PERCENT ALLOCATED!!Age',\n",
       " 'Estimate!!Female!!PERCENT ALLOCATED!!Age',\n",
       " 'Margin of Error!!Female MOE!!PERCENT ALLOCATED!!Age',\n",
       " 'Estimate!!Percent Female!!PERCENT ALLOCATED!!Age',\n",
       " 'Margin of Error!!Percent Female MOE!!PERCENT ALLOCATED!!Age']"
      ]
     },
     "execution_count": 17,
     "metadata": {},
     "output_type": "execute_result"
    }
   ],
   "source": [
    "# look at all columns in dataframe\n",
    "df_population.columns.tolist()"
   ]
  },
  {
   "cell_type": "code",
   "execution_count": 18,
   "metadata": {},
   "outputs": [],
   "source": [
    "# make a list of all columns that start with \"Margin of Error\"\n",
    "\n",
    "margin_error = df_population.columns.str.startswith(\"Margin of Error!!\")"
   ]
  },
  {
   "cell_type": "code",
   "execution_count": 19,
   "metadata": {},
   "outputs": [],
   "source": [
    "# keeep only NOT true values for margin of error\n",
    "df_pop_values = df_population.loc[:, ~margin_error]"
   ]
  },
  {
   "cell_type": "code",
   "execution_count": 20,
   "metadata": {},
   "outputs": [],
   "source": [
    "# remove columns that have a (X) value \n",
    "\n",
    "df_us_pop = df_pop_values.drop(columns=df_pop_values.columns[(df_pop_values == '(X)').any()])"
   ]
  },
  {
   "cell_type": "code",
   "execution_count": 21,
   "metadata": {},
   "outputs": [],
   "source": [
    "# strip \"Estimate!!\" from columns because it's on the outside of the name\n",
    "df_us_pop.columns = df_us_pop.columns.str.strip(\"Estimate!!\")"
   ]
  },
  {
   "cell_type": "code",
   "execution_count": 22,
   "metadata": {},
   "outputs": [],
   "source": [
    "# remove !!Total population from column headers by replacing with nothing\n",
    "df_us_pop.columns = df_us_pop.columns.str.replace(\"!!Total population\", \"\")"
   ]
  },
  {
   "cell_type": "code",
   "execution_count": 23,
   "metadata": {},
   "outputs": [],
   "source": [
    "# make list of columns we want to keep for analysis\n",
    "\n",
    "uspop_col = ['d',\n",
    "             'Geographic Area N',\n",
    "             'Total',\n",
    "             'Male',\n",
    "             'Female',\n",
    "             'Total!!SELECTED AGE CATEGORIES!!Under 18 year',\n",
    "             'Male!!SELECTED AGE CATEGORIES!!Under 18 year',\n",
    "             'Female!!SELECTED AGE CATEGORIES!!Under 18 year',\n",
    "             'Total!!SELECTED AGE CATEGORIES!!60 years and over',\n",
    "             'Male!!SELECTED AGE CATEGORIES!!60 years and over',\n",
    "             'Female!!SELECTED AGE CATEGORIES!!60 years and over',\n",
    "             'Total!!SUMMARY INDICATORS!!Median age (years)',\n",
    "             'Total!!SUMMARY INDICATORS!!Sex ratio (males per 100 females)',\n",
    "             'Total!!SUMMARY INDICATORS!!Age dependency ratio',\n",
    "             'Total!!SUMMARY INDICATORS!!Old-age dependency ratio',\n",
    "             'Total!!SUMMARY INDICATORS!!Child dependency ratio',\n",
    "            ]"
   ]
  },
  {
   "cell_type": "code",
   "execution_count": 24,
   "metadata": {},
   "outputs": [],
   "source": [
    "# make new dataframe with only new column subset\n",
    "df_us_pop_filter = df_us_pop.filter(items = uspop_col)"
   ]
  },
  {
   "cell_type": "code",
   "execution_count": 25,
   "metadata": {},
   "outputs": [
    {
     "data": {
      "text/html": [
       "<div>\n",
       "<style scoped>\n",
       "    .dataframe tbody tr th:only-of-type {\n",
       "        vertical-align: middle;\n",
       "    }\n",
       "\n",
       "    .dataframe tbody tr th {\n",
       "        vertical-align: top;\n",
       "    }\n",
       "\n",
       "    .dataframe thead th {\n",
       "        text-align: right;\n",
       "    }\n",
       "</style>\n",
       "<table border=\"1\" class=\"dataframe\">\n",
       "  <thead>\n",
       "    <tr style=\"text-align: right;\">\n",
       "      <th></th>\n",
       "      <th>d</th>\n",
       "      <th>Geographic Area N</th>\n",
       "      <th>Total</th>\n",
       "      <th>Male</th>\n",
       "      <th>Female</th>\n",
       "      <th>Total!!SELECTED AGE CATEGORIES!!Under 18 year</th>\n",
       "      <th>Male!!SELECTED AGE CATEGORIES!!Under 18 year</th>\n",
       "      <th>Female!!SELECTED AGE CATEGORIES!!Under 18 year</th>\n",
       "      <th>Total!!SELECTED AGE CATEGORIES!!60 years and over</th>\n",
       "      <th>Male!!SELECTED AGE CATEGORIES!!60 years and over</th>\n",
       "      <th>Female!!SELECTED AGE CATEGORIES!!60 years and over</th>\n",
       "      <th>Total!!SUMMARY INDICATORS!!Median age (years)</th>\n",
       "      <th>Total!!SUMMARY INDICATORS!!Sex ratio (males per 100 females)</th>\n",
       "      <th>Total!!SUMMARY INDICATORS!!Age dependency ratio</th>\n",
       "      <th>Total!!SUMMARY INDICATORS!!Old-age dependency ratio</th>\n",
       "      <th>Total!!SUMMARY INDICATORS!!Child dependency ratio</th>\n",
       "    </tr>\n",
       "  </thead>\n",
       "  <tbody>\n",
       "    <tr>\n",
       "      <th>1</th>\n",
       "      <td>0500000US01117</td>\n",
       "      <td>Shelby County, Alabama</td>\n",
       "      <td>215707</td>\n",
       "      <td>105022</td>\n",
       "      <td>110685</td>\n",
       "      <td>48670</td>\n",
       "      <td>25382</td>\n",
       "      <td>23288</td>\n",
       "      <td>47098</td>\n",
       "      <td>21899</td>\n",
       "      <td>25199</td>\n",
       "      <td>40.4</td>\n",
       "      <td>94.9</td>\n",
       "      <td>61.3</td>\n",
       "      <td>24.9</td>\n",
       "      <td>36.4</td>\n",
       "    </tr>\n",
       "    <tr>\n",
       "      <th>2</th>\n",
       "      <td>0500000US01121</td>\n",
       "      <td>Talladega County, Alabama</td>\n",
       "      <td>79828</td>\n",
       "      <td>38489</td>\n",
       "      <td>41339</td>\n",
       "      <td>16810</td>\n",
       "      <td>8292</td>\n",
       "      <td>8518</td>\n",
       "      <td>20479</td>\n",
       "      <td>8991</td>\n",
       "      <td>11488</td>\n",
       "      <td>41.5</td>\n",
       "      <td>93.1</td>\n",
       "      <td>64.3</td>\n",
       "      <td>29.7</td>\n",
       "      <td>34.6</td>\n",
       "    </tr>\n",
       "    <tr>\n",
       "      <th>3</th>\n",
       "      <td>0500000US01125</td>\n",
       "      <td>Tuscaloosa County, Alabama</td>\n",
       "      <td>208911</td>\n",
       "      <td>99576</td>\n",
       "      <td>109335</td>\n",
       "      <td>43992</td>\n",
       "      <td>21652</td>\n",
       "      <td>22340</td>\n",
       "      <td>39432</td>\n",
       "      <td>18110</td>\n",
       "      <td>21322</td>\n",
       "      <td>33.0</td>\n",
       "      <td>91.1</td>\n",
       "      <td>52.0</td>\n",
       "      <td>20.0</td>\n",
       "      <td>32.0</td>\n",
       "    </tr>\n",
       "    <tr>\n",
       "      <th>4</th>\n",
       "      <td>0500000US04021</td>\n",
       "      <td>Pinal County, Arizona</td>\n",
       "      <td>447138</td>\n",
       "      <td>233292</td>\n",
       "      <td>213846</td>\n",
       "      <td>101143</td>\n",
       "      <td>52140</td>\n",
       "      <td>49003</td>\n",
       "      <td>118634</td>\n",
       "      <td>56331</td>\n",
       "      <td>62303</td>\n",
       "      <td>39.8</td>\n",
       "      <td>109.1</td>\n",
       "      <td>75.2</td>\n",
       "      <td>35.6</td>\n",
       "      <td>39.6</td>\n",
       "    </tr>\n",
       "    <tr>\n",
       "      <th>5</th>\n",
       "      <td>0500000US06045</td>\n",
       "      <td>Mendocino County, California</td>\n",
       "      <td>87606</td>\n",
       "      <td>43017</td>\n",
       "      <td>44589</td>\n",
       "      <td>18535</td>\n",
       "      <td>9033</td>\n",
       "      <td>9502</td>\n",
       "      <td>25968</td>\n",
       "      <td>12178</td>\n",
       "      <td>13790</td>\n",
       "      <td>42.9</td>\n",
       "      <td>96.5</td>\n",
       "      <td>75.2</td>\n",
       "      <td>38.1</td>\n",
       "      <td>37.1</td>\n",
       "    </tr>\n",
       "  </tbody>\n",
       "</table>\n",
       "</div>"
      ],
      "text/plain": [
       "0               d             Geographic Area N   Total    Male  Female  \\\n",
       "1  0500000US01117        Shelby County, Alabama  215707  105022  110685   \n",
       "2  0500000US01121     Talladega County, Alabama   79828   38489   41339   \n",
       "3  0500000US01125    Tuscaloosa County, Alabama  208911   99576  109335   \n",
       "4  0500000US04021         Pinal County, Arizona  447138  233292  213846   \n",
       "5  0500000US06045  Mendocino County, California   87606   43017   44589   \n",
       "\n",
       "0 Total!!SELECTED AGE CATEGORIES!!Under 18 year  \\\n",
       "1                                         48670   \n",
       "2                                         16810   \n",
       "3                                         43992   \n",
       "4                                        101143   \n",
       "5                                         18535   \n",
       "\n",
       "0 Male!!SELECTED AGE CATEGORIES!!Under 18 year  \\\n",
       "1                                        25382   \n",
       "2                                         8292   \n",
       "3                                        21652   \n",
       "4                                        52140   \n",
       "5                                         9033   \n",
       "\n",
       "0 Female!!SELECTED AGE CATEGORIES!!Under 18 year  \\\n",
       "1                                          23288   \n",
       "2                                           8518   \n",
       "3                                          22340   \n",
       "4                                          49003   \n",
       "5                                           9502   \n",
       "\n",
       "0 Total!!SELECTED AGE CATEGORIES!!60 years and over  \\\n",
       "1                                             47098   \n",
       "2                                             20479   \n",
       "3                                             39432   \n",
       "4                                            118634   \n",
       "5                                             25968   \n",
       "\n",
       "0 Male!!SELECTED AGE CATEGORIES!!60 years and over  \\\n",
       "1                                            21899   \n",
       "2                                             8991   \n",
       "3                                            18110   \n",
       "4                                            56331   \n",
       "5                                            12178   \n",
       "\n",
       "0 Female!!SELECTED AGE CATEGORIES!!60 years and over  \\\n",
       "1                                              25199   \n",
       "2                                              11488   \n",
       "3                                              21322   \n",
       "4                                              62303   \n",
       "5                                              13790   \n",
       "\n",
       "0 Total!!SUMMARY INDICATORS!!Median age (years)  \\\n",
       "1                                          40.4   \n",
       "2                                          41.5   \n",
       "3                                          33.0   \n",
       "4                                          39.8   \n",
       "5                                          42.9   \n",
       "\n",
       "0 Total!!SUMMARY INDICATORS!!Sex ratio (males per 100 females)  \\\n",
       "1                                               94.9             \n",
       "2                                               93.1             \n",
       "3                                               91.1             \n",
       "4                                              109.1             \n",
       "5                                               96.5             \n",
       "\n",
       "0 Total!!SUMMARY INDICATORS!!Age dependency ratio  \\\n",
       "1                                            61.3   \n",
       "2                                            64.3   \n",
       "3                                            52.0   \n",
       "4                                            75.2   \n",
       "5                                            75.2   \n",
       "\n",
       "0 Total!!SUMMARY INDICATORS!!Old-age dependency ratio  \\\n",
       "1                                               24.9    \n",
       "2                                               29.7    \n",
       "3                                               20.0    \n",
       "4                                               35.6    \n",
       "5                                               38.1    \n",
       "\n",
       "0 Total!!SUMMARY INDICATORS!!Child dependency ratio  \n",
       "1                                              36.4  \n",
       "2                                              34.6  \n",
       "3                                              32.0  \n",
       "4                                              39.6  \n",
       "5                                              37.1  "
      ]
     },
     "execution_count": 25,
     "metadata": {},
     "output_type": "execute_result"
    }
   ],
   "source": [
    "df_us_pop_filter.head()"
   ]
  },
  {
   "cell_type": "code",
   "execution_count": 26,
   "metadata": {},
   "outputs": [],
   "source": [
    "# remove \"!!SELECTED AGE CATEGORIES!!\" from column headers\n",
    "df_us_pop_filter.columns = df_us_pop_filter.columns.str.replace(\"!!SELECTED AGE CATEGORIES!!\", \" \")\n",
    "\n",
    "# remove \"TOTAL!!!SUMMARY INDICATORS!!\" from column headers\n",
    "df_us_pop_filter.columns = df_us_pop_filter.columns.str.replace(\"Total!!SUMMARY INDICATORS!!\", \"\")"
   ]
  },
  {
   "cell_type": "code",
   "execution_count": 27,
   "metadata": {},
   "outputs": [
    {
     "data": {
      "text/html": [
       "<div>\n",
       "<style scoped>\n",
       "    .dataframe tbody tr th:only-of-type {\n",
       "        vertical-align: middle;\n",
       "    }\n",
       "\n",
       "    .dataframe tbody tr th {\n",
       "        vertical-align: top;\n",
       "    }\n",
       "\n",
       "    .dataframe thead th {\n",
       "        text-align: right;\n",
       "    }\n",
       "</style>\n",
       "<table border=\"1\" class=\"dataframe\">\n",
       "  <thead>\n",
       "    <tr style=\"text-align: right;\">\n",
       "      <th></th>\n",
       "      <th>d</th>\n",
       "      <th>Geographic Area N</th>\n",
       "      <th>Total</th>\n",
       "      <th>Male</th>\n",
       "      <th>Female</th>\n",
       "      <th>Total Under 18 year</th>\n",
       "      <th>Male Under 18 year</th>\n",
       "      <th>Female Under 18 year</th>\n",
       "      <th>Total 60 years and over</th>\n",
       "      <th>Male 60 years and over</th>\n",
       "      <th>Female 60 years and over</th>\n",
       "      <th>Median age (years)</th>\n",
       "      <th>Sex ratio (males per 100 females)</th>\n",
       "      <th>Age dependency ratio</th>\n",
       "      <th>Old-age dependency ratio</th>\n",
       "      <th>Child dependency ratio</th>\n",
       "    </tr>\n",
       "  </thead>\n",
       "  <tbody>\n",
       "    <tr>\n",
       "      <th>1</th>\n",
       "      <td>0500000US01117</td>\n",
       "      <td>Shelby County, Alabama</td>\n",
       "      <td>215707</td>\n",
       "      <td>105022</td>\n",
       "      <td>110685</td>\n",
       "      <td>48670</td>\n",
       "      <td>25382</td>\n",
       "      <td>23288</td>\n",
       "      <td>47098</td>\n",
       "      <td>21899</td>\n",
       "      <td>25199</td>\n",
       "      <td>40.4</td>\n",
       "      <td>94.9</td>\n",
       "      <td>61.3</td>\n",
       "      <td>24.9</td>\n",
       "      <td>36.4</td>\n",
       "    </tr>\n",
       "    <tr>\n",
       "      <th>2</th>\n",
       "      <td>0500000US01121</td>\n",
       "      <td>Talladega County, Alabama</td>\n",
       "      <td>79828</td>\n",
       "      <td>38489</td>\n",
       "      <td>41339</td>\n",
       "      <td>16810</td>\n",
       "      <td>8292</td>\n",
       "      <td>8518</td>\n",
       "      <td>20479</td>\n",
       "      <td>8991</td>\n",
       "      <td>11488</td>\n",
       "      <td>41.5</td>\n",
       "      <td>93.1</td>\n",
       "      <td>64.3</td>\n",
       "      <td>29.7</td>\n",
       "      <td>34.6</td>\n",
       "    </tr>\n",
       "    <tr>\n",
       "      <th>3</th>\n",
       "      <td>0500000US01125</td>\n",
       "      <td>Tuscaloosa County, Alabama</td>\n",
       "      <td>208911</td>\n",
       "      <td>99576</td>\n",
       "      <td>109335</td>\n",
       "      <td>43992</td>\n",
       "      <td>21652</td>\n",
       "      <td>22340</td>\n",
       "      <td>39432</td>\n",
       "      <td>18110</td>\n",
       "      <td>21322</td>\n",
       "      <td>33.0</td>\n",
       "      <td>91.1</td>\n",
       "      <td>52.0</td>\n",
       "      <td>20.0</td>\n",
       "      <td>32.0</td>\n",
       "    </tr>\n",
       "    <tr>\n",
       "      <th>4</th>\n",
       "      <td>0500000US04021</td>\n",
       "      <td>Pinal County, Arizona</td>\n",
       "      <td>447138</td>\n",
       "      <td>233292</td>\n",
       "      <td>213846</td>\n",
       "      <td>101143</td>\n",
       "      <td>52140</td>\n",
       "      <td>49003</td>\n",
       "      <td>118634</td>\n",
       "      <td>56331</td>\n",
       "      <td>62303</td>\n",
       "      <td>39.8</td>\n",
       "      <td>109.1</td>\n",
       "      <td>75.2</td>\n",
       "      <td>35.6</td>\n",
       "      <td>39.6</td>\n",
       "    </tr>\n",
       "    <tr>\n",
       "      <th>5</th>\n",
       "      <td>0500000US06045</td>\n",
       "      <td>Mendocino County, California</td>\n",
       "      <td>87606</td>\n",
       "      <td>43017</td>\n",
       "      <td>44589</td>\n",
       "      <td>18535</td>\n",
       "      <td>9033</td>\n",
       "      <td>9502</td>\n",
       "      <td>25968</td>\n",
       "      <td>12178</td>\n",
       "      <td>13790</td>\n",
       "      <td>42.9</td>\n",
       "      <td>96.5</td>\n",
       "      <td>75.2</td>\n",
       "      <td>38.1</td>\n",
       "      <td>37.1</td>\n",
       "    </tr>\n",
       "  </tbody>\n",
       "</table>\n",
       "</div>"
      ],
      "text/plain": [
       "0               d             Geographic Area N   Total    Male  Female  \\\n",
       "1  0500000US01117        Shelby County, Alabama  215707  105022  110685   \n",
       "2  0500000US01121     Talladega County, Alabama   79828   38489   41339   \n",
       "3  0500000US01125    Tuscaloosa County, Alabama  208911   99576  109335   \n",
       "4  0500000US04021         Pinal County, Arizona  447138  233292  213846   \n",
       "5  0500000US06045  Mendocino County, California   87606   43017   44589   \n",
       "\n",
       "0 Total Under 18 year Male Under 18 year Female Under 18 year  \\\n",
       "1               48670              25382                23288   \n",
       "2               16810               8292                 8518   \n",
       "3               43992              21652                22340   \n",
       "4              101143              52140                49003   \n",
       "5               18535               9033                 9502   \n",
       "\n",
       "0 Total 60 years and over Male 60 years and over Female 60 years and over  \\\n",
       "1                   47098                  21899                    25199   \n",
       "2                   20479                   8991                    11488   \n",
       "3                   39432                  18110                    21322   \n",
       "4                  118634                  56331                    62303   \n",
       "5                   25968                  12178                    13790   \n",
       "\n",
       "0 Median age (years) Sex ratio (males per 100 females) Age dependency ratio  \\\n",
       "1               40.4                              94.9                 61.3   \n",
       "2               41.5                              93.1                 64.3   \n",
       "3               33.0                              91.1                 52.0   \n",
       "4               39.8                             109.1                 75.2   \n",
       "5               42.9                              96.5                 75.2   \n",
       "\n",
       "0 Old-age dependency ratio Child dependency ratio  \n",
       "1                     24.9                   36.4  \n",
       "2                     29.7                   34.6  \n",
       "3                     20.0                   32.0  \n",
       "4                     35.6                   39.6  \n",
       "5                     38.1                   37.1  "
      ]
     },
     "execution_count": 27,
     "metadata": {},
     "output_type": "execute_result"
    }
   ],
   "source": [
    "df_us_pop_filter.head()"
   ]
  },
  {
   "cell_type": "code",
   "execution_count": 28,
   "metadata": {},
   "outputs": [
    {
     "data": {
      "text/html": [
       "<div>\n",
       "<style scoped>\n",
       "    .dataframe tbody tr th:only-of-type {\n",
       "        vertical-align: middle;\n",
       "    }\n",
       "\n",
       "    .dataframe tbody tr th {\n",
       "        vertical-align: top;\n",
       "    }\n",
       "\n",
       "    .dataframe thead th {\n",
       "        text-align: right;\n",
       "    }\n",
       "</style>\n",
       "<table border=\"1\" class=\"dataframe\">\n",
       "  <thead>\n",
       "    <tr style=\"text-align: right;\">\n",
       "      <th></th>\n",
       "      <th>Census Bureau Region and Division Codes and Federal Information Processing System (FIPS) Codes for States</th>\n",
       "      <th>Unnamed: 1</th>\n",
       "      <th>Unnamed: 2</th>\n",
       "      <th>Unnamed: 3</th>\n",
       "    </tr>\n",
       "  </thead>\n",
       "  <tbody>\n",
       "    <tr>\n",
       "      <th>0</th>\n",
       "      <td>NaN</td>\n",
       "      <td>NaN</td>\n",
       "      <td>NaN</td>\n",
       "      <td>NaN</td>\n",
       "    </tr>\n",
       "    <tr>\n",
       "      <th>1</th>\n",
       "      <td>Source: U.S. Census Bureau, Population Division</td>\n",
       "      <td>NaN</td>\n",
       "      <td>NaN</td>\n",
       "      <td>NaN</td>\n",
       "    </tr>\n",
       "    <tr>\n",
       "      <th>2</th>\n",
       "      <td>Internet Release Date: May 2019</td>\n",
       "      <td>NaN</td>\n",
       "      <td>NaN</td>\n",
       "      <td>NaN</td>\n",
       "    </tr>\n",
       "    <tr>\n",
       "      <th>3</th>\n",
       "      <td>NaN</td>\n",
       "      <td>NaN</td>\n",
       "      <td>NaN</td>\n",
       "      <td>NaN</td>\n",
       "    </tr>\n",
       "    <tr>\n",
       "      <th>4</th>\n",
       "      <td>Region</td>\n",
       "      <td>Division</td>\n",
       "      <td>State (FIPS)</td>\n",
       "      <td>Name</td>\n",
       "    </tr>\n",
       "  </tbody>\n",
       "</table>\n",
       "</div>"
      ],
      "text/plain": [
       "  Census Bureau Region and Division Codes and Federal Information Processing System (FIPS) Codes for States  \\\n",
       "0                                                NaN                                                          \n",
       "1    Source: U.S. Census Bureau, Population Division                                                          \n",
       "2                    Internet Release Date: May 2019                                                          \n",
       "3                                                NaN                                                          \n",
       "4                                             Region                                                          \n",
       "\n",
       "  Unnamed: 1    Unnamed: 2 Unnamed: 3  \n",
       "0        NaN           NaN        NaN  \n",
       "1        NaN           NaN        NaN  \n",
       "2        NaN           NaN        NaN  \n",
       "3        NaN           NaN        NaN  \n",
       "4   Division  State (FIPS)       Name  "
      ]
     },
     "execution_count": 28,
     "metadata": {},
     "output_type": "execute_result"
    }
   ],
   "source": [
    "#preview states data\n",
    "df_states.head()"
   ]
  },
  {
   "cell_type": "code",
   "execution_count": 29,
   "metadata": {},
   "outputs": [
    {
     "data": {
      "text/html": [
       "<div>\n",
       "<style scoped>\n",
       "    .dataframe tbody tr th:only-of-type {\n",
       "        vertical-align: middle;\n",
       "    }\n",
       "\n",
       "    .dataframe tbody tr th {\n",
       "        vertical-align: top;\n",
       "    }\n",
       "\n",
       "    .dataframe thead th {\n",
       "        text-align: right;\n",
       "    }\n",
       "</style>\n",
       "<table border=\"1\" class=\"dataframe\">\n",
       "  <thead>\n",
       "    <tr style=\"text-align: right;\">\n",
       "      <th></th>\n",
       "      <th>Estimates Geography File: Vintage 2018</th>\n",
       "      <th>Unnamed: 1</th>\n",
       "      <th>Unnamed: 2</th>\n",
       "      <th>Unnamed: 3</th>\n",
       "      <th>Unnamed: 4</th>\n",
       "      <th>Unnamed: 5</th>\n",
       "      <th>Unnamed: 6</th>\n",
       "    </tr>\n",
       "  </thead>\n",
       "  <tbody>\n",
       "    <tr>\n",
       "      <th>0</th>\n",
       "      <td>Source: U.S. Census Bureau, Population Division</td>\n",
       "      <td>NaN</td>\n",
       "      <td>NaN</td>\n",
       "      <td>NaN</td>\n",
       "      <td>NaN</td>\n",
       "      <td>NaN</td>\n",
       "      <td>NaN</td>\n",
       "    </tr>\n",
       "    <tr>\n",
       "      <th>1</th>\n",
       "      <td>Internet Release Date: May 2019</td>\n",
       "      <td>NaN</td>\n",
       "      <td>NaN</td>\n",
       "      <td>NaN</td>\n",
       "      <td>NaN</td>\n",
       "      <td>NaN</td>\n",
       "      <td>NaN</td>\n",
       "    </tr>\n",
       "    <tr>\n",
       "      <th>2</th>\n",
       "      <td>NaN</td>\n",
       "      <td>NaN</td>\n",
       "      <td>NaN</td>\n",
       "      <td>NaN</td>\n",
       "      <td>NaN</td>\n",
       "      <td>NaN</td>\n",
       "      <td>NaN</td>\n",
       "    </tr>\n",
       "    <tr>\n",
       "      <th>3</th>\n",
       "      <td>Summary Level</td>\n",
       "      <td>State Code (FIPS)</td>\n",
       "      <td>County Code (FIPS)</td>\n",
       "      <td>County Subdivision Code (FIPS)</td>\n",
       "      <td>Place Code (FIPS)</td>\n",
       "      <td>Consolidtated City Code (FIPS)</td>\n",
       "      <td>Area Name (including legal/statistical area de...</td>\n",
       "    </tr>\n",
       "    <tr>\n",
       "      <th>4</th>\n",
       "      <td>010</td>\n",
       "      <td>00</td>\n",
       "      <td>000</td>\n",
       "      <td>00000</td>\n",
       "      <td>00000</td>\n",
       "      <td>00000</td>\n",
       "      <td>United States</td>\n",
       "    </tr>\n",
       "  </tbody>\n",
       "</table>\n",
       "</div>"
      ],
      "text/plain": [
       "            Estimates Geography File: Vintage 2018         Unnamed: 1  \\\n",
       "0  Source: U.S. Census Bureau, Population Division                NaN   \n",
       "1                  Internet Release Date: May 2019                NaN   \n",
       "2                                              NaN                NaN   \n",
       "3                                    Summary Level  State Code (FIPS)   \n",
       "4                                              010                 00   \n",
       "\n",
       "           Unnamed: 2                      Unnamed: 3         Unnamed: 4  \\\n",
       "0                 NaN                             NaN                NaN   \n",
       "1                 NaN                             NaN                NaN   \n",
       "2                 NaN                             NaN                NaN   \n",
       "3  County Code (FIPS)  County Subdivision Code (FIPS)  Place Code (FIPS)   \n",
       "4                 000                           00000              00000   \n",
       "\n",
       "                       Unnamed: 5  \\\n",
       "0                             NaN   \n",
       "1                             NaN   \n",
       "2                             NaN   \n",
       "3  Consolidtated City Code (FIPS)   \n",
       "4                           00000   \n",
       "\n",
       "                                          Unnamed: 6  \n",
       "0                                                NaN  \n",
       "1                                                NaN  \n",
       "2                                                NaN  \n",
       "3  Area Name (including legal/statistical area de...  \n",
       "4                                      United States  "
      ]
     },
     "execution_count": 29,
     "metadata": {},
     "output_type": "execute_result"
    }
   ],
   "source": [
    "#preview county data\n",
    "df_counties.head()"
   ]
  },
  {
   "cell_type": "code",
   "execution_count": 30,
   "metadata": {},
   "outputs": [],
   "source": [
    "# re-import state data\n",
    "df_states = pd.read_excel(\"state-geocodes-v2018.xlsx\", skiprows = 5)"
   ]
  },
  {
   "cell_type": "code",
   "execution_count": 31,
   "metadata": {},
   "outputs": [],
   "source": [
    "# re-import county data\n",
    "df_county = pd.read_excel(\"all-geocodes-v2018.xlsx\", skiprows = 4)"
   ]
  },
  {
   "cell_type": "code",
   "execution_count": 32,
   "metadata": {},
   "outputs": [
    {
     "data": {
      "text/html": [
       "<div>\n",
       "<style scoped>\n",
       "    .dataframe tbody tr th:only-of-type {\n",
       "        vertical-align: middle;\n",
       "    }\n",
       "\n",
       "    .dataframe tbody tr th {\n",
       "        vertical-align: top;\n",
       "    }\n",
       "\n",
       "    .dataframe thead th {\n",
       "        text-align: right;\n",
       "    }\n",
       "</style>\n",
       "<table border=\"1\" class=\"dataframe\">\n",
       "  <thead>\n",
       "    <tr style=\"text-align: right;\">\n",
       "      <th></th>\n",
       "      <th>Region</th>\n",
       "      <th>Division</th>\n",
       "      <th>State (FIPS)</th>\n",
       "      <th>Name</th>\n",
       "    </tr>\n",
       "  </thead>\n",
       "  <tbody>\n",
       "    <tr>\n",
       "      <th>0</th>\n",
       "      <td>1</td>\n",
       "      <td>0</td>\n",
       "      <td>0</td>\n",
       "      <td>Northeast Region</td>\n",
       "    </tr>\n",
       "    <tr>\n",
       "      <th>1</th>\n",
       "      <td>1</td>\n",
       "      <td>1</td>\n",
       "      <td>0</td>\n",
       "      <td>New England Division</td>\n",
       "    </tr>\n",
       "    <tr>\n",
       "      <th>2</th>\n",
       "      <td>1</td>\n",
       "      <td>1</td>\n",
       "      <td>9</td>\n",
       "      <td>Connecticut</td>\n",
       "    </tr>\n",
       "    <tr>\n",
       "      <th>3</th>\n",
       "      <td>1</td>\n",
       "      <td>1</td>\n",
       "      <td>23</td>\n",
       "      <td>Maine</td>\n",
       "    </tr>\n",
       "    <tr>\n",
       "      <th>4</th>\n",
       "      <td>1</td>\n",
       "      <td>1</td>\n",
       "      <td>25</td>\n",
       "      <td>Massachusetts</td>\n",
       "    </tr>\n",
       "  </tbody>\n",
       "</table>\n",
       "</div>"
      ],
      "text/plain": [
       "   Region  Division  State (FIPS)                  Name\n",
       "0       1         0             0      Northeast Region\n",
       "1       1         1             0  New England Division\n",
       "2       1         1             9           Connecticut\n",
       "3       1         1            23                 Maine\n",
       "4       1         1            25         Massachusetts"
      ]
     },
     "execution_count": 32,
     "metadata": {},
     "output_type": "execute_result"
    }
   ],
   "source": [
    "#preview states data\n",
    "df_states.head()"
   ]
  },
  {
   "cell_type": "code",
   "execution_count": 33,
   "metadata": {},
   "outputs": [
    {
     "data": {
      "text/html": [
       "<div>\n",
       "<style scoped>\n",
       "    .dataframe tbody tr th:only-of-type {\n",
       "        vertical-align: middle;\n",
       "    }\n",
       "\n",
       "    .dataframe tbody tr th {\n",
       "        vertical-align: top;\n",
       "    }\n",
       "\n",
       "    .dataframe thead th {\n",
       "        text-align: right;\n",
       "    }\n",
       "</style>\n",
       "<table border=\"1\" class=\"dataframe\">\n",
       "  <thead>\n",
       "    <tr style=\"text-align: right;\">\n",
       "      <th></th>\n",
       "      <th>Summary Level</th>\n",
       "      <th>State Code (FIPS)</th>\n",
       "      <th>County Code (FIPS)</th>\n",
       "      <th>County Subdivision Code (FIPS)</th>\n",
       "      <th>Place Code (FIPS)</th>\n",
       "      <th>Consolidtated City Code (FIPS)</th>\n",
       "      <th>Area Name (including legal/statistical area description)</th>\n",
       "    </tr>\n",
       "  </thead>\n",
       "  <tbody>\n",
       "    <tr>\n",
       "      <th>0</th>\n",
       "      <td>10</td>\n",
       "      <td>0</td>\n",
       "      <td>0</td>\n",
       "      <td>0</td>\n",
       "      <td>0</td>\n",
       "      <td>0</td>\n",
       "      <td>United States</td>\n",
       "    </tr>\n",
       "    <tr>\n",
       "      <th>1</th>\n",
       "      <td>40</td>\n",
       "      <td>1</td>\n",
       "      <td>0</td>\n",
       "      <td>0</td>\n",
       "      <td>0</td>\n",
       "      <td>0</td>\n",
       "      <td>Alabama</td>\n",
       "    </tr>\n",
       "    <tr>\n",
       "      <th>2</th>\n",
       "      <td>50</td>\n",
       "      <td>1</td>\n",
       "      <td>1</td>\n",
       "      <td>0</td>\n",
       "      <td>0</td>\n",
       "      <td>0</td>\n",
       "      <td>Autauga County</td>\n",
       "    </tr>\n",
       "    <tr>\n",
       "      <th>3</th>\n",
       "      <td>50</td>\n",
       "      <td>1</td>\n",
       "      <td>3</td>\n",
       "      <td>0</td>\n",
       "      <td>0</td>\n",
       "      <td>0</td>\n",
       "      <td>Baldwin County</td>\n",
       "    </tr>\n",
       "    <tr>\n",
       "      <th>4</th>\n",
       "      <td>50</td>\n",
       "      <td>1</td>\n",
       "      <td>5</td>\n",
       "      <td>0</td>\n",
       "      <td>0</td>\n",
       "      <td>0</td>\n",
       "      <td>Barbour County</td>\n",
       "    </tr>\n",
       "  </tbody>\n",
       "</table>\n",
       "</div>"
      ],
      "text/plain": [
       "   Summary Level  State Code (FIPS)  County Code (FIPS)  \\\n",
       "0             10                  0                   0   \n",
       "1             40                  1                   0   \n",
       "2             50                  1                   1   \n",
       "3             50                  1                   3   \n",
       "4             50                  1                   5   \n",
       "\n",
       "   County Subdivision Code (FIPS)  Place Code (FIPS)  \\\n",
       "0                               0                  0   \n",
       "1                               0                  0   \n",
       "2                               0                  0   \n",
       "3                               0                  0   \n",
       "4                               0                  0   \n",
       "\n",
       "   Consolidtated City Code (FIPS)  \\\n",
       "0                               0   \n",
       "1                               0   \n",
       "2                               0   \n",
       "3                               0   \n",
       "4                               0   \n",
       "\n",
       "  Area Name (including legal/statistical area description)  \n",
       "0                                      United States        \n",
       "1                                            Alabama        \n",
       "2                                     Autauga County        \n",
       "3                                     Baldwin County        \n",
       "4                                     Barbour County        "
      ]
     },
     "execution_count": 33,
     "metadata": {},
     "output_type": "execute_result"
    }
   ],
   "source": [
    "#preview county data\n",
    "df_county.head()"
   ]
  },
  {
   "cell_type": "code",
   "execution_count": 34,
   "metadata": {},
   "outputs": [],
   "source": [
    "# remove if county code is 0 (entire united states)\n",
    "\n",
    "df_county = df_county[df_county[\"County Code (FIPS)\"] != 0]"
   ]
  },
  {
   "cell_type": "code",
   "execution_count": 35,
   "metadata": {},
   "outputs": [],
   "source": [
    "# convert state and county fips columns to strings\n",
    "\n",
    "df_county[[\"State Code (FIPS)\", \"County Code (FIPS)\"]] = df_county[[\"State Code (FIPS)\", \"County Code (FIPS)\"]].astype(str)"
   ]
  },
  {
   "cell_type": "code",
   "execution_count": 36,
   "metadata": {},
   "outputs": [
    {
     "data": {
      "text/html": [
       "<div>\n",
       "<style scoped>\n",
       "    .dataframe tbody tr th:only-of-type {\n",
       "        vertical-align: middle;\n",
       "    }\n",
       "\n",
       "    .dataframe tbody tr th {\n",
       "        vertical-align: top;\n",
       "    }\n",
       "\n",
       "    .dataframe thead th {\n",
       "        text-align: right;\n",
       "    }\n",
       "</style>\n",
       "<table border=\"1\" class=\"dataframe\">\n",
       "  <thead>\n",
       "    <tr style=\"text-align: right;\">\n",
       "      <th></th>\n",
       "      <th>Summary Level</th>\n",
       "      <th>State Code (FIPS)</th>\n",
       "      <th>County Code (FIPS)</th>\n",
       "      <th>County Subdivision Code (FIPS)</th>\n",
       "      <th>Place Code (FIPS)</th>\n",
       "      <th>Consolidtated City Code (FIPS)</th>\n",
       "      <th>Area Name (including legal/statistical area description)</th>\n",
       "    </tr>\n",
       "  </thead>\n",
       "  <tbody>\n",
       "    <tr>\n",
       "      <th>2</th>\n",
       "      <td>50</td>\n",
       "      <td>1</td>\n",
       "      <td>1</td>\n",
       "      <td>0</td>\n",
       "      <td>0</td>\n",
       "      <td>0</td>\n",
       "      <td>Autauga County</td>\n",
       "    </tr>\n",
       "    <tr>\n",
       "      <th>3</th>\n",
       "      <td>50</td>\n",
       "      <td>1</td>\n",
       "      <td>3</td>\n",
       "      <td>0</td>\n",
       "      <td>0</td>\n",
       "      <td>0</td>\n",
       "      <td>Baldwin County</td>\n",
       "    </tr>\n",
       "    <tr>\n",
       "      <th>4</th>\n",
       "      <td>50</td>\n",
       "      <td>1</td>\n",
       "      <td>5</td>\n",
       "      <td>0</td>\n",
       "      <td>0</td>\n",
       "      <td>0</td>\n",
       "      <td>Barbour County</td>\n",
       "    </tr>\n",
       "    <tr>\n",
       "      <th>5</th>\n",
       "      <td>50</td>\n",
       "      <td>1</td>\n",
       "      <td>7</td>\n",
       "      <td>0</td>\n",
       "      <td>0</td>\n",
       "      <td>0</td>\n",
       "      <td>Bibb County</td>\n",
       "    </tr>\n",
       "    <tr>\n",
       "      <th>6</th>\n",
       "      <td>50</td>\n",
       "      <td>1</td>\n",
       "      <td>9</td>\n",
       "      <td>0</td>\n",
       "      <td>0</td>\n",
       "      <td>0</td>\n",
       "      <td>Blount County</td>\n",
       "    </tr>\n",
       "  </tbody>\n",
       "</table>\n",
       "</div>"
      ],
      "text/plain": [
       "   Summary Level State Code (FIPS) County Code (FIPS)  \\\n",
       "2             50                 1                  1   \n",
       "3             50                 1                  3   \n",
       "4             50                 1                  5   \n",
       "5             50                 1                  7   \n",
       "6             50                 1                  9   \n",
       "\n",
       "   County Subdivision Code (FIPS)  Place Code (FIPS)  \\\n",
       "2                               0                  0   \n",
       "3                               0                  0   \n",
       "4                               0                  0   \n",
       "5                               0                  0   \n",
       "6                               0                  0   \n",
       "\n",
       "   Consolidtated City Code (FIPS)  \\\n",
       "2                               0   \n",
       "3                               0   \n",
       "4                               0   \n",
       "5                               0   \n",
       "6                               0   \n",
       "\n",
       "  Area Name (including legal/statistical area description)  \n",
       "2                                     Autauga County        \n",
       "3                                     Baldwin County        \n",
       "4                                     Barbour County        \n",
       "5                                        Bibb County        \n",
       "6                                      Blount County        "
      ]
     },
     "execution_count": 36,
     "metadata": {},
     "output_type": "execute_result"
    }
   ],
   "source": [
    "#preview data\n",
    "df_county.head()"
   ]
  },
  {
   "cell_type": "code",
   "execution_count": 37,
   "metadata": {},
   "outputs": [],
   "source": [
    "# add leading zeros for a two digit value in state fips\n",
    "df_county[\"State Code (FIPS)\"] = df_county[\"State Code (FIPS)\"].str.zfill(2)\n",
    "\n",
    "# add leading zeros for three digit value in county fips\n",
    "df_county[\"County Code (FIPS)\"] = df_county[\"County Code (FIPS)\"].str.zfill(3)"
   ]
  },
  {
   "cell_type": "code",
   "execution_count": 38,
   "metadata": {},
   "outputs": [
    {
     "data": {
      "text/html": [
       "<div>\n",
       "<style scoped>\n",
       "    .dataframe tbody tr th:only-of-type {\n",
       "        vertical-align: middle;\n",
       "    }\n",
       "\n",
       "    .dataframe tbody tr th {\n",
       "        vertical-align: top;\n",
       "    }\n",
       "\n",
       "    .dataframe thead th {\n",
       "        text-align: right;\n",
       "    }\n",
       "</style>\n",
       "<table border=\"1\" class=\"dataframe\">\n",
       "  <thead>\n",
       "    <tr style=\"text-align: right;\">\n",
       "      <th></th>\n",
       "      <th>Summary Level</th>\n",
       "      <th>State Code (FIPS)</th>\n",
       "      <th>County Code (FIPS)</th>\n",
       "      <th>County Subdivision Code (FIPS)</th>\n",
       "      <th>Place Code (FIPS)</th>\n",
       "      <th>Consolidtated City Code (FIPS)</th>\n",
       "      <th>Area Name (including legal/statistical area description)</th>\n",
       "    </tr>\n",
       "  </thead>\n",
       "  <tbody>\n",
       "    <tr>\n",
       "      <th>2</th>\n",
       "      <td>50</td>\n",
       "      <td>01</td>\n",
       "      <td>001</td>\n",
       "      <td>0</td>\n",
       "      <td>0</td>\n",
       "      <td>0</td>\n",
       "      <td>Autauga County</td>\n",
       "    </tr>\n",
       "    <tr>\n",
       "      <th>3</th>\n",
       "      <td>50</td>\n",
       "      <td>01</td>\n",
       "      <td>003</td>\n",
       "      <td>0</td>\n",
       "      <td>0</td>\n",
       "      <td>0</td>\n",
       "      <td>Baldwin County</td>\n",
       "    </tr>\n",
       "    <tr>\n",
       "      <th>4</th>\n",
       "      <td>50</td>\n",
       "      <td>01</td>\n",
       "      <td>005</td>\n",
       "      <td>0</td>\n",
       "      <td>0</td>\n",
       "      <td>0</td>\n",
       "      <td>Barbour County</td>\n",
       "    </tr>\n",
       "  </tbody>\n",
       "</table>\n",
       "</div>"
      ],
      "text/plain": [
       "   Summary Level State Code (FIPS) County Code (FIPS)  \\\n",
       "2             50                01                001   \n",
       "3             50                01                003   \n",
       "4             50                01                005   \n",
       "\n",
       "   County Subdivision Code (FIPS)  Place Code (FIPS)  \\\n",
       "2                               0                  0   \n",
       "3                               0                  0   \n",
       "4                               0                  0   \n",
       "\n",
       "   Consolidtated City Code (FIPS)  \\\n",
       "2                               0   \n",
       "3                               0   \n",
       "4                               0   \n",
       "\n",
       "  Area Name (including legal/statistical area description)  \n",
       "2                                     Autauga County        \n",
       "3                                     Baldwin County        \n",
       "4                                     Barbour County        "
      ]
     },
     "execution_count": 38,
     "metadata": {},
     "output_type": "execute_result"
    }
   ],
   "source": [
    "#preview data \n",
    "df_county.head(3)"
   ]
  },
  {
   "cell_type": "code",
   "execution_count": 39,
   "metadata": {},
   "outputs": [
    {
     "data": {
      "text/html": [
       "<div>\n",
       "<style scoped>\n",
       "    .dataframe tbody tr th:only-of-type {\n",
       "        vertical-align: middle;\n",
       "    }\n",
       "\n",
       "    .dataframe tbody tr th {\n",
       "        vertical-align: top;\n",
       "    }\n",
       "\n",
       "    .dataframe thead th {\n",
       "        text-align: right;\n",
       "    }\n",
       "</style>\n",
       "<table border=\"1\" class=\"dataframe\">\n",
       "  <thead>\n",
       "    <tr style=\"text-align: right;\">\n",
       "      <th></th>\n",
       "      <th>Summary Level</th>\n",
       "      <th>State Code (FIPS)</th>\n",
       "      <th>County Code (FIPS)</th>\n",
       "      <th>County Subdivision Code (FIPS)</th>\n",
       "      <th>Place Code (FIPS)</th>\n",
       "      <th>Consolidtated City Code (FIPS)</th>\n",
       "      <th>Area Name (including legal/statistical area description)</th>\n",
       "    </tr>\n",
       "  </thead>\n",
       "  <tbody>\n",
       "    <tr>\n",
       "      <th>43844</th>\n",
       "      <td>50</td>\n",
       "      <td>72</td>\n",
       "      <td>149</td>\n",
       "      <td>0</td>\n",
       "      <td>0</td>\n",
       "      <td>0</td>\n",
       "      <td>Villalba Municipio</td>\n",
       "    </tr>\n",
       "    <tr>\n",
       "      <th>43845</th>\n",
       "      <td>50</td>\n",
       "      <td>72</td>\n",
       "      <td>151</td>\n",
       "      <td>0</td>\n",
       "      <td>0</td>\n",
       "      <td>0</td>\n",
       "      <td>Yabucoa Municipio</td>\n",
       "    </tr>\n",
       "    <tr>\n",
       "      <th>43846</th>\n",
       "      <td>50</td>\n",
       "      <td>72</td>\n",
       "      <td>153</td>\n",
       "      <td>0</td>\n",
       "      <td>0</td>\n",
       "      <td>0</td>\n",
       "      <td>Yauco Municipio</td>\n",
       "    </tr>\n",
       "  </tbody>\n",
       "</table>\n",
       "</div>"
      ],
      "text/plain": [
       "       Summary Level State Code (FIPS) County Code (FIPS)  \\\n",
       "43844             50                72                149   \n",
       "43845             50                72                151   \n",
       "43846             50                72                153   \n",
       "\n",
       "       County Subdivision Code (FIPS)  Place Code (FIPS)  \\\n",
       "43844                               0                  0   \n",
       "43845                               0                  0   \n",
       "43846                               0                  0   \n",
       "\n",
       "       Consolidtated City Code (FIPS)  \\\n",
       "43844                               0   \n",
       "43845                               0   \n",
       "43846                               0   \n",
       "\n",
       "      Area Name (including legal/statistical area description)  \n",
       "43844                                 Villalba Municipio        \n",
       "43845                                  Yabucoa Municipio        \n",
       "43846                                    Yauco Municipio        "
      ]
     },
     "execution_count": 39,
     "metadata": {},
     "output_type": "execute_result"
    }
   ],
   "source": [
    "#preview data \n",
    "df_county.tail(3)"
   ]
  },
  {
   "cell_type": "code",
   "execution_count": 40,
   "metadata": {},
   "outputs": [],
   "source": [
    "# make full county fips number\n",
    "df_county[\"full_county_fips\"] = df_county[\"State Code (FIPS)\"] + df_county[\"County Code (FIPS)\"]"
   ]
  },
  {
   "cell_type": "code",
   "execution_count": 41,
   "metadata": {},
   "outputs": [
    {
     "data": {
      "text/html": [
       "<div>\n",
       "<style scoped>\n",
       "    .dataframe tbody tr th:only-of-type {\n",
       "        vertical-align: middle;\n",
       "    }\n",
       "\n",
       "    .dataframe tbody tr th {\n",
       "        vertical-align: top;\n",
       "    }\n",
       "\n",
       "    .dataframe thead th {\n",
       "        text-align: right;\n",
       "    }\n",
       "</style>\n",
       "<table border=\"1\" class=\"dataframe\">\n",
       "  <thead>\n",
       "    <tr style=\"text-align: right;\">\n",
       "      <th></th>\n",
       "      <th>Summary Level</th>\n",
       "      <th>State Code (FIPS)</th>\n",
       "      <th>County Code (FIPS)</th>\n",
       "      <th>County Subdivision Code (FIPS)</th>\n",
       "      <th>Place Code (FIPS)</th>\n",
       "      <th>Consolidtated City Code (FIPS)</th>\n",
       "      <th>Area Name (including legal/statistical area description)</th>\n",
       "      <th>full_county_fips</th>\n",
       "    </tr>\n",
       "  </thead>\n",
       "  <tbody>\n",
       "    <tr>\n",
       "      <th>2</th>\n",
       "      <td>50</td>\n",
       "      <td>01</td>\n",
       "      <td>001</td>\n",
       "      <td>0</td>\n",
       "      <td>0</td>\n",
       "      <td>0</td>\n",
       "      <td>Autauga County</td>\n",
       "      <td>01001</td>\n",
       "    </tr>\n",
       "    <tr>\n",
       "      <th>3</th>\n",
       "      <td>50</td>\n",
       "      <td>01</td>\n",
       "      <td>003</td>\n",
       "      <td>0</td>\n",
       "      <td>0</td>\n",
       "      <td>0</td>\n",
       "      <td>Baldwin County</td>\n",
       "      <td>01003</td>\n",
       "    </tr>\n",
       "    <tr>\n",
       "      <th>4</th>\n",
       "      <td>50</td>\n",
       "      <td>01</td>\n",
       "      <td>005</td>\n",
       "      <td>0</td>\n",
       "      <td>0</td>\n",
       "      <td>0</td>\n",
       "      <td>Barbour County</td>\n",
       "      <td>01005</td>\n",
       "    </tr>\n",
       "  </tbody>\n",
       "</table>\n",
       "</div>"
      ],
      "text/plain": [
       "   Summary Level State Code (FIPS) County Code (FIPS)  \\\n",
       "2             50                01                001   \n",
       "3             50                01                003   \n",
       "4             50                01                005   \n",
       "\n",
       "   County Subdivision Code (FIPS)  Place Code (FIPS)  \\\n",
       "2                               0                  0   \n",
       "3                               0                  0   \n",
       "4                               0                  0   \n",
       "\n",
       "   Consolidtated City Code (FIPS)  \\\n",
       "2                               0   \n",
       "3                               0   \n",
       "4                               0   \n",
       "\n",
       "  Area Name (including legal/statistical area description) full_county_fips  \n",
       "2                                     Autauga County                  01001  \n",
       "3                                     Baldwin County                  01003  \n",
       "4                                     Barbour County                  01005  "
      ]
     },
     "execution_count": 41,
     "metadata": {},
     "output_type": "execute_result"
    }
   ],
   "source": [
    "#preview full fips column\n",
    "df_county.head(3)"
   ]
  },
  {
   "cell_type": "code",
   "execution_count": 42,
   "metadata": {},
   "outputs": [],
   "source": [
    "# convert state fips code to string\n",
    "df_states[\"State (FIPS)\"] = df_states[\"State (FIPS)\"].astype(str)\n",
    "\n",
    "# add preceding zeros to make 2-digit FIPS codes\n",
    "df_states[\"State (FIPS)\"] = df_states[\"State (FIPS)\"].str.zfill(2)"
   ]
  },
  {
   "cell_type": "code",
   "execution_count": 43,
   "metadata": {},
   "outputs": [
    {
     "data": {
      "text/html": [
       "<div>\n",
       "<style scoped>\n",
       "    .dataframe tbody tr th:only-of-type {\n",
       "        vertical-align: middle;\n",
       "    }\n",
       "\n",
       "    .dataframe tbody tr th {\n",
       "        vertical-align: top;\n",
       "    }\n",
       "\n",
       "    .dataframe thead th {\n",
       "        text-align: right;\n",
       "    }\n",
       "</style>\n",
       "<table border=\"1\" class=\"dataframe\">\n",
       "  <thead>\n",
       "    <tr style=\"text-align: right;\">\n",
       "      <th></th>\n",
       "      <th>Region</th>\n",
       "      <th>Division</th>\n",
       "      <th>State (FIPS)</th>\n",
       "      <th>Name</th>\n",
       "    </tr>\n",
       "  </thead>\n",
       "  <tbody>\n",
       "    <tr>\n",
       "      <th>0</th>\n",
       "      <td>1</td>\n",
       "      <td>0</td>\n",
       "      <td>00</td>\n",
       "      <td>Northeast Region</td>\n",
       "    </tr>\n",
       "    <tr>\n",
       "      <th>1</th>\n",
       "      <td>1</td>\n",
       "      <td>1</td>\n",
       "      <td>00</td>\n",
       "      <td>New England Division</td>\n",
       "    </tr>\n",
       "    <tr>\n",
       "      <th>2</th>\n",
       "      <td>1</td>\n",
       "      <td>1</td>\n",
       "      <td>09</td>\n",
       "      <td>Connecticut</td>\n",
       "    </tr>\n",
       "    <tr>\n",
       "      <th>3</th>\n",
       "      <td>1</td>\n",
       "      <td>1</td>\n",
       "      <td>23</td>\n",
       "      <td>Maine</td>\n",
       "    </tr>\n",
       "    <tr>\n",
       "      <th>4</th>\n",
       "      <td>1</td>\n",
       "      <td>1</td>\n",
       "      <td>25</td>\n",
       "      <td>Massachusetts</td>\n",
       "    </tr>\n",
       "  </tbody>\n",
       "</table>\n",
       "</div>"
      ],
      "text/plain": [
       "   Region  Division State (FIPS)                  Name\n",
       "0       1         0           00      Northeast Region\n",
       "1       1         1           00  New England Division\n",
       "2       1         1           09           Connecticut\n",
       "3       1         1           23                 Maine\n",
       "4       1         1           25         Massachusetts"
      ]
     },
     "execution_count": 43,
     "metadata": {},
     "output_type": "execute_result"
    }
   ],
   "source": [
    "# preview states data\n",
    "df_states.head()"
   ]
  },
  {
   "cell_type": "code",
   "execution_count": 44,
   "metadata": {},
   "outputs": [],
   "source": [
    "# merge state name onto county fips dataframe\n",
    "df_county = pd.merge(df_county, \n",
    "                     df_states[[\"State (FIPS)\", \"Name\"]], \n",
    "                     how = \"left\", \n",
    "                     left_on = \"State Code (FIPS)\", \n",
    "                     right_on = \"State (FIPS)\")"
   ]
  },
  {
   "cell_type": "code",
   "execution_count": 45,
   "metadata": {},
   "outputs": [
    {
     "data": {
      "text/html": [
       "<div>\n",
       "<style scoped>\n",
       "    .dataframe tbody tr th:only-of-type {\n",
       "        vertical-align: middle;\n",
       "    }\n",
       "\n",
       "    .dataframe tbody tr th {\n",
       "        vertical-align: top;\n",
       "    }\n",
       "\n",
       "    .dataframe thead th {\n",
       "        text-align: right;\n",
       "    }\n",
       "</style>\n",
       "<table border=\"1\" class=\"dataframe\">\n",
       "  <thead>\n",
       "    <tr style=\"text-align: right;\">\n",
       "      <th></th>\n",
       "      <th>Summary Level</th>\n",
       "      <th>State Code (FIPS)</th>\n",
       "      <th>County Code (FIPS)</th>\n",
       "      <th>County Subdivision Code (FIPS)</th>\n",
       "      <th>Place Code (FIPS)</th>\n",
       "      <th>Consolidtated City Code (FIPS)</th>\n",
       "      <th>Area Name (including legal/statistical area description)</th>\n",
       "      <th>full_county_fips</th>\n",
       "      <th>State (FIPS)</th>\n",
       "      <th>Name</th>\n",
       "    </tr>\n",
       "  </thead>\n",
       "  <tbody>\n",
       "    <tr>\n",
       "      <th>0</th>\n",
       "      <td>50</td>\n",
       "      <td>01</td>\n",
       "      <td>001</td>\n",
       "      <td>0</td>\n",
       "      <td>0</td>\n",
       "      <td>0</td>\n",
       "      <td>Autauga County</td>\n",
       "      <td>01001</td>\n",
       "      <td>01</td>\n",
       "      <td>Alabama</td>\n",
       "    </tr>\n",
       "    <tr>\n",
       "      <th>1</th>\n",
       "      <td>50</td>\n",
       "      <td>01</td>\n",
       "      <td>003</td>\n",
       "      <td>0</td>\n",
       "      <td>0</td>\n",
       "      <td>0</td>\n",
       "      <td>Baldwin County</td>\n",
       "      <td>01003</td>\n",
       "      <td>01</td>\n",
       "      <td>Alabama</td>\n",
       "    </tr>\n",
       "    <tr>\n",
       "      <th>2</th>\n",
       "      <td>50</td>\n",
       "      <td>01</td>\n",
       "      <td>005</td>\n",
       "      <td>0</td>\n",
       "      <td>0</td>\n",
       "      <td>0</td>\n",
       "      <td>Barbour County</td>\n",
       "      <td>01005</td>\n",
       "      <td>01</td>\n",
       "      <td>Alabama</td>\n",
       "    </tr>\n",
       "    <tr>\n",
       "      <th>3</th>\n",
       "      <td>50</td>\n",
       "      <td>01</td>\n",
       "      <td>007</td>\n",
       "      <td>0</td>\n",
       "      <td>0</td>\n",
       "      <td>0</td>\n",
       "      <td>Bibb County</td>\n",
       "      <td>01007</td>\n",
       "      <td>01</td>\n",
       "      <td>Alabama</td>\n",
       "    </tr>\n",
       "    <tr>\n",
       "      <th>4</th>\n",
       "      <td>50</td>\n",
       "      <td>01</td>\n",
       "      <td>009</td>\n",
       "      <td>0</td>\n",
       "      <td>0</td>\n",
       "      <td>0</td>\n",
       "      <td>Blount County</td>\n",
       "      <td>01009</td>\n",
       "      <td>01</td>\n",
       "      <td>Alabama</td>\n",
       "    </tr>\n",
       "  </tbody>\n",
       "</table>\n",
       "</div>"
      ],
      "text/plain": [
       "   Summary Level State Code (FIPS) County Code (FIPS)  \\\n",
       "0             50                01                001   \n",
       "1             50                01                003   \n",
       "2             50                01                005   \n",
       "3             50                01                007   \n",
       "4             50                01                009   \n",
       "\n",
       "   County Subdivision Code (FIPS)  Place Code (FIPS)  \\\n",
       "0                               0                  0   \n",
       "1                               0                  0   \n",
       "2                               0                  0   \n",
       "3                               0                  0   \n",
       "4                               0                  0   \n",
       "\n",
       "   Consolidtated City Code (FIPS)  \\\n",
       "0                               0   \n",
       "1                               0   \n",
       "2                               0   \n",
       "3                               0   \n",
       "4                               0   \n",
       "\n",
       "  Area Name (including legal/statistical area description) full_county_fips  \\\n",
       "0                                     Autauga County                  01001   \n",
       "1                                     Baldwin County                  01003   \n",
       "2                                     Barbour County                  01005   \n",
       "3                                        Bibb County                  01007   \n",
       "4                                      Blount County                  01009   \n",
       "\n",
       "  State (FIPS)     Name  \n",
       "0           01  Alabama  \n",
       "1           01  Alabama  \n",
       "2           01  Alabama  \n",
       "3           01  Alabama  \n",
       "4           01  Alabama  "
      ]
     },
     "execution_count": 45,
     "metadata": {},
     "output_type": "execute_result"
    }
   ],
   "source": [
    "df_county.head()"
   ]
  },
  {
   "cell_type": "code",
   "execution_count": 46,
   "metadata": {},
   "outputs": [],
   "source": [
    "# create column of county state and name\n",
    "df_county[\"county_state_name\"] = df_county[\"Area Name (including legal/statistical area description)\"] + \", \" + df_county[\"Name\"]"
   ]
  },
  {
   "cell_type": "code",
   "execution_count": 47,
   "metadata": {},
   "outputs": [
    {
     "data": {
      "text/html": [
       "<div>\n",
       "<style scoped>\n",
       "    .dataframe tbody tr th:only-of-type {\n",
       "        vertical-align: middle;\n",
       "    }\n",
       "\n",
       "    .dataframe tbody tr th {\n",
       "        vertical-align: top;\n",
       "    }\n",
       "\n",
       "    .dataframe thead th {\n",
       "        text-align: right;\n",
       "    }\n",
       "</style>\n",
       "<table border=\"1\" class=\"dataframe\">\n",
       "  <thead>\n",
       "    <tr style=\"text-align: right;\">\n",
       "      <th></th>\n",
       "      <th>Summary Level</th>\n",
       "      <th>State Code (FIPS)</th>\n",
       "      <th>County Code (FIPS)</th>\n",
       "      <th>County Subdivision Code (FIPS)</th>\n",
       "      <th>Place Code (FIPS)</th>\n",
       "      <th>Consolidtated City Code (FIPS)</th>\n",
       "      <th>Area Name (including legal/statistical area description)</th>\n",
       "      <th>full_county_fips</th>\n",
       "      <th>State (FIPS)</th>\n",
       "      <th>Name</th>\n",
       "      <th>county_state_name</th>\n",
       "    </tr>\n",
       "  </thead>\n",
       "  <tbody>\n",
       "    <tr>\n",
       "      <th>0</th>\n",
       "      <td>50</td>\n",
       "      <td>01</td>\n",
       "      <td>001</td>\n",
       "      <td>0</td>\n",
       "      <td>0</td>\n",
       "      <td>0</td>\n",
       "      <td>Autauga County</td>\n",
       "      <td>01001</td>\n",
       "      <td>01</td>\n",
       "      <td>Alabama</td>\n",
       "      <td>Autauga County, Alabama</td>\n",
       "    </tr>\n",
       "    <tr>\n",
       "      <th>1</th>\n",
       "      <td>50</td>\n",
       "      <td>01</td>\n",
       "      <td>003</td>\n",
       "      <td>0</td>\n",
       "      <td>0</td>\n",
       "      <td>0</td>\n",
       "      <td>Baldwin County</td>\n",
       "      <td>01003</td>\n",
       "      <td>01</td>\n",
       "      <td>Alabama</td>\n",
       "      <td>Baldwin County, Alabama</td>\n",
       "    </tr>\n",
       "    <tr>\n",
       "      <th>2</th>\n",
       "      <td>50</td>\n",
       "      <td>01</td>\n",
       "      <td>005</td>\n",
       "      <td>0</td>\n",
       "      <td>0</td>\n",
       "      <td>0</td>\n",
       "      <td>Barbour County</td>\n",
       "      <td>01005</td>\n",
       "      <td>01</td>\n",
       "      <td>Alabama</td>\n",
       "      <td>Barbour County, Alabama</td>\n",
       "    </tr>\n",
       "    <tr>\n",
       "      <th>3</th>\n",
       "      <td>50</td>\n",
       "      <td>01</td>\n",
       "      <td>007</td>\n",
       "      <td>0</td>\n",
       "      <td>0</td>\n",
       "      <td>0</td>\n",
       "      <td>Bibb County</td>\n",
       "      <td>01007</td>\n",
       "      <td>01</td>\n",
       "      <td>Alabama</td>\n",
       "      <td>Bibb County, Alabama</td>\n",
       "    </tr>\n",
       "    <tr>\n",
       "      <th>4</th>\n",
       "      <td>50</td>\n",
       "      <td>01</td>\n",
       "      <td>009</td>\n",
       "      <td>0</td>\n",
       "      <td>0</td>\n",
       "      <td>0</td>\n",
       "      <td>Blount County</td>\n",
       "      <td>01009</td>\n",
       "      <td>01</td>\n",
       "      <td>Alabama</td>\n",
       "      <td>Blount County, Alabama</td>\n",
       "    </tr>\n",
       "  </tbody>\n",
       "</table>\n",
       "</div>"
      ],
      "text/plain": [
       "   Summary Level State Code (FIPS) County Code (FIPS)  \\\n",
       "0             50                01                001   \n",
       "1             50                01                003   \n",
       "2             50                01                005   \n",
       "3             50                01                007   \n",
       "4             50                01                009   \n",
       "\n",
       "   County Subdivision Code (FIPS)  Place Code (FIPS)  \\\n",
       "0                               0                  0   \n",
       "1                               0                  0   \n",
       "2                               0                  0   \n",
       "3                               0                  0   \n",
       "4                               0                  0   \n",
       "\n",
       "   Consolidtated City Code (FIPS)  \\\n",
       "0                               0   \n",
       "1                               0   \n",
       "2                               0   \n",
       "3                               0   \n",
       "4                               0   \n",
       "\n",
       "  Area Name (including legal/statistical area description) full_county_fips  \\\n",
       "0                                     Autauga County                  01001   \n",
       "1                                     Baldwin County                  01003   \n",
       "2                                     Barbour County                  01005   \n",
       "3                                        Bibb County                  01007   \n",
       "4                                      Blount County                  01009   \n",
       "\n",
       "  State (FIPS)     Name        county_state_name  \n",
       "0           01  Alabama  Autauga County, Alabama  \n",
       "1           01  Alabama  Baldwin County, Alabama  \n",
       "2           01  Alabama  Barbour County, Alabama  \n",
       "3           01  Alabama     Bibb County, Alabama  \n",
       "4           01  Alabama   Blount County, Alabama  "
      ]
     },
     "execution_count": 47,
     "metadata": {},
     "output_type": "execute_result"
    }
   ],
   "source": [
    "# preview data\n",
    "df_county.head()"
   ]
  },
  {
   "cell_type": "code",
   "execution_count": 48,
   "metadata": {},
   "outputs": [],
   "source": [
    "# merge full county fips name and number to population dataframe\n",
    "df_county_pop = pd.merge(df_us_pop_filter,\n",
    "                         df_county[[\"county_state_name\", \"full_county_fips\"]],\n",
    "                         how = \"left\",\n",
    "                         left_on = \"Geographic Area N\",\n",
    "                         right_on = \"county_state_name\"\n",
    "                        )"
   ]
  },
  {
   "cell_type": "code",
   "execution_count": 49,
   "metadata": {},
   "outputs": [
    {
     "data": {
      "text/html": [
       "<div>\n",
       "<style scoped>\n",
       "    .dataframe tbody tr th:only-of-type {\n",
       "        vertical-align: middle;\n",
       "    }\n",
       "\n",
       "    .dataframe tbody tr th {\n",
       "        vertical-align: top;\n",
       "    }\n",
       "\n",
       "    .dataframe thead th {\n",
       "        text-align: right;\n",
       "    }\n",
       "</style>\n",
       "<table border=\"1\" class=\"dataframe\">\n",
       "  <thead>\n",
       "    <tr style=\"text-align: right;\">\n",
       "      <th></th>\n",
       "      <th>d</th>\n",
       "      <th>Geographic Area N</th>\n",
       "      <th>Total</th>\n",
       "      <th>Male</th>\n",
       "      <th>Female</th>\n",
       "      <th>Total Under 18 year</th>\n",
       "      <th>Male Under 18 year</th>\n",
       "      <th>Female Under 18 year</th>\n",
       "      <th>Total 60 years and over</th>\n",
       "      <th>Male 60 years and over</th>\n",
       "      <th>Female 60 years and over</th>\n",
       "      <th>Median age (years)</th>\n",
       "      <th>Sex ratio (males per 100 females)</th>\n",
       "      <th>Age dependency ratio</th>\n",
       "      <th>Old-age dependency ratio</th>\n",
       "      <th>Child dependency ratio</th>\n",
       "      <th>county_state_name</th>\n",
       "      <th>full_county_fips</th>\n",
       "    </tr>\n",
       "  </thead>\n",
       "  <tbody>\n",
       "    <tr>\n",
       "      <th>0</th>\n",
       "      <td>0500000US01117</td>\n",
       "      <td>Shelby County, Alabama</td>\n",
       "      <td>215707</td>\n",
       "      <td>105022</td>\n",
       "      <td>110685</td>\n",
       "      <td>48670</td>\n",
       "      <td>25382</td>\n",
       "      <td>23288</td>\n",
       "      <td>47098</td>\n",
       "      <td>21899</td>\n",
       "      <td>25199</td>\n",
       "      <td>40.4</td>\n",
       "      <td>94.9</td>\n",
       "      <td>61.3</td>\n",
       "      <td>24.9</td>\n",
       "      <td>36.4</td>\n",
       "      <td>Shelby County, Alabama</td>\n",
       "      <td>01117</td>\n",
       "    </tr>\n",
       "    <tr>\n",
       "      <th>1</th>\n",
       "      <td>0500000US01121</td>\n",
       "      <td>Talladega County, Alabama</td>\n",
       "      <td>79828</td>\n",
       "      <td>38489</td>\n",
       "      <td>41339</td>\n",
       "      <td>16810</td>\n",
       "      <td>8292</td>\n",
       "      <td>8518</td>\n",
       "      <td>20479</td>\n",
       "      <td>8991</td>\n",
       "      <td>11488</td>\n",
       "      <td>41.5</td>\n",
       "      <td>93.1</td>\n",
       "      <td>64.3</td>\n",
       "      <td>29.7</td>\n",
       "      <td>34.6</td>\n",
       "      <td>Talladega County, Alabama</td>\n",
       "      <td>01121</td>\n",
       "    </tr>\n",
       "    <tr>\n",
       "      <th>2</th>\n",
       "      <td>0500000US01125</td>\n",
       "      <td>Tuscaloosa County, Alabama</td>\n",
       "      <td>208911</td>\n",
       "      <td>99576</td>\n",
       "      <td>109335</td>\n",
       "      <td>43992</td>\n",
       "      <td>21652</td>\n",
       "      <td>22340</td>\n",
       "      <td>39432</td>\n",
       "      <td>18110</td>\n",
       "      <td>21322</td>\n",
       "      <td>33.0</td>\n",
       "      <td>91.1</td>\n",
       "      <td>52.0</td>\n",
       "      <td>20.0</td>\n",
       "      <td>32.0</td>\n",
       "      <td>Tuscaloosa County, Alabama</td>\n",
       "      <td>01125</td>\n",
       "    </tr>\n",
       "    <tr>\n",
       "      <th>3</th>\n",
       "      <td>0500000US04021</td>\n",
       "      <td>Pinal County, Arizona</td>\n",
       "      <td>447138</td>\n",
       "      <td>233292</td>\n",
       "      <td>213846</td>\n",
       "      <td>101143</td>\n",
       "      <td>52140</td>\n",
       "      <td>49003</td>\n",
       "      <td>118634</td>\n",
       "      <td>56331</td>\n",
       "      <td>62303</td>\n",
       "      <td>39.8</td>\n",
       "      <td>109.1</td>\n",
       "      <td>75.2</td>\n",
       "      <td>35.6</td>\n",
       "      <td>39.6</td>\n",
       "      <td>Pinal County, Arizona</td>\n",
       "      <td>04021</td>\n",
       "    </tr>\n",
       "    <tr>\n",
       "      <th>4</th>\n",
       "      <td>0500000US06045</td>\n",
       "      <td>Mendocino County, California</td>\n",
       "      <td>87606</td>\n",
       "      <td>43017</td>\n",
       "      <td>44589</td>\n",
       "      <td>18535</td>\n",
       "      <td>9033</td>\n",
       "      <td>9502</td>\n",
       "      <td>25968</td>\n",
       "      <td>12178</td>\n",
       "      <td>13790</td>\n",
       "      <td>42.9</td>\n",
       "      <td>96.5</td>\n",
       "      <td>75.2</td>\n",
       "      <td>38.1</td>\n",
       "      <td>37.1</td>\n",
       "      <td>Mendocino County, California</td>\n",
       "      <td>06045</td>\n",
       "    </tr>\n",
       "  </tbody>\n",
       "</table>\n",
       "</div>"
      ],
      "text/plain": [
       "                d             Geographic Area N   Total    Male  Female  \\\n",
       "0  0500000US01117        Shelby County, Alabama  215707  105022  110685   \n",
       "1  0500000US01121     Talladega County, Alabama   79828   38489   41339   \n",
       "2  0500000US01125    Tuscaloosa County, Alabama  208911   99576  109335   \n",
       "3  0500000US04021         Pinal County, Arizona  447138  233292  213846   \n",
       "4  0500000US06045  Mendocino County, California   87606   43017   44589   \n",
       "\n",
       "  Total Under 18 year Male Under 18 year Female Under 18 year  \\\n",
       "0               48670              25382                23288   \n",
       "1               16810               8292                 8518   \n",
       "2               43992              21652                22340   \n",
       "3              101143              52140                49003   \n",
       "4               18535               9033                 9502   \n",
       "\n",
       "  Total 60 years and over Male 60 years and over Female 60 years and over  \\\n",
       "0                   47098                  21899                    25199   \n",
       "1                   20479                   8991                    11488   \n",
       "2                   39432                  18110                    21322   \n",
       "3                  118634                  56331                    62303   \n",
       "4                   25968                  12178                    13790   \n",
       "\n",
       "  Median age (years) Sex ratio (males per 100 females) Age dependency ratio  \\\n",
       "0               40.4                              94.9                 61.3   \n",
       "1               41.5                              93.1                 64.3   \n",
       "2               33.0                              91.1                 52.0   \n",
       "3               39.8                             109.1                 75.2   \n",
       "4               42.9                              96.5                 75.2   \n",
       "\n",
       "  Old-age dependency ratio Child dependency ratio  \\\n",
       "0                     24.9                   36.4   \n",
       "1                     29.7                   34.6   \n",
       "2                     20.0                   32.0   \n",
       "3                     35.6                   39.6   \n",
       "4                     38.1                   37.1   \n",
       "\n",
       "              county_state_name full_county_fips  \n",
       "0        Shelby County, Alabama            01117  \n",
       "1     Talladega County, Alabama            01121  \n",
       "2    Tuscaloosa County, Alabama            01125  \n",
       "3         Pinal County, Arizona            04021  \n",
       "4  Mendocino County, California            06045  "
      ]
     },
     "execution_count": 49,
     "metadata": {},
     "output_type": "execute_result"
    }
   ],
   "source": [
    "# preview new merged data\n",
    "df_county_pop.head()"
   ]
  },
  {
   "cell_type": "code",
   "execution_count": 50,
   "metadata": {},
   "outputs": [
    {
     "name": "stdout",
     "output_type": "stream",
     "text": [
      "<class 'pandas.core.frame.DataFrame'>\n",
      "Int64Index: 840 entries, 0 to 839\n",
      "Data columns (total 18 columns):\n",
      " #   Column                             Non-Null Count  Dtype \n",
      "---  ------                             --------------  ----- \n",
      " 0   d                                  840 non-null    object\n",
      " 1   Geographic Area N                  840 non-null    object\n",
      " 2   Total                              840 non-null    object\n",
      " 3   Male                               840 non-null    object\n",
      " 4   Female                             840 non-null    object\n",
      " 5   Total Under 18 year                840 non-null    object\n",
      " 6   Male Under 18 year                 840 non-null    object\n",
      " 7   Female Under 18 year               840 non-null    object\n",
      " 8   Total 60 years and over            840 non-null    object\n",
      " 9   Male 60 years and over             840 non-null    object\n",
      " 10  Female 60 years and over           840 non-null    object\n",
      " 11  Median age (years)                 840 non-null    object\n",
      " 12  Sex ratio (males per 100 females)  840 non-null    object\n",
      " 13  Age dependency ratio               840 non-null    object\n",
      " 14  Old-age dependency ratio           840 non-null    object\n",
      " 15  Child dependency ratio             840 non-null    object\n",
      " 16  county_state_name                  827 non-null    object\n",
      " 17  full_county_fips                   827 non-null    object\n",
      "dtypes: object(18)\n",
      "memory usage: 124.7+ KB\n"
     ]
    }
   ],
   "source": [
    "df_county_pop.info()"
   ]
  },
  {
   "cell_type": "code",
   "execution_count": 51,
   "metadata": {},
   "outputs": [],
   "source": [
    "# remove rows that have null values in the county, state name and fips number\n",
    "df_county_pop = df_county_pop[df_county_pop[\"full_county_fips\"].notnull()]"
   ]
  },
  {
   "cell_type": "code",
   "execution_count": 52,
   "metadata": {},
   "outputs": [],
   "source": [
    "# make list of columns to convert to integers to use in calculations later\n",
    "\n",
    "int_list = [\n",
    " 'Total',\n",
    " 'Male',\n",
    " 'Female',\n",
    " 'Total Under 18 year',\n",
    " 'Male Under 18 year',\n",
    " 'Female Under 18 year',\n",
    " 'Total 60 years and over',\n",
    " 'Male 60 years and over',\n",
    " 'Female 60 years and over']"
   ]
  },
  {
   "cell_type": "code",
   "execution_count": 53,
   "metadata": {},
   "outputs": [],
   "source": [
    "# columns to convert to floats\n",
    "float_list = [ \n",
    "    'Median age (years)',\n",
    "    'Sex ratio (males per 100 females)',\n",
    "    'Age dependency ratio',\n",
    "    'Old-age dependency ratio',\n",
    "    'Child dependency ratio']"
   ]
  },
  {
   "cell_type": "code",
   "execution_count": 54,
   "metadata": {},
   "outputs": [],
   "source": [
    "# convert columns in int_list to integers\n",
    "df_county_pop[int_list] = df_county_pop[int_list].astype(int)\n",
    "df_county_pop[float_list] = df_county_pop[float_list].astype(float)"
   ]
  },
  {
   "cell_type": "code",
   "execution_count": 55,
   "metadata": {},
   "outputs": [],
   "source": [
    "# percentage of pop under 18 yo\n",
    "df_county_pop[\"percent_under18\"] = (df_county_pop[\"Total Under 18 year\"]/df_county_pop[\"Total\"])*100"
   ]
  },
  {
   "cell_type": "code",
   "execution_count": 56,
   "metadata": {},
   "outputs": [],
   "source": [
    "# percentage of county residents over 60 years old\n",
    "df_county_pop[\"percent_over60\"] = (df_county_pop[\"Total 60 years and over\"]/df_county_pop[\"Total\"])*100"
   ]
  },
  {
   "cell_type": "code",
   "execution_count": 57,
   "metadata": {},
   "outputs": [
    {
     "data": {
      "text/html": [
       "<div>\n",
       "<style scoped>\n",
       "    .dataframe tbody tr th:only-of-type {\n",
       "        vertical-align: middle;\n",
       "    }\n",
       "\n",
       "    .dataframe tbody tr th {\n",
       "        vertical-align: top;\n",
       "    }\n",
       "\n",
       "    .dataframe thead th {\n",
       "        text-align: right;\n",
       "    }\n",
       "</style>\n",
       "<table border=\"1\" class=\"dataframe\">\n",
       "  <thead>\n",
       "    <tr style=\"text-align: right;\">\n",
       "      <th></th>\n",
       "      <th>d</th>\n",
       "      <th>Geographic Area N</th>\n",
       "      <th>Total</th>\n",
       "      <th>Male</th>\n",
       "      <th>Female</th>\n",
       "      <th>Total Under 18 year</th>\n",
       "      <th>Male Under 18 year</th>\n",
       "      <th>Female Under 18 year</th>\n",
       "      <th>Total 60 years and over</th>\n",
       "      <th>Male 60 years and over</th>\n",
       "      <th>Female 60 years and over</th>\n",
       "      <th>Median age (years)</th>\n",
       "      <th>Sex ratio (males per 100 females)</th>\n",
       "      <th>Age dependency ratio</th>\n",
       "      <th>Old-age dependency ratio</th>\n",
       "      <th>Child dependency ratio</th>\n",
       "      <th>county_state_name</th>\n",
       "      <th>full_county_fips</th>\n",
       "      <th>percent_under18</th>\n",
       "      <th>percent_over60</th>\n",
       "    </tr>\n",
       "  </thead>\n",
       "  <tbody>\n",
       "    <tr>\n",
       "      <th>0</th>\n",
       "      <td>0500000US01117</td>\n",
       "      <td>Shelby County, Alabama</td>\n",
       "      <td>215707</td>\n",
       "      <td>105022</td>\n",
       "      <td>110685</td>\n",
       "      <td>48670</td>\n",
       "      <td>25382</td>\n",
       "      <td>23288</td>\n",
       "      <td>47098</td>\n",
       "      <td>21899</td>\n",
       "      <td>25199</td>\n",
       "      <td>40.4</td>\n",
       "      <td>94.9</td>\n",
       "      <td>61.3</td>\n",
       "      <td>24.9</td>\n",
       "      <td>36.4</td>\n",
       "      <td>Shelby County, Alabama</td>\n",
       "      <td>01117</td>\n",
       "      <td>22.563014</td>\n",
       "      <td>21.834247</td>\n",
       "    </tr>\n",
       "    <tr>\n",
       "      <th>1</th>\n",
       "      <td>0500000US01121</td>\n",
       "      <td>Talladega County, Alabama</td>\n",
       "      <td>79828</td>\n",
       "      <td>38489</td>\n",
       "      <td>41339</td>\n",
       "      <td>16810</td>\n",
       "      <td>8292</td>\n",
       "      <td>8518</td>\n",
       "      <td>20479</td>\n",
       "      <td>8991</td>\n",
       "      <td>11488</td>\n",
       "      <td>41.5</td>\n",
       "      <td>93.1</td>\n",
       "      <td>64.3</td>\n",
       "      <td>29.7</td>\n",
       "      <td>34.6</td>\n",
       "      <td>Talladega County, Alabama</td>\n",
       "      <td>01121</td>\n",
       "      <td>21.057774</td>\n",
       "      <td>25.653906</td>\n",
       "    </tr>\n",
       "    <tr>\n",
       "      <th>2</th>\n",
       "      <td>0500000US01125</td>\n",
       "      <td>Tuscaloosa County, Alabama</td>\n",
       "      <td>208911</td>\n",
       "      <td>99576</td>\n",
       "      <td>109335</td>\n",
       "      <td>43992</td>\n",
       "      <td>21652</td>\n",
       "      <td>22340</td>\n",
       "      <td>39432</td>\n",
       "      <td>18110</td>\n",
       "      <td>21322</td>\n",
       "      <td>33.0</td>\n",
       "      <td>91.1</td>\n",
       "      <td>52.0</td>\n",
       "      <td>20.0</td>\n",
       "      <td>32.0</td>\n",
       "      <td>Tuscaloosa County, Alabama</td>\n",
       "      <td>01125</td>\n",
       "      <td>21.057771</td>\n",
       "      <td>18.875023</td>\n",
       "    </tr>\n",
       "    <tr>\n",
       "      <th>3</th>\n",
       "      <td>0500000US04021</td>\n",
       "      <td>Pinal County, Arizona</td>\n",
       "      <td>447138</td>\n",
       "      <td>233292</td>\n",
       "      <td>213846</td>\n",
       "      <td>101143</td>\n",
       "      <td>52140</td>\n",
       "      <td>49003</td>\n",
       "      <td>118634</td>\n",
       "      <td>56331</td>\n",
       "      <td>62303</td>\n",
       "      <td>39.8</td>\n",
       "      <td>109.1</td>\n",
       "      <td>75.2</td>\n",
       "      <td>35.6</td>\n",
       "      <td>39.6</td>\n",
       "      <td>Pinal County, Arizona</td>\n",
       "      <td>04021</td>\n",
       "      <td>22.620086</td>\n",
       "      <td>26.531854</td>\n",
       "    </tr>\n",
       "    <tr>\n",
       "      <th>4</th>\n",
       "      <td>0500000US06045</td>\n",
       "      <td>Mendocino County, California</td>\n",
       "      <td>87606</td>\n",
       "      <td>43017</td>\n",
       "      <td>44589</td>\n",
       "      <td>18535</td>\n",
       "      <td>9033</td>\n",
       "      <td>9502</td>\n",
       "      <td>25968</td>\n",
       "      <td>12178</td>\n",
       "      <td>13790</td>\n",
       "      <td>42.9</td>\n",
       "      <td>96.5</td>\n",
       "      <td>75.2</td>\n",
       "      <td>38.1</td>\n",
       "      <td>37.1</td>\n",
       "      <td>Mendocino County, California</td>\n",
       "      <td>06045</td>\n",
       "      <td>21.157227</td>\n",
       "      <td>29.641805</td>\n",
       "    </tr>\n",
       "  </tbody>\n",
       "</table>\n",
       "</div>"
      ],
      "text/plain": [
       "                d             Geographic Area N   Total    Male  Female  \\\n",
       "0  0500000US01117        Shelby County, Alabama  215707  105022  110685   \n",
       "1  0500000US01121     Talladega County, Alabama   79828   38489   41339   \n",
       "2  0500000US01125    Tuscaloosa County, Alabama  208911   99576  109335   \n",
       "3  0500000US04021         Pinal County, Arizona  447138  233292  213846   \n",
       "4  0500000US06045  Mendocino County, California   87606   43017   44589   \n",
       "\n",
       "   Total Under 18 year  Male Under 18 year  Female Under 18 year  \\\n",
       "0                48670               25382                 23288   \n",
       "1                16810                8292                  8518   \n",
       "2                43992               21652                 22340   \n",
       "3               101143               52140                 49003   \n",
       "4                18535                9033                  9502   \n",
       "\n",
       "   Total 60 years and over  Male 60 years and over  Female 60 years and over  \\\n",
       "0                    47098                   21899                     25199   \n",
       "1                    20479                    8991                     11488   \n",
       "2                    39432                   18110                     21322   \n",
       "3                   118634                   56331                     62303   \n",
       "4                    25968                   12178                     13790   \n",
       "\n",
       "   Median age (years)  Sex ratio (males per 100 females)  \\\n",
       "0                40.4                               94.9   \n",
       "1                41.5                               93.1   \n",
       "2                33.0                               91.1   \n",
       "3                39.8                              109.1   \n",
       "4                42.9                               96.5   \n",
       "\n",
       "   Age dependency ratio  Old-age dependency ratio  Child dependency ratio  \\\n",
       "0                  61.3                      24.9                    36.4   \n",
       "1                  64.3                      29.7                    34.6   \n",
       "2                  52.0                      20.0                    32.0   \n",
       "3                  75.2                      35.6                    39.6   \n",
       "4                  75.2                      38.1                    37.1   \n",
       "\n",
       "              county_state_name full_county_fips  percent_under18  \\\n",
       "0        Shelby County, Alabama            01117        22.563014   \n",
       "1     Talladega County, Alabama            01121        21.057774   \n",
       "2    Tuscaloosa County, Alabama            01125        21.057771   \n",
       "3         Pinal County, Arizona            04021        22.620086   \n",
       "4  Mendocino County, California            06045        21.157227   \n",
       "\n",
       "   percent_over60  \n",
       "0       21.834247  \n",
       "1       25.653906  \n",
       "2       18.875023  \n",
       "3       26.531854  \n",
       "4       29.641805  "
      ]
     },
     "execution_count": 57,
     "metadata": {},
     "output_type": "execute_result"
    }
   ],
   "source": [
    "# preview new columns\n",
    "df_county_pop.head()"
   ]
  },
  {
   "cell_type": "code",
   "execution_count": 58,
   "metadata": {},
   "outputs": [
    {
     "data": {
      "text/html": [
       "<div>\n",
       "<style scoped>\n",
       "    .dataframe tbody tr th:only-of-type {\n",
       "        vertical-align: middle;\n",
       "    }\n",
       "\n",
       "    .dataframe tbody tr th {\n",
       "        vertical-align: top;\n",
       "    }\n",
       "\n",
       "    .dataframe thead th {\n",
       "        text-align: right;\n",
       "    }\n",
       "</style>\n",
       "<table border=\"1\" class=\"dataframe\">\n",
       "  <thead>\n",
       "    <tr style=\"text-align: right;\">\n",
       "      <th></th>\n",
       "      <th>FID</th>\n",
       "      <th>ID</th>\n",
       "      <th>NAME</th>\n",
       "      <th>ADDRESS</th>\n",
       "      <th>CITY</th>\n",
       "      <th>STATE</th>\n",
       "      <th>ZIP</th>\n",
       "      <th>ZIP4</th>\n",
       "      <th>TELEPHONE</th>\n",
       "      <th>TYPE</th>\n",
       "      <th>...</th>\n",
       "      <th>VAL_DATE</th>\n",
       "      <th>WEBSITE</th>\n",
       "      <th>STATE_ID</th>\n",
       "      <th>ALT_NAME</th>\n",
       "      <th>ST_FIPS</th>\n",
       "      <th>OWNER</th>\n",
       "      <th>TTL_STAFF</th>\n",
       "      <th>BEDS</th>\n",
       "      <th>TRAUMA</th>\n",
       "      <th>HELIPAD</th>\n",
       "    </tr>\n",
       "  </thead>\n",
       "  <tbody>\n",
       "    <tr>\n",
       "      <th>0</th>\n",
       "      <td>1</td>\n",
       "      <td>5793230</td>\n",
       "      <td>CENTRAL VALLEY GENERAL HOSPITAL</td>\n",
       "      <td>1025 NORTH DOUTY STREET</td>\n",
       "      <td>HANFORD</td>\n",
       "      <td>CA</td>\n",
       "      <td>93230</td>\n",
       "      <td>NOT AVAILABLE</td>\n",
       "      <td>NOT AVAILABLE</td>\n",
       "      <td>GENERAL ACUTE CARE</td>\n",
       "      <td>...</td>\n",
       "      <td>2014/02/10 00:00:00</td>\n",
       "      <td>http://www.hanfordhealth.com</td>\n",
       "      <td>NOT AVAILABLE</td>\n",
       "      <td>NOT AVAILABLE</td>\n",
       "      <td>6</td>\n",
       "      <td>PROPRIETARY</td>\n",
       "      <td>-999</td>\n",
       "      <td>49</td>\n",
       "      <td>NOT AVAILABLE</td>\n",
       "      <td>N</td>\n",
       "    </tr>\n",
       "    <tr>\n",
       "      <th>1</th>\n",
       "      <td>2</td>\n",
       "      <td>53391362</td>\n",
       "      <td>LOS ROBLES HOSPITAL &amp; MEDICAL CENTER - EAST CA...</td>\n",
       "      <td>150 VIA MERIDA</td>\n",
       "      <td>WESTLAKE VILAGE</td>\n",
       "      <td>CA</td>\n",
       "      <td>91362</td>\n",
       "      <td>NOT AVAILABLE</td>\n",
       "      <td>NOT AVAILABLE</td>\n",
       "      <td>GENERAL ACUTE CARE</td>\n",
       "      <td>...</td>\n",
       "      <td>2014/02/10 00:00:00</td>\n",
       "      <td>http://www.losrobleshospital.com</td>\n",
       "      <td>NOT AVAILABLE</td>\n",
       "      <td>NOT AVAILABLE</td>\n",
       "      <td>6</td>\n",
       "      <td>PROPRIETARY</td>\n",
       "      <td>-999</td>\n",
       "      <td>62</td>\n",
       "      <td>NOT AVAILABLE</td>\n",
       "      <td>N</td>\n",
       "    </tr>\n",
       "    <tr>\n",
       "      <th>2</th>\n",
       "      <td>3</td>\n",
       "      <td>11190023</td>\n",
       "      <td>EAST LOS ANGELES DOCTORS HOSPITAL</td>\n",
       "      <td>4060 WHITTIER BOULEVARD</td>\n",
       "      <td>LOS ANGELES</td>\n",
       "      <td>CA</td>\n",
       "      <td>90023</td>\n",
       "      <td>NOT AVAILABLE</td>\n",
       "      <td>NOT AVAILABLE</td>\n",
       "      <td>GENERAL ACUTE CARE</td>\n",
       "      <td>...</td>\n",
       "      <td>2014/02/10 00:00:00</td>\n",
       "      <td>http://www.elalax.com</td>\n",
       "      <td>NOT AVAILABLE</td>\n",
       "      <td>NOT AVAILABLE</td>\n",
       "      <td>6</td>\n",
       "      <td>PROPRIETARY</td>\n",
       "      <td>-999</td>\n",
       "      <td>127</td>\n",
       "      <td>NOT AVAILABLE</td>\n",
       "      <td>N</td>\n",
       "    </tr>\n",
       "    <tr>\n",
       "      <th>3</th>\n",
       "      <td>4</td>\n",
       "      <td>17090028</td>\n",
       "      <td>SOUTHERN CALIFORNIA HOSPITAL AT HOLLYWOOD</td>\n",
       "      <td>6245 DE LONGPRE AVENUE</td>\n",
       "      <td>HOLLYWOOD</td>\n",
       "      <td>CA</td>\n",
       "      <td>90028</td>\n",
       "      <td>NOT AVAILABLE</td>\n",
       "      <td>(323) 462-2271</td>\n",
       "      <td>GENERAL ACUTE CARE</td>\n",
       "      <td>...</td>\n",
       "      <td>2014/02/10 00:00:00</td>\n",
       "      <td>http://sch-hollywood.com/</td>\n",
       "      <td>NOT AVAILABLE</td>\n",
       "      <td>HOLLYWOOD COMMUNITY HOSPITAL OF HOLLYWOOD</td>\n",
       "      <td>6</td>\n",
       "      <td>PROPRIETARY</td>\n",
       "      <td>-999</td>\n",
       "      <td>100</td>\n",
       "      <td>NOT AVAILABLE</td>\n",
       "      <td>N</td>\n",
       "    </tr>\n",
       "    <tr>\n",
       "      <th>4</th>\n",
       "      <td>5</td>\n",
       "      <td>23691706</td>\n",
       "      <td>KINDRED HOSPITAL BALDWIN PARK</td>\n",
       "      <td>14148 FRANCISQUITO AVENUE</td>\n",
       "      <td>BALDWIN PARK</td>\n",
       "      <td>CA</td>\n",
       "      <td>91706</td>\n",
       "      <td>NOT AVAILABLE</td>\n",
       "      <td>NOT AVAILABLE</td>\n",
       "      <td>GENERAL ACUTE CARE</td>\n",
       "      <td>...</td>\n",
       "      <td>2014/02/10 00:00:00</td>\n",
       "      <td>http://www.khbaldwinpark.com</td>\n",
       "      <td>NOT AVAILABLE</td>\n",
       "      <td>NOT AVAILABLE</td>\n",
       "      <td>6</td>\n",
       "      <td>PROPRIETARY</td>\n",
       "      <td>-999</td>\n",
       "      <td>95</td>\n",
       "      <td>NOT AVAILABLE</td>\n",
       "      <td>N</td>\n",
       "    </tr>\n",
       "  </tbody>\n",
       "</table>\n",
       "<p>5 rows × 32 columns</p>\n",
       "</div>"
      ],
      "text/plain": [
       "   FID        ID                                               NAME  \\\n",
       "0    1   5793230                    CENTRAL VALLEY GENERAL HOSPITAL   \n",
       "1    2  53391362  LOS ROBLES HOSPITAL & MEDICAL CENTER - EAST CA...   \n",
       "2    3  11190023                  EAST LOS ANGELES DOCTORS HOSPITAL   \n",
       "3    4  17090028          SOUTHERN CALIFORNIA HOSPITAL AT HOLLYWOOD   \n",
       "4    5  23691706                      KINDRED HOSPITAL BALDWIN PARK   \n",
       "\n",
       "                     ADDRESS             CITY STATE    ZIP           ZIP4  \\\n",
       "0    1025 NORTH DOUTY STREET          HANFORD    CA  93230  NOT AVAILABLE   \n",
       "1             150 VIA MERIDA  WESTLAKE VILAGE    CA  91362  NOT AVAILABLE   \n",
       "2    4060 WHITTIER BOULEVARD      LOS ANGELES    CA  90023  NOT AVAILABLE   \n",
       "3     6245 DE LONGPRE AVENUE        HOLLYWOOD    CA  90028  NOT AVAILABLE   \n",
       "4  14148 FRANCISQUITO AVENUE     BALDWIN PARK    CA  91706  NOT AVAILABLE   \n",
       "\n",
       "        TELEPHONE                TYPE  ...             VAL_DATE  \\\n",
       "0   NOT AVAILABLE  GENERAL ACUTE CARE  ...  2014/02/10 00:00:00   \n",
       "1   NOT AVAILABLE  GENERAL ACUTE CARE  ...  2014/02/10 00:00:00   \n",
       "2   NOT AVAILABLE  GENERAL ACUTE CARE  ...  2014/02/10 00:00:00   \n",
       "3  (323) 462-2271  GENERAL ACUTE CARE  ...  2014/02/10 00:00:00   \n",
       "4   NOT AVAILABLE  GENERAL ACUTE CARE  ...  2014/02/10 00:00:00   \n",
       "\n",
       "                            WEBSITE       STATE_ID  \\\n",
       "0      http://www.hanfordhealth.com  NOT AVAILABLE   \n",
       "1  http://www.losrobleshospital.com  NOT AVAILABLE   \n",
       "2             http://www.elalax.com  NOT AVAILABLE   \n",
       "3         http://sch-hollywood.com/  NOT AVAILABLE   \n",
       "4      http://www.khbaldwinpark.com  NOT AVAILABLE   \n",
       "\n",
       "                                    ALT_NAME ST_FIPS        OWNER  TTL_STAFF  \\\n",
       "0                              NOT AVAILABLE       6  PROPRIETARY       -999   \n",
       "1                              NOT AVAILABLE       6  PROPRIETARY       -999   \n",
       "2                              NOT AVAILABLE       6  PROPRIETARY       -999   \n",
       "3  HOLLYWOOD COMMUNITY HOSPITAL OF HOLLYWOOD       6  PROPRIETARY       -999   \n",
       "4                              NOT AVAILABLE       6  PROPRIETARY       -999   \n",
       "\n",
       "   BEDS         TRAUMA HELIPAD  \n",
       "0    49  NOT AVAILABLE       N  \n",
       "1    62  NOT AVAILABLE       N  \n",
       "2   127  NOT AVAILABLE       N  \n",
       "3   100  NOT AVAILABLE       N  \n",
       "4    95  NOT AVAILABLE       N  \n",
       "\n",
       "[5 rows x 32 columns]"
      ]
     },
     "execution_count": 58,
     "metadata": {},
     "output_type": "execute_result"
    }
   ],
   "source": [
    "# preview hospital data\n",
    "df_hospitals.head()"
   ]
  },
  {
   "cell_type": "code",
   "execution_count": 59,
   "metadata": {},
   "outputs": [],
   "source": [
    "# remove values in hospital df with \"NOT AVAILABLE\" values\n",
    "\n",
    "df_hospitals= df_hospitals[df_hospitals[\"COUNTYFIPS\"] != \"NOT AVAILABLE\"]"
   ]
  },
  {
   "cell_type": "code",
   "execution_count": 60,
   "metadata": {},
   "outputs": [],
   "source": [
    "# remove nulls from countyfips column\n",
    "df_hospitals = df_hospitals[df_hospitals[\"COUNTYFIPS\"].notnull()]"
   ]
  },
  {
   "cell_type": "code",
   "execution_count": 61,
   "metadata": {},
   "outputs": [],
   "source": [
    "# remove if beds is any negative number\n",
    "# the negative numbers refer to specific codes or N/A values\n",
    "df_county_hospitals = df_hospitals[df_hospitals[\"BEDS\"] > 0]"
   ]
  },
  {
   "cell_type": "code",
   "execution_count": 62,
   "metadata": {},
   "outputs": [],
   "source": [
    "# calculate number of hospitals, beds per county\n",
    "# create an aggregated table for these values\n",
    "\n",
    "df_county_hospitals = df_hospitals.groupby(\"COUNTYFIPS\").agg({\"BEDS\": \"sum\", \n",
    "                                                                \"NAME\": \"count\"}).reset_index()"
   ]
  },
  {
   "cell_type": "code",
   "execution_count": 63,
   "metadata": {},
   "outputs": [
    {
     "data": {
      "text/html": [
       "<div>\n",
       "<style scoped>\n",
       "    .dataframe tbody tr th:only-of-type {\n",
       "        vertical-align: middle;\n",
       "    }\n",
       "\n",
       "    .dataframe tbody tr th {\n",
       "        vertical-align: top;\n",
       "    }\n",
       "\n",
       "    .dataframe thead th {\n",
       "        text-align: right;\n",
       "    }\n",
       "</style>\n",
       "<table border=\"1\" class=\"dataframe\">\n",
       "  <thead>\n",
       "    <tr style=\"text-align: right;\">\n",
       "      <th></th>\n",
       "      <th>COUNTYFIPS</th>\n",
       "      <th>BEDS</th>\n",
       "      <th>NAME</th>\n",
       "    </tr>\n",
       "  </thead>\n",
       "  <tbody>\n",
       "    <tr>\n",
       "      <th>0</th>\n",
       "      <td>01001</td>\n",
       "      <td>85</td>\n",
       "      <td>1</td>\n",
       "    </tr>\n",
       "    <tr>\n",
       "      <th>1</th>\n",
       "      <td>01003</td>\n",
       "      <td>398</td>\n",
       "      <td>4</td>\n",
       "    </tr>\n",
       "    <tr>\n",
       "      <th>2</th>\n",
       "      <td>01005</td>\n",
       "      <td>74</td>\n",
       "      <td>1</td>\n",
       "    </tr>\n",
       "    <tr>\n",
       "      <th>3</th>\n",
       "      <td>01007</td>\n",
       "      <td>35</td>\n",
       "      <td>1</td>\n",
       "    </tr>\n",
       "    <tr>\n",
       "      <th>4</th>\n",
       "      <td>01009</td>\n",
       "      <td>40</td>\n",
       "      <td>1</td>\n",
       "    </tr>\n",
       "  </tbody>\n",
       "</table>\n",
       "</div>"
      ],
      "text/plain": [
       "  COUNTYFIPS  BEDS  NAME\n",
       "0      01001    85     1\n",
       "1      01003   398     4\n",
       "2      01005    74     1\n",
       "3      01007    35     1\n",
       "4      01009    40     1"
      ]
     },
     "execution_count": 63,
     "metadata": {},
     "output_type": "execute_result"
    }
   ],
   "source": [
    "# preview county hospital data\n",
    "df_county_hospitals.head()"
   ]
  },
  {
   "cell_type": "code",
   "execution_count": 64,
   "metadata": {},
   "outputs": [],
   "source": [
    "# rename \"NAME\" to hospital_count and \"BEDS\" to hospital_bed_count\n",
    "\n",
    "df_county_hospitals = df_county_hospitals.rename(columns = {\"NAME\": \"hospital_count\",\n",
    "                                                           \"BEDS\": \"hospital_bed_count\"})"
   ]
  },
  {
   "cell_type": "code",
   "execution_count": 65,
   "metadata": {},
   "outputs": [
    {
     "data": {
      "text/html": [
       "<div>\n",
       "<style scoped>\n",
       "    .dataframe tbody tr th:only-of-type {\n",
       "        vertical-align: middle;\n",
       "    }\n",
       "\n",
       "    .dataframe tbody tr th {\n",
       "        vertical-align: top;\n",
       "    }\n",
       "\n",
       "    .dataframe thead th {\n",
       "        text-align: right;\n",
       "    }\n",
       "</style>\n",
       "<table border=\"1\" class=\"dataframe\">\n",
       "  <thead>\n",
       "    <tr style=\"text-align: right;\">\n",
       "      <th></th>\n",
       "      <th>COUNTYFIPS</th>\n",
       "      <th>hospital_bed_count</th>\n",
       "      <th>hospital_count</th>\n",
       "    </tr>\n",
       "  </thead>\n",
       "  <tbody>\n",
       "    <tr>\n",
       "      <th>0</th>\n",
       "      <td>01001</td>\n",
       "      <td>85</td>\n",
       "      <td>1</td>\n",
       "    </tr>\n",
       "    <tr>\n",
       "      <th>1</th>\n",
       "      <td>01003</td>\n",
       "      <td>398</td>\n",
       "      <td>4</td>\n",
       "    </tr>\n",
       "    <tr>\n",
       "      <th>2</th>\n",
       "      <td>01005</td>\n",
       "      <td>74</td>\n",
       "      <td>1</td>\n",
       "    </tr>\n",
       "    <tr>\n",
       "      <th>3</th>\n",
       "      <td>01007</td>\n",
       "      <td>35</td>\n",
       "      <td>1</td>\n",
       "    </tr>\n",
       "    <tr>\n",
       "      <th>4</th>\n",
       "      <td>01009</td>\n",
       "      <td>40</td>\n",
       "      <td>1</td>\n",
       "    </tr>\n",
       "  </tbody>\n",
       "</table>\n",
       "</div>"
      ],
      "text/plain": [
       "  COUNTYFIPS  hospital_bed_count  hospital_count\n",
       "0      01001                  85               1\n",
       "1      01003                 398               4\n",
       "2      01005                  74               1\n",
       "3      01007                  35               1\n",
       "4      01009                  40               1"
      ]
     },
     "execution_count": 65,
     "metadata": {},
     "output_type": "execute_result"
    }
   ],
   "source": [
    "df_county_hospitals.head()"
   ]
  },
  {
   "cell_type": "code",
   "execution_count": 66,
   "metadata": {},
   "outputs": [],
   "source": [
    "# merge hospital data onto county population data\n",
    "\n",
    "df_county_health = pd.merge(df_county_pop,\n",
    "                           df_county_hospitals,\n",
    "                           how = \"left\",\n",
    "                           left_on = \"full_county_fips\",\n",
    "                           right_on = \"COUNTYFIPS\")"
   ]
  },
  {
   "cell_type": "code",
   "execution_count": 67,
   "metadata": {},
   "outputs": [
    {
     "data": {
      "text/html": [
       "<div>\n",
       "<style scoped>\n",
       "    .dataframe tbody tr th:only-of-type {\n",
       "        vertical-align: middle;\n",
       "    }\n",
       "\n",
       "    .dataframe tbody tr th {\n",
       "        vertical-align: top;\n",
       "    }\n",
       "\n",
       "    .dataframe thead th {\n",
       "        text-align: right;\n",
       "    }\n",
       "</style>\n",
       "<table border=\"1\" class=\"dataframe\">\n",
       "  <thead>\n",
       "    <tr style=\"text-align: right;\">\n",
       "      <th></th>\n",
       "      <th>d</th>\n",
       "      <th>Geographic Area N</th>\n",
       "      <th>Total</th>\n",
       "      <th>Male</th>\n",
       "      <th>Female</th>\n",
       "      <th>Total Under 18 year</th>\n",
       "      <th>Male Under 18 year</th>\n",
       "      <th>Female Under 18 year</th>\n",
       "      <th>Total 60 years and over</th>\n",
       "      <th>Male 60 years and over</th>\n",
       "      <th>...</th>\n",
       "      <th>Age dependency ratio</th>\n",
       "      <th>Old-age dependency ratio</th>\n",
       "      <th>Child dependency ratio</th>\n",
       "      <th>county_state_name</th>\n",
       "      <th>full_county_fips</th>\n",
       "      <th>percent_under18</th>\n",
       "      <th>percent_over60</th>\n",
       "      <th>COUNTYFIPS</th>\n",
       "      <th>hospital_bed_count</th>\n",
       "      <th>hospital_count</th>\n",
       "    </tr>\n",
       "  </thead>\n",
       "  <tbody>\n",
       "    <tr>\n",
       "      <th>0</th>\n",
       "      <td>0500000US01117</td>\n",
       "      <td>Shelby County, Alabama</td>\n",
       "      <td>215707</td>\n",
       "      <td>105022</td>\n",
       "      <td>110685</td>\n",
       "      <td>48670</td>\n",
       "      <td>25382</td>\n",
       "      <td>23288</td>\n",
       "      <td>47098</td>\n",
       "      <td>21899</td>\n",
       "      <td>...</td>\n",
       "      <td>61.3</td>\n",
       "      <td>24.9</td>\n",
       "      <td>36.4</td>\n",
       "      <td>Shelby County, Alabama</td>\n",
       "      <td>01117</td>\n",
       "      <td>22.563014</td>\n",
       "      <td>21.834247</td>\n",
       "      <td>01117</td>\n",
       "      <td>349.0</td>\n",
       "      <td>3.0</td>\n",
       "    </tr>\n",
       "    <tr>\n",
       "      <th>1</th>\n",
       "      <td>0500000US01121</td>\n",
       "      <td>Talladega County, Alabama</td>\n",
       "      <td>79828</td>\n",
       "      <td>38489</td>\n",
       "      <td>41339</td>\n",
       "      <td>16810</td>\n",
       "      <td>8292</td>\n",
       "      <td>8518</td>\n",
       "      <td>20479</td>\n",
       "      <td>8991</td>\n",
       "      <td>...</td>\n",
       "      <td>64.3</td>\n",
       "      <td>29.7</td>\n",
       "      <td>34.6</td>\n",
       "      <td>Talladega County, Alabama</td>\n",
       "      <td>01121</td>\n",
       "      <td>21.057774</td>\n",
       "      <td>25.653906</td>\n",
       "      <td>01121</td>\n",
       "      <td>285.0</td>\n",
       "      <td>2.0</td>\n",
       "    </tr>\n",
       "    <tr>\n",
       "      <th>2</th>\n",
       "      <td>0500000US01125</td>\n",
       "      <td>Tuscaloosa County, Alabama</td>\n",
       "      <td>208911</td>\n",
       "      <td>99576</td>\n",
       "      <td>109335</td>\n",
       "      <td>43992</td>\n",
       "      <td>21652</td>\n",
       "      <td>22340</td>\n",
       "      <td>39432</td>\n",
       "      <td>18110</td>\n",
       "      <td>...</td>\n",
       "      <td>52.0</td>\n",
       "      <td>20.0</td>\n",
       "      <td>32.0</td>\n",
       "      <td>Tuscaloosa County, Alabama</td>\n",
       "      <td>01125</td>\n",
       "      <td>21.057771</td>\n",
       "      <td>18.875023</td>\n",
       "      <td>01125</td>\n",
       "      <td>-2064.0</td>\n",
       "      <td>7.0</td>\n",
       "    </tr>\n",
       "    <tr>\n",
       "      <th>3</th>\n",
       "      <td>0500000US04021</td>\n",
       "      <td>Pinal County, Arizona</td>\n",
       "      <td>447138</td>\n",
       "      <td>233292</td>\n",
       "      <td>213846</td>\n",
       "      <td>101143</td>\n",
       "      <td>52140</td>\n",
       "      <td>49003</td>\n",
       "      <td>118634</td>\n",
       "      <td>56331</td>\n",
       "      <td>...</td>\n",
       "      <td>75.2</td>\n",
       "      <td>35.6</td>\n",
       "      <td>39.6</td>\n",
       "      <td>Pinal County, Arizona</td>\n",
       "      <td>04021</td>\n",
       "      <td>22.620086</td>\n",
       "      <td>26.531854</td>\n",
       "      <td>04021</td>\n",
       "      <td>-3747.0</td>\n",
       "      <td>7.0</td>\n",
       "    </tr>\n",
       "    <tr>\n",
       "      <th>4</th>\n",
       "      <td>0500000US06045</td>\n",
       "      <td>Mendocino County, California</td>\n",
       "      <td>87606</td>\n",
       "      <td>43017</td>\n",
       "      <td>44589</td>\n",
       "      <td>18535</td>\n",
       "      <td>9033</td>\n",
       "      <td>9502</td>\n",
       "      <td>25968</td>\n",
       "      <td>12178</td>\n",
       "      <td>...</td>\n",
       "      <td>75.2</td>\n",
       "      <td>38.1</td>\n",
       "      <td>37.1</td>\n",
       "      <td>Mendocino County, California</td>\n",
       "      <td>06045</td>\n",
       "      <td>21.157227</td>\n",
       "      <td>29.641805</td>\n",
       "      <td>06045</td>\n",
       "      <td>141.0</td>\n",
       "      <td>3.0</td>\n",
       "    </tr>\n",
       "  </tbody>\n",
       "</table>\n",
       "<p>5 rows × 23 columns</p>\n",
       "</div>"
      ],
      "text/plain": [
       "                d             Geographic Area N   Total    Male  Female  \\\n",
       "0  0500000US01117        Shelby County, Alabama  215707  105022  110685   \n",
       "1  0500000US01121     Talladega County, Alabama   79828   38489   41339   \n",
       "2  0500000US01125    Tuscaloosa County, Alabama  208911   99576  109335   \n",
       "3  0500000US04021         Pinal County, Arizona  447138  233292  213846   \n",
       "4  0500000US06045  Mendocino County, California   87606   43017   44589   \n",
       "\n",
       "   Total Under 18 year  Male Under 18 year  Female Under 18 year  \\\n",
       "0                48670               25382                 23288   \n",
       "1                16810                8292                  8518   \n",
       "2                43992               21652                 22340   \n",
       "3               101143               52140                 49003   \n",
       "4                18535                9033                  9502   \n",
       "\n",
       "   Total 60 years and over  Male 60 years and over  ...  Age dependency ratio  \\\n",
       "0                    47098                   21899  ...                  61.3   \n",
       "1                    20479                    8991  ...                  64.3   \n",
       "2                    39432                   18110  ...                  52.0   \n",
       "3                   118634                   56331  ...                  75.2   \n",
       "4                    25968                   12178  ...                  75.2   \n",
       "\n",
       "   Old-age dependency ratio  Child dependency ratio  \\\n",
       "0                      24.9                    36.4   \n",
       "1                      29.7                    34.6   \n",
       "2                      20.0                    32.0   \n",
       "3                      35.6                    39.6   \n",
       "4                      38.1                    37.1   \n",
       "\n",
       "              county_state_name  full_county_fips  percent_under18  \\\n",
       "0        Shelby County, Alabama             01117        22.563014   \n",
       "1     Talladega County, Alabama             01121        21.057774   \n",
       "2    Tuscaloosa County, Alabama             01125        21.057771   \n",
       "3         Pinal County, Arizona             04021        22.620086   \n",
       "4  Mendocino County, California             06045        21.157227   \n",
       "\n",
       "  percent_over60 COUNTYFIPS  hospital_bed_count  hospital_count  \n",
       "0      21.834247      01117               349.0             3.0  \n",
       "1      25.653906      01121               285.0             2.0  \n",
       "2      18.875023      01125             -2064.0             7.0  \n",
       "3      26.531854      04021             -3747.0             7.0  \n",
       "4      29.641805      06045               141.0             3.0  \n",
       "\n",
       "[5 rows x 23 columns]"
      ]
     },
     "execution_count": 67,
     "metadata": {},
     "output_type": "execute_result"
    }
   ],
   "source": [
    "# preview data\n",
    "df_county_health.head()"
   ]
  },
  {
   "cell_type": "code",
   "execution_count": 68,
   "metadata": {},
   "outputs": [],
   "source": [
    "# we're missing 10 county matches, so we'll delete these for now\n",
    "df_county_health = df_county_health[df_county_health[\"COUNTYFIPS\"].notnull()]"
   ]
  },
  {
   "cell_type": "code",
   "execution_count": 69,
   "metadata": {},
   "outputs": [],
   "source": [
    "# export county health information to csv\n",
    "df_county_health.to_csv(\"us_county_population_hospital_data_2018.csv\")"
   ]
  },
  {
   "cell_type": "code",
   "execution_count": 70,
   "metadata": {},
   "outputs": [],
   "source": [
    "# sort county data by 18 under population \n",
    "df_total_pop = df_county_health.sort_values(by = \"Total\", ascending = False)"
   ]
  },
  {
   "cell_type": "code",
   "execution_count": 71,
   "metadata": {},
   "outputs": [],
   "source": [
    "# top 20 \n",
    "df_total_top20 = df_total_pop.head(20)"
   ]
  },
  {
   "cell_type": "code",
   "execution_count": 72,
   "metadata": {},
   "outputs": [],
   "source": [
    "# make a graph to show percent of largest 18 under population \n",
    "bar_total_pop = px.bar(df_total_top20,\n",
    "                   x = \"Geographic Area N\",\n",
    "                   y = \"Total\",\n",
    "                   title = \"US Counties with the Highest Total Population\",\n",
    "                   labels = {\"Geographic Area N\": \"County, State Name\", \"Total\": \"Total Population\"})"
   ]
  },
  {
   "cell_type": "code",
   "execution_count": 74,
   "metadata": {},
   "outputs": [
    {
     "data": {
      "application/vnd.plotly.v1+json": {
       "config": {
        "plotlyServerURL": "https://plot.ly"
       },
       "data": [
        {
         "alignmentgroup": "True",
         "hovertemplate": "County, State Name=%{x}<br>Total Population=%{y}<extra></extra>",
         "legendgroup": "",
         "marker": {
          "color": "#636efa"
         },
         "name": "",
         "offsetgroup": "",
         "orientation": "v",
         "showlegend": false,
         "textposition": "auto",
         "type": "bar",
         "x": [
          "Los Angeles County, California",
          "Cook County, Illinois",
          "Harris County, Texas",
          "Maricopa County, Arizona",
          "San Diego County, California",
          "Orange County, California",
          "Miami-Dade County, Florida",
          "Dallas County, Texas",
          "Kings County, New York",
          "Riverside County, California",
          "Queens County, New York",
          "King County, Washington",
          "Clark County, Nevada",
          "San Bernardino County, California",
          "Tarrant County, Texas",
          "Bexar County, Texas",
          "Broward County, Florida",
          "Santa Clara County, California",
          "Wayne County, Michigan",
          "Alameda County, California"
         ],
         "xaxis": "x",
         "y": [
          10105518,
          5180493,
          4698619,
          4410824,
          3343364,
          3185968,
          2761581,
          2637772,
          2582830,
          2450758,
          2278906,
          2233163,
          2231647,
          2171603,
          2084931,
          1986049,
          1951260,
          1937570,
          1753893,
          1666753
         ],
         "yaxis": "y"
        }
       ],
       "layout": {
        "autosize": true,
        "barmode": "relative",
        "legend": {
         "tracegroupgap": 0
        },
        "template": {
         "data": {
          "bar": [
           {
            "error_x": {
             "color": "#2a3f5f"
            },
            "error_y": {
             "color": "#2a3f5f"
            },
            "marker": {
             "line": {
              "color": "#E5ECF6",
              "width": 0.5
             }
            },
            "type": "bar"
           }
          ],
          "barpolar": [
           {
            "marker": {
             "line": {
              "color": "#E5ECF6",
              "width": 0.5
             }
            },
            "type": "barpolar"
           }
          ],
          "carpet": [
           {
            "aaxis": {
             "endlinecolor": "#2a3f5f",
             "gridcolor": "white",
             "linecolor": "white",
             "minorgridcolor": "white",
             "startlinecolor": "#2a3f5f"
            },
            "baxis": {
             "endlinecolor": "#2a3f5f",
             "gridcolor": "white",
             "linecolor": "white",
             "minorgridcolor": "white",
             "startlinecolor": "#2a3f5f"
            },
            "type": "carpet"
           }
          ],
          "choropleth": [
           {
            "colorbar": {
             "outlinewidth": 0,
             "ticks": ""
            },
            "type": "choropleth"
           }
          ],
          "contour": [
           {
            "colorbar": {
             "outlinewidth": 0,
             "ticks": ""
            },
            "colorscale": [
             [
              0,
              "#0d0887"
             ],
             [
              0.1111111111111111,
              "#46039f"
             ],
             [
              0.2222222222222222,
              "#7201a8"
             ],
             [
              0.3333333333333333,
              "#9c179e"
             ],
             [
              0.4444444444444444,
              "#bd3786"
             ],
             [
              0.5555555555555556,
              "#d8576b"
             ],
             [
              0.6666666666666666,
              "#ed7953"
             ],
             [
              0.7777777777777778,
              "#fb9f3a"
             ],
             [
              0.8888888888888888,
              "#fdca26"
             ],
             [
              1,
              "#f0f921"
             ]
            ],
            "type": "contour"
           }
          ],
          "contourcarpet": [
           {
            "colorbar": {
             "outlinewidth": 0,
             "ticks": ""
            },
            "type": "contourcarpet"
           }
          ],
          "heatmap": [
           {
            "colorbar": {
             "outlinewidth": 0,
             "ticks": ""
            },
            "colorscale": [
             [
              0,
              "#0d0887"
             ],
             [
              0.1111111111111111,
              "#46039f"
             ],
             [
              0.2222222222222222,
              "#7201a8"
             ],
             [
              0.3333333333333333,
              "#9c179e"
             ],
             [
              0.4444444444444444,
              "#bd3786"
             ],
             [
              0.5555555555555556,
              "#d8576b"
             ],
             [
              0.6666666666666666,
              "#ed7953"
             ],
             [
              0.7777777777777778,
              "#fb9f3a"
             ],
             [
              0.8888888888888888,
              "#fdca26"
             ],
             [
              1,
              "#f0f921"
             ]
            ],
            "type": "heatmap"
           }
          ],
          "heatmapgl": [
           {
            "colorbar": {
             "outlinewidth": 0,
             "ticks": ""
            },
            "colorscale": [
             [
              0,
              "#0d0887"
             ],
             [
              0.1111111111111111,
              "#46039f"
             ],
             [
              0.2222222222222222,
              "#7201a8"
             ],
             [
              0.3333333333333333,
              "#9c179e"
             ],
             [
              0.4444444444444444,
              "#bd3786"
             ],
             [
              0.5555555555555556,
              "#d8576b"
             ],
             [
              0.6666666666666666,
              "#ed7953"
             ],
             [
              0.7777777777777778,
              "#fb9f3a"
             ],
             [
              0.8888888888888888,
              "#fdca26"
             ],
             [
              1,
              "#f0f921"
             ]
            ],
            "type": "heatmapgl"
           }
          ],
          "histogram": [
           {
            "marker": {
             "colorbar": {
              "outlinewidth": 0,
              "ticks": ""
             }
            },
            "type": "histogram"
           }
          ],
          "histogram2d": [
           {
            "colorbar": {
             "outlinewidth": 0,
             "ticks": ""
            },
            "colorscale": [
             [
              0,
              "#0d0887"
             ],
             [
              0.1111111111111111,
              "#46039f"
             ],
             [
              0.2222222222222222,
              "#7201a8"
             ],
             [
              0.3333333333333333,
              "#9c179e"
             ],
             [
              0.4444444444444444,
              "#bd3786"
             ],
             [
              0.5555555555555556,
              "#d8576b"
             ],
             [
              0.6666666666666666,
              "#ed7953"
             ],
             [
              0.7777777777777778,
              "#fb9f3a"
             ],
             [
              0.8888888888888888,
              "#fdca26"
             ],
             [
              1,
              "#f0f921"
             ]
            ],
            "type": "histogram2d"
           }
          ],
          "histogram2dcontour": [
           {
            "colorbar": {
             "outlinewidth": 0,
             "ticks": ""
            },
            "colorscale": [
             [
              0,
              "#0d0887"
             ],
             [
              0.1111111111111111,
              "#46039f"
             ],
             [
              0.2222222222222222,
              "#7201a8"
             ],
             [
              0.3333333333333333,
              "#9c179e"
             ],
             [
              0.4444444444444444,
              "#bd3786"
             ],
             [
              0.5555555555555556,
              "#d8576b"
             ],
             [
              0.6666666666666666,
              "#ed7953"
             ],
             [
              0.7777777777777778,
              "#fb9f3a"
             ],
             [
              0.8888888888888888,
              "#fdca26"
             ],
             [
              1,
              "#f0f921"
             ]
            ],
            "type": "histogram2dcontour"
           }
          ],
          "mesh3d": [
           {
            "colorbar": {
             "outlinewidth": 0,
             "ticks": ""
            },
            "type": "mesh3d"
           }
          ],
          "parcoords": [
           {
            "line": {
             "colorbar": {
              "outlinewidth": 0,
              "ticks": ""
             }
            },
            "type": "parcoords"
           }
          ],
          "pie": [
           {
            "automargin": true,
            "type": "pie"
           }
          ],
          "scatter": [
           {
            "marker": {
             "colorbar": {
              "outlinewidth": 0,
              "ticks": ""
             }
            },
            "type": "scatter"
           }
          ],
          "scatter3d": [
           {
            "line": {
             "colorbar": {
              "outlinewidth": 0,
              "ticks": ""
             }
            },
            "marker": {
             "colorbar": {
              "outlinewidth": 0,
              "ticks": ""
             }
            },
            "type": "scatter3d"
           }
          ],
          "scattercarpet": [
           {
            "marker": {
             "colorbar": {
              "outlinewidth": 0,
              "ticks": ""
             }
            },
            "type": "scattercarpet"
           }
          ],
          "scattergeo": [
           {
            "marker": {
             "colorbar": {
              "outlinewidth": 0,
              "ticks": ""
             }
            },
            "type": "scattergeo"
           }
          ],
          "scattergl": [
           {
            "marker": {
             "colorbar": {
              "outlinewidth": 0,
              "ticks": ""
             }
            },
            "type": "scattergl"
           }
          ],
          "scattermapbox": [
           {
            "marker": {
             "colorbar": {
              "outlinewidth": 0,
              "ticks": ""
             }
            },
            "type": "scattermapbox"
           }
          ],
          "scatterpolar": [
           {
            "marker": {
             "colorbar": {
              "outlinewidth": 0,
              "ticks": ""
             }
            },
            "type": "scatterpolar"
           }
          ],
          "scatterpolargl": [
           {
            "marker": {
             "colorbar": {
              "outlinewidth": 0,
              "ticks": ""
             }
            },
            "type": "scatterpolargl"
           }
          ],
          "scatterternary": [
           {
            "marker": {
             "colorbar": {
              "outlinewidth": 0,
              "ticks": ""
             }
            },
            "type": "scatterternary"
           }
          ],
          "surface": [
           {
            "colorbar": {
             "outlinewidth": 0,
             "ticks": ""
            },
            "colorscale": [
             [
              0,
              "#0d0887"
             ],
             [
              0.1111111111111111,
              "#46039f"
             ],
             [
              0.2222222222222222,
              "#7201a8"
             ],
             [
              0.3333333333333333,
              "#9c179e"
             ],
             [
              0.4444444444444444,
              "#bd3786"
             ],
             [
              0.5555555555555556,
              "#d8576b"
             ],
             [
              0.6666666666666666,
              "#ed7953"
             ],
             [
              0.7777777777777778,
              "#fb9f3a"
             ],
             [
              0.8888888888888888,
              "#fdca26"
             ],
             [
              1,
              "#f0f921"
             ]
            ],
            "type": "surface"
           }
          ],
          "table": [
           {
            "cells": {
             "fill": {
              "color": "#EBF0F8"
             },
             "line": {
              "color": "white"
             }
            },
            "header": {
             "fill": {
              "color": "#C8D4E3"
             },
             "line": {
              "color": "white"
             }
            },
            "type": "table"
           }
          ]
         },
         "layout": {
          "annotationdefaults": {
           "arrowcolor": "#2a3f5f",
           "arrowhead": 0,
           "arrowwidth": 1
          },
          "coloraxis": {
           "colorbar": {
            "outlinewidth": 0,
            "ticks": ""
           }
          },
          "colorscale": {
           "diverging": [
            [
             0,
             "#8e0152"
            ],
            [
             0.1,
             "#c51b7d"
            ],
            [
             0.2,
             "#de77ae"
            ],
            [
             0.3,
             "#f1b6da"
            ],
            [
             0.4,
             "#fde0ef"
            ],
            [
             0.5,
             "#f7f7f7"
            ],
            [
             0.6,
             "#e6f5d0"
            ],
            [
             0.7,
             "#b8e186"
            ],
            [
             0.8,
             "#7fbc41"
            ],
            [
             0.9,
             "#4d9221"
            ],
            [
             1,
             "#276419"
            ]
           ],
           "sequential": [
            [
             0,
             "#0d0887"
            ],
            [
             0.1111111111111111,
             "#46039f"
            ],
            [
             0.2222222222222222,
             "#7201a8"
            ],
            [
             0.3333333333333333,
             "#9c179e"
            ],
            [
             0.4444444444444444,
             "#bd3786"
            ],
            [
             0.5555555555555556,
             "#d8576b"
            ],
            [
             0.6666666666666666,
             "#ed7953"
            ],
            [
             0.7777777777777778,
             "#fb9f3a"
            ],
            [
             0.8888888888888888,
             "#fdca26"
            ],
            [
             1,
             "#f0f921"
            ]
           ],
           "sequentialminus": [
            [
             0,
             "#0d0887"
            ],
            [
             0.1111111111111111,
             "#46039f"
            ],
            [
             0.2222222222222222,
             "#7201a8"
            ],
            [
             0.3333333333333333,
             "#9c179e"
            ],
            [
             0.4444444444444444,
             "#bd3786"
            ],
            [
             0.5555555555555556,
             "#d8576b"
            ],
            [
             0.6666666666666666,
             "#ed7953"
            ],
            [
             0.7777777777777778,
             "#fb9f3a"
            ],
            [
             0.8888888888888888,
             "#fdca26"
            ],
            [
             1,
             "#f0f921"
            ]
           ]
          },
          "colorway": [
           "#636efa",
           "#EF553B",
           "#00cc96",
           "#ab63fa",
           "#FFA15A",
           "#19d3f3",
           "#FF6692",
           "#B6E880",
           "#FF97FF",
           "#FECB52"
          ],
          "font": {
           "color": "#2a3f5f"
          },
          "geo": {
           "bgcolor": "white",
           "lakecolor": "white",
           "landcolor": "#E5ECF6",
           "showlakes": true,
           "showland": true,
           "subunitcolor": "white"
          },
          "hoverlabel": {
           "align": "left"
          },
          "hovermode": "closest",
          "mapbox": {
           "style": "light"
          },
          "paper_bgcolor": "white",
          "plot_bgcolor": "#E5ECF6",
          "polar": {
           "angularaxis": {
            "gridcolor": "white",
            "linecolor": "white",
            "ticks": ""
           },
           "bgcolor": "#E5ECF6",
           "radialaxis": {
            "gridcolor": "white",
            "linecolor": "white",
            "ticks": ""
           }
          },
          "scene": {
           "xaxis": {
            "backgroundcolor": "#E5ECF6",
            "gridcolor": "white",
            "gridwidth": 2,
            "linecolor": "white",
            "showbackground": true,
            "ticks": "",
            "zerolinecolor": "white"
           },
           "yaxis": {
            "backgroundcolor": "#E5ECF6",
            "gridcolor": "white",
            "gridwidth": 2,
            "linecolor": "white",
            "showbackground": true,
            "ticks": "",
            "zerolinecolor": "white"
           },
           "zaxis": {
            "backgroundcolor": "#E5ECF6",
            "gridcolor": "white",
            "gridwidth": 2,
            "linecolor": "white",
            "showbackground": true,
            "ticks": "",
            "zerolinecolor": "white"
           }
          },
          "shapedefaults": {
           "line": {
            "color": "#2a3f5f"
           }
          },
          "ternary": {
           "aaxis": {
            "gridcolor": "white",
            "linecolor": "white",
            "ticks": ""
           },
           "baxis": {
            "gridcolor": "white",
            "linecolor": "white",
            "ticks": ""
           },
           "bgcolor": "#E5ECF6",
           "caxis": {
            "gridcolor": "white",
            "linecolor": "white",
            "ticks": ""
           }
          },
          "title": {
           "x": 0.05
          },
          "xaxis": {
           "automargin": true,
           "gridcolor": "white",
           "linecolor": "white",
           "ticks": "",
           "title": {
            "standoff": 15
           },
           "zerolinecolor": "white",
           "zerolinewidth": 2
          },
          "yaxis": {
           "automargin": true,
           "gridcolor": "white",
           "linecolor": "white",
           "ticks": "",
           "title": {
            "standoff": 15
           },
           "zerolinecolor": "white",
           "zerolinewidth": 2
          }
         }
        },
        "title": {
         "text": "US Counties with the Highest Total Population"
        },
        "xaxis": {
         "anchor": "y",
         "autorange": true,
         "domain": [
          0,
          1
         ],
         "range": [
          -0.5,
          19.5
         ],
         "title": {
          "text": "County, State Name"
         },
         "type": "category"
        },
        "yaxis": {
         "anchor": "x",
         "autorange": true,
         "domain": [
          0,
          1
         ],
         "range": [
          0,
          10637387.368421052
         ],
         "title": {
          "text": "Total Population"
         },
         "type": "linear"
        }
       }
      },
      "image/png": "[encoded data removed]",
      "text/html": [
       "<div>\n",
       "        \n",
       "        \n",
       "            <div id=\"061d0bf4-7436-4b09-8d7c-2189e12ef89a\" class=\"plotly-graph-div\" style=\"height:525px; width:100%;\"></div>\n",
       "            <script type=\"text/javascript\">\n",
       "                require([\"plotly\"], function(Plotly) {\n",
       "                    window.PLOTLYENV=window.PLOTLYENV || {};\n",
       "                    \n",
       "                if (document.getElementById(\"061d0bf4-7436-4b09-8d7c-2189e12ef89a\")) {\n",
       "                    Plotly.newPlot(\n",
       "                        '061d0bf4-7436-4b09-8d7c-2189e12ef89a',\n",
       "                        [{\"alignmentgroup\": \"True\", \"hovertemplate\": \"County, State Name=%{x}<br>Total Population=%{y}<extra></extra>\", \"legendgroup\": \"\", \"marker\": {\"color\": \"#636efa\"}, \"name\": \"\", \"offsetgroup\": \"\", \"orientation\": \"v\", \"showlegend\": false, \"textposition\": \"auto\", \"type\": \"bar\", \"x\": [\"Los Angeles County, California\", \"Cook County, Illinois\", \"Harris County, Texas\", \"Maricopa County, Arizona\", \"San Diego County, California\", \"Orange County, California\", \"Miami-Dade County, Florida\", \"Dallas County, Texas\", \"Kings County, New York\", \"Riverside County, California\", \"Queens County, New York\", \"King County, Washington\", \"Clark County, Nevada\", \"San Bernardino County, California\", \"Tarrant County, Texas\", \"Bexar County, Texas\", \"Broward County, Florida\", \"Santa Clara County, California\", \"Wayne County, Michigan\", \"Alameda County, California\"], \"xaxis\": \"x\", \"y\": [10105518, 5180493, 4698619, 4410824, 3343364, 3185968, 2761581, 2637772, 2582830, 2450758, 2278906, 2233163, 2231647, 2171603, 2084931, 1986049, 1951260, 1937570, 1753893, 1666753], \"yaxis\": \"y\"}],\n",
       "                        {\"barmode\": \"relative\", \"legend\": {\"tracegroupgap\": 0}, \"template\": {\"data\": {\"bar\": [{\"error_x\": {\"color\": \"#2a3f5f\"}, \"error_y\": {\"color\": \"#2a3f5f\"}, \"marker\": {\"line\": {\"color\": \"#E5ECF6\", \"width\": 0.5}}, \"type\": \"bar\"}], \"barpolar\": [{\"marker\": {\"line\": {\"color\": \"#E5ECF6\", \"width\": 0.5}}, \"type\": \"barpolar\"}], \"carpet\": [{\"aaxis\": {\"endlinecolor\": \"#2a3f5f\", \"gridcolor\": \"white\", \"linecolor\": \"white\", \"minorgridcolor\": \"white\", \"startlinecolor\": \"#2a3f5f\"}, \"baxis\": {\"endlinecolor\": \"#2a3f5f\", \"gridcolor\": \"white\", \"linecolor\": \"white\", \"minorgridcolor\": \"white\", \"startlinecolor\": \"#2a3f5f\"}, \"type\": \"carpet\"}], \"choropleth\": [{\"colorbar\": {\"outlinewidth\": 0, \"ticks\": \"\"}, \"type\": \"choropleth\"}], \"contour\": [{\"colorbar\": {\"outlinewidth\": 0, \"ticks\": \"\"}, \"colorscale\": [[0.0, \"#0d0887\"], [0.1111111111111111, \"#46039f\"], [0.2222222222222222, \"#7201a8\"], [0.3333333333333333, \"#9c179e\"], [0.4444444444444444, \"#bd3786\"], [0.5555555555555556, \"#d8576b\"], [0.6666666666666666, \"#ed7953\"], [0.7777777777777778, \"#fb9f3a\"], [0.8888888888888888, \"#fdca26\"], [1.0, \"#f0f921\"]], \"type\": \"contour\"}], \"contourcarpet\": [{\"colorbar\": {\"outlinewidth\": 0, \"ticks\": \"\"}, \"type\": \"contourcarpet\"}], \"heatmap\": [{\"colorbar\": {\"outlinewidth\": 0, \"ticks\": \"\"}, \"colorscale\": [[0.0, \"#0d0887\"], [0.1111111111111111, \"#46039f\"], [0.2222222222222222, \"#7201a8\"], [0.3333333333333333, \"#9c179e\"], [0.4444444444444444, \"#bd3786\"], [0.5555555555555556, \"#d8576b\"], [0.6666666666666666, \"#ed7953\"], [0.7777777777777778, \"#fb9f3a\"], [0.8888888888888888, \"#fdca26\"], [1.0, \"#f0f921\"]], \"type\": \"heatmap\"}], \"heatmapgl\": [{\"colorbar\": {\"outlinewidth\": 0, \"ticks\": \"\"}, \"colorscale\": [[0.0, \"#0d0887\"], [0.1111111111111111, \"#46039f\"], [0.2222222222222222, \"#7201a8\"], [0.3333333333333333, \"#9c179e\"], [0.4444444444444444, \"#bd3786\"], [0.5555555555555556, \"#d8576b\"], [0.6666666666666666, \"#ed7953\"], [0.7777777777777778, \"#fb9f3a\"], [0.8888888888888888, \"#fdca26\"], [1.0, \"#f0f921\"]], \"type\": \"heatmapgl\"}], \"histogram\": [{\"marker\": {\"colorbar\": {\"outlinewidth\": 0, \"ticks\": \"\"}}, \"type\": \"histogram\"}], \"histogram2d\": [{\"colorbar\": {\"outlinewidth\": 0, \"ticks\": \"\"}, \"colorscale\": [[0.0, \"#0d0887\"], [0.1111111111111111, \"#46039f\"], [0.2222222222222222, \"#7201a8\"], [0.3333333333333333, \"#9c179e\"], [0.4444444444444444, \"#bd3786\"], [0.5555555555555556, \"#d8576b\"], [0.6666666666666666, \"#ed7953\"], [0.7777777777777778, \"#fb9f3a\"], [0.8888888888888888, \"#fdca26\"], [1.0, \"#f0f921\"]], \"type\": \"histogram2d\"}], \"histogram2dcontour\": [{\"colorbar\": {\"outlinewidth\": 0, \"ticks\": \"\"}, \"colorscale\": [[0.0, \"#0d0887\"], [0.1111111111111111, \"#46039f\"], [0.2222222222222222, \"#7201a8\"], [0.3333333333333333, \"#9c179e\"], [0.4444444444444444, \"#bd3786\"], [0.5555555555555556, \"#d8576b\"], [0.6666666666666666, \"#ed7953\"], [0.7777777777777778, \"#fb9f3a\"], [0.8888888888888888, \"#fdca26\"], [1.0, \"#f0f921\"]], \"type\": \"histogram2dcontour\"}], \"mesh3d\": [{\"colorbar\": {\"outlinewidth\": 0, \"ticks\": \"\"}, \"type\": \"mesh3d\"}], \"parcoords\": [{\"line\": {\"colorbar\": {\"outlinewidth\": 0, \"ticks\": \"\"}}, \"type\": \"parcoords\"}], \"pie\": [{\"automargin\": true, \"type\": \"pie\"}], \"scatter\": [{\"marker\": {\"colorbar\": {\"outlinewidth\": 0, \"ticks\": \"\"}}, \"type\": \"scatter\"}], \"scatter3d\": [{\"line\": {\"colorbar\": {\"outlinewidth\": 0, \"ticks\": \"\"}}, \"marker\": {\"colorbar\": {\"outlinewidth\": 0, \"ticks\": \"\"}}, \"type\": \"scatter3d\"}], \"scattercarpet\": [{\"marker\": {\"colorbar\": {\"outlinewidth\": 0, \"ticks\": \"\"}}, \"type\": \"scattercarpet\"}], \"scattergeo\": [{\"marker\": {\"colorbar\": {\"outlinewidth\": 0, \"ticks\": \"\"}}, \"type\": \"scattergeo\"}], \"scattergl\": [{\"marker\": {\"colorbar\": {\"outlinewidth\": 0, \"ticks\": \"\"}}, \"type\": \"scattergl\"}], \"scattermapbox\": [{\"marker\": {\"colorbar\": {\"outlinewidth\": 0, \"ticks\": \"\"}}, \"type\": \"scattermapbox\"}], \"scatterpolar\": [{\"marker\": {\"colorbar\": {\"outlinewidth\": 0, \"ticks\": \"\"}}, \"type\": \"scatterpolar\"}], \"scatterpolargl\": [{\"marker\": {\"colorbar\": {\"outlinewidth\": 0, \"ticks\": \"\"}}, \"type\": \"scatterpolargl\"}], \"scatterternary\": [{\"marker\": {\"colorbar\": {\"outlinewidth\": 0, \"ticks\": \"\"}}, \"type\": \"scatterternary\"}], \"surface\": [{\"colorbar\": {\"outlinewidth\": 0, \"ticks\": \"\"}, \"colorscale\": [[0.0, \"#0d0887\"], [0.1111111111111111, \"#46039f\"], [0.2222222222222222, \"#7201a8\"], [0.3333333333333333, \"#9c179e\"], [0.4444444444444444, \"#bd3786\"], [0.5555555555555556, \"#d8576b\"], [0.6666666666666666, \"#ed7953\"], [0.7777777777777778, \"#fb9f3a\"], [0.8888888888888888, \"#fdca26\"], [1.0, \"#f0f921\"]], \"type\": \"surface\"}], \"table\": [{\"cells\": {\"fill\": {\"color\": \"#EBF0F8\"}, \"line\": {\"color\": \"white\"}}, \"header\": {\"fill\": {\"color\": \"#C8D4E3\"}, \"line\": {\"color\": \"white\"}}, \"type\": \"table\"}]}, \"layout\": {\"annotationdefaults\": {\"arrowcolor\": \"#2a3f5f\", \"arrowhead\": 0, \"arrowwidth\": 1}, \"coloraxis\": {\"colorbar\": {\"outlinewidth\": 0, \"ticks\": \"\"}}, \"colorscale\": {\"diverging\": [[0, \"#8e0152\"], [0.1, \"#c51b7d\"], [0.2, \"#de77ae\"], [0.3, \"#f1b6da\"], [0.4, \"#fde0ef\"], [0.5, \"#f7f7f7\"], [0.6, \"#e6f5d0\"], [0.7, \"#b8e186\"], [0.8, \"#7fbc41\"], [0.9, \"#4d9221\"], [1, \"#276419\"]], \"sequential\": [[0.0, \"#0d0887\"], [0.1111111111111111, \"#46039f\"], [0.2222222222222222, \"#7201a8\"], [0.3333333333333333, \"#9c179e\"], [0.4444444444444444, \"#bd3786\"], [0.5555555555555556, \"#d8576b\"], [0.6666666666666666, \"#ed7953\"], [0.7777777777777778, \"#fb9f3a\"], [0.8888888888888888, \"#fdca26\"], [1.0, \"#f0f921\"]], \"sequentialminus\": [[0.0, \"#0d0887\"], [0.1111111111111111, \"#46039f\"], [0.2222222222222222, \"#7201a8\"], [0.3333333333333333, \"#9c179e\"], [0.4444444444444444, \"#bd3786\"], [0.5555555555555556, \"#d8576b\"], [0.6666666666666666, \"#ed7953\"], [0.7777777777777778, \"#fb9f3a\"], [0.8888888888888888, \"#fdca26\"], [1.0, \"#f0f921\"]]}, \"colorway\": [\"#636efa\", \"#EF553B\", \"#00cc96\", \"#ab63fa\", \"#FFA15A\", \"#19d3f3\", \"#FF6692\", \"#B6E880\", \"#FF97FF\", \"#FECB52\"], \"font\": {\"color\": \"#2a3f5f\"}, \"geo\": {\"bgcolor\": \"white\", \"lakecolor\": \"white\", \"landcolor\": \"#E5ECF6\", \"showlakes\": true, \"showland\": true, \"subunitcolor\": \"white\"}, \"hoverlabel\": {\"align\": \"left\"}, \"hovermode\": \"closest\", \"mapbox\": {\"style\": \"light\"}, \"paper_bgcolor\": \"white\", \"plot_bgcolor\": \"#E5ECF6\", \"polar\": {\"angularaxis\": {\"gridcolor\": \"white\", \"linecolor\": \"white\", \"ticks\": \"\"}, \"bgcolor\": \"#E5ECF6\", \"radialaxis\": {\"gridcolor\": \"white\", \"linecolor\": \"white\", \"ticks\": \"\"}}, \"scene\": {\"xaxis\": {\"backgroundcolor\": \"#E5ECF6\", \"gridcolor\": \"white\", \"gridwidth\": 2, \"linecolor\": \"white\", \"showbackground\": true, \"ticks\": \"\", \"zerolinecolor\": \"white\"}, \"yaxis\": {\"backgroundcolor\": \"#E5ECF6\", \"gridcolor\": \"white\", \"gridwidth\": 2, \"linecolor\": \"white\", \"showbackground\": true, \"ticks\": \"\", \"zerolinecolor\": \"white\"}, \"zaxis\": {\"backgroundcolor\": \"#E5ECF6\", \"gridcolor\": \"white\", \"gridwidth\": 2, \"linecolor\": \"white\", \"showbackground\": true, \"ticks\": \"\", \"zerolinecolor\": \"white\"}}, \"shapedefaults\": {\"line\": {\"color\": \"#2a3f5f\"}}, \"ternary\": {\"aaxis\": {\"gridcolor\": \"white\", \"linecolor\": \"white\", \"ticks\": \"\"}, \"baxis\": {\"gridcolor\": \"white\", \"linecolor\": \"white\", \"ticks\": \"\"}, \"bgcolor\": \"#E5ECF6\", \"caxis\": {\"gridcolor\": \"white\", \"linecolor\": \"white\", \"ticks\": \"\"}}, \"title\": {\"x\": 0.05}, \"xaxis\": {\"automargin\": true, \"gridcolor\": \"white\", \"linecolor\": \"white\", \"ticks\": \"\", \"title\": {\"standoff\": 15}, \"zerolinecolor\": \"white\", \"zerolinewidth\": 2}, \"yaxis\": {\"automargin\": true, \"gridcolor\": \"white\", \"linecolor\": \"white\", \"ticks\": \"\", \"title\": {\"standoff\": 15}, \"zerolinecolor\": \"white\", \"zerolinewidth\": 2}}}, \"title\": {\"text\": \"US Counties with the Highest Total Population\"}, \"xaxis\": {\"anchor\": \"y\", \"domain\": [0.0, 1.0], \"title\": {\"text\": \"County, State Name\"}}, \"yaxis\": {\"anchor\": \"x\", \"domain\": [0.0, 1.0], \"title\": {\"text\": \"Total Population\"}}},\n",
       "                        {\"responsive\": true}\n",
       "                    ).then(function(){\n",
       "                            \n",
       "var gd = document.getElementById('061d0bf4-7436-4b09-8d7c-2189e12ef89a');\n",
       "var x = new MutationObserver(function (mutations, observer) {{\n",
       "        var display = window.getComputedStyle(gd).display;\n",
       "        if (!display || display === 'none') {{\n",
       "            console.log([gd, 'removed!']);\n",
       "            Plotly.purge(gd);\n",
       "            observer.disconnect();\n",
       "        }}\n",
       "}});\n",
       "\n",
       "// Listen for the removal of the full notebook cells\n",
       "var notebookContainer = gd.closest('#notebook-container');\n",
       "if (notebookContainer) {{\n",
       "    x.observe(notebookContainer, {childList: true});\n",
       "}}\n",
       "\n",
       "// Listen for the clearing of the current output cell\n",
       "var outputEl = gd.closest('.output');\n",
       "if (outputEl) {{\n",
       "    x.observe(outputEl, {childList: true});\n",
       "}}\n",
       "\n",
       "                        })\n",
       "                };\n",
       "                });\n",
       "            </script>\n",
       "        </div>"
      ]
     },
     "metadata": {},
     "output_type": "display_data"
    }
   ],
   "source": [
    "bar_total_pop"
   ]
  },
  {
   "cell_type": "code",
   "execution_count": null,
   "metadata": {},
   "outputs": [],
   "source": [
    "# make a graph to show percent of largest 18 under population \n",
    "bubble_u18_o60 = px.scatter(df_county_health,\n",
    "                            x = \"percent_over60\",\n",
    "                            y = \"percent_under18\",\n",
    "                            size = \"hospital_bed_count\",\n",
    "                            hover_data = ['Geographic Area N',\"Total\"],\n",
    "                            title = \"Percentage of Population Under 18 and Over 60 in US Counties\",\n",
    "                            labels = {\"Geographic Area N\": \"County, State Name\",\n",
    "                                      \"Total\": \"Total Population\",\n",
    "                                      \"percent_over60\": \"Percent of County Population over 60 years old\",\n",
    "                                      \"percent_under18\": \"Percent of County Population under 18 years old\"})"
   ]
  },
  {
   "cell_type": "code",
   "execution_count": null,
   "metadata": {},
   "outputs": [],
   "source": [
    "bubble_u18_o60"
   ]
  },
  {
   "cell_type": "code",
   "execution_count": 83,
   "metadata": {},
   "outputs": [],
   "source": [
    "# make a column to standardize hospital bed count\n",
    "# number of hospital beds per 1,000 people\n",
    "df_county_health[\"hospitalbeds_per10000\"] = (df_county_health[\"hospital_bed_count\"]/df_county_health[\"Total\"])*1000"
   ]
  },
  {
   "cell_type": "code",
   "execution_count": null,
   "metadata": {},
   "outputs": [],
   "source": [
    "# make a graph to show percent of largest 18 under population \n",
    "# with bubble size corresponding to #hospital beds per 1000 people\n",
    "bubble_u18_o60_beds = px.scatter(df_county_health,\n",
    "                            x = \"percent_over60\",\n",
    "                            y = \"percent_under18\",\n",
    "                            size = \"hospitalbeds_per10000\",\n",
    "                            hover_data = ['Geographic Area N',\"Total\"],\n",
    "                            title = \"Percentage of Population Under 18 and Over 60 in US Counties\",\n",
    "                            labels = {\"Geographic Area N\": \"County, State Name\",\n",
    "                                      \"Total\": \"Total Population\",\n",
    "                                      \"percent_over60\": \"Percent of County Population over 60 years old\",\n",
    "                                      \"percent_under18\": \"Percent of County Population under 18 years old\",\n",
    "                                     \"hospitalbeds_per10000\": \"Number of Hospital Beds per 1000 People\"})"
   ]
  },
  {
   "cell_type": "code",
   "execution_count": null,
   "metadata": {},
   "outputs": [],
   "source": [
    "bubble_u18_o60_beds"
   ]
  },
  {
   "cell_type": "code",
   "execution_count": 86,
   "metadata": {},
   "outputs": [
    {
     "data": {
      "text/html": [
       "<div>\n",
       "<style scoped>\n",
       "    .dataframe tbody tr th:only-of-type {\n",
       "        vertical-align: middle;\n",
       "    }\n",
       "\n",
       "    .dataframe tbody tr th {\n",
       "        vertical-align: top;\n",
       "    }\n",
       "\n",
       "    .dataframe thead th {\n",
       "        text-align: right;\n",
       "    }\n",
       "</style>\n",
       "<table border=\"1\" class=\"dataframe\">\n",
       "  <thead>\n",
       "    <tr style=\"text-align: right;\">\n",
       "      <th></th>\n",
       "      <th>date</th>\n",
       "      <th>county</th>\n",
       "      <th>state</th>\n",
       "      <th>fips</th>\n",
       "      <th>cases</th>\n",
       "      <th>deaths</th>\n",
       "    </tr>\n",
       "  </thead>\n",
       "  <tbody>\n",
       "    <tr>\n",
       "      <th>135565</th>\n",
       "      <td>2020-05-11</td>\n",
       "      <td>Sublette</td>\n",
       "      <td>Wyoming</td>\n",
       "      <td>56035.0</td>\n",
       "      <td>3</td>\n",
       "      <td>0</td>\n",
       "    </tr>\n",
       "    <tr>\n",
       "      <th>135566</th>\n",
       "      <td>2020-05-11</td>\n",
       "      <td>Sweetwater</td>\n",
       "      <td>Wyoming</td>\n",
       "      <td>56037.0</td>\n",
       "      <td>20</td>\n",
       "      <td>0</td>\n",
       "    </tr>\n",
       "    <tr>\n",
       "      <th>135567</th>\n",
       "      <td>2020-05-11</td>\n",
       "      <td>Teton</td>\n",
       "      <td>Wyoming</td>\n",
       "      <td>56039.0</td>\n",
       "      <td>98</td>\n",
       "      <td>1</td>\n",
       "    </tr>\n",
       "    <tr>\n",
       "      <th>135568</th>\n",
       "      <td>2020-05-11</td>\n",
       "      <td>Uinta</td>\n",
       "      <td>Wyoming</td>\n",
       "      <td>56041.0</td>\n",
       "      <td>9</td>\n",
       "      <td>0</td>\n",
       "    </tr>\n",
       "    <tr>\n",
       "      <th>135569</th>\n",
       "      <td>2020-05-11</td>\n",
       "      <td>Washakie</td>\n",
       "      <td>Wyoming</td>\n",
       "      <td>56043.0</td>\n",
       "      <td>7</td>\n",
       "      <td>0</td>\n",
       "    </tr>\n",
       "  </tbody>\n",
       "</table>\n",
       "</div>"
      ],
      "text/plain": [
       "              date      county    state     fips  cases  deaths\n",
       "135565  2020-05-11    Sublette  Wyoming  56035.0      3       0\n",
       "135566  2020-05-11  Sweetwater  Wyoming  56037.0     20       0\n",
       "135567  2020-05-11       Teton  Wyoming  56039.0     98       1\n",
       "135568  2020-05-11       Uinta  Wyoming  56041.0      9       0\n",
       "135569  2020-05-11    Washakie  Wyoming  56043.0      7       0"
      ]
     },
     "execution_count": 86,
     "metadata": {},
     "output_type": "execute_result"
    }
   ],
   "source": [
    "# preview end of covid dataframe\n",
    "df_covid.tail()"
   ]
  },
  {
   "cell_type": "code",
   "execution_count": 87,
   "metadata": {},
   "outputs": [],
   "source": [
    "# create a new dataframe that only includes the most recent coronavirus data\n",
    "df_covid_apr10 = df_covid[df_covid[\"date\"]== \"2020-04-10\"]"
   ]
  },
  {
   "cell_type": "code",
   "execution_count": 88,
   "metadata": {},
   "outputs": [],
   "source": [
    "# first, remove null values from fips\n",
    "df_covid_apr10 = df_covid_apr10[df_covid_apr10[\"fips\"].notnull()]\n",
    "\n",
    "# convert fips number to int and then string\n",
    "df_covid_apr10[\"fips\"] = df_covid_apr10[\"fips\"].astype(int)\n",
    "df_covid_apr10[\"fips\"] = df_covid_apr10[\"fips\"].astype(str)"
   ]
  },
  {
   "cell_type": "code",
   "execution_count": 89,
   "metadata": {},
   "outputs": [],
   "source": [
    "# adding preceding zeros so that the FIPS code includes 5 digits\n",
    "df_covid_apr10[\"fips\"] = df_covid_apr10[\"fips\"].str.zfill(5)"
   ]
  },
  {
   "cell_type": "code",
   "execution_count": 90,
   "metadata": {},
   "outputs": [
    {
     "data": {
      "text/html": [
       "<div>\n",
       "<style scoped>\n",
       "    .dataframe tbody tr th:only-of-type {\n",
       "        vertical-align: middle;\n",
       "    }\n",
       "\n",
       "    .dataframe tbody tr th {\n",
       "        vertical-align: top;\n",
       "    }\n",
       "\n",
       "    .dataframe thead th {\n",
       "        text-align: right;\n",
       "    }\n",
       "</style>\n",
       "<table border=\"1\" class=\"dataframe\">\n",
       "  <thead>\n",
       "    <tr style=\"text-align: right;\">\n",
       "      <th></th>\n",
       "      <th>date</th>\n",
       "      <th>county</th>\n",
       "      <th>state</th>\n",
       "      <th>fips</th>\n",
       "      <th>cases</th>\n",
       "      <th>deaths</th>\n",
       "    </tr>\n",
       "  </thead>\n",
       "  <tbody>\n",
       "    <tr>\n",
       "      <th>45760</th>\n",
       "      <td>2020-04-10</td>\n",
       "      <td>Autauga</td>\n",
       "      <td>Alabama</td>\n",
       "      <td>01001</td>\n",
       "      <td>17</td>\n",
       "      <td>1</td>\n",
       "    </tr>\n",
       "    <tr>\n",
       "      <th>45761</th>\n",
       "      <td>2020-04-10</td>\n",
       "      <td>Baldwin</td>\n",
       "      <td>Alabama</td>\n",
       "      <td>01003</td>\n",
       "      <td>59</td>\n",
       "      <td>1</td>\n",
       "    </tr>\n",
       "    <tr>\n",
       "      <th>45762</th>\n",
       "      <td>2020-04-10</td>\n",
       "      <td>Barbour</td>\n",
       "      <td>Alabama</td>\n",
       "      <td>01005</td>\n",
       "      <td>9</td>\n",
       "      <td>0</td>\n",
       "    </tr>\n",
       "    <tr>\n",
       "      <th>45763</th>\n",
       "      <td>2020-04-10</td>\n",
       "      <td>Bibb</td>\n",
       "      <td>Alabama</td>\n",
       "      <td>01007</td>\n",
       "      <td>11</td>\n",
       "      <td>0</td>\n",
       "    </tr>\n",
       "    <tr>\n",
       "      <th>45764</th>\n",
       "      <td>2020-04-10</td>\n",
       "      <td>Blount</td>\n",
       "      <td>Alabama</td>\n",
       "      <td>01009</td>\n",
       "      <td>12</td>\n",
       "      <td>0</td>\n",
       "    </tr>\n",
       "  </tbody>\n",
       "</table>\n",
       "</div>"
      ],
      "text/plain": [
       "             date   county    state   fips  cases  deaths\n",
       "45760  2020-04-10  Autauga  Alabama  01001     17       1\n",
       "45761  2020-04-10  Baldwin  Alabama  01003     59       1\n",
       "45762  2020-04-10  Barbour  Alabama  01005      9       0\n",
       "45763  2020-04-10     Bibb  Alabama  01007     11       0\n",
       "45764  2020-04-10   Blount  Alabama  01009     12       0"
      ]
     },
     "execution_count": 90,
     "metadata": {},
     "output_type": "execute_result"
    }
   ],
   "source": [
    "# preview data\n",
    "df_covid_apr10.head()"
   ]
  },
  {
   "cell_type": "code",
   "execution_count": 91,
   "metadata": {},
   "outputs": [],
   "source": [
    "# merge covid data to df_county_health data\n",
    "df_county_health = pd.merge(df_county_health,\n",
    "                           df_covid_apr10[[\"fips\", \"cases\", \"deaths\"]],\n",
    "                           how = \"left\",\n",
    "                           left_on = \"full_county_fips\",\n",
    "                           right_on = \"fips\")"
   ]
  },
  {
   "cell_type": "code",
   "execution_count": 92,
   "metadata": {},
   "outputs": [
    {
     "data": {
      "text/html": [
       "<div>\n",
       "<style scoped>\n",
       "    .dataframe tbody tr th:only-of-type {\n",
       "        vertical-align: middle;\n",
       "    }\n",
       "\n",
       "    .dataframe tbody tr th {\n",
       "        vertical-align: top;\n",
       "    }\n",
       "\n",
       "    .dataframe thead th {\n",
       "        text-align: right;\n",
       "    }\n",
       "</style>\n",
       "<table border=\"1\" class=\"dataframe\">\n",
       "  <thead>\n",
       "    <tr style=\"text-align: right;\">\n",
       "      <th></th>\n",
       "      <th>d</th>\n",
       "      <th>Geographic Area N</th>\n",
       "      <th>Total</th>\n",
       "      <th>Male</th>\n",
       "      <th>Female</th>\n",
       "      <th>Total Under 18 year</th>\n",
       "      <th>Male Under 18 year</th>\n",
       "      <th>Female Under 18 year</th>\n",
       "      <th>Total 60 years and over</th>\n",
       "      <th>Male 60 years and over</th>\n",
       "      <th>...</th>\n",
       "      <th>full_county_fips</th>\n",
       "      <th>percent_under18</th>\n",
       "      <th>percent_over60</th>\n",
       "      <th>COUNTYFIPS</th>\n",
       "      <th>hospital_bed_count</th>\n",
       "      <th>hospital_count</th>\n",
       "      <th>hospitalbeds_per10000</th>\n",
       "      <th>fips</th>\n",
       "      <th>cases</th>\n",
       "      <th>deaths</th>\n",
       "    </tr>\n",
       "  </thead>\n",
       "  <tbody>\n",
       "    <tr>\n",
       "      <th>0</th>\n",
       "      <td>0500000US01117</td>\n",
       "      <td>Shelby County, Alabama</td>\n",
       "      <td>215707</td>\n",
       "      <td>105022</td>\n",
       "      <td>110685</td>\n",
       "      <td>48670</td>\n",
       "      <td>25382</td>\n",
       "      <td>23288</td>\n",
       "      <td>47098</td>\n",
       "      <td>21899</td>\n",
       "      <td>...</td>\n",
       "      <td>01117</td>\n",
       "      <td>22.563014</td>\n",
       "      <td>21.834247</td>\n",
       "      <td>01117</td>\n",
       "      <td>349.0</td>\n",
       "      <td>3.0</td>\n",
       "      <td>1.617935</td>\n",
       "      <td>01117</td>\n",
       "      <td>185.0</td>\n",
       "      <td>5.0</td>\n",
       "    </tr>\n",
       "    <tr>\n",
       "      <th>1</th>\n",
       "      <td>0500000US01121</td>\n",
       "      <td>Talladega County, Alabama</td>\n",
       "      <td>79828</td>\n",
       "      <td>38489</td>\n",
       "      <td>41339</td>\n",
       "      <td>16810</td>\n",
       "      <td>8292</td>\n",
       "      <td>8518</td>\n",
       "      <td>20479</td>\n",
       "      <td>8991</td>\n",
       "      <td>...</td>\n",
       "      <td>01121</td>\n",
       "      <td>21.057774</td>\n",
       "      <td>25.653906</td>\n",
       "      <td>01121</td>\n",
       "      <td>285.0</td>\n",
       "      <td>2.0</td>\n",
       "      <td>3.570176</td>\n",
       "      <td>01121</td>\n",
       "      <td>32.0</td>\n",
       "      <td>0.0</td>\n",
       "    </tr>\n",
       "    <tr>\n",
       "      <th>2</th>\n",
       "      <td>0500000US01125</td>\n",
       "      <td>Tuscaloosa County, Alabama</td>\n",
       "      <td>208911</td>\n",
       "      <td>99576</td>\n",
       "      <td>109335</td>\n",
       "      <td>43992</td>\n",
       "      <td>21652</td>\n",
       "      <td>22340</td>\n",
       "      <td>39432</td>\n",
       "      <td>18110</td>\n",
       "      <td>...</td>\n",
       "      <td>01125</td>\n",
       "      <td>21.057771</td>\n",
       "      <td>18.875023</td>\n",
       "      <td>01125</td>\n",
       "      <td>-2064.0</td>\n",
       "      <td>7.0</td>\n",
       "      <td>-9.879805</td>\n",
       "      <td>01125</td>\n",
       "      <td>91.0</td>\n",
       "      <td>0.0</td>\n",
       "    </tr>\n",
       "    <tr>\n",
       "      <th>3</th>\n",
       "      <td>0500000US04021</td>\n",
       "      <td>Pinal County, Arizona</td>\n",
       "      <td>447138</td>\n",
       "      <td>233292</td>\n",
       "      <td>213846</td>\n",
       "      <td>101143</td>\n",
       "      <td>52140</td>\n",
       "      <td>49003</td>\n",
       "      <td>118634</td>\n",
       "      <td>56331</td>\n",
       "      <td>...</td>\n",
       "      <td>04021</td>\n",
       "      <td>22.620086</td>\n",
       "      <td>26.531854</td>\n",
       "      <td>04021</td>\n",
       "      <td>-3747.0</td>\n",
       "      <td>7.0</td>\n",
       "      <td>-8.379963</td>\n",
       "      <td>04021</td>\n",
       "      <td>138.0</td>\n",
       "      <td>3.0</td>\n",
       "    </tr>\n",
       "    <tr>\n",
       "      <th>4</th>\n",
       "      <td>0500000US06045</td>\n",
       "      <td>Mendocino County, California</td>\n",
       "      <td>87606</td>\n",
       "      <td>43017</td>\n",
       "      <td>44589</td>\n",
       "      <td>18535</td>\n",
       "      <td>9033</td>\n",
       "      <td>9502</td>\n",
       "      <td>25968</td>\n",
       "      <td>12178</td>\n",
       "      <td>...</td>\n",
       "      <td>06045</td>\n",
       "      <td>21.157227</td>\n",
       "      <td>29.641805</td>\n",
       "      <td>06045</td>\n",
       "      <td>141.0</td>\n",
       "      <td>3.0</td>\n",
       "      <td>1.609479</td>\n",
       "      <td>06045</td>\n",
       "      <td>4.0</td>\n",
       "      <td>0.0</td>\n",
       "    </tr>\n",
       "  </tbody>\n",
       "</table>\n",
       "<p>5 rows × 27 columns</p>\n",
       "</div>"
      ],
      "text/plain": [
       "                d             Geographic Area N   Total    Male  Female  \\\n",
       "0  0500000US01117        Shelby County, Alabama  215707  105022  110685   \n",
       "1  0500000US01121     Talladega County, Alabama   79828   38489   41339   \n",
       "2  0500000US01125    Tuscaloosa County, Alabama  208911   99576  109335   \n",
       "3  0500000US04021         Pinal County, Arizona  447138  233292  213846   \n",
       "4  0500000US06045  Mendocino County, California   87606   43017   44589   \n",
       "\n",
       "   Total Under 18 year  Male Under 18 year  Female Under 18 year  \\\n",
       "0                48670               25382                 23288   \n",
       "1                16810                8292                  8518   \n",
       "2                43992               21652                 22340   \n",
       "3               101143               52140                 49003   \n",
       "4                18535                9033                  9502   \n",
       "\n",
       "   Total 60 years and over  Male 60 years and over  ...  full_county_fips  \\\n",
       "0                    47098                   21899  ...             01117   \n",
       "1                    20479                    8991  ...             01121   \n",
       "2                    39432                   18110  ...             01125   \n",
       "3                   118634                   56331  ...             04021   \n",
       "4                    25968                   12178  ...             06045   \n",
       "\n",
       "   percent_under18  percent_over60  COUNTYFIPS  hospital_bed_count  \\\n",
       "0        22.563014       21.834247       01117               349.0   \n",
       "1        21.057774       25.653906       01121               285.0   \n",
       "2        21.057771       18.875023       01125             -2064.0   \n",
       "3        22.620086       26.531854       04021             -3747.0   \n",
       "4        21.157227       29.641805       06045               141.0   \n",
       "\n",
       "   hospital_count hospitalbeds_per10000   fips  cases  deaths  \n",
       "0             3.0              1.617935  01117  185.0     5.0  \n",
       "1             2.0              3.570176  01121   32.0     0.0  \n",
       "2             7.0             -9.879805  01125   91.0     0.0  \n",
       "3             7.0             -8.379963  04021  138.0     3.0  \n",
       "4             3.0              1.609479  06045    4.0     0.0  \n",
       "\n",
       "[5 rows x 27 columns]"
      ]
     },
     "execution_count": 92,
     "metadata": {},
     "output_type": "execute_result"
    }
   ],
   "source": [
    "df_county_health.head()"
   ]
  },
  {
   "cell_type": "code",
   "execution_count": 93,
   "metadata": {},
   "outputs": [],
   "source": [
    "# make two more columns that show number of cases/deaths per 1000 people\n",
    "df_county_health[\"cases_per1000\"] = (df_county_health[\"cases\"]/df_county_health[\"Total\"])*1000\n",
    "df_county_health[\"deaths_per1000\"] = (df_county_health[\"deaths\"]/df_county_health[\"Total\"])*1000"
   ]
  },
  {
   "cell_type": "code",
   "execution_count": 94,
   "metadata": {},
   "outputs": [],
   "source": [
    "# correlation table\n",
    "covid_corr = df_county_health.corr()"
   ]
  },
  {
   "cell_type": "code",
   "execution_count": 95,
   "metadata": {},
   "outputs": [
    {
     "data": {
      "text/html": [
       "<div>\n",
       "<style scoped>\n",
       "    .dataframe tbody tr th:only-of-type {\n",
       "        vertical-align: middle;\n",
       "    }\n",
       "\n",
       "    .dataframe tbody tr th {\n",
       "        vertical-align: top;\n",
       "    }\n",
       "\n",
       "    .dataframe thead th {\n",
       "        text-align: right;\n",
       "    }\n",
       "</style>\n",
       "<table border=\"1\" class=\"dataframe\">\n",
       "  <thead>\n",
       "    <tr style=\"text-align: right;\">\n",
       "      <th></th>\n",
       "      <th>Total</th>\n",
       "      <th>Male</th>\n",
       "      <th>Female</th>\n",
       "      <th>Total Under 18 year</th>\n",
       "      <th>Male Under 18 year</th>\n",
       "      <th>Female Under 18 year</th>\n",
       "      <th>Total 60 years and over</th>\n",
       "      <th>Male 60 years and over</th>\n",
       "      <th>Female 60 years and over</th>\n",
       "      <th>Median age (years)</th>\n",
       "      <th>...</th>\n",
       "      <th>Child dependency ratio</th>\n",
       "      <th>percent_under18</th>\n",
       "      <th>percent_over60</th>\n",
       "      <th>hospital_bed_count</th>\n",
       "      <th>hospital_count</th>\n",
       "      <th>hospitalbeds_per10000</th>\n",
       "      <th>cases</th>\n",
       "      <th>deaths</th>\n",
       "      <th>cases_per1000</th>\n",
       "      <th>deaths_per1000</th>\n",
       "    </tr>\n",
       "  </thead>\n",
       "  <tbody>\n",
       "    <tr>\n",
       "      <th>Total</th>\n",
       "      <td>1.000000</td>\n",
       "      <td>0.999857</td>\n",
       "      <td>0.999866</td>\n",
       "      <td>0.993070</td>\n",
       "      <td>0.993071</td>\n",
       "      <td>0.993004</td>\n",
       "      <td>0.986421</td>\n",
       "      <td>0.986031</td>\n",
       "      <td>0.986037</td>\n",
       "      <td>-0.117325</td>\n",
       "      <td>...</td>\n",
       "      <td>-0.020493</td>\n",
       "      <td>0.044921</td>\n",
       "      <td>-0.176370</td>\n",
       "      <td>0.673950</td>\n",
       "      <td>0.914842</td>\n",
       "      <td>0.040621</td>\n",
       "      <td>0.483448</td>\n",
       "      <td>0.424326</td>\n",
       "      <td>0.144345</td>\n",
       "      <td>0.127119</td>\n",
       "    </tr>\n",
       "    <tr>\n",
       "      <th>Male</th>\n",
       "      <td>0.999857</td>\n",
       "      <td>1.000000</td>\n",
       "      <td>0.999445</td>\n",
       "      <td>0.993453</td>\n",
       "      <td>0.993486</td>\n",
       "      <td>0.993353</td>\n",
       "      <td>0.985345</td>\n",
       "      <td>0.985358</td>\n",
       "      <td>0.984637</td>\n",
       "      <td>-0.119001</td>\n",
       "      <td>...</td>\n",
       "      <td>-0.018792</td>\n",
       "      <td>0.046884</td>\n",
       "      <td>-0.178172</td>\n",
       "      <td>0.671339</td>\n",
       "      <td>0.914545</td>\n",
       "      <td>0.039388</td>\n",
       "      <td>0.479695</td>\n",
       "      <td>0.420643</td>\n",
       "      <td>0.141521</td>\n",
       "      <td>0.124176</td>\n",
       "    </tr>\n",
       "    <tr>\n",
       "      <th>Female</th>\n",
       "      <td>0.999866</td>\n",
       "      <td>0.999445</td>\n",
       "      <td>1.000000</td>\n",
       "      <td>0.992429</td>\n",
       "      <td>0.992399</td>\n",
       "      <td>0.992396</td>\n",
       "      <td>0.987192</td>\n",
       "      <td>0.986414</td>\n",
       "      <td>0.987122</td>\n",
       "      <td>-0.115671</td>\n",
       "      <td>...</td>\n",
       "      <td>-0.022132</td>\n",
       "      <td>0.043011</td>\n",
       "      <td>-0.174579</td>\n",
       "      <td>0.676291</td>\n",
       "      <td>0.914879</td>\n",
       "      <td>0.041802</td>\n",
       "      <td>0.486980</td>\n",
       "      <td>0.427804</td>\n",
       "      <td>0.147051</td>\n",
       "      <td>0.129945</td>\n",
       "    </tr>\n",
       "    <tr>\n",
       "      <th>Total Under 18 year</th>\n",
       "      <td>0.993070</td>\n",
       "      <td>0.993453</td>\n",
       "      <td>0.992429</td>\n",
       "      <td>1.000000</td>\n",
       "      <td>0.999969</td>\n",
       "      <td>0.999967</td>\n",
       "      <td>0.967238</td>\n",
       "      <td>0.967666</td>\n",
       "      <td>0.966206</td>\n",
       "      <td>-0.151806</td>\n",
       "      <td>...</td>\n",
       "      <td>0.045074</td>\n",
       "      <td>0.112767</td>\n",
       "      <td>-0.214464</td>\n",
       "      <td>0.656513</td>\n",
       "      <td>0.919732</td>\n",
       "      <td>0.035520</td>\n",
       "      <td>0.464070</td>\n",
       "      <td>0.405342</td>\n",
       "      <td>0.134313</td>\n",
       "      <td>0.117101</td>\n",
       "    </tr>\n",
       "    <tr>\n",
       "      <th>Male Under 18 year</th>\n",
       "      <td>0.993071</td>\n",
       "      <td>0.993486</td>\n",
       "      <td>0.992399</td>\n",
       "      <td>0.999969</td>\n",
       "      <td>1.000000</td>\n",
       "      <td>0.999872</td>\n",
       "      <td>0.967255</td>\n",
       "      <td>0.967718</td>\n",
       "      <td>0.966194</td>\n",
       "      <td>-0.151629</td>\n",
       "      <td>...</td>\n",
       "      <td>0.045261</td>\n",
       "      <td>0.112922</td>\n",
       "      <td>-0.214460</td>\n",
       "      <td>0.656386</td>\n",
       "      <td>0.919195</td>\n",
       "      <td>0.035361</td>\n",
       "      <td>0.463958</td>\n",
       "      <td>0.405269</td>\n",
       "      <td>0.134279</td>\n",
       "      <td>0.117025</td>\n",
       "    </tr>\n",
       "    <tr>\n",
       "      <th>Female Under 18 year</th>\n",
       "      <td>0.993004</td>\n",
       "      <td>0.993353</td>\n",
       "      <td>0.992396</td>\n",
       "      <td>0.999967</td>\n",
       "      <td>0.999872</td>\n",
       "      <td>1.000000</td>\n",
       "      <td>0.967157</td>\n",
       "      <td>0.967549</td>\n",
       "      <td>0.966154</td>\n",
       "      <td>-0.151979</td>\n",
       "      <td>...</td>\n",
       "      <td>0.044876</td>\n",
       "      <td>0.112597</td>\n",
       "      <td>-0.214454</td>\n",
       "      <td>0.656603</td>\n",
       "      <td>0.920232</td>\n",
       "      <td>0.035684</td>\n",
       "      <td>0.464157</td>\n",
       "      <td>0.405392</td>\n",
       "      <td>0.134341</td>\n",
       "      <td>0.117173</td>\n",
       "    </tr>\n",
       "    <tr>\n",
       "      <th>Total 60 years and over</th>\n",
       "      <td>0.986421</td>\n",
       "      <td>0.985345</td>\n",
       "      <td>0.987192</td>\n",
       "      <td>0.967238</td>\n",
       "      <td>0.967255</td>\n",
       "      <td>0.967157</td>\n",
       "      <td>1.000000</td>\n",
       "      <td>0.999515</td>\n",
       "      <td>0.999683</td>\n",
       "      <td>-0.027644</td>\n",
       "      <td>...</td>\n",
       "      <td>-0.067963</td>\n",
       "      <td>-0.027470</td>\n",
       "      <td>-0.078036</td>\n",
       "      <td>0.668113</td>\n",
       "      <td>0.891150</td>\n",
       "      <td>0.046182</td>\n",
       "      <td>0.511044</td>\n",
       "      <td>0.457452</td>\n",
       "      <td>0.167103</td>\n",
       "      <td>0.153453</td>\n",
       "    </tr>\n",
       "    <tr>\n",
       "      <th>Male 60 years and over</th>\n",
       "      <td>0.986031</td>\n",
       "      <td>0.985358</td>\n",
       "      <td>0.986414</td>\n",
       "      <td>0.967666</td>\n",
       "      <td>0.967718</td>\n",
       "      <td>0.967549</td>\n",
       "      <td>0.999515</td>\n",
       "      <td>1.000000</td>\n",
       "      <td>0.998413</td>\n",
       "      <td>-0.023275</td>\n",
       "      <td>...</td>\n",
       "      <td>-0.066652</td>\n",
       "      <td>-0.027728</td>\n",
       "      <td>-0.074046</td>\n",
       "      <td>0.662731</td>\n",
       "      <td>0.890830</td>\n",
       "      <td>0.044354</td>\n",
       "      <td>0.504283</td>\n",
       "      <td>0.451380</td>\n",
       "      <td>0.162545</td>\n",
       "      <td>0.149317</td>\n",
       "    </tr>\n",
       "    <tr>\n",
       "      <th>Female 60 years and over</th>\n",
       "      <td>0.986037</td>\n",
       "      <td>0.984637</td>\n",
       "      <td>0.987122</td>\n",
       "      <td>0.966206</td>\n",
       "      <td>0.966194</td>\n",
       "      <td>0.966154</td>\n",
       "      <td>0.999683</td>\n",
       "      <td>0.998413</td>\n",
       "      <td>1.000000</td>\n",
       "      <td>-0.031154</td>\n",
       "      <td>...</td>\n",
       "      <td>-0.068973</td>\n",
       "      <td>-0.027242</td>\n",
       "      <td>-0.081206</td>\n",
       "      <td>0.671988</td>\n",
       "      <td>0.890777</td>\n",
       "      <td>0.047627</td>\n",
       "      <td>0.516256</td>\n",
       "      <td>0.462133</td>\n",
       "      <td>0.170716</td>\n",
       "      <td>0.156729</td>\n",
       "    </tr>\n",
       "    <tr>\n",
       "      <th>Median age (years)</th>\n",
       "      <td>-0.117325</td>\n",
       "      <td>-0.119001</td>\n",
       "      <td>-0.115671</td>\n",
       "      <td>-0.151806</td>\n",
       "      <td>-0.151629</td>\n",
       "      <td>-0.151979</td>\n",
       "      <td>-0.027644</td>\n",
       "      <td>-0.023275</td>\n",
       "      <td>-0.031154</td>\n",
       "      <td>1.000000</td>\n",
       "      <td>...</td>\n",
       "      <td>-0.290061</td>\n",
       "      <td>-0.527027</td>\n",
       "      <td>0.913761</td>\n",
       "      <td>-0.042083</td>\n",
       "      <td>-0.155379</td>\n",
       "      <td>0.002370</td>\n",
       "      <td>-0.009024</td>\n",
       "      <td>0.006985</td>\n",
       "      <td>0.015160</td>\n",
       "      <td>0.047080</td>\n",
       "    </tr>\n",
       "    <tr>\n",
       "      <th>Sex ratio (males per 100 females)</th>\n",
       "      <td>-0.084732</td>\n",
       "      <td>-0.075631</td>\n",
       "      <td>-0.093509</td>\n",
       "      <td>-0.073157</td>\n",
       "      <td>-0.071161</td>\n",
       "      <td>-0.075235</td>\n",
       "      <td>-0.113969</td>\n",
       "      <td>-0.105038</td>\n",
       "      <td>-0.121104</td>\n",
       "      <td>-0.162078</td>\n",
       "      <td>...</td>\n",
       "      <td>0.024010</td>\n",
       "      <td>0.068213</td>\n",
       "      <td>-0.164707</td>\n",
       "      <td>-0.117349</td>\n",
       "      <td>-0.102286</td>\n",
       "      <td>-0.082167</td>\n",
       "      <td>-0.102903</td>\n",
       "      <td>-0.106199</td>\n",
       "      <td>-0.134819</td>\n",
       "      <td>-0.171893</td>\n",
       "    </tr>\n",
       "    <tr>\n",
       "      <th>Age dependency ratio</th>\n",
       "      <td>-0.160635</td>\n",
       "      <td>-0.161004</td>\n",
       "      <td>-0.160234</td>\n",
       "      <td>-0.151522</td>\n",
       "      <td>-0.151523</td>\n",
       "      <td>-0.151511</td>\n",
       "      <td>-0.099931</td>\n",
       "      <td>-0.094763</td>\n",
       "      <td>-0.104036</td>\n",
       "      <td>0.658642</td>\n",
       "      <td>...</td>\n",
       "      <td>0.336335</td>\n",
       "      <td>0.039858</td>\n",
       "      <td>0.717917</td>\n",
       "      <td>-0.101015</td>\n",
       "      <td>-0.160622</td>\n",
       "      <td>-0.035874</td>\n",
       "      <td>-0.095278</td>\n",
       "      <td>-0.076315</td>\n",
       "      <td>-0.060028</td>\n",
       "      <td>-0.029845</td>\n",
       "    </tr>\n",
       "    <tr>\n",
       "      <th>Old-age dependency ratio</th>\n",
       "      <td>-0.153380</td>\n",
       "      <td>-0.154758</td>\n",
       "      <td>-0.152006</td>\n",
       "      <td>-0.182602</td>\n",
       "      <td>-0.182712</td>\n",
       "      <td>-0.182474</td>\n",
       "      <td>-0.062897</td>\n",
       "      <td>-0.058341</td>\n",
       "      <td>-0.066534</td>\n",
       "      <td>0.849304</td>\n",
       "      <td>...</td>\n",
       "      <td>-0.242512</td>\n",
       "      <td>-0.518241</td>\n",
       "      <td>0.952287</td>\n",
       "      <td>-0.061260</td>\n",
       "      <td>-0.161545</td>\n",
       "      <td>0.014699</td>\n",
       "      <td>-0.070079</td>\n",
       "      <td>-0.051537</td>\n",
       "      <td>-0.047952</td>\n",
       "      <td>-0.008869</td>\n",
       "    </tr>\n",
       "    <tr>\n",
       "      <th>Child dependency ratio</th>\n",
       "      <td>-0.020493</td>\n",
       "      <td>-0.018792</td>\n",
       "      <td>-0.022132</td>\n",
       "      <td>0.045074</td>\n",
       "      <td>0.045261</td>\n",
       "      <td>0.044876</td>\n",
       "      <td>-0.067963</td>\n",
       "      <td>-0.066652</td>\n",
       "      <td>-0.068973</td>\n",
       "      <td>-0.290061</td>\n",
       "      <td>...</td>\n",
       "      <td>1.000000</td>\n",
       "      <td>0.949613</td>\n",
       "      <td>-0.361236</td>\n",
       "      <td>-0.072882</td>\n",
       "      <td>-0.006476</td>\n",
       "      <td>-0.087838</td>\n",
       "      <td>-0.047401</td>\n",
       "      <td>-0.045717</td>\n",
       "      <td>-0.023279</td>\n",
       "      <td>-0.037107</td>\n",
       "    </tr>\n",
       "    <tr>\n",
       "      <th>percent_under18</th>\n",
       "      <td>0.044921</td>\n",
       "      <td>0.046884</td>\n",
       "      <td>0.043011</td>\n",
       "      <td>0.112767</td>\n",
       "      <td>0.112922</td>\n",
       "      <td>0.112597</td>\n",
       "      <td>-0.027470</td>\n",
       "      <td>-0.027728</td>\n",
       "      <td>-0.027242</td>\n",
       "      <td>-0.527027</td>\n",
       "      <td>...</td>\n",
       "      <td>0.949613</td>\n",
       "      <td>1.000000</td>\n",
       "      <td>-0.625550</td>\n",
       "      <td>-0.037875</td>\n",
       "      <td>0.059052</td>\n",
       "      <td>-0.080073</td>\n",
       "      <td>-0.014544</td>\n",
       "      <td>-0.018993</td>\n",
       "      <td>-0.004930</td>\n",
       "      <td>-0.026839</td>\n",
       "    </tr>\n",
       "    <tr>\n",
       "      <th>percent_over60</th>\n",
       "      <td>-0.176370</td>\n",
       "      <td>-0.178172</td>\n",
       "      <td>-0.174579</td>\n",
       "      <td>-0.214464</td>\n",
       "      <td>-0.214460</td>\n",
       "      <td>-0.214454</td>\n",
       "      <td>-0.078036</td>\n",
       "      <td>-0.074046</td>\n",
       "      <td>-0.081206</td>\n",
       "      <td>0.913761</td>\n",
       "      <td>...</td>\n",
       "      <td>-0.361236</td>\n",
       "      <td>-0.625550</td>\n",
       "      <td>1.000000</td>\n",
       "      <td>-0.067561</td>\n",
       "      <td>-0.183496</td>\n",
       "      <td>0.016503</td>\n",
       "      <td>-0.065491</td>\n",
       "      <td>-0.043778</td>\n",
       "      <td>-0.035615</td>\n",
       "      <td>0.006298</td>\n",
       "    </tr>\n",
       "    <tr>\n",
       "      <th>hospital_bed_count</th>\n",
       "      <td>0.673950</td>\n",
       "      <td>0.671339</td>\n",
       "      <td>0.676291</td>\n",
       "      <td>0.656513</td>\n",
       "      <td>0.656386</td>\n",
       "      <td>0.656603</td>\n",
       "      <td>0.668113</td>\n",
       "      <td>0.662731</td>\n",
       "      <td>0.671988</td>\n",
       "      <td>-0.042083</td>\n",
       "      <td>...</td>\n",
       "      <td>-0.072882</td>\n",
       "      <td>-0.037875</td>\n",
       "      <td>-0.067561</td>\n",
       "      <td>1.000000</td>\n",
       "      <td>0.624717</td>\n",
       "      <td>0.487452</td>\n",
       "      <td>0.341528</td>\n",
       "      <td>0.288026</td>\n",
       "      <td>0.045557</td>\n",
       "      <td>0.041225</td>\n",
       "    </tr>\n",
       "    <tr>\n",
       "      <th>hospital_count</th>\n",
       "      <td>0.914842</td>\n",
       "      <td>0.914545</td>\n",
       "      <td>0.914879</td>\n",
       "      <td>0.919732</td>\n",
       "      <td>0.919195</td>\n",
       "      <td>0.920232</td>\n",
       "      <td>0.891150</td>\n",
       "      <td>0.890830</td>\n",
       "      <td>0.890777</td>\n",
       "      <td>-0.155379</td>\n",
       "      <td>...</td>\n",
       "      <td>-0.006476</td>\n",
       "      <td>0.059052</td>\n",
       "      <td>-0.183496</td>\n",
       "      <td>0.624717</td>\n",
       "      <td>1.000000</td>\n",
       "      <td>0.010420</td>\n",
       "      <td>0.418844</td>\n",
       "      <td>0.357255</td>\n",
       "      <td>0.130669</td>\n",
       "      <td>0.110456</td>\n",
       "    </tr>\n",
       "    <tr>\n",
       "      <th>hospitalbeds_per10000</th>\n",
       "      <td>0.040621</td>\n",
       "      <td>0.039388</td>\n",
       "      <td>0.041802</td>\n",
       "      <td>0.035520</td>\n",
       "      <td>0.035361</td>\n",
       "      <td>0.035684</td>\n",
       "      <td>0.046182</td>\n",
       "      <td>0.044354</td>\n",
       "      <td>0.047627</td>\n",
       "      <td>0.002370</td>\n",
       "      <td>...</td>\n",
       "      <td>-0.087838</td>\n",
       "      <td>-0.080073</td>\n",
       "      <td>0.016503</td>\n",
       "      <td>0.487452</td>\n",
       "      <td>0.010420</td>\n",
       "      <td>1.000000</td>\n",
       "      <td>0.013663</td>\n",
       "      <td>0.013057</td>\n",
       "      <td>-0.046320</td>\n",
       "      <td>-0.022610</td>\n",
       "    </tr>\n",
       "    <tr>\n",
       "      <th>cases</th>\n",
       "      <td>0.483448</td>\n",
       "      <td>0.479695</td>\n",
       "      <td>0.486980</td>\n",
       "      <td>0.464070</td>\n",
       "      <td>0.463958</td>\n",
       "      <td>0.464157</td>\n",
       "      <td>0.511044</td>\n",
       "      <td>0.504283</td>\n",
       "      <td>0.516256</td>\n",
       "      <td>-0.009024</td>\n",
       "      <td>...</td>\n",
       "      <td>-0.047401</td>\n",
       "      <td>-0.014544</td>\n",
       "      <td>-0.065491</td>\n",
       "      <td>0.341528</td>\n",
       "      <td>0.418844</td>\n",
       "      <td>0.013663</td>\n",
       "      <td>1.000000</td>\n",
       "      <td>0.932570</td>\n",
       "      <td>0.771920</td>\n",
       "      <td>0.678340</td>\n",
       "    </tr>\n",
       "    <tr>\n",
       "      <th>deaths</th>\n",
       "      <td>0.424326</td>\n",
       "      <td>0.420643</td>\n",
       "      <td>0.427804</td>\n",
       "      <td>0.405342</td>\n",
       "      <td>0.405269</td>\n",
       "      <td>0.405392</td>\n",
       "      <td>0.457452</td>\n",
       "      <td>0.451380</td>\n",
       "      <td>0.462133</td>\n",
       "      <td>0.006985</td>\n",
       "      <td>...</td>\n",
       "      <td>-0.045717</td>\n",
       "      <td>-0.018993</td>\n",
       "      <td>-0.043778</td>\n",
       "      <td>0.288026</td>\n",
       "      <td>0.357255</td>\n",
       "      <td>0.013057</td>\n",
       "      <td>0.932570</td>\n",
       "      <td>1.000000</td>\n",
       "      <td>0.700575</td>\n",
       "      <td>0.733472</td>\n",
       "    </tr>\n",
       "    <tr>\n",
       "      <th>cases_per1000</th>\n",
       "      <td>0.144345</td>\n",
       "      <td>0.141521</td>\n",
       "      <td>0.147051</td>\n",
       "      <td>0.134313</td>\n",
       "      <td>0.134279</td>\n",
       "      <td>0.134341</td>\n",
       "      <td>0.167103</td>\n",
       "      <td>0.162545</td>\n",
       "      <td>0.170716</td>\n",
       "      <td>0.015160</td>\n",
       "      <td>...</td>\n",
       "      <td>-0.023279</td>\n",
       "      <td>-0.004930</td>\n",
       "      <td>-0.035615</td>\n",
       "      <td>0.045557</td>\n",
       "      <td>0.130669</td>\n",
       "      <td>-0.046320</td>\n",
       "      <td>0.771920</td>\n",
       "      <td>0.700575</td>\n",
       "      <td>1.000000</td>\n",
       "      <td>0.873098</td>\n",
       "    </tr>\n",
       "    <tr>\n",
       "      <th>deaths_per1000</th>\n",
       "      <td>0.127119</td>\n",
       "      <td>0.124176</td>\n",
       "      <td>0.129945</td>\n",
       "      <td>0.117101</td>\n",
       "      <td>0.117025</td>\n",
       "      <td>0.117173</td>\n",
       "      <td>0.153453</td>\n",
       "      <td>0.149317</td>\n",
       "      <td>0.156729</td>\n",
       "      <td>0.047080</td>\n",
       "      <td>...</td>\n",
       "      <td>-0.037107</td>\n",
       "      <td>-0.026839</td>\n",
       "      <td>0.006298</td>\n",
       "      <td>0.041225</td>\n",
       "      <td>0.110456</td>\n",
       "      <td>-0.022610</td>\n",
       "      <td>0.678340</td>\n",
       "      <td>0.733472</td>\n",
       "      <td>0.873098</td>\n",
       "      <td>1.000000</td>\n",
       "    </tr>\n",
       "  </tbody>\n",
       "</table>\n",
       "<p>23 rows × 23 columns</p>\n",
       "</div>"
      ],
      "text/plain": [
       "                                      Total      Male    Female  \\\n",
       "Total                              1.000000  0.999857  0.999866   \n",
       "Male                               0.999857  1.000000  0.999445   \n",
       "Female                             0.999866  0.999445  1.000000   \n",
       "Total Under 18 year                0.993070  0.993453  0.992429   \n",
       "Male Under 18 year                 0.993071  0.993486  0.992399   \n",
       "Female Under 18 year               0.993004  0.993353  0.992396   \n",
       "Total 60 years and over            0.986421  0.985345  0.987192   \n",
       "Male 60 years and over             0.986031  0.985358  0.986414   \n",
       "Female 60 years and over           0.986037  0.984637  0.987122   \n",
       "Median age (years)                -0.117325 -0.119001 -0.115671   \n",
       "Sex ratio (males per 100 females) -0.084732 -0.075631 -0.093509   \n",
       "Age dependency ratio              -0.160635 -0.161004 -0.160234   \n",
       "Old-age dependency ratio          -0.153380 -0.154758 -0.152006   \n",
       "Child dependency ratio            -0.020493 -0.018792 -0.022132   \n",
       "percent_under18                    0.044921  0.046884  0.043011   \n",
       "percent_over60                    -0.176370 -0.178172 -0.174579   \n",
       "hospital_bed_count                 0.673950  0.671339  0.676291   \n",
       "hospital_count                     0.914842  0.914545  0.914879   \n",
       "hospitalbeds_per10000              0.040621  0.039388  0.041802   \n",
       "cases                              0.483448  0.479695  0.486980   \n",
       "deaths                             0.424326  0.420643  0.427804   \n",
       "cases_per1000                      0.144345  0.141521  0.147051   \n",
       "deaths_per1000                     0.127119  0.124176  0.129945   \n",
       "\n",
       "                                   Total Under 18 year  Male Under 18 year  \\\n",
       "Total                                         0.993070            0.993071   \n",
       "Male                                          0.993453            0.993486   \n",
       "Female                                        0.992429            0.992399   \n",
       "Total Under 18 year                           1.000000            0.999969   \n",
       "Male Under 18 year                            0.999969            1.000000   \n",
       "Female Under 18 year                          0.999967            0.999872   \n",
       "Total 60 years and over                       0.967238            0.967255   \n",
       "Male 60 years and over                        0.967666            0.967718   \n",
       "Female 60 years and over                      0.966206            0.966194   \n",
       "Median age (years)                           -0.151806           -0.151629   \n",
       "Sex ratio (males per 100 females)            -0.073157           -0.071161   \n",
       "Age dependency ratio                         -0.151522           -0.151523   \n",
       "Old-age dependency ratio                     -0.182602           -0.182712   \n",
       "Child dependency ratio                        0.045074            0.045261   \n",
       "percent_under18                               0.112767            0.112922   \n",
       "percent_over60                               -0.214464           -0.214460   \n",
       "hospital_bed_count                            0.656513            0.656386   \n",
       "hospital_count                                0.919732            0.919195   \n",
       "hospitalbeds_per10000                         0.035520            0.035361   \n",
       "cases                                         0.464070            0.463958   \n",
       "deaths                                        0.405342            0.405269   \n",
       "cases_per1000                                 0.134313            0.134279   \n",
       "deaths_per1000                                0.117101            0.117025   \n",
       "\n",
       "                                   Female Under 18 year  \\\n",
       "Total                                          0.993004   \n",
       "Male                                           0.993353   \n",
       "Female                                         0.992396   \n",
       "Total Under 18 year                            0.999967   \n",
       "Male Under 18 year                             0.999872   \n",
       "Female Under 18 year                           1.000000   \n",
       "Total 60 years and over                        0.967157   \n",
       "Male 60 years and over                         0.967549   \n",
       "Female 60 years and over                       0.966154   \n",
       "Median age (years)                            -0.151979   \n",
       "Sex ratio (males per 100 females)             -0.075235   \n",
       "Age dependency ratio                          -0.151511   \n",
       "Old-age dependency ratio                      -0.182474   \n",
       "Child dependency ratio                         0.044876   \n",
       "percent_under18                                0.112597   \n",
       "percent_over60                                -0.214454   \n",
       "hospital_bed_count                             0.656603   \n",
       "hospital_count                                 0.920232   \n",
       "hospitalbeds_per10000                          0.035684   \n",
       "cases                                          0.464157   \n",
       "deaths                                         0.405392   \n",
       "cases_per1000                                  0.134341   \n",
       "deaths_per1000                                 0.117173   \n",
       "\n",
       "                                   Total 60 years and over  \\\n",
       "Total                                             0.986421   \n",
       "Male                                              0.985345   \n",
       "Female                                            0.987192   \n",
       "Total Under 18 year                               0.967238   \n",
       "Male Under 18 year                                0.967255   \n",
       "Female Under 18 year                              0.967157   \n",
       "Total 60 years and over                           1.000000   \n",
       "Male 60 years and over                            0.999515   \n",
       "Female 60 years and over                          0.999683   \n",
       "Median age (years)                               -0.027644   \n",
       "Sex ratio (males per 100 females)                -0.113969   \n",
       "Age dependency ratio                             -0.099931   \n",
       "Old-age dependency ratio                         -0.062897   \n",
       "Child dependency ratio                           -0.067963   \n",
       "percent_under18                                  -0.027470   \n",
       "percent_over60                                   -0.078036   \n",
       "hospital_bed_count                                0.668113   \n",
       "hospital_count                                    0.891150   \n",
       "hospitalbeds_per10000                             0.046182   \n",
       "cases                                             0.511044   \n",
       "deaths                                            0.457452   \n",
       "cases_per1000                                     0.167103   \n",
       "deaths_per1000                                    0.153453   \n",
       "\n",
       "                                   Male 60 years and over  \\\n",
       "Total                                            0.986031   \n",
       "Male                                             0.985358   \n",
       "Female                                           0.986414   \n",
       "Total Under 18 year                              0.967666   \n",
       "Male Under 18 year                               0.967718   \n",
       "Female Under 18 year                             0.967549   \n",
       "Total 60 years and over                          0.999515   \n",
       "Male 60 years and over                           1.000000   \n",
       "Female 60 years and over                         0.998413   \n",
       "Median age (years)                              -0.023275   \n",
       "Sex ratio (males per 100 females)               -0.105038   \n",
       "Age dependency ratio                            -0.094763   \n",
       "Old-age dependency ratio                        -0.058341   \n",
       "Child dependency ratio                          -0.066652   \n",
       "percent_under18                                 -0.027728   \n",
       "percent_over60                                  -0.074046   \n",
       "hospital_bed_count                               0.662731   \n",
       "hospital_count                                   0.890830   \n",
       "hospitalbeds_per10000                            0.044354   \n",
       "cases                                            0.504283   \n",
       "deaths                                           0.451380   \n",
       "cases_per1000                                    0.162545   \n",
       "deaths_per1000                                   0.149317   \n",
       "\n",
       "                                   Female 60 years and over  \\\n",
       "Total                                              0.986037   \n",
       "Male                                               0.984637   \n",
       "Female                                             0.987122   \n",
       "Total Under 18 year                                0.966206   \n",
       "Male Under 18 year                                 0.966194   \n",
       "Female Under 18 year                               0.966154   \n",
       "Total 60 years and over                            0.999683   \n",
       "Male 60 years and over                             0.998413   \n",
       "Female 60 years and over                           1.000000   \n",
       "Median age (years)                                -0.031154   \n",
       "Sex ratio (males per 100 females)                 -0.121104   \n",
       "Age dependency ratio                              -0.104036   \n",
       "Old-age dependency ratio                          -0.066534   \n",
       "Child dependency ratio                            -0.068973   \n",
       "percent_under18                                   -0.027242   \n",
       "percent_over60                                    -0.081206   \n",
       "hospital_bed_count                                 0.671988   \n",
       "hospital_count                                     0.890777   \n",
       "hospitalbeds_per10000                              0.047627   \n",
       "cases                                              0.516256   \n",
       "deaths                                             0.462133   \n",
       "cases_per1000                                      0.170716   \n",
       "deaths_per1000                                     0.156729   \n",
       "\n",
       "                                   Median age (years)  ...  \\\n",
       "Total                                       -0.117325  ...   \n",
       "Male                                        -0.119001  ...   \n",
       "Female                                      -0.115671  ...   \n",
       "Total Under 18 year                         -0.151806  ...   \n",
       "Male Under 18 year                          -0.151629  ...   \n",
       "Female Under 18 year                        -0.151979  ...   \n",
       "Total 60 years and over                     -0.027644  ...   \n",
       "Male 60 years and over                      -0.023275  ...   \n",
       "Female 60 years and over                    -0.031154  ...   \n",
       "Median age (years)                           1.000000  ...   \n",
       "Sex ratio (males per 100 females)           -0.162078  ...   \n",
       "Age dependency ratio                         0.658642  ...   \n",
       "Old-age dependency ratio                     0.849304  ...   \n",
       "Child dependency ratio                      -0.290061  ...   \n",
       "percent_under18                             -0.527027  ...   \n",
       "percent_over60                               0.913761  ...   \n",
       "hospital_bed_count                          -0.042083  ...   \n",
       "hospital_count                              -0.155379  ...   \n",
       "hospitalbeds_per10000                        0.002370  ...   \n",
       "cases                                       -0.009024  ...   \n",
       "deaths                                       0.006985  ...   \n",
       "cases_per1000                                0.015160  ...   \n",
       "deaths_per1000                               0.047080  ...   \n",
       "\n",
       "                                   Child dependency ratio  percent_under18  \\\n",
       "Total                                           -0.020493         0.044921   \n",
       "Male                                            -0.018792         0.046884   \n",
       "Female                                          -0.022132         0.043011   \n",
       "Total Under 18 year                              0.045074         0.112767   \n",
       "Male Under 18 year                               0.045261         0.112922   \n",
       "Female Under 18 year                             0.044876         0.112597   \n",
       "Total 60 years and over                         -0.067963        -0.027470   \n",
       "Male 60 years and over                          -0.066652        -0.027728   \n",
       "Female 60 years and over                        -0.068973        -0.027242   \n",
       "Median age (years)                              -0.290061        -0.527027   \n",
       "Sex ratio (males per 100 females)                0.024010         0.068213   \n",
       "Age dependency ratio                             0.336335         0.039858   \n",
       "Old-age dependency ratio                        -0.242512        -0.518241   \n",
       "Child dependency ratio                           1.000000         0.949613   \n",
       "percent_under18                                  0.949613         1.000000   \n",
       "percent_over60                                  -0.361236        -0.625550   \n",
       "hospital_bed_count                              -0.072882        -0.037875   \n",
       "hospital_count                                  -0.006476         0.059052   \n",
       "hospitalbeds_per10000                           -0.087838        -0.080073   \n",
       "cases                                           -0.047401        -0.014544   \n",
       "deaths                                          -0.045717        -0.018993   \n",
       "cases_per1000                                   -0.023279        -0.004930   \n",
       "deaths_per1000                                  -0.037107        -0.026839   \n",
       "\n",
       "                                   percent_over60  hospital_bed_count  \\\n",
       "Total                                   -0.176370            0.673950   \n",
       "Male                                    -0.178172            0.671339   \n",
       "Female                                  -0.174579            0.676291   \n",
       "Total Under 18 year                     -0.214464            0.656513   \n",
       "Male Under 18 year                      -0.214460            0.656386   \n",
       "Female Under 18 year                    -0.214454            0.656603   \n",
       "Total 60 years and over                 -0.078036            0.668113   \n",
       "Male 60 years and over                  -0.074046            0.662731   \n",
       "Female 60 years and over                -0.081206            0.671988   \n",
       "Median age (years)                       0.913761           -0.042083   \n",
       "Sex ratio (males per 100 females)       -0.164707           -0.117349   \n",
       "Age dependency ratio                     0.717917           -0.101015   \n",
       "Old-age dependency ratio                 0.952287           -0.061260   \n",
       "Child dependency ratio                  -0.361236           -0.072882   \n",
       "percent_under18                         -0.625550           -0.037875   \n",
       "percent_over60                           1.000000           -0.067561   \n",
       "hospital_bed_count                      -0.067561            1.000000   \n",
       "hospital_count                          -0.183496            0.624717   \n",
       "hospitalbeds_per10000                    0.016503            0.487452   \n",
       "cases                                   -0.065491            0.341528   \n",
       "deaths                                  -0.043778            0.288026   \n",
       "cases_per1000                           -0.035615            0.045557   \n",
       "deaths_per1000                           0.006298            0.041225   \n",
       "\n",
       "                                   hospital_count  hospitalbeds_per10000  \\\n",
       "Total                                    0.914842               0.040621   \n",
       "Male                                     0.914545               0.039388   \n",
       "Female                                   0.914879               0.041802   \n",
       "Total Under 18 year                      0.919732               0.035520   \n",
       "Male Under 18 year                       0.919195               0.035361   \n",
       "Female Under 18 year                     0.920232               0.035684   \n",
       "Total 60 years and over                  0.891150               0.046182   \n",
       "Male 60 years and over                   0.890830               0.044354   \n",
       "Female 60 years and over                 0.890777               0.047627   \n",
       "Median age (years)                      -0.155379               0.002370   \n",
       "Sex ratio (males per 100 females)       -0.102286              -0.082167   \n",
       "Age dependency ratio                    -0.160622              -0.035874   \n",
       "Old-age dependency ratio                -0.161545               0.014699   \n",
       "Child dependency ratio                  -0.006476              -0.087838   \n",
       "percent_under18                          0.059052              -0.080073   \n",
       "percent_over60                          -0.183496               0.016503   \n",
       "hospital_bed_count                       0.624717               0.487452   \n",
       "hospital_count                           1.000000               0.010420   \n",
       "hospitalbeds_per10000                    0.010420               1.000000   \n",
       "cases                                    0.418844               0.013663   \n",
       "deaths                                   0.357255               0.013057   \n",
       "cases_per1000                            0.130669              -0.046320   \n",
       "deaths_per1000                           0.110456              -0.022610   \n",
       "\n",
       "                                      cases    deaths  cases_per1000  \\\n",
       "Total                              0.483448  0.424326       0.144345   \n",
       "Male                               0.479695  0.420643       0.141521   \n",
       "Female                             0.486980  0.427804       0.147051   \n",
       "Total Under 18 year                0.464070  0.405342       0.134313   \n",
       "Male Under 18 year                 0.463958  0.405269       0.134279   \n",
       "Female Under 18 year               0.464157  0.405392       0.134341   \n",
       "Total 60 years and over            0.511044  0.457452       0.167103   \n",
       "Male 60 years and over             0.504283  0.451380       0.162545   \n",
       "Female 60 years and over           0.516256  0.462133       0.170716   \n",
       "Median age (years)                -0.009024  0.006985       0.015160   \n",
       "Sex ratio (males per 100 females) -0.102903 -0.106199      -0.134819   \n",
       "Age dependency ratio              -0.095278 -0.076315      -0.060028   \n",
       "Old-age dependency ratio          -0.070079 -0.051537      -0.047952   \n",
       "Child dependency ratio            -0.047401 -0.045717      -0.023279   \n",
       "percent_under18                   -0.014544 -0.018993      -0.004930   \n",
       "percent_over60                    -0.065491 -0.043778      -0.035615   \n",
       "hospital_bed_count                 0.341528  0.288026       0.045557   \n",
       "hospital_count                     0.418844  0.357255       0.130669   \n",
       "hospitalbeds_per10000              0.013663  0.013057      -0.046320   \n",
       "cases                              1.000000  0.932570       0.771920   \n",
       "deaths                             0.932570  1.000000       0.700575   \n",
       "cases_per1000                      0.771920  0.700575       1.000000   \n",
       "deaths_per1000                     0.678340  0.733472       0.873098   \n",
       "\n",
       "                                   deaths_per1000  \n",
       "Total                                    0.127119  \n",
       "Male                                     0.124176  \n",
       "Female                                   0.129945  \n",
       "Total Under 18 year                      0.117101  \n",
       "Male Under 18 year                       0.117025  \n",
       "Female Under 18 year                     0.117173  \n",
       "Total 60 years and over                  0.153453  \n",
       "Male 60 years and over                   0.149317  \n",
       "Female 60 years and over                 0.156729  \n",
       "Median age (years)                       0.047080  \n",
       "Sex ratio (males per 100 females)       -0.171893  \n",
       "Age dependency ratio                    -0.029845  \n",
       "Old-age dependency ratio                -0.008869  \n",
       "Child dependency ratio                  -0.037107  \n",
       "percent_under18                         -0.026839  \n",
       "percent_over60                           0.006298  \n",
       "hospital_bed_count                       0.041225  \n",
       "hospital_count                           0.110456  \n",
       "hospitalbeds_per10000                   -0.022610  \n",
       "cases                                    0.678340  \n",
       "deaths                                   0.733472  \n",
       "cases_per1000                            0.873098  \n",
       "deaths_per1000                           1.000000  \n",
       "\n",
       "[23 rows x 23 columns]"
      ]
     },
     "execution_count": 95,
     "metadata": {},
     "output_type": "execute_result"
    }
   ],
   "source": [
    "# preview correlation table\n",
    "covid_corr"
   ]
  },
  {
   "cell_type": "code",
   "execution_count": 96,
   "metadata": {},
   "outputs": [],
   "source": [
    "# make an annotated heatmap\n",
    "county_covid19_heatmap = ff.create_annotated_heatmap(z = covid_corr.values, \n",
    "                                       x=list(covid_corr.columns), \n",
    "                                       y=list(covid_corr.index), \n",
    "                                       annotation_text=covid_corr.round(2).values, \n",
    "                                       showscale = True \n",
    "                                       )"
   ]
  },
  {
   "cell_type": "code",
   "execution_count": 97,
   "metadata": {},
   "outputs": [
    {
     "data": {
      "application/vnd.plotly.v1+json": {
       "config": {
        "plotlyServerURL": "https://plot.ly"
       },
       "data": [
        {
         "colorscale": [
          [
           0,
           "#0d0887"
          ],
          [
           0.1111111111111111,
           "#46039f"
          ],
          [
           0.2222222222222222,
           "#7201a8"
          ],
          [
           0.3333333333333333,
           "#9c179e"
          ],
          [
           0.4444444444444444,
           "#bd3786"
          ],
          [
           0.5555555555555556,
           "#d8576b"
          ],
          [
           0.6666666666666666,
           "#ed7953"
          ],
          [
           0.7777777777777778,
           "#fb9f3a"
          ],
          [
           0.8888888888888888,
           "#fdca26"
          ],
          [
           1,
           "#f0f921"
          ]
         ],
         "reversescale": false,
         "showscale": true,
         "type": "heatmap",
         "x": [
          "Total",
          "Male",
          "Female",
          "Total Under 18 year",
          "Male Under 18 year",
          "Female Under 18 year",
          "Total 60 years and over",
          "Male 60 years and over",
          "Female 60 years and over",
          "Median age (years)",
          "Sex ratio (males per 100 females)",
          "Age dependency ratio",
          "Old-age dependency ratio",
          "Child dependency ratio",
          "percent_under18",
          "percent_over60",
          "hospital_bed_count",
          "hospital_count",
          "hospitalbeds_per10000",
          "cases",
          "deaths",
          "cases_per1000",
          "deaths_per1000"
         ],
         "y": [
          "Total",
          "Male",
          "Female",
          "Total Under 18 year",
          "Male Under 18 year",
          "Female Under 18 year",
          "Total 60 years and over",
          "Male 60 years and over",
          "Female 60 years and over",
          "Median age (years)",
          "Sex ratio (males per 100 females)",
          "Age dependency ratio",
          "Old-age dependency ratio",
          "Child dependency ratio",
          "percent_under18",
          "percent_over60",
          "hospital_bed_count",
          "hospital_count",
          "hospitalbeds_per10000",
          "cases",
          "deaths",
          "cases_per1000",
          "deaths_per1000"
         ],
         "z": [
          [
           1,
           0.9998566041781207,
           0.9998659173632957,
           0.9930703236321372,
           0.9930711000987215,
           0.9930043638551748,
           0.9864211865912907,
           0.9860313193149784,
           0.9860366485076072,
           -0.11732462505421164,
           -0.08473194465201463,
           -0.16063467629388478,
           -0.15338029052103425,
           -0.020493212944466765,
           0.0449209920816198,
           -0.17637004290608965,
           0.6739499379856638,
           0.9148416054104127,
           0.04062110777424557,
           0.4834480547113328,
           0.4243263921494822,
           0.1443447650248451,
           0.12711933652257448
          ],
          [
           0.9998566041781207,
           1,
           0.9994452378836544,
           0.9934531477372317,
           0.9934864426879999,
           0.9933532322307186,
           0.9853454859871662,
           0.9853579142114787,
           0.9846366331329579,
           -0.11900114215030147,
           -0.07563099277004838,
           -0.16100365746842263,
           -0.15475839879421643,
           -0.018792423169260053,
           0.04688395992803517,
           -0.1781720989749057,
           0.6713391823029601,
           0.9145453118401644,
           0.039388029467710674,
           0.4796953703120237,
           0.42064342288843615,
           0.14152085936084244,
           0.12417623487773256
          ],
          [
           0.9998659173632957,
           0.9994452378836544,
           1,
           0.9924292850719548,
           0.9923986164913078,
           0.9923961779130474,
           0.9871923307732746,
           0.9864135567468366,
           0.9871215045800935,
           -0.11567146120791676,
           -0.09350930421113388,
           -0.16023406546369437,
           -0.15200584909545012,
           -0.02213225907806294,
           0.043010582763490256,
           -0.17457938066835496,
           0.6762906796614212,
           0.9148785988061936,
           0.04180239490345215,
           0.48697987231610906,
           0.4278037737425296,
           0.1470513821204039,
           0.12994539636725605
          ],
          [
           0.9930703236321372,
           0.9934531477372317,
           0.9924292850719548,
           1,
           0.9999692311576439,
           0.9999665007859517,
           0.9672378306353969,
           0.9676663425212696,
           0.9662056005081685,
           -0.1518056218871095,
           -0.07315700947623831,
           -0.1515219064773544,
           -0.18260159107885046,
           0.045074144108907054,
           0.11276658225391266,
           -0.21446412139802495,
           0.6565132854631609,
           0.9197322765096559,
           0.03552018040806173,
           0.4640704985928246,
           0.40534229654589043,
           0.1343134387303802,
           0.11710126384831453
          ],
          [
           0.9930711000987215,
           0.9934864426879999,
           0.9923986164913078,
           0.9999692311576439,
           1,
           0.9998715239744987,
           0.9672547861698482,
           0.9677182796138972,
           0.9661942769277523,
           -0.1516294735656077,
           -0.0711609117232933,
           -0.15152292207080206,
           -0.18271242272890362,
           0.045261332447674385,
           0.11292167560047431,
           -0.2144603545799274,
           0.6563858424517337,
           0.9191954343003512,
           0.03536138802083567,
           0.4639579220593779,
           0.4052686770485445,
           0.13427851416108233,
           0.117024619661254
          ],
          [
           0.9930043638551748,
           0.9933532322307186,
           0.9923961779130474,
           0.9999665007859517,
           0.9998715239744987,
           1,
           0.9671566839271637,
           0.967548667052033,
           0.9661540286673298,
           -0.1519794604448855,
           -0.0752349893068646,
           -0.1515109063066316,
           -0.18247396707943755,
           0.0448758699748191,
           0.11259735594340392,
           -0.21445398204317045,
           0.6566031927133468,
           0.9202320930373584,
           0.03568353815621518,
           0.4641570901485364,
           0.4053921445980883,
           0.13434094448689238,
           0.11717344936500405
          ],
          [
           0.9864211865912907,
           0.9853454859871662,
           0.9871923307732746,
           0.9672378306353969,
           0.9672547861698482,
           0.9671566839271637,
           1,
           0.9995145628885247,
           0.9996830576448963,
           -0.0276437419245432,
           -0.11396868775639754,
           -0.09993088884068366,
           -0.06289666784386447,
           -0.06796253929333149,
           -0.027470365554151072,
           -0.078036458149925,
           0.6681127734439811,
           0.8911502566190251,
           0.046182484292806456,
           0.5110436020575527,
           0.4574515000513292,
           0.16710341282825006,
           0.15345272733885676
          ],
          [
           0.9860313193149784,
           0.9853579142114787,
           0.9864135567468366,
           0.9676663425212696,
           0.9677182796138972,
           0.967548667052033,
           0.9995145628885247,
           1,
           0.9984134431783466,
           -0.02327492715911884,
           -0.1050383984840398,
           -0.09476301487970788,
           -0.05834059648333028,
           -0.06665239962208541,
           -0.027728247868154643,
           -0.074045809160588,
           0.6627312229952217,
           0.8908303499438419,
           0.044353793547442934,
           0.5042829387505143,
           0.45137968057528344,
           0.16254491871233565,
           0.14931678822000424
          ],
          [
           0.9860366485076072,
           0.9846366331329579,
           0.9871215045800935,
           0.9662056005081685,
           0.9661942769277523,
           0.9661540286673298,
           0.9996830576448963,
           0.9984134431783466,
           1,
           -0.031154387872954336,
           -0.12110404279362681,
           -0.10403595382316655,
           -0.06653362629187948,
           -0.06897300746490355,
           -0.027242499896970244,
           -0.08120578595421545,
           0.6719875447964455,
           0.8907767528333709,
           0.047627417729189866,
           0.5162556005741651,
           0.4621332869681025,
           0.17071551218886288,
           0.15672898519615894
          ],
          [
           -0.11732462505421164,
           -0.11900114215030147,
           -0.11567146120791676,
           -0.1518056218871095,
           -0.1516294735656077,
           -0.1519794604448855,
           -0.0276437419245432,
           -0.02327492715911884,
           -0.031154387872954336,
           1,
           -0.16207800253011923,
           0.6586416983381603,
           0.8493044348640966,
           -0.2900612605340451,
           -0.5270274226565816,
           0.9137606775474263,
           -0.04208319285164234,
           -0.15537895895050183,
           0.002369997807436473,
           -0.009024084913095098,
           0.006985031303431375,
           0.015159692033063527,
           0.047079606938972875
          ],
          [
           -0.08473194465201463,
           -0.07563099277004838,
           -0.09350930421113388,
           -0.07315700947623831,
           -0.0711609117232933,
           -0.0752349893068646,
           -0.11396868775639754,
           -0.1050383984840398,
           -0.12110404279362681,
           -0.16207800253011923,
           1,
           -0.12775291413411016,
           -0.14565962129583093,
           0.02401047655321817,
           0.06821253891483053,
           -0.1647072852054576,
           -0.11734857399930193,
           -0.10228642107342989,
           -0.08216740671511391,
           -0.10290296683689218,
           -0.10619881401457296,
           -0.13481913620531122,
           -0.17189258252413347
          ],
          [
           -0.16063467629388478,
           -0.16100365746842263,
           -0.16023406546369437,
           -0.1515219064773544,
           -0.15152292207080206,
           -0.1515109063066316,
           -0.09993088884068366,
           -0.09476301487970788,
           -0.10403595382316655,
           0.6586416983381603,
           -0.12775291413411016,
           1,
           0.8320504003800574,
           0.3363349199218412,
           0.03985760201879908,
           0.7179166308940914,
           -0.10101524173678421,
           -0.1606216356366712,
           -0.03587361211537243,
           -0.09527775180889857,
           -0.07631510847095155,
           -0.060028137851449,
           -0.029844812433699373
          ],
          [
           -0.15338029052103425,
           -0.15475839879421643,
           -0.15200584909545012,
           -0.18260159107885046,
           -0.18271242272890362,
           -0.18247396707943755,
           -0.06289666784386447,
           -0.05834059648333028,
           -0.06653362629187948,
           0.8493044348640966,
           -0.14565962129583093,
           0.8320504003800574,
           1,
           -0.24251232985924456,
           -0.5182407839389599,
           0.9522869249388397,
           -0.06126024351244424,
           -0.16154516710531186,
           0.014699374639529578,
           -0.07007945891726136,
           -0.051536788799641874,
           -0.047952115811153745,
           -0.008869005191691065
          ],
          [
           -0.020493212944466765,
           -0.018792423169260053,
           -0.02213225907806294,
           0.045074144108907054,
           0.045261332447674385,
           0.0448758699748191,
           -0.06796253929333149,
           -0.06665239962208541,
           -0.06897300746490355,
           -0.2900612605340451,
           0.02401047655321817,
           0.3363349199218412,
           -0.24251232985924456,
           1,
           0.9496125894668466,
           -0.3612356074537854,
           -0.07288214637359297,
           -0.0064757875001022714,
           -0.08783836850542967,
           -0.04740093609716071,
           -0.04571732502333475,
           -0.02327941500558054,
           -0.03710717397189007
          ],
          [
           0.0449209920816198,
           0.04688395992803517,
           0.043010582763490256,
           0.11276658225391266,
           0.11292167560047431,
           0.11259735594340392,
           -0.027470365554151072,
           -0.027728247868154643,
           -0.027242499896970244,
           -0.5270274226565816,
           0.06821253891483053,
           0.03985760201879908,
           -0.5182407839389599,
           0.9496125894668466,
           1,
           -0.6255498136237791,
           -0.03787500053502488,
           0.05905221759944079,
           -0.08007308548751427,
           -0.014543563691489191,
           -0.01899319694658857,
           -0.004929726901664579,
           -0.02683948786992566
          ],
          [
           -0.17637004290608965,
           -0.1781720989749057,
           -0.17457938066835496,
           -0.21446412139802495,
           -0.2144603545799274,
           -0.21445398204317045,
           -0.078036458149925,
           -0.074045809160588,
           -0.08120578595421545,
           0.9137606775474263,
           -0.1647072852054576,
           0.7179166308940914,
           0.9522869249388397,
           -0.3612356074537854,
           -0.6255498136237791,
           1,
           -0.06756051894018582,
           -0.18349648249472705,
           0.01650310429894954,
           -0.06549071427412081,
           -0.043777530502252845,
           -0.035614877384974666,
           0.0062980300629099885
          ],
          [
           0.6739499379856638,
           0.6713391823029601,
           0.6762906796614212,
           0.6565132854631609,
           0.6563858424517337,
           0.6566031927133468,
           0.6681127734439811,
           0.6627312229952217,
           0.6719875447964455,
           -0.04208319285164234,
           -0.11734857399930193,
           -0.10101524173678421,
           -0.06126024351244424,
           -0.07288214637359297,
           -0.03787500053502488,
           -0.06756051894018582,
           1,
           0.6247167958713372,
           0.4874519793501592,
           0.3415278025043344,
           0.2880256351970271,
           0.04555671958922846,
           0.04122548891452671
          ],
          [
           0.9148416054104127,
           0.9145453118401644,
           0.9148785988061936,
           0.9197322765096559,
           0.9191954343003512,
           0.9202320930373584,
           0.8911502566190251,
           0.8908303499438419,
           0.8907767528333709,
           -0.15537895895050183,
           -0.10228642107342989,
           -0.1606216356366712,
           -0.16154516710531186,
           -0.0064757875001022714,
           0.05905221759944079,
           -0.18349648249472705,
           0.6247167958713372,
           1,
           0.01042031246470829,
           0.41884361449256724,
           0.35725502736505954,
           0.13066947281296942,
           0.11045645865177933
          ],
          [
           0.04062110777424557,
           0.039388029467710674,
           0.04180239490345215,
           0.03552018040806173,
           0.03536138802083567,
           0.03568353815621518,
           0.046182484292806456,
           0.044353793547442934,
           0.047627417729189866,
           0.002369997807436473,
           -0.08216740671511391,
           -0.03587361211537243,
           0.014699374639529578,
           -0.08783836850542967,
           -0.08007308548751427,
           0.01650310429894954,
           0.4874519793501592,
           0.01042031246470829,
           1,
           0.013662685866742949,
           0.013057484225948388,
           -0.04632049958428545,
           -0.0226102189328316
          ],
          [
           0.4834480547113328,
           0.4796953703120237,
           0.48697987231610906,
           0.4640704985928246,
           0.4639579220593779,
           0.4641570901485364,
           0.5110436020575527,
           0.5042829387505143,
           0.5162556005741651,
           -0.009024084913095098,
           -0.10290296683689218,
           -0.09527775180889857,
           -0.07007945891726136,
           -0.04740093609716071,
           -0.014543563691489191,
           -0.06549071427412081,
           0.3415278025043344,
           0.41884361449256724,
           0.013662685866742949,
           1,
           0.9325699108370752,
           0.7719195904191539,
           0.6783395325192721
          ],
          [
           0.4243263921494822,
           0.42064342288843615,
           0.4278037737425296,
           0.40534229654589043,
           0.4052686770485445,
           0.4053921445980883,
           0.4574515000513292,
           0.45137968057528344,
           0.4621332869681025,
           0.006985031303431375,
           -0.10619881401457296,
           -0.07631510847095155,
           -0.051536788799641874,
           -0.04571732502333475,
           -0.01899319694658857,
           -0.043777530502252845,
           0.2880256351970271,
           0.35725502736505954,
           0.013057484225948388,
           0.9325699108370752,
           1,
           0.7005750201030607,
           0.7334724267730354
          ],
          [
           0.1443447650248451,
           0.14152085936084244,
           0.1470513821204039,
           0.1343134387303802,
           0.13427851416108233,
           0.13434094448689238,
           0.16710341282825006,
           0.16254491871233565,
           0.17071551218886288,
           0.015159692033063527,
           -0.13481913620531122,
           -0.060028137851449,
           -0.047952115811153745,
           -0.02327941500558054,
           -0.004929726901664579,
           -0.035614877384974666,
           0.04555671958922846,
           0.13066947281296942,
           -0.04632049958428545,
           0.7719195904191539,
           0.7005750201030607,
           1,
           0.8730975329954713
          ],
          [
           0.12711933652257448,
           0.12417623487773256,
           0.12994539636725605,
           0.11710126384831453,
           0.117024619661254,
           0.11717344936500405,
           0.15345272733885676,
           0.14931678822000424,
           0.15672898519615894,
           0.047079606938972875,
           -0.17189258252413347,
           -0.029844812433699373,
           -0.008869005191691065,
           -0.03710717397189007,
           -0.02683948786992566,
           0.0062980300629099885,
           0.04122548891452671,
           0.11045645865177933,
           -0.0226102189328316,
           0.6783395325192721,
           0.7334724267730354,
           0.8730975329954713,
           1
          ]
         ]
        }
       ],
       "layout": {
        "annotations": [
         {
          "font": {
           "color": "#000000"
          },
          "showarrow": false,
          "text": "1.0",
          "x": "Total",
          "xref": "x",
          "y": "Total",
          "yref": "y"
         },
         {
          "font": {
           "color": "#000000"
          },
          "showarrow": false,
          "text": "1.0",
          "x": "Male",
          "xref": "x",
          "y": "Total",
          "yref": "y"
         },
         {
          "font": {
           "color": "#000000"
          },
          "showarrow": false,
          "text": "1.0",
          "x": "Female",
          "xref": "x",
          "y": "Total",
          "yref": "y"
         },
         {
          "font": {
           "color": "#000000"
          },
          "showarrow": false,
          "text": "0.99",
          "x": "Total Under 18 year",
          "xref": "x",
          "y": "Total",
          "yref": "y"
         },
         {
          "font": {
           "color": "#000000"
          },
          "showarrow": false,
          "text": "0.99",
          "x": "Male Under 18 year",
          "xref": "x",
          "y": "Total",
          "yref": "y"
         },
         {
          "font": {
           "color": "#000000"
          },
          "showarrow": false,
          "text": "0.99",
          "x": "Female Under 18 year",
          "xref": "x",
          "y": "Total",
          "yref": "y"
         },
         {
          "font": {
           "color": "#000000"
          },
          "showarrow": false,
          "text": "0.99",
          "x": "Total 60 years and over",
          "xref": "x",
          "y": "Total",
          "yref": "y"
         },
         {
          "font": {
           "color": "#000000"
          },
          "showarrow": false,
          "text": "0.99",
          "x": "Male 60 years and over",
          "xref": "x",
          "y": "Total",
          "yref": "y"
         },
         {
          "font": {
           "color": "#000000"
          },
          "showarrow": false,
          "text": "0.99",
          "x": "Female 60 years and over",
          "xref": "x",
          "y": "Total",
          "yref": "y"
         },
         {
          "font": {
           "color": "#FFFFFF"
          },
          "showarrow": false,
          "text": "-0.12",
          "x": "Median age (years)",
          "xref": "x",
          "y": "Total",
          "yref": "y"
         },
         {
          "font": {
           "color": "#FFFFFF"
          },
          "showarrow": false,
          "text": "-0.08",
          "x": "Sex ratio (males per 100 females)",
          "xref": "x",
          "y": "Total",
          "yref": "y"
         },
         {
          "font": {
           "color": "#FFFFFF"
          },
          "showarrow": false,
          "text": "-0.16",
          "x": "Age dependency ratio",
          "xref": "x",
          "y": "Total",
          "yref": "y"
         },
         {
          "font": {
           "color": "#FFFFFF"
          },
          "showarrow": false,
          "text": "-0.15",
          "x": "Old-age dependency ratio",
          "xref": "x",
          "y": "Total",
          "yref": "y"
         },
         {
          "font": {
           "color": "#FFFFFF"
          },
          "showarrow": false,
          "text": "-0.02",
          "x": "Child dependency ratio",
          "xref": "x",
          "y": "Total",
          "yref": "y"
         },
         {
          "font": {
           "color": "#FFFFFF"
          },
          "showarrow": false,
          "text": "0.04",
          "x": "percent_under18",
          "xref": "x",
          "y": "Total",
          "yref": "y"
         },
         {
          "font": {
           "color": "#FFFFFF"
          },
          "showarrow": false,
          "text": "-0.18",
          "x": "percent_over60",
          "xref": "x",
          "y": "Total",
          "yref": "y"
         },
         {
          "font": {
           "color": "#000000"
          },
          "showarrow": false,
          "text": "0.67",
          "x": "hospital_bed_count",
          "xref": "x",
          "y": "Total",
          "yref": "y"
         },
         {
          "font": {
           "color": "#000000"
          },
          "showarrow": false,
          "text": "0.91",
          "x": "hospital_count",
          "xref": "x",
          "y": "Total",
          "yref": "y"
         },
         {
          "font": {
           "color": "#FFFFFF"
          },
          "showarrow": false,
          "text": "0.04",
          "x": "hospitalbeds_per10000",
          "xref": "x",
          "y": "Total",
          "yref": "y"
         },
         {
          "font": {
           "color": "#000000"
          },
          "showarrow": false,
          "text": "0.48",
          "x": "cases",
          "xref": "x",
          "y": "Total",
          "yref": "y"
         },
         {
          "font": {
           "color": "#000000"
          },
          "showarrow": false,
          "text": "0.42",
          "x": "deaths",
          "xref": "x",
          "y": "Total",
          "yref": "y"
         },
         {
          "font": {
           "color": "#FFFFFF"
          },
          "showarrow": false,
          "text": "0.14",
          "x": "cases_per1000",
          "xref": "x",
          "y": "Total",
          "yref": "y"
         },
         {
          "font": {
           "color": "#FFFFFF"
          },
          "showarrow": false,
          "text": "0.13",
          "x": "deaths_per1000",
          "xref": "x",
          "y": "Total",
          "yref": "y"
         },
         {
          "font": {
           "color": "#000000"
          },
          "showarrow": false,
          "text": "1.0",
          "x": "Total",
          "xref": "x",
          "y": "Male",
          "yref": "y"
         },
         {
          "font": {
           "color": "#000000"
          },
          "showarrow": false,
          "text": "1.0",
          "x": "Male",
          "xref": "x",
          "y": "Male",
          "yref": "y"
         },
         {
          "font": {
           "color": "#000000"
          },
          "showarrow": false,
          "text": "1.0",
          "x": "Female",
          "xref": "x",
          "y": "Male",
          "yref": "y"
         },
         {
          "font": {
           "color": "#000000"
          },
          "showarrow": false,
          "text": "0.99",
          "x": "Total Under 18 year",
          "xref": "x",
          "y": "Male",
          "yref": "y"
         },
         {
          "font": {
           "color": "#000000"
          },
          "showarrow": false,
          "text": "0.99",
          "x": "Male Under 18 year",
          "xref": "x",
          "y": "Male",
          "yref": "y"
         },
         {
          "font": {
           "color": "#000000"
          },
          "showarrow": false,
          "text": "0.99",
          "x": "Female Under 18 year",
          "xref": "x",
          "y": "Male",
          "yref": "y"
         },
         {
          "font": {
           "color": "#000000"
          },
          "showarrow": false,
          "text": "0.99",
          "x": "Total 60 years and over",
          "xref": "x",
          "y": "Male",
          "yref": "y"
         },
         {
          "font": {
           "color": "#000000"
          },
          "showarrow": false,
          "text": "0.99",
          "x": "Male 60 years and over",
          "xref": "x",
          "y": "Male",
          "yref": "y"
         },
         {
          "font": {
           "color": "#000000"
          },
          "showarrow": false,
          "text": "0.98",
          "x": "Female 60 years and over",
          "xref": "x",
          "y": "Male",
          "yref": "y"
         },
         {
          "font": {
           "color": "#FFFFFF"
          },
          "showarrow": false,
          "text": "-0.12",
          "x": "Median age (years)",
          "xref": "x",
          "y": "Male",
          "yref": "y"
         },
         {
          "font": {
           "color": "#FFFFFF"
          },
          "showarrow": false,
          "text": "-0.08",
          "x": "Sex ratio (males per 100 females)",
          "xref": "x",
          "y": "Male",
          "yref": "y"
         },
         {
          "font": {
           "color": "#FFFFFF"
          },
          "showarrow": false,
          "text": "-0.16",
          "x": "Age dependency ratio",
          "xref": "x",
          "y": "Male",
          "yref": "y"
         },
         {
          "font": {
           "color": "#FFFFFF"
          },
          "showarrow": false,
          "text": "-0.15",
          "x": "Old-age dependency ratio",
          "xref": "x",
          "y": "Male",
          "yref": "y"
         },
         {
          "font": {
           "color": "#FFFFFF"
          },
          "showarrow": false,
          "text": "-0.02",
          "x": "Child dependency ratio",
          "xref": "x",
          "y": "Male",
          "yref": "y"
         },
         {
          "font": {
           "color": "#FFFFFF"
          },
          "showarrow": false,
          "text": "0.05",
          "x": "percent_under18",
          "xref": "x",
          "y": "Male",
          "yref": "y"
         },
         {
          "font": {
           "color": "#FFFFFF"
          },
          "showarrow": false,
          "text": "-0.18",
          "x": "percent_over60",
          "xref": "x",
          "y": "Male",
          "yref": "y"
         },
         {
          "font": {
           "color": "#000000"
          },
          "showarrow": false,
          "text": "0.67",
          "x": "hospital_bed_count",
          "xref": "x",
          "y": "Male",
          "yref": "y"
         },
         {
          "font": {
           "color": "#000000"
          },
          "showarrow": false,
          "text": "0.91",
          "x": "hospital_count",
          "xref": "x",
          "y": "Male",
          "yref": "y"
         },
         {
          "font": {
           "color": "#FFFFFF"
          },
          "showarrow": false,
          "text": "0.04",
          "x": "hospitalbeds_per10000",
          "xref": "x",
          "y": "Male",
          "yref": "y"
         },
         {
          "font": {
           "color": "#000000"
          },
          "showarrow": false,
          "text": "0.48",
          "x": "cases",
          "xref": "x",
          "y": "Male",
          "yref": "y"
         },
         {
          "font": {
           "color": "#000000"
          },
          "showarrow": false,
          "text": "0.42",
          "x": "deaths",
          "xref": "x",
          "y": "Male",
          "yref": "y"
         },
         {
          "font": {
           "color": "#FFFFFF"
          },
          "showarrow": false,
          "text": "0.14",
          "x": "cases_per1000",
          "xref": "x",
          "y": "Male",
          "yref": "y"
         },
         {
          "font": {
           "color": "#FFFFFF"
          },
          "showarrow": false,
          "text": "0.12",
          "x": "deaths_per1000",
          "xref": "x",
          "y": "Male",
          "yref": "y"
         },
         {
          "font": {
           "color": "#000000"
          },
          "showarrow": false,
          "text": "1.0",
          "x": "Total",
          "xref": "x",
          "y": "Female",
          "yref": "y"
         },
         {
          "font": {
           "color": "#000000"
          },
          "showarrow": false,
          "text": "1.0",
          "x": "Male",
          "xref": "x",
          "y": "Female",
          "yref": "y"
         },
         {
          "font": {
           "color": "#000000"
          },
          "showarrow": false,
          "text": "1.0",
          "x": "Female",
          "xref": "x",
          "y": "Female",
          "yref": "y"
         },
         {
          "font": {
           "color": "#000000"
          },
          "showarrow": false,
          "text": "0.99",
          "x": "Total Under 18 year",
          "xref": "x",
          "y": "Female",
          "yref": "y"
         },
         {
          "font": {
           "color": "#000000"
          },
          "showarrow": false,
          "text": "0.99",
          "x": "Male Under 18 year",
          "xref": "x",
          "y": "Female",
          "yref": "y"
         },
         {
          "font": {
           "color": "#000000"
          },
          "showarrow": false,
          "text": "0.99",
          "x": "Female Under 18 year",
          "xref": "x",
          "y": "Female",
          "yref": "y"
         },
         {
          "font": {
           "color": "#000000"
          },
          "showarrow": false,
          "text": "0.99",
          "x": "Total 60 years and over",
          "xref": "x",
          "y": "Female",
          "yref": "y"
         },
         {
          "font": {
           "color": "#000000"
          },
          "showarrow": false,
          "text": "0.99",
          "x": "Male 60 years and over",
          "xref": "x",
          "y": "Female",
          "yref": "y"
         },
         {
          "font": {
           "color": "#000000"
          },
          "showarrow": false,
          "text": "0.99",
          "x": "Female 60 years and over",
          "xref": "x",
          "y": "Female",
          "yref": "y"
         },
         {
          "font": {
           "color": "#FFFFFF"
          },
          "showarrow": false,
          "text": "-0.12",
          "x": "Median age (years)",
          "xref": "x",
          "y": "Female",
          "yref": "y"
         },
         {
          "font": {
           "color": "#FFFFFF"
          },
          "showarrow": false,
          "text": "-0.09",
          "x": "Sex ratio (males per 100 females)",
          "xref": "x",
          "y": "Female",
          "yref": "y"
         },
         {
          "font": {
           "color": "#FFFFFF"
          },
          "showarrow": false,
          "text": "-0.16",
          "x": "Age dependency ratio",
          "xref": "x",
          "y": "Female",
          "yref": "y"
         },
         {
          "font": {
           "color": "#FFFFFF"
          },
          "showarrow": false,
          "text": "-0.15",
          "x": "Old-age dependency ratio",
          "xref": "x",
          "y": "Female",
          "yref": "y"
         },
         {
          "font": {
           "color": "#FFFFFF"
          },
          "showarrow": false,
          "text": "-0.02",
          "x": "Child dependency ratio",
          "xref": "x",
          "y": "Female",
          "yref": "y"
         },
         {
          "font": {
           "color": "#FFFFFF"
          },
          "showarrow": false,
          "text": "0.04",
          "x": "percent_under18",
          "xref": "x",
          "y": "Female",
          "yref": "y"
         },
         {
          "font": {
           "color": "#FFFFFF"
          },
          "showarrow": false,
          "text": "-0.17",
          "x": "percent_over60",
          "xref": "x",
          "y": "Female",
          "yref": "y"
         },
         {
          "font": {
           "color": "#000000"
          },
          "showarrow": false,
          "text": "0.68",
          "x": "hospital_bed_count",
          "xref": "x",
          "y": "Female",
          "yref": "y"
         },
         {
          "font": {
           "color": "#000000"
          },
          "showarrow": false,
          "text": "0.91",
          "x": "hospital_count",
          "xref": "x",
          "y": "Female",
          "yref": "y"
         },
         {
          "font": {
           "color": "#FFFFFF"
          },
          "showarrow": false,
          "text": "0.04",
          "x": "hospitalbeds_per10000",
          "xref": "x",
          "y": "Female",
          "yref": "y"
         },
         {
          "font": {
           "color": "#000000"
          },
          "showarrow": false,
          "text": "0.49",
          "x": "cases",
          "xref": "x",
          "y": "Female",
          "yref": "y"
         },
         {
          "font": {
           "color": "#000000"
          },
          "showarrow": false,
          "text": "0.43",
          "x": "deaths",
          "xref": "x",
          "y": "Female",
          "yref": "y"
         },
         {
          "font": {
           "color": "#FFFFFF"
          },
          "showarrow": false,
          "text": "0.15",
          "x": "cases_per1000",
          "xref": "x",
          "y": "Female",
          "yref": "y"
         },
         {
          "font": {
           "color": "#FFFFFF"
          },
          "showarrow": false,
          "text": "0.13",
          "x": "deaths_per1000",
          "xref": "x",
          "y": "Female",
          "yref": "y"
         },
         {
          "font": {
           "color": "#000000"
          },
          "showarrow": false,
          "text": "0.99",
          "x": "Total",
          "xref": "x",
          "y": "Total Under 18 year",
          "yref": "y"
         },
         {
          "font": {
           "color": "#000000"
          },
          "showarrow": false,
          "text": "0.99",
          "x": "Male",
          "xref": "x",
          "y": "Total Under 18 year",
          "yref": "y"
         },
         {
          "font": {
           "color": "#000000"
          },
          "showarrow": false,
          "text": "0.99",
          "x": "Female",
          "xref": "x",
          "y": "Total Under 18 year",
          "yref": "y"
         },
         {
          "font": {
           "color": "#000000"
          },
          "showarrow": false,
          "text": "1.0",
          "x": "Total Under 18 year",
          "xref": "x",
          "y": "Total Under 18 year",
          "yref": "y"
         },
         {
          "font": {
           "color": "#000000"
          },
          "showarrow": false,
          "text": "1.0",
          "x": "Male Under 18 year",
          "xref": "x",
          "y": "Total Under 18 year",
          "yref": "y"
         },
         {
          "font": {
           "color": "#000000"
          },
          "showarrow": false,
          "text": "1.0",
          "x": "Female Under 18 year",
          "xref": "x",
          "y": "Total Under 18 year",
          "yref": "y"
         },
         {
          "font": {
           "color": "#000000"
          },
          "showarrow": false,
          "text": "0.97",
          "x": "Total 60 years and over",
          "xref": "x",
          "y": "Total Under 18 year",
          "yref": "y"
         },
         {
          "font": {
           "color": "#000000"
          },
          "showarrow": false,
          "text": "0.97",
          "x": "Male 60 years and over",
          "xref": "x",
          "y": "Total Under 18 year",
          "yref": "y"
         },
         {
          "font": {
           "color": "#000000"
          },
          "showarrow": false,
          "text": "0.97",
          "x": "Female 60 years and over",
          "xref": "x",
          "y": "Total Under 18 year",
          "yref": "y"
         },
         {
          "font": {
           "color": "#FFFFFF"
          },
          "showarrow": false,
          "text": "-0.15",
          "x": "Median age (years)",
          "xref": "x",
          "y": "Total Under 18 year",
          "yref": "y"
         },
         {
          "font": {
           "color": "#FFFFFF"
          },
          "showarrow": false,
          "text": "-0.07",
          "x": "Sex ratio (males per 100 females)",
          "xref": "x",
          "y": "Total Under 18 year",
          "yref": "y"
         },
         {
          "font": {
           "color": "#FFFFFF"
          },
          "showarrow": false,
          "text": "-0.15",
          "x": "Age dependency ratio",
          "xref": "x",
          "y": "Total Under 18 year",
          "yref": "y"
         },
         {
          "font": {
           "color": "#FFFFFF"
          },
          "showarrow": false,
          "text": "-0.18",
          "x": "Old-age dependency ratio",
          "xref": "x",
          "y": "Total Under 18 year",
          "yref": "y"
         },
         {
          "font": {
           "color": "#FFFFFF"
          },
          "showarrow": false,
          "text": "0.05",
          "x": "Child dependency ratio",
          "xref": "x",
          "y": "Total Under 18 year",
          "yref": "y"
         },
         {
          "font": {
           "color": "#FFFFFF"
          },
          "showarrow": false,
          "text": "0.11",
          "x": "percent_under18",
          "xref": "x",
          "y": "Total Under 18 year",
          "yref": "y"
         },
         {
          "font": {
           "color": "#FFFFFF"
          },
          "showarrow": false,
          "text": "-0.21",
          "x": "percent_over60",
          "xref": "x",
          "y": "Total Under 18 year",
          "yref": "y"
         },
         {
          "font": {
           "color": "#000000"
          },
          "showarrow": false,
          "text": "0.66",
          "x": "hospital_bed_count",
          "xref": "x",
          "y": "Total Under 18 year",
          "yref": "y"
         },
         {
          "font": {
           "color": "#000000"
          },
          "showarrow": false,
          "text": "0.92",
          "x": "hospital_count",
          "xref": "x",
          "y": "Total Under 18 year",
          "yref": "y"
         },
         {
          "font": {
           "color": "#FFFFFF"
          },
          "showarrow": false,
          "text": "0.04",
          "x": "hospitalbeds_per10000",
          "xref": "x",
          "y": "Total Under 18 year",
          "yref": "y"
         },
         {
          "font": {
           "color": "#000000"
          },
          "showarrow": false,
          "text": "0.46",
          "x": "cases",
          "xref": "x",
          "y": "Total Under 18 year",
          "yref": "y"
         },
         {
          "font": {
           "color": "#000000"
          },
          "showarrow": false,
          "text": "0.41",
          "x": "deaths",
          "xref": "x",
          "y": "Total Under 18 year",
          "yref": "y"
         },
         {
          "font": {
           "color": "#FFFFFF"
          },
          "showarrow": false,
          "text": "0.13",
          "x": "cases_per1000",
          "xref": "x",
          "y": "Total Under 18 year",
          "yref": "y"
         },
         {
          "font": {
           "color": "#FFFFFF"
          },
          "showarrow": false,
          "text": "0.12",
          "x": "deaths_per1000",
          "xref": "x",
          "y": "Total Under 18 year",
          "yref": "y"
         },
         {
          "font": {
           "color": "#000000"
          },
          "showarrow": false,
          "text": "0.99",
          "x": "Total",
          "xref": "x",
          "y": "Male Under 18 year",
          "yref": "y"
         },
         {
          "font": {
           "color": "#000000"
          },
          "showarrow": false,
          "text": "0.99",
          "x": "Male",
          "xref": "x",
          "y": "Male Under 18 year",
          "yref": "y"
         },
         {
          "font": {
           "color": "#000000"
          },
          "showarrow": false,
          "text": "0.99",
          "x": "Female",
          "xref": "x",
          "y": "Male Under 18 year",
          "yref": "y"
         },
         {
          "font": {
           "color": "#000000"
          },
          "showarrow": false,
          "text": "1.0",
          "x": "Total Under 18 year",
          "xref": "x",
          "y": "Male Under 18 year",
          "yref": "y"
         },
         {
          "font": {
           "color": "#000000"
          },
          "showarrow": false,
          "text": "1.0",
          "x": "Male Under 18 year",
          "xref": "x",
          "y": "Male Under 18 year",
          "yref": "y"
         },
         {
          "font": {
           "color": "#000000"
          },
          "showarrow": false,
          "text": "1.0",
          "x": "Female Under 18 year",
          "xref": "x",
          "y": "Male Under 18 year",
          "yref": "y"
         },
         {
          "font": {
           "color": "#000000"
          },
          "showarrow": false,
          "text": "0.97",
          "x": "Total 60 years and over",
          "xref": "x",
          "y": "Male Under 18 year",
          "yref": "y"
         },
         {
          "font": {
           "color": "#000000"
          },
          "showarrow": false,
          "text": "0.97",
          "x": "Male 60 years and over",
          "xref": "x",
          "y": "Male Under 18 year",
          "yref": "y"
         },
         {
          "font": {
           "color": "#000000"
          },
          "showarrow": false,
          "text": "0.97",
          "x": "Female 60 years and over",
          "xref": "x",
          "y": "Male Under 18 year",
          "yref": "y"
         },
         {
          "font": {
           "color": "#FFFFFF"
          },
          "showarrow": false,
          "text": "-0.15",
          "x": "Median age (years)",
          "xref": "x",
          "y": "Male Under 18 year",
          "yref": "y"
         },
         {
          "font": {
           "color": "#FFFFFF"
          },
          "showarrow": false,
          "text": "-0.07",
          "x": "Sex ratio (males per 100 females)",
          "xref": "x",
          "y": "Male Under 18 year",
          "yref": "y"
         },
         {
          "font": {
           "color": "#FFFFFF"
          },
          "showarrow": false,
          "text": "-0.15",
          "x": "Age dependency ratio",
          "xref": "x",
          "y": "Male Under 18 year",
          "yref": "y"
         },
         {
          "font": {
           "color": "#FFFFFF"
          },
          "showarrow": false,
          "text": "-0.18",
          "x": "Old-age dependency ratio",
          "xref": "x",
          "y": "Male Under 18 year",
          "yref": "y"
         },
         {
          "font": {
           "color": "#FFFFFF"
          },
          "showarrow": false,
          "text": "0.05",
          "x": "Child dependency ratio",
          "xref": "x",
          "y": "Male Under 18 year",
          "yref": "y"
         },
         {
          "font": {
           "color": "#FFFFFF"
          },
          "showarrow": false,
          "text": "0.11",
          "x": "percent_under18",
          "xref": "x",
          "y": "Male Under 18 year",
          "yref": "y"
         },
         {
          "font": {
           "color": "#FFFFFF"
          },
          "showarrow": false,
          "text": "-0.21",
          "x": "percent_over60",
          "xref": "x",
          "y": "Male Under 18 year",
          "yref": "y"
         },
         {
          "font": {
           "color": "#000000"
          },
          "showarrow": false,
          "text": "0.66",
          "x": "hospital_bed_count",
          "xref": "x",
          "y": "Male Under 18 year",
          "yref": "y"
         },
         {
          "font": {
           "color": "#000000"
          },
          "showarrow": false,
          "text": "0.92",
          "x": "hospital_count",
          "xref": "x",
          "y": "Male Under 18 year",
          "yref": "y"
         },
         {
          "font": {
           "color": "#FFFFFF"
          },
          "showarrow": false,
          "text": "0.04",
          "x": "hospitalbeds_per10000",
          "xref": "x",
          "y": "Male Under 18 year",
          "yref": "y"
         },
         {
          "font": {
           "color": "#000000"
          },
          "showarrow": false,
          "text": "0.46",
          "x": "cases",
          "xref": "x",
          "y": "Male Under 18 year",
          "yref": "y"
         },
         {
          "font": {
           "color": "#000000"
          },
          "showarrow": false,
          "text": "0.41",
          "x": "deaths",
          "xref": "x",
          "y": "Male Under 18 year",
          "yref": "y"
         },
         {
          "font": {
           "color": "#FFFFFF"
          },
          "showarrow": false,
          "text": "0.13",
          "x": "cases_per1000",
          "xref": "x",
          "y": "Male Under 18 year",
          "yref": "y"
         },
         {
          "font": {
           "color": "#FFFFFF"
          },
          "showarrow": false,
          "text": "0.12",
          "x": "deaths_per1000",
          "xref": "x",
          "y": "Male Under 18 year",
          "yref": "y"
         },
         {
          "font": {
           "color": "#000000"
          },
          "showarrow": false,
          "text": "0.99",
          "x": "Total",
          "xref": "x",
          "y": "Female Under 18 year",
          "yref": "y"
         },
         {
          "font": {
           "color": "#000000"
          },
          "showarrow": false,
          "text": "0.99",
          "x": "Male",
          "xref": "x",
          "y": "Female Under 18 year",
          "yref": "y"
         },
         {
          "font": {
           "color": "#000000"
          },
          "showarrow": false,
          "text": "0.99",
          "x": "Female",
          "xref": "x",
          "y": "Female Under 18 year",
          "yref": "y"
         },
         {
          "font": {
           "color": "#000000"
          },
          "showarrow": false,
          "text": "1.0",
          "x": "Total Under 18 year",
          "xref": "x",
          "y": "Female Under 18 year",
          "yref": "y"
         },
         {
          "font": {
           "color": "#000000"
          },
          "showarrow": false,
          "text": "1.0",
          "x": "Male Under 18 year",
          "xref": "x",
          "y": "Female Under 18 year",
          "yref": "y"
         },
         {
          "font": {
           "color": "#000000"
          },
          "showarrow": false,
          "text": "1.0",
          "x": "Female Under 18 year",
          "xref": "x",
          "y": "Female Under 18 year",
          "yref": "y"
         },
         {
          "font": {
           "color": "#000000"
          },
          "showarrow": false,
          "text": "0.97",
          "x": "Total 60 years and over",
          "xref": "x",
          "y": "Female Under 18 year",
          "yref": "y"
         },
         {
          "font": {
           "color": "#000000"
          },
          "showarrow": false,
          "text": "0.97",
          "x": "Male 60 years and over",
          "xref": "x",
          "y": "Female Under 18 year",
          "yref": "y"
         },
         {
          "font": {
           "color": "#000000"
          },
          "showarrow": false,
          "text": "0.97",
          "x": "Female 60 years and over",
          "xref": "x",
          "y": "Female Under 18 year",
          "yref": "y"
         },
         {
          "font": {
           "color": "#FFFFFF"
          },
          "showarrow": false,
          "text": "-0.15",
          "x": "Median age (years)",
          "xref": "x",
          "y": "Female Under 18 year",
          "yref": "y"
         },
         {
          "font": {
           "color": "#FFFFFF"
          },
          "showarrow": false,
          "text": "-0.08",
          "x": "Sex ratio (males per 100 females)",
          "xref": "x",
          "y": "Female Under 18 year",
          "yref": "y"
         },
         {
          "font": {
           "color": "#FFFFFF"
          },
          "showarrow": false,
          "text": "-0.15",
          "x": "Age dependency ratio",
          "xref": "x",
          "y": "Female Under 18 year",
          "yref": "y"
         },
         {
          "font": {
           "color": "#FFFFFF"
          },
          "showarrow": false,
          "text": "-0.18",
          "x": "Old-age dependency ratio",
          "xref": "x",
          "y": "Female Under 18 year",
          "yref": "y"
         },
         {
          "font": {
           "color": "#FFFFFF"
          },
          "showarrow": false,
          "text": "0.04",
          "x": "Child dependency ratio",
          "xref": "x",
          "y": "Female Under 18 year",
          "yref": "y"
         },
         {
          "font": {
           "color": "#FFFFFF"
          },
          "showarrow": false,
          "text": "0.11",
          "x": "percent_under18",
          "xref": "x",
          "y": "Female Under 18 year",
          "yref": "y"
         },
         {
          "font": {
           "color": "#FFFFFF"
          },
          "showarrow": false,
          "text": "-0.21",
          "x": "percent_over60",
          "xref": "x",
          "y": "Female Under 18 year",
          "yref": "y"
         },
         {
          "font": {
           "color": "#000000"
          },
          "showarrow": false,
          "text": "0.66",
          "x": "hospital_bed_count",
          "xref": "x",
          "y": "Female Under 18 year",
          "yref": "y"
         },
         {
          "font": {
           "color": "#000000"
          },
          "showarrow": false,
          "text": "0.92",
          "x": "hospital_count",
          "xref": "x",
          "y": "Female Under 18 year",
          "yref": "y"
         },
         {
          "font": {
           "color": "#FFFFFF"
          },
          "showarrow": false,
          "text": "0.04",
          "x": "hospitalbeds_per10000",
          "xref": "x",
          "y": "Female Under 18 year",
          "yref": "y"
         },
         {
          "font": {
           "color": "#000000"
          },
          "showarrow": false,
          "text": "0.46",
          "x": "cases",
          "xref": "x",
          "y": "Female Under 18 year",
          "yref": "y"
         },
         {
          "font": {
           "color": "#000000"
          },
          "showarrow": false,
          "text": "0.41",
          "x": "deaths",
          "xref": "x",
          "y": "Female Under 18 year",
          "yref": "y"
         },
         {
          "font": {
           "color": "#FFFFFF"
          },
          "showarrow": false,
          "text": "0.13",
          "x": "cases_per1000",
          "xref": "x",
          "y": "Female Under 18 year",
          "yref": "y"
         },
         {
          "font": {
           "color": "#FFFFFF"
          },
          "showarrow": false,
          "text": "0.12",
          "x": "deaths_per1000",
          "xref": "x",
          "y": "Female Under 18 year",
          "yref": "y"
         },
         {
          "font": {
           "color": "#000000"
          },
          "showarrow": false,
          "text": "0.99",
          "x": "Total",
          "xref": "x",
          "y": "Total 60 years and over",
          "yref": "y"
         },
         {
          "font": {
           "color": "#000000"
          },
          "showarrow": false,
          "text": "0.99",
          "x": "Male",
          "xref": "x",
          "y": "Total 60 years and over",
          "yref": "y"
         },
         {
          "font": {
           "color": "#000000"
          },
          "showarrow": false,
          "text": "0.99",
          "x": "Female",
          "xref": "x",
          "y": "Total 60 years and over",
          "yref": "y"
         },
         {
          "font": {
           "color": "#000000"
          },
          "showarrow": false,
          "text": "0.97",
          "x": "Total Under 18 year",
          "xref": "x",
          "y": "Total 60 years and over",
          "yref": "y"
         },
         {
          "font": {
           "color": "#000000"
          },
          "showarrow": false,
          "text": "0.97",
          "x": "Male Under 18 year",
          "xref": "x",
          "y": "Total 60 years and over",
          "yref": "y"
         },
         {
          "font": {
           "color": "#000000"
          },
          "showarrow": false,
          "text": "0.97",
          "x": "Female Under 18 year",
          "xref": "x",
          "y": "Total 60 years and over",
          "yref": "y"
         },
         {
          "font": {
           "color": "#000000"
          },
          "showarrow": false,
          "text": "1.0",
          "x": "Total 60 years and over",
          "xref": "x",
          "y": "Total 60 years and over",
          "yref": "y"
         },
         {
          "font": {
           "color": "#000000"
          },
          "showarrow": false,
          "text": "1.0",
          "x": "Male 60 years and over",
          "xref": "x",
          "y": "Total 60 years and over",
          "yref": "y"
         },
         {
          "font": {
           "color": "#000000"
          },
          "showarrow": false,
          "text": "1.0",
          "x": "Female 60 years and over",
          "xref": "x",
          "y": "Total 60 years and over",
          "yref": "y"
         },
         {
          "font": {
           "color": "#FFFFFF"
          },
          "showarrow": false,
          "text": "-0.03",
          "x": "Median age (years)",
          "xref": "x",
          "y": "Total 60 years and over",
          "yref": "y"
         },
         {
          "font": {
           "color": "#FFFFFF"
          },
          "showarrow": false,
          "text": "-0.11",
          "x": "Sex ratio (males per 100 females)",
          "xref": "x",
          "y": "Total 60 years and over",
          "yref": "y"
         },
         {
          "font": {
           "color": "#FFFFFF"
          },
          "showarrow": false,
          "text": "-0.1",
          "x": "Age dependency ratio",
          "xref": "x",
          "y": "Total 60 years and over",
          "yref": "y"
         },
         {
          "font": {
           "color": "#FFFFFF"
          },
          "showarrow": false,
          "text": "-0.06",
          "x": "Old-age dependency ratio",
          "xref": "x",
          "y": "Total 60 years and over",
          "yref": "y"
         },
         {
          "font": {
           "color": "#FFFFFF"
          },
          "showarrow": false,
          "text": "-0.07",
          "x": "Child dependency ratio",
          "xref": "x",
          "y": "Total 60 years and over",
          "yref": "y"
         },
         {
          "font": {
           "color": "#FFFFFF"
          },
          "showarrow": false,
          "text": "-0.03",
          "x": "percent_under18",
          "xref": "x",
          "y": "Total 60 years and over",
          "yref": "y"
         },
         {
          "font": {
           "color": "#FFFFFF"
          },
          "showarrow": false,
          "text": "-0.08",
          "x": "percent_over60",
          "xref": "x",
          "y": "Total 60 years and over",
          "yref": "y"
         },
         {
          "font": {
           "color": "#000000"
          },
          "showarrow": false,
          "text": "0.67",
          "x": "hospital_bed_count",
          "xref": "x",
          "y": "Total 60 years and over",
          "yref": "y"
         },
         {
          "font": {
           "color": "#000000"
          },
          "showarrow": false,
          "text": "0.89",
          "x": "hospital_count",
          "xref": "x",
          "y": "Total 60 years and over",
          "yref": "y"
         },
         {
          "font": {
           "color": "#FFFFFF"
          },
          "showarrow": false,
          "text": "0.05",
          "x": "hospitalbeds_per10000",
          "xref": "x",
          "y": "Total 60 years and over",
          "yref": "y"
         },
         {
          "font": {
           "color": "#000000"
          },
          "showarrow": false,
          "text": "0.51",
          "x": "cases",
          "xref": "x",
          "y": "Total 60 years and over",
          "yref": "y"
         },
         {
          "font": {
           "color": "#000000"
          },
          "showarrow": false,
          "text": "0.46",
          "x": "deaths",
          "xref": "x",
          "y": "Total 60 years and over",
          "yref": "y"
         },
         {
          "font": {
           "color": "#FFFFFF"
          },
          "showarrow": false,
          "text": "0.17",
          "x": "cases_per1000",
          "xref": "x",
          "y": "Total 60 years and over",
          "yref": "y"
         },
         {
          "font": {
           "color": "#FFFFFF"
          },
          "showarrow": false,
          "text": "0.15",
          "x": "deaths_per1000",
          "xref": "x",
          "y": "Total 60 years and over",
          "yref": "y"
         },
         {
          "font": {
           "color": "#000000"
          },
          "showarrow": false,
          "text": "0.99",
          "x": "Total",
          "xref": "x",
          "y": "Male 60 years and over",
          "yref": "y"
         },
         {
          "font": {
           "color": "#000000"
          },
          "showarrow": false,
          "text": "0.99",
          "x": "Male",
          "xref": "x",
          "y": "Male 60 years and over",
          "yref": "y"
         },
         {
          "font": {
           "color": "#000000"
          },
          "showarrow": false,
          "text": "0.99",
          "x": "Female",
          "xref": "x",
          "y": "Male 60 years and over",
          "yref": "y"
         },
         {
          "font": {
           "color": "#000000"
          },
          "showarrow": false,
          "text": "0.97",
          "x": "Total Under 18 year",
          "xref": "x",
          "y": "Male 60 years and over",
          "yref": "y"
         },
         {
          "font": {
           "color": "#000000"
          },
          "showarrow": false,
          "text": "0.97",
          "x": "Male Under 18 year",
          "xref": "x",
          "y": "Male 60 years and over",
          "yref": "y"
         },
         {
          "font": {
           "color": "#000000"
          },
          "showarrow": false,
          "text": "0.97",
          "x": "Female Under 18 year",
          "xref": "x",
          "y": "Male 60 years and over",
          "yref": "y"
         },
         {
          "font": {
           "color": "#000000"
          },
          "showarrow": false,
          "text": "1.0",
          "x": "Total 60 years and over",
          "xref": "x",
          "y": "Male 60 years and over",
          "yref": "y"
         },
         {
          "font": {
           "color": "#000000"
          },
          "showarrow": false,
          "text": "1.0",
          "x": "Male 60 years and over",
          "xref": "x",
          "y": "Male 60 years and over",
          "yref": "y"
         },
         {
          "font": {
           "color": "#000000"
          },
          "showarrow": false,
          "text": "1.0",
          "x": "Female 60 years and over",
          "xref": "x",
          "y": "Male 60 years and over",
          "yref": "y"
         },
         {
          "font": {
           "color": "#FFFFFF"
          },
          "showarrow": false,
          "text": "-0.02",
          "x": "Median age (years)",
          "xref": "x",
          "y": "Male 60 years and over",
          "yref": "y"
         },
         {
          "font": {
           "color": "#FFFFFF"
          },
          "showarrow": false,
          "text": "-0.11",
          "x": "Sex ratio (males per 100 females)",
          "xref": "x",
          "y": "Male 60 years and over",
          "yref": "y"
         },
         {
          "font": {
           "color": "#FFFFFF"
          },
          "showarrow": false,
          "text": "-0.09",
          "x": "Age dependency ratio",
          "xref": "x",
          "y": "Male 60 years and over",
          "yref": "y"
         },
         {
          "font": {
           "color": "#FFFFFF"
          },
          "showarrow": false,
          "text": "-0.06",
          "x": "Old-age dependency ratio",
          "xref": "x",
          "y": "Male 60 years and over",
          "yref": "y"
         },
         {
          "font": {
           "color": "#FFFFFF"
          },
          "showarrow": false,
          "text": "-0.07",
          "x": "Child dependency ratio",
          "xref": "x",
          "y": "Male 60 years and over",
          "yref": "y"
         },
         {
          "font": {
           "color": "#FFFFFF"
          },
          "showarrow": false,
          "text": "-0.03",
          "x": "percent_under18",
          "xref": "x",
          "y": "Male 60 years and over",
          "yref": "y"
         },
         {
          "font": {
           "color": "#FFFFFF"
          },
          "showarrow": false,
          "text": "-0.07",
          "x": "percent_over60",
          "xref": "x",
          "y": "Male 60 years and over",
          "yref": "y"
         },
         {
          "font": {
           "color": "#000000"
          },
          "showarrow": false,
          "text": "0.66",
          "x": "hospital_bed_count",
          "xref": "x",
          "y": "Male 60 years and over",
          "yref": "y"
         },
         {
          "font": {
           "color": "#000000"
          },
          "showarrow": false,
          "text": "0.89",
          "x": "hospital_count",
          "xref": "x",
          "y": "Male 60 years and over",
          "yref": "y"
         },
         {
          "font": {
           "color": "#FFFFFF"
          },
          "showarrow": false,
          "text": "0.04",
          "x": "hospitalbeds_per10000",
          "xref": "x",
          "y": "Male 60 years and over",
          "yref": "y"
         },
         {
          "font": {
           "color": "#000000"
          },
          "showarrow": false,
          "text": "0.5",
          "x": "cases",
          "xref": "x",
          "y": "Male 60 years and over",
          "yref": "y"
         },
         {
          "font": {
           "color": "#000000"
          },
          "showarrow": false,
          "text": "0.45",
          "x": "deaths",
          "xref": "x",
          "y": "Male 60 years and over",
          "yref": "y"
         },
         {
          "font": {
           "color": "#FFFFFF"
          },
          "showarrow": false,
          "text": "0.16",
          "x": "cases_per1000",
          "xref": "x",
          "y": "Male 60 years and over",
          "yref": "y"
         },
         {
          "font": {
           "color": "#FFFFFF"
          },
          "showarrow": false,
          "text": "0.15",
          "x": "deaths_per1000",
          "xref": "x",
          "y": "Male 60 years and over",
          "yref": "y"
         },
         {
          "font": {
           "color": "#000000"
          },
          "showarrow": false,
          "text": "0.99",
          "x": "Total",
          "xref": "x",
          "y": "Female 60 years and over",
          "yref": "y"
         },
         {
          "font": {
           "color": "#000000"
          },
          "showarrow": false,
          "text": "0.98",
          "x": "Male",
          "xref": "x",
          "y": "Female 60 years and over",
          "yref": "y"
         },
         {
          "font": {
           "color": "#000000"
          },
          "showarrow": false,
          "text": "0.99",
          "x": "Female",
          "xref": "x",
          "y": "Female 60 years and over",
          "yref": "y"
         },
         {
          "font": {
           "color": "#000000"
          },
          "showarrow": false,
          "text": "0.97",
          "x": "Total Under 18 year",
          "xref": "x",
          "y": "Female 60 years and over",
          "yref": "y"
         },
         {
          "font": {
           "color": "#000000"
          },
          "showarrow": false,
          "text": "0.97",
          "x": "Male Under 18 year",
          "xref": "x",
          "y": "Female 60 years and over",
          "yref": "y"
         },
         {
          "font": {
           "color": "#000000"
          },
          "showarrow": false,
          "text": "0.97",
          "x": "Female Under 18 year",
          "xref": "x",
          "y": "Female 60 years and over",
          "yref": "y"
         },
         {
          "font": {
           "color": "#000000"
          },
          "showarrow": false,
          "text": "1.0",
          "x": "Total 60 years and over",
          "xref": "x",
          "y": "Female 60 years and over",
          "yref": "y"
         },
         {
          "font": {
           "color": "#000000"
          },
          "showarrow": false,
          "text": "1.0",
          "x": "Male 60 years and over",
          "xref": "x",
          "y": "Female 60 years and over",
          "yref": "y"
         },
         {
          "font": {
           "color": "#000000"
          },
          "showarrow": false,
          "text": "1.0",
          "x": "Female 60 years and over",
          "xref": "x",
          "y": "Female 60 years and over",
          "yref": "y"
         },
         {
          "font": {
           "color": "#FFFFFF"
          },
          "showarrow": false,
          "text": "-0.03",
          "x": "Median age (years)",
          "xref": "x",
          "y": "Female 60 years and over",
          "yref": "y"
         },
         {
          "font": {
           "color": "#FFFFFF"
          },
          "showarrow": false,
          "text": "-0.12",
          "x": "Sex ratio (males per 100 females)",
          "xref": "x",
          "y": "Female 60 years and over",
          "yref": "y"
         },
         {
          "font": {
           "color": "#FFFFFF"
          },
          "showarrow": false,
          "text": "-0.1",
          "x": "Age dependency ratio",
          "xref": "x",
          "y": "Female 60 years and over",
          "yref": "y"
         },
         {
          "font": {
           "color": "#FFFFFF"
          },
          "showarrow": false,
          "text": "-0.07",
          "x": "Old-age dependency ratio",
          "xref": "x",
          "y": "Female 60 years and over",
          "yref": "y"
         },
         {
          "font": {
           "color": "#FFFFFF"
          },
          "showarrow": false,
          "text": "-0.07",
          "x": "Child dependency ratio",
          "xref": "x",
          "y": "Female 60 years and over",
          "yref": "y"
         },
         {
          "font": {
           "color": "#FFFFFF"
          },
          "showarrow": false,
          "text": "-0.03",
          "x": "percent_under18",
          "xref": "x",
          "y": "Female 60 years and over",
          "yref": "y"
         },
         {
          "font": {
           "color": "#FFFFFF"
          },
          "showarrow": false,
          "text": "-0.08",
          "x": "percent_over60",
          "xref": "x",
          "y": "Female 60 years and over",
          "yref": "y"
         },
         {
          "font": {
           "color": "#000000"
          },
          "showarrow": false,
          "text": "0.67",
          "x": "hospital_bed_count",
          "xref": "x",
          "y": "Female 60 years and over",
          "yref": "y"
         },
         {
          "font": {
           "color": "#000000"
          },
          "showarrow": false,
          "text": "0.89",
          "x": "hospital_count",
          "xref": "x",
          "y": "Female 60 years and over",
          "yref": "y"
         },
         {
          "font": {
           "color": "#FFFFFF"
          },
          "showarrow": false,
          "text": "0.05",
          "x": "hospitalbeds_per10000",
          "xref": "x",
          "y": "Female 60 years and over",
          "yref": "y"
         },
         {
          "font": {
           "color": "#000000"
          },
          "showarrow": false,
          "text": "0.52",
          "x": "cases",
          "xref": "x",
          "y": "Female 60 years and over",
          "yref": "y"
         },
         {
          "font": {
           "color": "#000000"
          },
          "showarrow": false,
          "text": "0.46",
          "x": "deaths",
          "xref": "x",
          "y": "Female 60 years and over",
          "yref": "y"
         },
         {
          "font": {
           "color": "#FFFFFF"
          },
          "showarrow": false,
          "text": "0.17",
          "x": "cases_per1000",
          "xref": "x",
          "y": "Female 60 years and over",
          "yref": "y"
         },
         {
          "font": {
           "color": "#FFFFFF"
          },
          "showarrow": false,
          "text": "0.16",
          "x": "deaths_per1000",
          "xref": "x",
          "y": "Female 60 years and over",
          "yref": "y"
         },
         {
          "font": {
           "color": "#FFFFFF"
          },
          "showarrow": false,
          "text": "-0.12",
          "x": "Total",
          "xref": "x",
          "y": "Median age (years)",
          "yref": "y"
         },
         {
          "font": {
           "color": "#FFFFFF"
          },
          "showarrow": false,
          "text": "-0.12",
          "x": "Male",
          "xref": "x",
          "y": "Median age (years)",
          "yref": "y"
         },
         {
          "font": {
           "color": "#FFFFFF"
          },
          "showarrow": false,
          "text": "-0.12",
          "x": "Female",
          "xref": "x",
          "y": "Median age (years)",
          "yref": "y"
         },
         {
          "font": {
           "color": "#FFFFFF"
          },
          "showarrow": false,
          "text": "-0.15",
          "x": "Total Under 18 year",
          "xref": "x",
          "y": "Median age (years)",
          "yref": "y"
         },
         {
          "font": {
           "color": "#FFFFFF"
          },
          "showarrow": false,
          "text": "-0.15",
          "x": "Male Under 18 year",
          "xref": "x",
          "y": "Median age (years)",
          "yref": "y"
         },
         {
          "font": {
           "color": "#FFFFFF"
          },
          "showarrow": false,
          "text": "-0.15",
          "x": "Female Under 18 year",
          "xref": "x",
          "y": "Median age (years)",
          "yref": "y"
         },
         {
          "font": {
           "color": "#FFFFFF"
          },
          "showarrow": false,
          "text": "-0.03",
          "x": "Total 60 years and over",
          "xref": "x",
          "y": "Median age (years)",
          "yref": "y"
         },
         {
          "font": {
           "color": "#FFFFFF"
          },
          "showarrow": false,
          "text": "-0.02",
          "x": "Male 60 years and over",
          "xref": "x",
          "y": "Median age (years)",
          "yref": "y"
         },
         {
          "font": {
           "color": "#FFFFFF"
          },
          "showarrow": false,
          "text": "-0.03",
          "x": "Female 60 years and over",
          "xref": "x",
          "y": "Median age (years)",
          "yref": "y"
         },
         {
          "font": {
           "color": "#000000"
          },
          "showarrow": false,
          "text": "1.0",
          "x": "Median age (years)",
          "xref": "x",
          "y": "Median age (years)",
          "yref": "y"
         },
         {
          "font": {
           "color": "#FFFFFF"
          },
          "showarrow": false,
          "text": "-0.16",
          "x": "Sex ratio (males per 100 females)",
          "xref": "x",
          "y": "Median age (years)",
          "yref": "y"
         },
         {
          "font": {
           "color": "#000000"
          },
          "showarrow": false,
          "text": "0.66",
          "x": "Age dependency ratio",
          "xref": "x",
          "y": "Median age (years)",
          "yref": "y"
         },
         {
          "font": {
           "color": "#000000"
          },
          "showarrow": false,
          "text": "0.85",
          "x": "Old-age dependency ratio",
          "xref": "x",
          "y": "Median age (years)",
          "yref": "y"
         },
         {
          "font": {
           "color": "#FFFFFF"
          },
          "showarrow": false,
          "text": "-0.29",
          "x": "Child dependency ratio",
          "xref": "x",
          "y": "Median age (years)",
          "yref": "y"
         },
         {
          "font": {
           "color": "#FFFFFF"
          },
          "showarrow": false,
          "text": "-0.53",
          "x": "percent_under18",
          "xref": "x",
          "y": "Median age (years)",
          "yref": "y"
         },
         {
          "font": {
           "color": "#000000"
          },
          "showarrow": false,
          "text": "0.91",
          "x": "percent_over60",
          "xref": "x",
          "y": "Median age (years)",
          "yref": "y"
         },
         {
          "font": {
           "color": "#FFFFFF"
          },
          "showarrow": false,
          "text": "-0.04",
          "x": "hospital_bed_count",
          "xref": "x",
          "y": "Median age (years)",
          "yref": "y"
         },
         {
          "font": {
           "color": "#FFFFFF"
          },
          "showarrow": false,
          "text": "-0.16",
          "x": "hospital_count",
          "xref": "x",
          "y": "Median age (years)",
          "yref": "y"
         },
         {
          "font": {
           "color": "#FFFFFF"
          },
          "showarrow": false,
          "text": "0.0",
          "x": "hospitalbeds_per10000",
          "xref": "x",
          "y": "Median age (years)",
          "yref": "y"
         },
         {
          "font": {
           "color": "#FFFFFF"
          },
          "showarrow": false,
          "text": "-0.01",
          "x": "cases",
          "xref": "x",
          "y": "Median age (years)",
          "yref": "y"
         },
         {
          "font": {
           "color": "#FFFFFF"
          },
          "showarrow": false,
          "text": "0.01",
          "x": "deaths",
          "xref": "x",
          "y": "Median age (years)",
          "yref": "y"
         },
         {
          "font": {
           "color": "#FFFFFF"
          },
          "showarrow": false,
          "text": "0.02",
          "x": "cases_per1000",
          "xref": "x",
          "y": "Median age (years)",
          "yref": "y"
         },
         {
          "font": {
           "color": "#FFFFFF"
          },
          "showarrow": false,
          "text": "0.05",
          "x": "deaths_per1000",
          "xref": "x",
          "y": "Median age (years)",
          "yref": "y"
         },
         {
          "font": {
           "color": "#FFFFFF"
          },
          "showarrow": false,
          "text": "-0.08",
          "x": "Total",
          "xref": "x",
          "y": "Sex ratio (males per 100 females)",
          "yref": "y"
         },
         {
          "font": {
           "color": "#FFFFFF"
          },
          "showarrow": false,
          "text": "-0.08",
          "x": "Male",
          "xref": "x",
          "y": "Sex ratio (males per 100 females)",
          "yref": "y"
         },
         {
          "font": {
           "color": "#FFFFFF"
          },
          "showarrow": false,
          "text": "-0.09",
          "x": "Female",
          "xref": "x",
          "y": "Sex ratio (males per 100 females)",
          "yref": "y"
         },
         {
          "font": {
           "color": "#FFFFFF"
          },
          "showarrow": false,
          "text": "-0.07",
          "x": "Total Under 18 year",
          "xref": "x",
          "y": "Sex ratio (males per 100 females)",
          "yref": "y"
         },
         {
          "font": {
           "color": "#FFFFFF"
          },
          "showarrow": false,
          "text": "-0.07",
          "x": "Male Under 18 year",
          "xref": "x",
          "y": "Sex ratio (males per 100 females)",
          "yref": "y"
         },
         {
          "font": {
           "color": "#FFFFFF"
          },
          "showarrow": false,
          "text": "-0.08",
          "x": "Female Under 18 year",
          "xref": "x",
          "y": "Sex ratio (males per 100 females)",
          "yref": "y"
         },
         {
          "font": {
           "color": "#FFFFFF"
          },
          "showarrow": false,
          "text": "-0.11",
          "x": "Total 60 years and over",
          "xref": "x",
          "y": "Sex ratio (males per 100 females)",
          "yref": "y"
         },
         {
          "font": {
           "color": "#FFFFFF"
          },
          "showarrow": false,
          "text": "-0.11",
          "x": "Male 60 years and over",
          "xref": "x",
          "y": "Sex ratio (males per 100 females)",
          "yref": "y"
         },
         {
          "font": {
           "color": "#FFFFFF"
          },
          "showarrow": false,
          "text": "-0.12",
          "x": "Female 60 years and over",
          "xref": "x",
          "y": "Sex ratio (males per 100 females)",
          "yref": "y"
         },
         {
          "font": {
           "color": "#FFFFFF"
          },
          "showarrow": false,
          "text": "-0.16",
          "x": "Median age (years)",
          "xref": "x",
          "y": "Sex ratio (males per 100 females)",
          "yref": "y"
         },
         {
          "font": {
           "color": "#000000"
          },
          "showarrow": false,
          "text": "1.0",
          "x": "Sex ratio (males per 100 females)",
          "xref": "x",
          "y": "Sex ratio (males per 100 females)",
          "yref": "y"
         },
         {
          "font": {
           "color": "#FFFFFF"
          },
          "showarrow": false,
          "text": "-0.13",
          "x": "Age dependency ratio",
          "xref": "x",
          "y": "Sex ratio (males per 100 females)",
          "yref": "y"
         },
         {
          "font": {
           "color": "#FFFFFF"
          },
          "showarrow": false,
          "text": "-0.15",
          "x": "Old-age dependency ratio",
          "xref": "x",
          "y": "Sex ratio (males per 100 females)",
          "yref": "y"
         },
         {
          "font": {
           "color": "#FFFFFF"
          },
          "showarrow": false,
          "text": "0.02",
          "x": "Child dependency ratio",
          "xref": "x",
          "y": "Sex ratio (males per 100 females)",
          "yref": "y"
         },
         {
          "font": {
           "color": "#FFFFFF"
          },
          "showarrow": false,
          "text": "0.07",
          "x": "percent_under18",
          "xref": "x",
          "y": "Sex ratio (males per 100 females)",
          "yref": "y"
         },
         {
          "font": {
           "color": "#FFFFFF"
          },
          "showarrow": false,
          "text": "-0.16",
          "x": "percent_over60",
          "xref": "x",
          "y": "Sex ratio (males per 100 females)",
          "yref": "y"
         },
         {
          "font": {
           "color": "#FFFFFF"
          },
          "showarrow": false,
          "text": "-0.12",
          "x": "hospital_bed_count",
          "xref": "x",
          "y": "Sex ratio (males per 100 females)",
          "yref": "y"
         },
         {
          "font": {
           "color": "#FFFFFF"
          },
          "showarrow": false,
          "text": "-0.1",
          "x": "hospital_count",
          "xref": "x",
          "y": "Sex ratio (males per 100 females)",
          "yref": "y"
         },
         {
          "font": {
           "color": "#FFFFFF"
          },
          "showarrow": false,
          "text": "-0.08",
          "x": "hospitalbeds_per10000",
          "xref": "x",
          "y": "Sex ratio (males per 100 females)",
          "yref": "y"
         },
         {
          "font": {
           "color": "#FFFFFF"
          },
          "showarrow": false,
          "text": "-0.1",
          "x": "cases",
          "xref": "x",
          "y": "Sex ratio (males per 100 females)",
          "yref": "y"
         },
         {
          "font": {
           "color": "#FFFFFF"
          },
          "showarrow": false,
          "text": "-0.11",
          "x": "deaths",
          "xref": "x",
          "y": "Sex ratio (males per 100 females)",
          "yref": "y"
         },
         {
          "font": {
           "color": "#FFFFFF"
          },
          "showarrow": false,
          "text": "-0.13",
          "x": "cases_per1000",
          "xref": "x",
          "y": "Sex ratio (males per 100 females)",
          "yref": "y"
         },
         {
          "font": {
           "color": "#FFFFFF"
          },
          "showarrow": false,
          "text": "-0.17",
          "x": "deaths_per1000",
          "xref": "x",
          "y": "Sex ratio (males per 100 females)",
          "yref": "y"
         },
         {
          "font": {
           "color": "#FFFFFF"
          },
          "showarrow": false,
          "text": "-0.16",
          "x": "Total",
          "xref": "x",
          "y": "Age dependency ratio",
          "yref": "y"
         },
         {
          "font": {
           "color": "#FFFFFF"
          },
          "showarrow": false,
          "text": "-0.16",
          "x": "Male",
          "xref": "x",
          "y": "Age dependency ratio",
          "yref": "y"
         },
         {
          "font": {
           "color": "#FFFFFF"
          },
          "showarrow": false,
          "text": "-0.16",
          "x": "Female",
          "xref": "x",
          "y": "Age dependency ratio",
          "yref": "y"
         },
         {
          "font": {
           "color": "#FFFFFF"
          },
          "showarrow": false,
          "text": "-0.15",
          "x": "Total Under 18 year",
          "xref": "x",
          "y": "Age dependency ratio",
          "yref": "y"
         },
         {
          "font": {
           "color": "#FFFFFF"
          },
          "showarrow": false,
          "text": "-0.15",
          "x": "Male Under 18 year",
          "xref": "x",
          "y": "Age dependency ratio",
          "yref": "y"
         },
         {
          "font": {
           "color": "#FFFFFF"
          },
          "showarrow": false,
          "text": "-0.15",
          "x": "Female Under 18 year",
          "xref": "x",
          "y": "Age dependency ratio",
          "yref": "y"
         },
         {
          "font": {
           "color": "#FFFFFF"
          },
          "showarrow": false,
          "text": "-0.1",
          "x": "Total 60 years and over",
          "xref": "x",
          "y": "Age dependency ratio",
          "yref": "y"
         },
         {
          "font": {
           "color": "#FFFFFF"
          },
          "showarrow": false,
          "text": "-0.09",
          "x": "Male 60 years and over",
          "xref": "x",
          "y": "Age dependency ratio",
          "yref": "y"
         },
         {
          "font": {
           "color": "#FFFFFF"
          },
          "showarrow": false,
          "text": "-0.1",
          "x": "Female 60 years and over",
          "xref": "x",
          "y": "Age dependency ratio",
          "yref": "y"
         },
         {
          "font": {
           "color": "#000000"
          },
          "showarrow": false,
          "text": "0.66",
          "x": "Median age (years)",
          "xref": "x",
          "y": "Age dependency ratio",
          "yref": "y"
         },
         {
          "font": {
           "color": "#FFFFFF"
          },
          "showarrow": false,
          "text": "-0.13",
          "x": "Sex ratio (males per 100 females)",
          "xref": "x",
          "y": "Age dependency ratio",
          "yref": "y"
         },
         {
          "font": {
           "color": "#000000"
          },
          "showarrow": false,
          "text": "1.0",
          "x": "Age dependency ratio",
          "xref": "x",
          "y": "Age dependency ratio",
          "yref": "y"
         },
         {
          "font": {
           "color": "#000000"
          },
          "showarrow": false,
          "text": "0.83",
          "x": "Old-age dependency ratio",
          "xref": "x",
          "y": "Age dependency ratio",
          "yref": "y"
         },
         {
          "font": {
           "color": "#000000"
          },
          "showarrow": false,
          "text": "0.34",
          "x": "Child dependency ratio",
          "xref": "x",
          "y": "Age dependency ratio",
          "yref": "y"
         },
         {
          "font": {
           "color": "#FFFFFF"
          },
          "showarrow": false,
          "text": "0.04",
          "x": "percent_under18",
          "xref": "x",
          "y": "Age dependency ratio",
          "yref": "y"
         },
         {
          "font": {
           "color": "#000000"
          },
          "showarrow": false,
          "text": "0.72",
          "x": "percent_over60",
          "xref": "x",
          "y": "Age dependency ratio",
          "yref": "y"
         },
         {
          "font": {
           "color": "#FFFFFF"
          },
          "showarrow": false,
          "text": "-0.1",
          "x": "hospital_bed_count",
          "xref": "x",
          "y": "Age dependency ratio",
          "yref": "y"
         },
         {
          "font": {
           "color": "#FFFFFF"
          },
          "showarrow": false,
          "text": "-0.16",
          "x": "hospital_count",
          "xref": "x",
          "y": "Age dependency ratio",
          "yref": "y"
         },
         {
          "font": {
           "color": "#FFFFFF"
          },
          "showarrow": false,
          "text": "-0.04",
          "x": "hospitalbeds_per10000",
          "xref": "x",
          "y": "Age dependency ratio",
          "yref": "y"
         },
         {
          "font": {
           "color": "#FFFFFF"
          },
          "showarrow": false,
          "text": "-0.1",
          "x": "cases",
          "xref": "x",
          "y": "Age dependency ratio",
          "yref": "y"
         },
         {
          "font": {
           "color": "#FFFFFF"
          },
          "showarrow": false,
          "text": "-0.08",
          "x": "deaths",
          "xref": "x",
          "y": "Age dependency ratio",
          "yref": "y"
         },
         {
          "font": {
           "color": "#FFFFFF"
          },
          "showarrow": false,
          "text": "-0.06",
          "x": "cases_per1000",
          "xref": "x",
          "y": "Age dependency ratio",
          "yref": "y"
         },
         {
          "font": {
           "color": "#FFFFFF"
          },
          "showarrow": false,
          "text": "-0.03",
          "x": "deaths_per1000",
          "xref": "x",
          "y": "Age dependency ratio",
          "yref": "y"
         },
         {
          "font": {
           "color": "#FFFFFF"
          },
          "showarrow": false,
          "text": "-0.15",
          "x": "Total",
          "xref": "x",
          "y": "Old-age dependency ratio",
          "yref": "y"
         },
         {
          "font": {
           "color": "#FFFFFF"
          },
          "showarrow": false,
          "text": "-0.15",
          "x": "Male",
          "xref": "x",
          "y": "Old-age dependency ratio",
          "yref": "y"
         },
         {
          "font": {
           "color": "#FFFFFF"
          },
          "showarrow": false,
          "text": "-0.15",
          "x": "Female",
          "xref": "x",
          "y": "Old-age dependency ratio",
          "yref": "y"
         },
         {
          "font": {
           "color": "#FFFFFF"
          },
          "showarrow": false,
          "text": "-0.18",
          "x": "Total Under 18 year",
          "xref": "x",
          "y": "Old-age dependency ratio",
          "yref": "y"
         },
         {
          "font": {
           "color": "#FFFFFF"
          },
          "showarrow": false,
          "text": "-0.18",
          "x": "Male Under 18 year",
          "xref": "x",
          "y": "Old-age dependency ratio",
          "yref": "y"
         },
         {
          "font": {
           "color": "#FFFFFF"
          },
          "showarrow": false,
          "text": "-0.18",
          "x": "Female Under 18 year",
          "xref": "x",
          "y": "Old-age dependency ratio",
          "yref": "y"
         },
         {
          "font": {
           "color": "#FFFFFF"
          },
          "showarrow": false,
          "text": "-0.06",
          "x": "Total 60 years and over",
          "xref": "x",
          "y": "Old-age dependency ratio",
          "yref": "y"
         },
         {
          "font": {
           "color": "#FFFFFF"
          },
          "showarrow": false,
          "text": "-0.06",
          "x": "Male 60 years and over",
          "xref": "x",
          "y": "Old-age dependency ratio",
          "yref": "y"
         },
         {
          "font": {
           "color": "#FFFFFF"
          },
          "showarrow": false,
          "text": "-0.07",
          "x": "Female 60 years and over",
          "xref": "x",
          "y": "Old-age dependency ratio",
          "yref": "y"
         },
         {
          "font": {
           "color": "#000000"
          },
          "showarrow": false,
          "text": "0.85",
          "x": "Median age (years)",
          "xref": "x",
          "y": "Old-age dependency ratio",
          "yref": "y"
         },
         {
          "font": {
           "color": "#FFFFFF"
          },
          "showarrow": false,
          "text": "-0.15",
          "x": "Sex ratio (males per 100 females)",
          "xref": "x",
          "y": "Old-age dependency ratio",
          "yref": "y"
         },
         {
          "font": {
           "color": "#000000"
          },
          "showarrow": false,
          "text": "0.83",
          "x": "Age dependency ratio",
          "xref": "x",
          "y": "Old-age dependency ratio",
          "yref": "y"
         },
         {
          "font": {
           "color": "#000000"
          },
          "showarrow": false,
          "text": "1.0",
          "x": "Old-age dependency ratio",
          "xref": "x",
          "y": "Old-age dependency ratio",
          "yref": "y"
         },
         {
          "font": {
           "color": "#FFFFFF"
          },
          "showarrow": false,
          "text": "-0.24",
          "x": "Child dependency ratio",
          "xref": "x",
          "y": "Old-age dependency ratio",
          "yref": "y"
         },
         {
          "font": {
           "color": "#FFFFFF"
          },
          "showarrow": false,
          "text": "-0.52",
          "x": "percent_under18",
          "xref": "x",
          "y": "Old-age dependency ratio",
          "yref": "y"
         },
         {
          "font": {
           "color": "#000000"
          },
          "showarrow": false,
          "text": "0.95",
          "x": "percent_over60",
          "xref": "x",
          "y": "Old-age dependency ratio",
          "yref": "y"
         },
         {
          "font": {
           "color": "#FFFFFF"
          },
          "showarrow": false,
          "text": "-0.06",
          "x": "hospital_bed_count",
          "xref": "x",
          "y": "Old-age dependency ratio",
          "yref": "y"
         },
         {
          "font": {
           "color": "#FFFFFF"
          },
          "showarrow": false,
          "text": "-0.16",
          "x": "hospital_count",
          "xref": "x",
          "y": "Old-age dependency ratio",
          "yref": "y"
         },
         {
          "font": {
           "color": "#FFFFFF"
          },
          "showarrow": false,
          "text": "0.01",
          "x": "hospitalbeds_per10000",
          "xref": "x",
          "y": "Old-age dependency ratio",
          "yref": "y"
         },
         {
          "font": {
           "color": "#FFFFFF"
          },
          "showarrow": false,
          "text": "-0.07",
          "x": "cases",
          "xref": "x",
          "y": "Old-age dependency ratio",
          "yref": "y"
         },
         {
          "font": {
           "color": "#FFFFFF"
          },
          "showarrow": false,
          "text": "-0.05",
          "x": "deaths",
          "xref": "x",
          "y": "Old-age dependency ratio",
          "yref": "y"
         },
         {
          "font": {
           "color": "#FFFFFF"
          },
          "showarrow": false,
          "text": "-0.05",
          "x": "cases_per1000",
          "xref": "x",
          "y": "Old-age dependency ratio",
          "yref": "y"
         },
         {
          "font": {
           "color": "#FFFFFF"
          },
          "showarrow": false,
          "text": "-0.01",
          "x": "deaths_per1000",
          "xref": "x",
          "y": "Old-age dependency ratio",
          "yref": "y"
         },
         {
          "font": {
           "color": "#FFFFFF"
          },
          "showarrow": false,
          "text": "-0.02",
          "x": "Total",
          "xref": "x",
          "y": "Child dependency ratio",
          "yref": "y"
         },
         {
          "font": {
           "color": "#FFFFFF"
          },
          "showarrow": false,
          "text": "-0.02",
          "x": "Male",
          "xref": "x",
          "y": "Child dependency ratio",
          "yref": "y"
         },
         {
          "font": {
           "color": "#FFFFFF"
          },
          "showarrow": false,
          "text": "-0.02",
          "x": "Female",
          "xref": "x",
          "y": "Child dependency ratio",
          "yref": "y"
         },
         {
          "font": {
           "color": "#FFFFFF"
          },
          "showarrow": false,
          "text": "0.05",
          "x": "Total Under 18 year",
          "xref": "x",
          "y": "Child dependency ratio",
          "yref": "y"
         },
         {
          "font": {
           "color": "#FFFFFF"
          },
          "showarrow": false,
          "text": "0.05",
          "x": "Male Under 18 year",
          "xref": "x",
          "y": "Child dependency ratio",
          "yref": "y"
         },
         {
          "font": {
           "color": "#FFFFFF"
          },
          "showarrow": false,
          "text": "0.04",
          "x": "Female Under 18 year",
          "xref": "x",
          "y": "Child dependency ratio",
          "yref": "y"
         },
         {
          "font": {
           "color": "#FFFFFF"
          },
          "showarrow": false,
          "text": "-0.07",
          "x": "Total 60 years and over",
          "xref": "x",
          "y": "Child dependency ratio",
          "yref": "y"
         },
         {
          "font": {
           "color": "#FFFFFF"
          },
          "showarrow": false,
          "text": "-0.07",
          "x": "Male 60 years and over",
          "xref": "x",
          "y": "Child dependency ratio",
          "yref": "y"
         },
         {
          "font": {
           "color": "#FFFFFF"
          },
          "showarrow": false,
          "text": "-0.07",
          "x": "Female 60 years and over",
          "xref": "x",
          "y": "Child dependency ratio",
          "yref": "y"
         },
         {
          "font": {
           "color": "#FFFFFF"
          },
          "showarrow": false,
          "text": "-0.29",
          "x": "Median age (years)",
          "xref": "x",
          "y": "Child dependency ratio",
          "yref": "y"
         },
         {
          "font": {
           "color": "#FFFFFF"
          },
          "showarrow": false,
          "text": "0.02",
          "x": "Sex ratio (males per 100 females)",
          "xref": "x",
          "y": "Child dependency ratio",
          "yref": "y"
         },
         {
          "font": {
           "color": "#000000"
          },
          "showarrow": false,
          "text": "0.34",
          "x": "Age dependency ratio",
          "xref": "x",
          "y": "Child dependency ratio",
          "yref": "y"
         },
         {
          "font": {
           "color": "#FFFFFF"
          },
          "showarrow": false,
          "text": "-0.24",
          "x": "Old-age dependency ratio",
          "xref": "x",
          "y": "Child dependency ratio",
          "yref": "y"
         },
         {
          "font": {
           "color": "#000000"
          },
          "showarrow": false,
          "text": "1.0",
          "x": "Child dependency ratio",
          "xref": "x",
          "y": "Child dependency ratio",
          "yref": "y"
         },
         {
          "font": {
           "color": "#000000"
          },
          "showarrow": false,
          "text": "0.95",
          "x": "percent_under18",
          "xref": "x",
          "y": "Child dependency ratio",
          "yref": "y"
         },
         {
          "font": {
           "color": "#FFFFFF"
          },
          "showarrow": false,
          "text": "-0.36",
          "x": "percent_over60",
          "xref": "x",
          "y": "Child dependency ratio",
          "yref": "y"
         },
         {
          "font": {
           "color": "#FFFFFF"
          },
          "showarrow": false,
          "text": "-0.07",
          "x": "hospital_bed_count",
          "xref": "x",
          "y": "Child dependency ratio",
          "yref": "y"
         },
         {
          "font": {
           "color": "#FFFFFF"
          },
          "showarrow": false,
          "text": "-0.01",
          "x": "hospital_count",
          "xref": "x",
          "y": "Child dependency ratio",
          "yref": "y"
         },
         {
          "font": {
           "color": "#FFFFFF"
          },
          "showarrow": false,
          "text": "-0.09",
          "x": "hospitalbeds_per10000",
          "xref": "x",
          "y": "Child dependency ratio",
          "yref": "y"
         },
         {
          "font": {
           "color": "#FFFFFF"
          },
          "showarrow": false,
          "text": "-0.05",
          "x": "cases",
          "xref": "x",
          "y": "Child dependency ratio",
          "yref": "y"
         },
         {
          "font": {
           "color": "#FFFFFF"
          },
          "showarrow": false,
          "text": "-0.05",
          "x": "deaths",
          "xref": "x",
          "y": "Child dependency ratio",
          "yref": "y"
         },
         {
          "font": {
           "color": "#FFFFFF"
          },
          "showarrow": false,
          "text": "-0.02",
          "x": "cases_per1000",
          "xref": "x",
          "y": "Child dependency ratio",
          "yref": "y"
         },
         {
          "font": {
           "color": "#FFFFFF"
          },
          "showarrow": false,
          "text": "-0.04",
          "x": "deaths_per1000",
          "xref": "x",
          "y": "Child dependency ratio",
          "yref": "y"
         },
         {
          "font": {
           "color": "#FFFFFF"
          },
          "showarrow": false,
          "text": "0.04",
          "x": "Total",
          "xref": "x",
          "y": "percent_under18",
          "yref": "y"
         },
         {
          "font": {
           "color": "#FFFFFF"
          },
          "showarrow": false,
          "text": "0.05",
          "x": "Male",
          "xref": "x",
          "y": "percent_under18",
          "yref": "y"
         },
         {
          "font": {
           "color": "#FFFFFF"
          },
          "showarrow": false,
          "text": "0.04",
          "x": "Female",
          "xref": "x",
          "y": "percent_under18",
          "yref": "y"
         },
         {
          "font": {
           "color": "#FFFFFF"
          },
          "showarrow": false,
          "text": "0.11",
          "x": "Total Under 18 year",
          "xref": "x",
          "y": "percent_under18",
          "yref": "y"
         },
         {
          "font": {
           "color": "#FFFFFF"
          },
          "showarrow": false,
          "text": "0.11",
          "x": "Male Under 18 year",
          "xref": "x",
          "y": "percent_under18",
          "yref": "y"
         },
         {
          "font": {
           "color": "#FFFFFF"
          },
          "showarrow": false,
          "text": "0.11",
          "x": "Female Under 18 year",
          "xref": "x",
          "y": "percent_under18",
          "yref": "y"
         },
         {
          "font": {
           "color": "#FFFFFF"
          },
          "showarrow": false,
          "text": "-0.03",
          "x": "Total 60 years and over",
          "xref": "x",
          "y": "percent_under18",
          "yref": "y"
         },
         {
          "font": {
           "color": "#FFFFFF"
          },
          "showarrow": false,
          "text": "-0.03",
          "x": "Male 60 years and over",
          "xref": "x",
          "y": "percent_under18",
          "yref": "y"
         },
         {
          "font": {
           "color": "#FFFFFF"
          },
          "showarrow": false,
          "text": "-0.03",
          "x": "Female 60 years and over",
          "xref": "x",
          "y": "percent_under18",
          "yref": "y"
         },
         {
          "font": {
           "color": "#FFFFFF"
          },
          "showarrow": false,
          "text": "-0.53",
          "x": "Median age (years)",
          "xref": "x",
          "y": "percent_under18",
          "yref": "y"
         },
         {
          "font": {
           "color": "#FFFFFF"
          },
          "showarrow": false,
          "text": "0.07",
          "x": "Sex ratio (males per 100 females)",
          "xref": "x",
          "y": "percent_under18",
          "yref": "y"
         },
         {
          "font": {
           "color": "#FFFFFF"
          },
          "showarrow": false,
          "text": "0.04",
          "x": "Age dependency ratio",
          "xref": "x",
          "y": "percent_under18",
          "yref": "y"
         },
         {
          "font": {
           "color": "#FFFFFF"
          },
          "showarrow": false,
          "text": "-0.52",
          "x": "Old-age dependency ratio",
          "xref": "x",
          "y": "percent_under18",
          "yref": "y"
         },
         {
          "font": {
           "color": "#000000"
          },
          "showarrow": false,
          "text": "0.95",
          "x": "Child dependency ratio",
          "xref": "x",
          "y": "percent_under18",
          "yref": "y"
         },
         {
          "font": {
           "color": "#000000"
          },
          "showarrow": false,
          "text": "1.0",
          "x": "percent_under18",
          "xref": "x",
          "y": "percent_under18",
          "yref": "y"
         },
         {
          "font": {
           "color": "#FFFFFF"
          },
          "showarrow": false,
          "text": "-0.63",
          "x": "percent_over60",
          "xref": "x",
          "y": "percent_under18",
          "yref": "y"
         },
         {
          "font": {
           "color": "#FFFFFF"
          },
          "showarrow": false,
          "text": "-0.04",
          "x": "hospital_bed_count",
          "xref": "x",
          "y": "percent_under18",
          "yref": "y"
         },
         {
          "font": {
           "color": "#FFFFFF"
          },
          "showarrow": false,
          "text": "0.06",
          "x": "hospital_count",
          "xref": "x",
          "y": "percent_under18",
          "yref": "y"
         },
         {
          "font": {
           "color": "#FFFFFF"
          },
          "showarrow": false,
          "text": "-0.08",
          "x": "hospitalbeds_per10000",
          "xref": "x",
          "y": "percent_under18",
          "yref": "y"
         },
         {
          "font": {
           "color": "#FFFFFF"
          },
          "showarrow": false,
          "text": "-0.01",
          "x": "cases",
          "xref": "x",
          "y": "percent_under18",
          "yref": "y"
         },
         {
          "font": {
           "color": "#FFFFFF"
          },
          "showarrow": false,
          "text": "-0.02",
          "x": "deaths",
          "xref": "x",
          "y": "percent_under18",
          "yref": "y"
         },
         {
          "font": {
           "color": "#FFFFFF"
          },
          "showarrow": false,
          "text": "-0.0",
          "x": "cases_per1000",
          "xref": "x",
          "y": "percent_under18",
          "yref": "y"
         },
         {
          "font": {
           "color": "#FFFFFF"
          },
          "showarrow": false,
          "text": "-0.03",
          "x": "deaths_per1000",
          "xref": "x",
          "y": "percent_under18",
          "yref": "y"
         },
         {
          "font": {
           "color": "#FFFFFF"
          },
          "showarrow": false,
          "text": "-0.18",
          "x": "Total",
          "xref": "x",
          "y": "percent_over60",
          "yref": "y"
         },
         {
          "font": {
           "color": "#FFFFFF"
          },
          "showarrow": false,
          "text": "-0.18",
          "x": "Male",
          "xref": "x",
          "y": "percent_over60",
          "yref": "y"
         },
         {
          "font": {
           "color": "#FFFFFF"
          },
          "showarrow": false,
          "text": "-0.17",
          "x": "Female",
          "xref": "x",
          "y": "percent_over60",
          "yref": "y"
         },
         {
          "font": {
           "color": "#FFFFFF"
          },
          "showarrow": false,
          "text": "-0.21",
          "x": "Total Under 18 year",
          "xref": "x",
          "y": "percent_over60",
          "yref": "y"
         },
         {
          "font": {
           "color": "#FFFFFF"
          },
          "showarrow": false,
          "text": "-0.21",
          "x": "Male Under 18 year",
          "xref": "x",
          "y": "percent_over60",
          "yref": "y"
         },
         {
          "font": {
           "color": "#FFFFFF"
          },
          "showarrow": false,
          "text": "-0.21",
          "x": "Female Under 18 year",
          "xref": "x",
          "y": "percent_over60",
          "yref": "y"
         },
         {
          "font": {
           "color": "#FFFFFF"
          },
          "showarrow": false,
          "text": "-0.08",
          "x": "Total 60 years and over",
          "xref": "x",
          "y": "percent_over60",
          "yref": "y"
         },
         {
          "font": {
           "color": "#FFFFFF"
          },
          "showarrow": false,
          "text": "-0.07",
          "x": "Male 60 years and over",
          "xref": "x",
          "y": "percent_over60",
          "yref": "y"
         },
         {
          "font": {
           "color": "#FFFFFF"
          },
          "showarrow": false,
          "text": "-0.08",
          "x": "Female 60 years and over",
          "xref": "x",
          "y": "percent_over60",
          "yref": "y"
         },
         {
          "font": {
           "color": "#000000"
          },
          "showarrow": false,
          "text": "0.91",
          "x": "Median age (years)",
          "xref": "x",
          "y": "percent_over60",
          "yref": "y"
         },
         {
          "font": {
           "color": "#FFFFFF"
          },
          "showarrow": false,
          "text": "-0.16",
          "x": "Sex ratio (males per 100 females)",
          "xref": "x",
          "y": "percent_over60",
          "yref": "y"
         },
         {
          "font": {
           "color": "#000000"
          },
          "showarrow": false,
          "text": "0.72",
          "x": "Age dependency ratio",
          "xref": "x",
          "y": "percent_over60",
          "yref": "y"
         },
         {
          "font": {
           "color": "#000000"
          },
          "showarrow": false,
          "text": "0.95",
          "x": "Old-age dependency ratio",
          "xref": "x",
          "y": "percent_over60",
          "yref": "y"
         },
         {
          "font": {
           "color": "#FFFFFF"
          },
          "showarrow": false,
          "text": "-0.36",
          "x": "Child dependency ratio",
          "xref": "x",
          "y": "percent_over60",
          "yref": "y"
         },
         {
          "font": {
           "color": "#FFFFFF"
          },
          "showarrow": false,
          "text": "-0.63",
          "x": "percent_under18",
          "xref": "x",
          "y": "percent_over60",
          "yref": "y"
         },
         {
          "font": {
           "color": "#000000"
          },
          "showarrow": false,
          "text": "1.0",
          "x": "percent_over60",
          "xref": "x",
          "y": "percent_over60",
          "yref": "y"
         },
         {
          "font": {
           "color": "#FFFFFF"
          },
          "showarrow": false,
          "text": "-0.07",
          "x": "hospital_bed_count",
          "xref": "x",
          "y": "percent_over60",
          "yref": "y"
         },
         {
          "font": {
           "color": "#FFFFFF"
          },
          "showarrow": false,
          "text": "-0.18",
          "x": "hospital_count",
          "xref": "x",
          "y": "percent_over60",
          "yref": "y"
         },
         {
          "font": {
           "color": "#FFFFFF"
          },
          "showarrow": false,
          "text": "0.02",
          "x": "hospitalbeds_per10000",
          "xref": "x",
          "y": "percent_over60",
          "yref": "y"
         },
         {
          "font": {
           "color": "#FFFFFF"
          },
          "showarrow": false,
          "text": "-0.07",
          "x": "cases",
          "xref": "x",
          "y": "percent_over60",
          "yref": "y"
         },
         {
          "font": {
           "color": "#FFFFFF"
          },
          "showarrow": false,
          "text": "-0.04",
          "x": "deaths",
          "xref": "x",
          "y": "percent_over60",
          "yref": "y"
         },
         {
          "font": {
           "color": "#FFFFFF"
          },
          "showarrow": false,
          "text": "-0.04",
          "x": "cases_per1000",
          "xref": "x",
          "y": "percent_over60",
          "yref": "y"
         },
         {
          "font": {
           "color": "#FFFFFF"
          },
          "showarrow": false,
          "text": "0.01",
          "x": "deaths_per1000",
          "xref": "x",
          "y": "percent_over60",
          "yref": "y"
         },
         {
          "font": {
           "color": "#000000"
          },
          "showarrow": false,
          "text": "0.67",
          "x": "Total",
          "xref": "x",
          "y": "hospital_bed_count",
          "yref": "y"
         },
         {
          "font": {
           "color": "#000000"
          },
          "showarrow": false,
          "text": "0.67",
          "x": "Male",
          "xref": "x",
          "y": "hospital_bed_count",
          "yref": "y"
         },
         {
          "font": {
           "color": "#000000"
          },
          "showarrow": false,
          "text": "0.68",
          "x": "Female",
          "xref": "x",
          "y": "hospital_bed_count",
          "yref": "y"
         },
         {
          "font": {
           "color": "#000000"
          },
          "showarrow": false,
          "text": "0.66",
          "x": "Total Under 18 year",
          "xref": "x",
          "y": "hospital_bed_count",
          "yref": "y"
         },
         {
          "font": {
           "color": "#000000"
          },
          "showarrow": false,
          "text": "0.66",
          "x": "Male Under 18 year",
          "xref": "x",
          "y": "hospital_bed_count",
          "yref": "y"
         },
         {
          "font": {
           "color": "#000000"
          },
          "showarrow": false,
          "text": "0.66",
          "x": "Female Under 18 year",
          "xref": "x",
          "y": "hospital_bed_count",
          "yref": "y"
         },
         {
          "font": {
           "color": "#000000"
          },
          "showarrow": false,
          "text": "0.67",
          "x": "Total 60 years and over",
          "xref": "x",
          "y": "hospital_bed_count",
          "yref": "y"
         },
         {
          "font": {
           "color": "#000000"
          },
          "showarrow": false,
          "text": "0.66",
          "x": "Male 60 years and over",
          "xref": "x",
          "y": "hospital_bed_count",
          "yref": "y"
         },
         {
          "font": {
           "color": "#000000"
          },
          "showarrow": false,
          "text": "0.67",
          "x": "Female 60 years and over",
          "xref": "x",
          "y": "hospital_bed_count",
          "yref": "y"
         },
         {
          "font": {
           "color": "#FFFFFF"
          },
          "showarrow": false,
          "text": "-0.04",
          "x": "Median age (years)",
          "xref": "x",
          "y": "hospital_bed_count",
          "yref": "y"
         },
         {
          "font": {
           "color": "#FFFFFF"
          },
          "showarrow": false,
          "text": "-0.12",
          "x": "Sex ratio (males per 100 females)",
          "xref": "x",
          "y": "hospital_bed_count",
          "yref": "y"
         },
         {
          "font": {
           "color": "#FFFFFF"
          },
          "showarrow": false,
          "text": "-0.1",
          "x": "Age dependency ratio",
          "xref": "x",
          "y": "hospital_bed_count",
          "yref": "y"
         },
         {
          "font": {
           "color": "#FFFFFF"
          },
          "showarrow": false,
          "text": "-0.06",
          "x": "Old-age dependency ratio",
          "xref": "x",
          "y": "hospital_bed_count",
          "yref": "y"
         },
         {
          "font": {
           "color": "#FFFFFF"
          },
          "showarrow": false,
          "text": "-0.07",
          "x": "Child dependency ratio",
          "xref": "x",
          "y": "hospital_bed_count",
          "yref": "y"
         },
         {
          "font": {
           "color": "#FFFFFF"
          },
          "showarrow": false,
          "text": "-0.04",
          "x": "percent_under18",
          "xref": "x",
          "y": "hospital_bed_count",
          "yref": "y"
         },
         {
          "font": {
           "color": "#FFFFFF"
          },
          "showarrow": false,
          "text": "-0.07",
          "x": "percent_over60",
          "xref": "x",
          "y": "hospital_bed_count",
          "yref": "y"
         },
         {
          "font": {
           "color": "#000000"
          },
          "showarrow": false,
          "text": "1.0",
          "x": "hospital_bed_count",
          "xref": "x",
          "y": "hospital_bed_count",
          "yref": "y"
         },
         {
          "font": {
           "color": "#000000"
          },
          "showarrow": false,
          "text": "0.62",
          "x": "hospital_count",
          "xref": "x",
          "y": "hospital_bed_count",
          "yref": "y"
         },
         {
          "font": {
           "color": "#000000"
          },
          "showarrow": false,
          "text": "0.49",
          "x": "hospitalbeds_per10000",
          "xref": "x",
          "y": "hospital_bed_count",
          "yref": "y"
         },
         {
          "font": {
           "color": "#000000"
          },
          "showarrow": false,
          "text": "0.34",
          "x": "cases",
          "xref": "x",
          "y": "hospital_bed_count",
          "yref": "y"
         },
         {
          "font": {
           "color": "#000000"
          },
          "showarrow": false,
          "text": "0.29",
          "x": "deaths",
          "xref": "x",
          "y": "hospital_bed_count",
          "yref": "y"
         },
         {
          "font": {
           "color": "#FFFFFF"
          },
          "showarrow": false,
          "text": "0.05",
          "x": "cases_per1000",
          "xref": "x",
          "y": "hospital_bed_count",
          "yref": "y"
         },
         {
          "font": {
           "color": "#FFFFFF"
          },
          "showarrow": false,
          "text": "0.04",
          "x": "deaths_per1000",
          "xref": "x",
          "y": "hospital_bed_count",
          "yref": "y"
         },
         {
          "font": {
           "color": "#000000"
          },
          "showarrow": false,
          "text": "0.91",
          "x": "Total",
          "xref": "x",
          "y": "hospital_count",
          "yref": "y"
         },
         {
          "font": {
           "color": "#000000"
          },
          "showarrow": false,
          "text": "0.91",
          "x": "Male",
          "xref": "x",
          "y": "hospital_count",
          "yref": "y"
         },
         {
          "font": {
           "color": "#000000"
          },
          "showarrow": false,
          "text": "0.91",
          "x": "Female",
          "xref": "x",
          "y": "hospital_count",
          "yref": "y"
         },
         {
          "font": {
           "color": "#000000"
          },
          "showarrow": false,
          "text": "0.92",
          "x": "Total Under 18 year",
          "xref": "x",
          "y": "hospital_count",
          "yref": "y"
         },
         {
          "font": {
           "color": "#000000"
          },
          "showarrow": false,
          "text": "0.92",
          "x": "Male Under 18 year",
          "xref": "x",
          "y": "hospital_count",
          "yref": "y"
         },
         {
          "font": {
           "color": "#000000"
          },
          "showarrow": false,
          "text": "0.92",
          "x": "Female Under 18 year",
          "xref": "x",
          "y": "hospital_count",
          "yref": "y"
         },
         {
          "font": {
           "color": "#000000"
          },
          "showarrow": false,
          "text": "0.89",
          "x": "Total 60 years and over",
          "xref": "x",
          "y": "hospital_count",
          "yref": "y"
         },
         {
          "font": {
           "color": "#000000"
          },
          "showarrow": false,
          "text": "0.89",
          "x": "Male 60 years and over",
          "xref": "x",
          "y": "hospital_count",
          "yref": "y"
         },
         {
          "font": {
           "color": "#000000"
          },
          "showarrow": false,
          "text": "0.89",
          "x": "Female 60 years and over",
          "xref": "x",
          "y": "hospital_count",
          "yref": "y"
         },
         {
          "font": {
           "color": "#FFFFFF"
          },
          "showarrow": false,
          "text": "-0.16",
          "x": "Median age (years)",
          "xref": "x",
          "y": "hospital_count",
          "yref": "y"
         },
         {
          "font": {
           "color": "#FFFFFF"
          },
          "showarrow": false,
          "text": "-0.1",
          "x": "Sex ratio (males per 100 females)",
          "xref": "x",
          "y": "hospital_count",
          "yref": "y"
         },
         {
          "font": {
           "color": "#FFFFFF"
          },
          "showarrow": false,
          "text": "-0.16",
          "x": "Age dependency ratio",
          "xref": "x",
          "y": "hospital_count",
          "yref": "y"
         },
         {
          "font": {
           "color": "#FFFFFF"
          },
          "showarrow": false,
          "text": "-0.16",
          "x": "Old-age dependency ratio",
          "xref": "x",
          "y": "hospital_count",
          "yref": "y"
         },
         {
          "font": {
           "color": "#FFFFFF"
          },
          "showarrow": false,
          "text": "-0.01",
          "x": "Child dependency ratio",
          "xref": "x",
          "y": "hospital_count",
          "yref": "y"
         },
         {
          "font": {
           "color": "#FFFFFF"
          },
          "showarrow": false,
          "text": "0.06",
          "x": "percent_under18",
          "xref": "x",
          "y": "hospital_count",
          "yref": "y"
         },
         {
          "font": {
           "color": "#FFFFFF"
          },
          "showarrow": false,
          "text": "-0.18",
          "x": "percent_over60",
          "xref": "x",
          "y": "hospital_count",
          "yref": "y"
         },
         {
          "font": {
           "color": "#000000"
          },
          "showarrow": false,
          "text": "0.62",
          "x": "hospital_bed_count",
          "xref": "x",
          "y": "hospital_count",
          "yref": "y"
         },
         {
          "font": {
           "color": "#000000"
          },
          "showarrow": false,
          "text": "1.0",
          "x": "hospital_count",
          "xref": "x",
          "y": "hospital_count",
          "yref": "y"
         },
         {
          "font": {
           "color": "#FFFFFF"
          },
          "showarrow": false,
          "text": "0.01",
          "x": "hospitalbeds_per10000",
          "xref": "x",
          "y": "hospital_count",
          "yref": "y"
         },
         {
          "font": {
           "color": "#000000"
          },
          "showarrow": false,
          "text": "0.42",
          "x": "cases",
          "xref": "x",
          "y": "hospital_count",
          "yref": "y"
         },
         {
          "font": {
           "color": "#000000"
          },
          "showarrow": false,
          "text": "0.36",
          "x": "deaths",
          "xref": "x",
          "y": "hospital_count",
          "yref": "y"
         },
         {
          "font": {
           "color": "#FFFFFF"
          },
          "showarrow": false,
          "text": "0.13",
          "x": "cases_per1000",
          "xref": "x",
          "y": "hospital_count",
          "yref": "y"
         },
         {
          "font": {
           "color": "#FFFFFF"
          },
          "showarrow": false,
          "text": "0.11",
          "x": "deaths_per1000",
          "xref": "x",
          "y": "hospital_count",
          "yref": "y"
         },
         {
          "font": {
           "color": "#FFFFFF"
          },
          "showarrow": false,
          "text": "0.04",
          "x": "Total",
          "xref": "x",
          "y": "hospitalbeds_per10000",
          "yref": "y"
         },
         {
          "font": {
           "color": "#FFFFFF"
          },
          "showarrow": false,
          "text": "0.04",
          "x": "Male",
          "xref": "x",
          "y": "hospitalbeds_per10000",
          "yref": "y"
         },
         {
          "font": {
           "color": "#FFFFFF"
          },
          "showarrow": false,
          "text": "0.04",
          "x": "Female",
          "xref": "x",
          "y": "hospitalbeds_per10000",
          "yref": "y"
         },
         {
          "font": {
           "color": "#FFFFFF"
          },
          "showarrow": false,
          "text": "0.04",
          "x": "Total Under 18 year",
          "xref": "x",
          "y": "hospitalbeds_per10000",
          "yref": "y"
         },
         {
          "font": {
           "color": "#FFFFFF"
          },
          "showarrow": false,
          "text": "0.04",
          "x": "Male Under 18 year",
          "xref": "x",
          "y": "hospitalbeds_per10000",
          "yref": "y"
         },
         {
          "font": {
           "color": "#FFFFFF"
          },
          "showarrow": false,
          "text": "0.04",
          "x": "Female Under 18 year",
          "xref": "x",
          "y": "hospitalbeds_per10000",
          "yref": "y"
         },
         {
          "font": {
           "color": "#FFFFFF"
          },
          "showarrow": false,
          "text": "0.05",
          "x": "Total 60 years and over",
          "xref": "x",
          "y": "hospitalbeds_per10000",
          "yref": "y"
         },
         {
          "font": {
           "color": "#FFFFFF"
          },
          "showarrow": false,
          "text": "0.04",
          "x": "Male 60 years and over",
          "xref": "x",
          "y": "hospitalbeds_per10000",
          "yref": "y"
         },
         {
          "font": {
           "color": "#FFFFFF"
          },
          "showarrow": false,
          "text": "0.05",
          "x": "Female 60 years and over",
          "xref": "x",
          "y": "hospitalbeds_per10000",
          "yref": "y"
         },
         {
          "font": {
           "color": "#FFFFFF"
          },
          "showarrow": false,
          "text": "0.0",
          "x": "Median age (years)",
          "xref": "x",
          "y": "hospitalbeds_per10000",
          "yref": "y"
         },
         {
          "font": {
           "color": "#FFFFFF"
          },
          "showarrow": false,
          "text": "-0.08",
          "x": "Sex ratio (males per 100 females)",
          "xref": "x",
          "y": "hospitalbeds_per10000",
          "yref": "y"
         },
         {
          "font": {
           "color": "#FFFFFF"
          },
          "showarrow": false,
          "text": "-0.04",
          "x": "Age dependency ratio",
          "xref": "x",
          "y": "hospitalbeds_per10000",
          "yref": "y"
         },
         {
          "font": {
           "color": "#FFFFFF"
          },
          "showarrow": false,
          "text": "0.01",
          "x": "Old-age dependency ratio",
          "xref": "x",
          "y": "hospitalbeds_per10000",
          "yref": "y"
         },
         {
          "font": {
           "color": "#FFFFFF"
          },
          "showarrow": false,
          "text": "-0.09",
          "x": "Child dependency ratio",
          "xref": "x",
          "y": "hospitalbeds_per10000",
          "yref": "y"
         },
         {
          "font": {
           "color": "#FFFFFF"
          },
          "showarrow": false,
          "text": "-0.08",
          "x": "percent_under18",
          "xref": "x",
          "y": "hospitalbeds_per10000",
          "yref": "y"
         },
         {
          "font": {
           "color": "#FFFFFF"
          },
          "showarrow": false,
          "text": "0.02",
          "x": "percent_over60",
          "xref": "x",
          "y": "hospitalbeds_per10000",
          "yref": "y"
         },
         {
          "font": {
           "color": "#000000"
          },
          "showarrow": false,
          "text": "0.49",
          "x": "hospital_bed_count",
          "xref": "x",
          "y": "hospitalbeds_per10000",
          "yref": "y"
         },
         {
          "font": {
           "color": "#FFFFFF"
          },
          "showarrow": false,
          "text": "0.01",
          "x": "hospital_count",
          "xref": "x",
          "y": "hospitalbeds_per10000",
          "yref": "y"
         },
         {
          "font": {
           "color": "#000000"
          },
          "showarrow": false,
          "text": "1.0",
          "x": "hospitalbeds_per10000",
          "xref": "x",
          "y": "hospitalbeds_per10000",
          "yref": "y"
         },
         {
          "font": {
           "color": "#FFFFFF"
          },
          "showarrow": false,
          "text": "0.01",
          "x": "cases",
          "xref": "x",
          "y": "hospitalbeds_per10000",
          "yref": "y"
         },
         {
          "font": {
           "color": "#FFFFFF"
          },
          "showarrow": false,
          "text": "0.01",
          "x": "deaths",
          "xref": "x",
          "y": "hospitalbeds_per10000",
          "yref": "y"
         },
         {
          "font": {
           "color": "#FFFFFF"
          },
          "showarrow": false,
          "text": "-0.05",
          "x": "cases_per1000",
          "xref": "x",
          "y": "hospitalbeds_per10000",
          "yref": "y"
         },
         {
          "font": {
           "color": "#FFFFFF"
          },
          "showarrow": false,
          "text": "-0.02",
          "x": "deaths_per1000",
          "xref": "x",
          "y": "hospitalbeds_per10000",
          "yref": "y"
         },
         {
          "font": {
           "color": "#000000"
          },
          "showarrow": false,
          "text": "0.48",
          "x": "Total",
          "xref": "x",
          "y": "cases",
          "yref": "y"
         },
         {
          "font": {
           "color": "#000000"
          },
          "showarrow": false,
          "text": "0.48",
          "x": "Male",
          "xref": "x",
          "y": "cases",
          "yref": "y"
         },
         {
          "font": {
           "color": "#000000"
          },
          "showarrow": false,
          "text": "0.49",
          "x": "Female",
          "xref": "x",
          "y": "cases",
          "yref": "y"
         },
         {
          "font": {
           "color": "#000000"
          },
          "showarrow": false,
          "text": "0.46",
          "x": "Total Under 18 year",
          "xref": "x",
          "y": "cases",
          "yref": "y"
         },
         {
          "font": {
           "color": "#000000"
          },
          "showarrow": false,
          "text": "0.46",
          "x": "Male Under 18 year",
          "xref": "x",
          "y": "cases",
          "yref": "y"
         },
         {
          "font": {
           "color": "#000000"
          },
          "showarrow": false,
          "text": "0.46",
          "x": "Female Under 18 year",
          "xref": "x",
          "y": "cases",
          "yref": "y"
         },
         {
          "font": {
           "color": "#000000"
          },
          "showarrow": false,
          "text": "0.51",
          "x": "Total 60 years and over",
          "xref": "x",
          "y": "cases",
          "yref": "y"
         },
         {
          "font": {
           "color": "#000000"
          },
          "showarrow": false,
          "text": "0.5",
          "x": "Male 60 years and over",
          "xref": "x",
          "y": "cases",
          "yref": "y"
         },
         {
          "font": {
           "color": "#000000"
          },
          "showarrow": false,
          "text": "0.52",
          "x": "Female 60 years and over",
          "xref": "x",
          "y": "cases",
          "yref": "y"
         },
         {
          "font": {
           "color": "#FFFFFF"
          },
          "showarrow": false,
          "text": "-0.01",
          "x": "Median age (years)",
          "xref": "x",
          "y": "cases",
          "yref": "y"
         },
         {
          "font": {
           "color": "#FFFFFF"
          },
          "showarrow": false,
          "text": "-0.1",
          "x": "Sex ratio (males per 100 females)",
          "xref": "x",
          "y": "cases",
          "yref": "y"
         },
         {
          "font": {
           "color": "#FFFFFF"
          },
          "showarrow": false,
          "text": "-0.1",
          "x": "Age dependency ratio",
          "xref": "x",
          "y": "cases",
          "yref": "y"
         },
         {
          "font": {
           "color": "#FFFFFF"
          },
          "showarrow": false,
          "text": "-0.07",
          "x": "Old-age dependency ratio",
          "xref": "x",
          "y": "cases",
          "yref": "y"
         },
         {
          "font": {
           "color": "#FFFFFF"
          },
          "showarrow": false,
          "text": "-0.05",
          "x": "Child dependency ratio",
          "xref": "x",
          "y": "cases",
          "yref": "y"
         },
         {
          "font": {
           "color": "#FFFFFF"
          },
          "showarrow": false,
          "text": "-0.01",
          "x": "percent_under18",
          "xref": "x",
          "y": "cases",
          "yref": "y"
         },
         {
          "font": {
           "color": "#FFFFFF"
          },
          "showarrow": false,
          "text": "-0.07",
          "x": "percent_over60",
          "xref": "x",
          "y": "cases",
          "yref": "y"
         },
         {
          "font": {
           "color": "#000000"
          },
          "showarrow": false,
          "text": "0.34",
          "x": "hospital_bed_count",
          "xref": "x",
          "y": "cases",
          "yref": "y"
         },
         {
          "font": {
           "color": "#000000"
          },
          "showarrow": false,
          "text": "0.42",
          "x": "hospital_count",
          "xref": "x",
          "y": "cases",
          "yref": "y"
         },
         {
          "font": {
           "color": "#FFFFFF"
          },
          "showarrow": false,
          "text": "0.01",
          "x": "hospitalbeds_per10000",
          "xref": "x",
          "y": "cases",
          "yref": "y"
         },
         {
          "font": {
           "color": "#000000"
          },
          "showarrow": false,
          "text": "1.0",
          "x": "cases",
          "xref": "x",
          "y": "cases",
          "yref": "y"
         },
         {
          "font": {
           "color": "#000000"
          },
          "showarrow": false,
          "text": "0.93",
          "x": "deaths",
          "xref": "x",
          "y": "cases",
          "yref": "y"
         },
         {
          "font": {
           "color": "#000000"
          },
          "showarrow": false,
          "text": "0.77",
          "x": "cases_per1000",
          "xref": "x",
          "y": "cases",
          "yref": "y"
         },
         {
          "font": {
           "color": "#000000"
          },
          "showarrow": false,
          "text": "0.68",
          "x": "deaths_per1000",
          "xref": "x",
          "y": "cases",
          "yref": "y"
         },
         {
          "font": {
           "color": "#000000"
          },
          "showarrow": false,
          "text": "0.42",
          "x": "Total",
          "xref": "x",
          "y": "deaths",
          "yref": "y"
         },
         {
          "font": {
           "color": "#000000"
          },
          "showarrow": false,
          "text": "0.42",
          "x": "Male",
          "xref": "x",
          "y": "deaths",
          "yref": "y"
         },
         {
          "font": {
           "color": "#000000"
          },
          "showarrow": false,
          "text": "0.43",
          "x": "Female",
          "xref": "x",
          "y": "deaths",
          "yref": "y"
         },
         {
          "font": {
           "color": "#000000"
          },
          "showarrow": false,
          "text": "0.41",
          "x": "Total Under 18 year",
          "xref": "x",
          "y": "deaths",
          "yref": "y"
         },
         {
          "font": {
           "color": "#000000"
          },
          "showarrow": false,
          "text": "0.41",
          "x": "Male Under 18 year",
          "xref": "x",
          "y": "deaths",
          "yref": "y"
         },
         {
          "font": {
           "color": "#000000"
          },
          "showarrow": false,
          "text": "0.41",
          "x": "Female Under 18 year",
          "xref": "x",
          "y": "deaths",
          "yref": "y"
         },
         {
          "font": {
           "color": "#000000"
          },
          "showarrow": false,
          "text": "0.46",
          "x": "Total 60 years and over",
          "xref": "x",
          "y": "deaths",
          "yref": "y"
         },
         {
          "font": {
           "color": "#000000"
          },
          "showarrow": false,
          "text": "0.45",
          "x": "Male 60 years and over",
          "xref": "x",
          "y": "deaths",
          "yref": "y"
         },
         {
          "font": {
           "color": "#000000"
          },
          "showarrow": false,
          "text": "0.46",
          "x": "Female 60 years and over",
          "xref": "x",
          "y": "deaths",
          "yref": "y"
         },
         {
          "font": {
           "color": "#FFFFFF"
          },
          "showarrow": false,
          "text": "0.01",
          "x": "Median age (years)",
          "xref": "x",
          "y": "deaths",
          "yref": "y"
         },
         {
          "font": {
           "color": "#FFFFFF"
          },
          "showarrow": false,
          "text": "-0.11",
          "x": "Sex ratio (males per 100 females)",
          "xref": "x",
          "y": "deaths",
          "yref": "y"
         },
         {
          "font": {
           "color": "#FFFFFF"
          },
          "showarrow": false,
          "text": "-0.08",
          "x": "Age dependency ratio",
          "xref": "x",
          "y": "deaths",
          "yref": "y"
         },
         {
          "font": {
           "color": "#FFFFFF"
          },
          "showarrow": false,
          "text": "-0.05",
          "x": "Old-age dependency ratio",
          "xref": "x",
          "y": "deaths",
          "yref": "y"
         },
         {
          "font": {
           "color": "#FFFFFF"
          },
          "showarrow": false,
          "text": "-0.05",
          "x": "Child dependency ratio",
          "xref": "x",
          "y": "deaths",
          "yref": "y"
         },
         {
          "font": {
           "color": "#FFFFFF"
          },
          "showarrow": false,
          "text": "-0.02",
          "x": "percent_under18",
          "xref": "x",
          "y": "deaths",
          "yref": "y"
         },
         {
          "font": {
           "color": "#FFFFFF"
          },
          "showarrow": false,
          "text": "-0.04",
          "x": "percent_over60",
          "xref": "x",
          "y": "deaths",
          "yref": "y"
         },
         {
          "font": {
           "color": "#000000"
          },
          "showarrow": false,
          "text": "0.29",
          "x": "hospital_bed_count",
          "xref": "x",
          "y": "deaths",
          "yref": "y"
         },
         {
          "font": {
           "color": "#000000"
          },
          "showarrow": false,
          "text": "0.36",
          "x": "hospital_count",
          "xref": "x",
          "y": "deaths",
          "yref": "y"
         },
         {
          "font": {
           "color": "#FFFFFF"
          },
          "showarrow": false,
          "text": "0.01",
          "x": "hospitalbeds_per10000",
          "xref": "x",
          "y": "deaths",
          "yref": "y"
         },
         {
          "font": {
           "color": "#000000"
          },
          "showarrow": false,
          "text": "0.93",
          "x": "cases",
          "xref": "x",
          "y": "deaths",
          "yref": "y"
         },
         {
          "font": {
           "color": "#000000"
          },
          "showarrow": false,
          "text": "1.0",
          "x": "deaths",
          "xref": "x",
          "y": "deaths",
          "yref": "y"
         },
         {
          "font": {
           "color": "#000000"
          },
          "showarrow": false,
          "text": "0.7",
          "x": "cases_per1000",
          "xref": "x",
          "y": "deaths",
          "yref": "y"
         },
         {
          "font": {
           "color": "#000000"
          },
          "showarrow": false,
          "text": "0.73",
          "x": "deaths_per1000",
          "xref": "x",
          "y": "deaths",
          "yref": "y"
         },
         {
          "font": {
           "color": "#FFFFFF"
          },
          "showarrow": false,
          "text": "0.14",
          "x": "Total",
          "xref": "x",
          "y": "cases_per1000",
          "yref": "y"
         },
         {
          "font": {
           "color": "#FFFFFF"
          },
          "showarrow": false,
          "text": "0.14",
          "x": "Male",
          "xref": "x",
          "y": "cases_per1000",
          "yref": "y"
         },
         {
          "font": {
           "color": "#FFFFFF"
          },
          "showarrow": false,
          "text": "0.15",
          "x": "Female",
          "xref": "x",
          "y": "cases_per1000",
          "yref": "y"
         },
         {
          "font": {
           "color": "#FFFFFF"
          },
          "showarrow": false,
          "text": "0.13",
          "x": "Total Under 18 year",
          "xref": "x",
          "y": "cases_per1000",
          "yref": "y"
         },
         {
          "font": {
           "color": "#FFFFFF"
          },
          "showarrow": false,
          "text": "0.13",
          "x": "Male Under 18 year",
          "xref": "x",
          "y": "cases_per1000",
          "yref": "y"
         },
         {
          "font": {
           "color": "#FFFFFF"
          },
          "showarrow": false,
          "text": "0.13",
          "x": "Female Under 18 year",
          "xref": "x",
          "y": "cases_per1000",
          "yref": "y"
         },
         {
          "font": {
           "color": "#FFFFFF"
          },
          "showarrow": false,
          "text": "0.17",
          "x": "Total 60 years and over",
          "xref": "x",
          "y": "cases_per1000",
          "yref": "y"
         },
         {
          "font": {
           "color": "#FFFFFF"
          },
          "showarrow": false,
          "text": "0.16",
          "x": "Male 60 years and over",
          "xref": "x",
          "y": "cases_per1000",
          "yref": "y"
         },
         {
          "font": {
           "color": "#FFFFFF"
          },
          "showarrow": false,
          "text": "0.17",
          "x": "Female 60 years and over",
          "xref": "x",
          "y": "cases_per1000",
          "yref": "y"
         },
         {
          "font": {
           "color": "#FFFFFF"
          },
          "showarrow": false,
          "text": "0.02",
          "x": "Median age (years)",
          "xref": "x",
          "y": "cases_per1000",
          "yref": "y"
         },
         {
          "font": {
           "color": "#FFFFFF"
          },
          "showarrow": false,
          "text": "-0.13",
          "x": "Sex ratio (males per 100 females)",
          "xref": "x",
          "y": "cases_per1000",
          "yref": "y"
         },
         {
          "font": {
           "color": "#FFFFFF"
          },
          "showarrow": false,
          "text": "-0.06",
          "x": "Age dependency ratio",
          "xref": "x",
          "y": "cases_per1000",
          "yref": "y"
         },
         {
          "font": {
           "color": "#FFFFFF"
          },
          "showarrow": false,
          "text": "-0.05",
          "x": "Old-age dependency ratio",
          "xref": "x",
          "y": "cases_per1000",
          "yref": "y"
         },
         {
          "font": {
           "color": "#FFFFFF"
          },
          "showarrow": false,
          "text": "-0.02",
          "x": "Child dependency ratio",
          "xref": "x",
          "y": "cases_per1000",
          "yref": "y"
         },
         {
          "font": {
           "color": "#FFFFFF"
          },
          "showarrow": false,
          "text": "-0.0",
          "x": "percent_under18",
          "xref": "x",
          "y": "cases_per1000",
          "yref": "y"
         },
         {
          "font": {
           "color": "#FFFFFF"
          },
          "showarrow": false,
          "text": "-0.04",
          "x": "percent_over60",
          "xref": "x",
          "y": "cases_per1000",
          "yref": "y"
         },
         {
          "font": {
           "color": "#FFFFFF"
          },
          "showarrow": false,
          "text": "0.05",
          "x": "hospital_bed_count",
          "xref": "x",
          "y": "cases_per1000",
          "yref": "y"
         },
         {
          "font": {
           "color": "#FFFFFF"
          },
          "showarrow": false,
          "text": "0.13",
          "x": "hospital_count",
          "xref": "x",
          "y": "cases_per1000",
          "yref": "y"
         },
         {
          "font": {
           "color": "#FFFFFF"
          },
          "showarrow": false,
          "text": "-0.05",
          "x": "hospitalbeds_per10000",
          "xref": "x",
          "y": "cases_per1000",
          "yref": "y"
         },
         {
          "font": {
           "color": "#000000"
          },
          "showarrow": false,
          "text": "0.77",
          "x": "cases",
          "xref": "x",
          "y": "cases_per1000",
          "yref": "y"
         },
         {
          "font": {
           "color": "#000000"
          },
          "showarrow": false,
          "text": "0.7",
          "x": "deaths",
          "xref": "x",
          "y": "cases_per1000",
          "yref": "y"
         },
         {
          "font": {
           "color": "#000000"
          },
          "showarrow": false,
          "text": "1.0",
          "x": "cases_per1000",
          "xref": "x",
          "y": "cases_per1000",
          "yref": "y"
         },
         {
          "font": {
           "color": "#000000"
          },
          "showarrow": false,
          "text": "0.87",
          "x": "deaths_per1000",
          "xref": "x",
          "y": "cases_per1000",
          "yref": "y"
         },
         {
          "font": {
           "color": "#FFFFFF"
          },
          "showarrow": false,
          "text": "0.13",
          "x": "Total",
          "xref": "x",
          "y": "deaths_per1000",
          "yref": "y"
         },
         {
          "font": {
           "color": "#FFFFFF"
          },
          "showarrow": false,
          "text": "0.12",
          "x": "Male",
          "xref": "x",
          "y": "deaths_per1000",
          "yref": "y"
         },
         {
          "font": {
           "color": "#FFFFFF"
          },
          "showarrow": false,
          "text": "0.13",
          "x": "Female",
          "xref": "x",
          "y": "deaths_per1000",
          "yref": "y"
         },
         {
          "font": {
           "color": "#FFFFFF"
          },
          "showarrow": false,
          "text": "0.12",
          "x": "Total Under 18 year",
          "xref": "x",
          "y": "deaths_per1000",
          "yref": "y"
         },
         {
          "font": {
           "color": "#FFFFFF"
          },
          "showarrow": false,
          "text": "0.12",
          "x": "Male Under 18 year",
          "xref": "x",
          "y": "deaths_per1000",
          "yref": "y"
         },
         {
          "font": {
           "color": "#FFFFFF"
          },
          "showarrow": false,
          "text": "0.12",
          "x": "Female Under 18 year",
          "xref": "x",
          "y": "deaths_per1000",
          "yref": "y"
         },
         {
          "font": {
           "color": "#FFFFFF"
          },
          "showarrow": false,
          "text": "0.15",
          "x": "Total 60 years and over",
          "xref": "x",
          "y": "deaths_per1000",
          "yref": "y"
         },
         {
          "font": {
           "color": "#FFFFFF"
          },
          "showarrow": false,
          "text": "0.15",
          "x": "Male 60 years and over",
          "xref": "x",
          "y": "deaths_per1000",
          "yref": "y"
         },
         {
          "font": {
           "color": "#FFFFFF"
          },
          "showarrow": false,
          "text": "0.16",
          "x": "Female 60 years and over",
          "xref": "x",
          "y": "deaths_per1000",
          "yref": "y"
         },
         {
          "font": {
           "color": "#FFFFFF"
          },
          "showarrow": false,
          "text": "0.05",
          "x": "Median age (years)",
          "xref": "x",
          "y": "deaths_per1000",
          "yref": "y"
         },
         {
          "font": {
           "color": "#FFFFFF"
          },
          "showarrow": false,
          "text": "-0.17",
          "x": "Sex ratio (males per 100 females)",
          "xref": "x",
          "y": "deaths_per1000",
          "yref": "y"
         },
         {
          "font": {
           "color": "#FFFFFF"
          },
          "showarrow": false,
          "text": "-0.03",
          "x": "Age dependency ratio",
          "xref": "x",
          "y": "deaths_per1000",
          "yref": "y"
         },
         {
          "font": {
           "color": "#FFFFFF"
          },
          "showarrow": false,
          "text": "-0.01",
          "x": "Old-age dependency ratio",
          "xref": "x",
          "y": "deaths_per1000",
          "yref": "y"
         },
         {
          "font": {
           "color": "#FFFFFF"
          },
          "showarrow": false,
          "text": "-0.04",
          "x": "Child dependency ratio",
          "xref": "x",
          "y": "deaths_per1000",
          "yref": "y"
         },
         {
          "font": {
           "color": "#FFFFFF"
          },
          "showarrow": false,
          "text": "-0.03",
          "x": "percent_under18",
          "xref": "x",
          "y": "deaths_per1000",
          "yref": "y"
         },
         {
          "font": {
           "color": "#FFFFFF"
          },
          "showarrow": false,
          "text": "0.01",
          "x": "percent_over60",
          "xref": "x",
          "y": "deaths_per1000",
          "yref": "y"
         },
         {
          "font": {
           "color": "#FFFFFF"
          },
          "showarrow": false,
          "text": "0.04",
          "x": "hospital_bed_count",
          "xref": "x",
          "y": "deaths_per1000",
          "yref": "y"
         },
         {
          "font": {
           "color": "#FFFFFF"
          },
          "showarrow": false,
          "text": "0.11",
          "x": "hospital_count",
          "xref": "x",
          "y": "deaths_per1000",
          "yref": "y"
         },
         {
          "font": {
           "color": "#FFFFFF"
          },
          "showarrow": false,
          "text": "-0.02",
          "x": "hospitalbeds_per10000",
          "xref": "x",
          "y": "deaths_per1000",
          "yref": "y"
         },
         {
          "font": {
           "color": "#000000"
          },
          "showarrow": false,
          "text": "0.68",
          "x": "cases",
          "xref": "x",
          "y": "deaths_per1000",
          "yref": "y"
         },
         {
          "font": {
           "color": "#000000"
          },
          "showarrow": false,
          "text": "0.73",
          "x": "deaths",
          "xref": "x",
          "y": "deaths_per1000",
          "yref": "y"
         },
         {
          "font": {
           "color": "#000000"
          },
          "showarrow": false,
          "text": "0.87",
          "x": "cases_per1000",
          "xref": "x",
          "y": "deaths_per1000",
          "yref": "y"
         },
         {
          "font": {
           "color": "#000000"
          },
          "showarrow": false,
          "text": "1.0",
          "x": "deaths_per1000",
          "xref": "x",
          "y": "deaths_per1000",
          "yref": "y"
         }
        ],
        "autosize": true,
        "template": {
         "data": {
          "bar": [
           {
            "error_x": {
             "color": "#2a3f5f"
            },
            "error_y": {
             "color": "#2a3f5f"
            },
            "marker": {
             "line": {
              "color": "#E5ECF6",
              "width": 0.5
             }
            },
            "type": "bar"
           }
          ],
          "barpolar": [
           {
            "marker": {
             "line": {
              "color": "#E5ECF6",
              "width": 0.5
             }
            },
            "type": "barpolar"
           }
          ],
          "carpet": [
           {
            "aaxis": {
             "endlinecolor": "#2a3f5f",
             "gridcolor": "white",
             "linecolor": "white",
             "minorgridcolor": "white",
             "startlinecolor": "#2a3f5f"
            },
            "baxis": {
             "endlinecolor": "#2a3f5f",
             "gridcolor": "white",
             "linecolor": "white",
             "minorgridcolor": "white",
             "startlinecolor": "#2a3f5f"
            },
            "type": "carpet"
           }
          ],
          "choropleth": [
           {
            "colorbar": {
             "outlinewidth": 0,
             "ticks": ""
            },
            "type": "choropleth"
           }
          ],
          "contour": [
           {
            "colorbar": {
             "outlinewidth": 0,
             "ticks": ""
            },
            "colorscale": [
             [
              0,
              "#0d0887"
             ],
             [
              0.1111111111111111,
              "#46039f"
             ],
             [
              0.2222222222222222,
              "#7201a8"
             ],
             [
              0.3333333333333333,
              "#9c179e"
             ],
             [
              0.4444444444444444,
              "#bd3786"
             ],
             [
              0.5555555555555556,
              "#d8576b"
             ],
             [
              0.6666666666666666,
              "#ed7953"
             ],
             [
              0.7777777777777778,
              "#fb9f3a"
             ],
             [
              0.8888888888888888,
              "#fdca26"
             ],
             [
              1,
              "#f0f921"
             ]
            ],
            "type": "contour"
           }
          ],
          "contourcarpet": [
           {
            "colorbar": {
             "outlinewidth": 0,
             "ticks": ""
            },
            "type": "contourcarpet"
           }
          ],
          "heatmap": [
           {
            "colorbar": {
             "outlinewidth": 0,
             "ticks": ""
            },
            "colorscale": [
             [
              0,
              "#0d0887"
             ],
             [
              0.1111111111111111,
              "#46039f"
             ],
             [
              0.2222222222222222,
              "#7201a8"
             ],
             [
              0.3333333333333333,
              "#9c179e"
             ],
             [
              0.4444444444444444,
              "#bd3786"
             ],
             [
              0.5555555555555556,
              "#d8576b"
             ],
             [
              0.6666666666666666,
              "#ed7953"
             ],
             [
              0.7777777777777778,
              "#fb9f3a"
             ],
             [
              0.8888888888888888,
              "#fdca26"
             ],
             [
              1,
              "#f0f921"
             ]
            ],
            "type": "heatmap"
           }
          ],
          "heatmapgl": [
           {
            "colorbar": {
             "outlinewidth": 0,
             "ticks": ""
            },
            "colorscale": [
             [
              0,
              "#0d0887"
             ],
             [
              0.1111111111111111,
              "#46039f"
             ],
             [
              0.2222222222222222,
              "#7201a8"
             ],
             [
              0.3333333333333333,
              "#9c179e"
             ],
             [
              0.4444444444444444,
              "#bd3786"
             ],
             [
              0.5555555555555556,
              "#d8576b"
             ],
             [
              0.6666666666666666,
              "#ed7953"
             ],
             [
              0.7777777777777778,
              "#fb9f3a"
             ],
             [
              0.8888888888888888,
              "#fdca26"
             ],
             [
              1,
              "#f0f921"
             ]
            ],
            "type": "heatmapgl"
           }
          ],
          "histogram": [
           {
            "marker": {
             "colorbar": {
              "outlinewidth": 0,
              "ticks": ""
             }
            },
            "type": "histogram"
           }
          ],
          "histogram2d": [
           {
            "colorbar": {
             "outlinewidth": 0,
             "ticks": ""
            },
            "colorscale": [
             [
              0,
              "#0d0887"
             ],
             [
              0.1111111111111111,
              "#46039f"
             ],
             [
              0.2222222222222222,
              "#7201a8"
             ],
             [
              0.3333333333333333,
              "#9c179e"
             ],
             [
              0.4444444444444444,
              "#bd3786"
             ],
             [
              0.5555555555555556,
              "#d8576b"
             ],
             [
              0.6666666666666666,
              "#ed7953"
             ],
             [
              0.7777777777777778,
              "#fb9f3a"
             ],
             [
              0.8888888888888888,
              "#fdca26"
             ],
             [
              1,
              "#f0f921"
             ]
            ],
            "type": "histogram2d"
           }
          ],
          "histogram2dcontour": [
           {
            "colorbar": {
             "outlinewidth": 0,
             "ticks": ""
            },
            "colorscale": [
             [
              0,
              "#0d0887"
             ],
             [
              0.1111111111111111,
              "#46039f"
             ],
             [
              0.2222222222222222,
              "#7201a8"
             ],
             [
              0.3333333333333333,
              "#9c179e"
             ],
             [
              0.4444444444444444,
              "#bd3786"
             ],
             [
              0.5555555555555556,
              "#d8576b"
             ],
             [
              0.6666666666666666,
              "#ed7953"
             ],
             [
              0.7777777777777778,
              "#fb9f3a"
             ],
             [
              0.8888888888888888,
              "#fdca26"
             ],
             [
              1,
              "#f0f921"
             ]
            ],
            "type": "histogram2dcontour"
           }
          ],
          "mesh3d": [
           {
            "colorbar": {
             "outlinewidth": 0,
             "ticks": ""
            },
            "type": "mesh3d"
           }
          ],
          "parcoords": [
           {
            "line": {
             "colorbar": {
              "outlinewidth": 0,
              "ticks": ""
             }
            },
            "type": "parcoords"
           }
          ],
          "pie": [
           {
            "automargin": true,
            "type": "pie"
           }
          ],
          "scatter": [
           {
            "marker": {
             "colorbar": {
              "outlinewidth": 0,
              "ticks": ""
             }
            },
            "type": "scatter"
           }
          ],
          "scatter3d": [
           {
            "line": {
             "colorbar": {
              "outlinewidth": 0,
              "ticks": ""
             }
            },
            "marker": {
             "colorbar": {
              "outlinewidth": 0,
              "ticks": ""
             }
            },
            "type": "scatter3d"
           }
          ],
          "scattercarpet": [
           {
            "marker": {
             "colorbar": {
              "outlinewidth": 0,
              "ticks": ""
             }
            },
            "type": "scattercarpet"
           }
          ],
          "scattergeo": [
           {
            "marker": {
             "colorbar": {
              "outlinewidth": 0,
              "ticks": ""
             }
            },
            "type": "scattergeo"
           }
          ],
          "scattergl": [
           {
            "marker": {
             "colorbar": {
              "outlinewidth": 0,
              "ticks": ""
             }
            },
            "type": "scattergl"
           }
          ],
          "scattermapbox": [
           {
            "marker": {
             "colorbar": {
              "outlinewidth": 0,
              "ticks": ""
             }
            },
            "type": "scattermapbox"
           }
          ],
          "scatterpolar": [
           {
            "marker": {
             "colorbar": {
              "outlinewidth": 0,
              "ticks": ""
             }
            },
            "type": "scatterpolar"
           }
          ],
          "scatterpolargl": [
           {
            "marker": {
             "colorbar": {
              "outlinewidth": 0,
              "ticks": ""
             }
            },
            "type": "scatterpolargl"
           }
          ],
          "scatterternary": [
           {
            "marker": {
             "colorbar": {
              "outlinewidth": 0,
              "ticks": ""
             }
            },
            "type": "scatterternary"
           }
          ],
          "surface": [
           {
            "colorbar": {
             "outlinewidth": 0,
             "ticks": ""
            },
            "colorscale": [
             [
              0,
              "#0d0887"
             ],
             [
              0.1111111111111111,
              "#46039f"
             ],
             [
              0.2222222222222222,
              "#7201a8"
             ],
             [
              0.3333333333333333,
              "#9c179e"
             ],
             [
              0.4444444444444444,
              "#bd3786"
             ],
             [
              0.5555555555555556,
              "#d8576b"
             ],
             [
              0.6666666666666666,
              "#ed7953"
             ],
             [
              0.7777777777777778,
              "#fb9f3a"
             ],
             [
              0.8888888888888888,
              "#fdca26"
             ],
             [
              1,
              "#f0f921"
             ]
            ],
            "type": "surface"
           }
          ],
          "table": [
           {
            "cells": {
             "fill": {
              "color": "#EBF0F8"
             },
             "line": {
              "color": "white"
             }
            },
            "header": {
             "fill": {
              "color": "#C8D4E3"
             },
             "line": {
              "color": "white"
             }
            },
            "type": "table"
           }
          ]
         },
         "layout": {
          "annotationdefaults": {
           "arrowcolor": "#2a3f5f",
           "arrowhead": 0,
           "arrowwidth": 1
          },
          "coloraxis": {
           "colorbar": {
            "outlinewidth": 0,
            "ticks": ""
           }
          },
          "colorscale": {
           "diverging": [
            [
             0,
             "#8e0152"
            ],
            [
             0.1,
             "#c51b7d"
            ],
            [
             0.2,
             "#de77ae"
            ],
            [
             0.3,
             "#f1b6da"
            ],
            [
             0.4,
             "#fde0ef"
            ],
            [
             0.5,
             "#f7f7f7"
            ],
            [
             0.6,
             "#e6f5d0"
            ],
            [
             0.7,
             "#b8e186"
            ],
            [
             0.8,
             "#7fbc41"
            ],
            [
             0.9,
             "#4d9221"
            ],
            [
             1,
             "#276419"
            ]
           ],
           "sequential": [
            [
             0,
             "#0d0887"
            ],
            [
             0.1111111111111111,
             "#46039f"
            ],
            [
             0.2222222222222222,
             "#7201a8"
            ],
            [
             0.3333333333333333,
             "#9c179e"
            ],
            [
             0.4444444444444444,
             "#bd3786"
            ],
            [
             0.5555555555555556,
             "#d8576b"
            ],
            [
             0.6666666666666666,
             "#ed7953"
            ],
            [
             0.7777777777777778,
             "#fb9f3a"
            ],
            [
             0.8888888888888888,
             "#fdca26"
            ],
            [
             1,
             "#f0f921"
            ]
           ],
           "sequentialminus": [
            [
             0,
             "#0d0887"
            ],
            [
             0.1111111111111111,
             "#46039f"
            ],
            [
             0.2222222222222222,
             "#7201a8"
            ],
            [
             0.3333333333333333,
             "#9c179e"
            ],
            [
             0.4444444444444444,
             "#bd3786"
            ],
            [
             0.5555555555555556,
             "#d8576b"
            ],
            [
             0.6666666666666666,
             "#ed7953"
            ],
            [
             0.7777777777777778,
             "#fb9f3a"
            ],
            [
             0.8888888888888888,
             "#fdca26"
            ],
            [
             1,
             "#f0f921"
            ]
           ]
          },
          "colorway": [
           "#636efa",
           "#EF553B",
           "#00cc96",
           "#ab63fa",
           "#FFA15A",
           "#19d3f3",
           "#FF6692",
           "#B6E880",
           "#FF97FF",
           "#FECB52"
          ],
          "font": {
           "color": "#2a3f5f"
          },
          "geo": {
           "bgcolor": "white",
           "lakecolor": "white",
           "landcolor": "#E5ECF6",
           "showlakes": true,
           "showland": true,
           "subunitcolor": "white"
          },
          "hoverlabel": {
           "align": "left"
          },
          "hovermode": "closest",
          "mapbox": {
           "style": "light"
          },
          "paper_bgcolor": "white",
          "plot_bgcolor": "#E5ECF6",
          "polar": {
           "angularaxis": {
            "gridcolor": "white",
            "linecolor": "white",
            "ticks": ""
           },
           "bgcolor": "#E5ECF6",
           "radialaxis": {
            "gridcolor": "white",
            "linecolor": "white",
            "ticks": ""
           }
          },
          "scene": {
           "xaxis": {
            "backgroundcolor": "#E5ECF6",
            "gridcolor": "white",
            "gridwidth": 2,
            "linecolor": "white",
            "showbackground": true,
            "ticks": "",
            "zerolinecolor": "white"
           },
           "yaxis": {
            "backgroundcolor": "#E5ECF6",
            "gridcolor": "white",
            "gridwidth": 2,
            "linecolor": "white",
            "showbackground": true,
            "ticks": "",
            "zerolinecolor": "white"
           },
           "zaxis": {
            "backgroundcolor": "#E5ECF6",
            "gridcolor": "white",
            "gridwidth": 2,
            "linecolor": "white",
            "showbackground": true,
            "ticks": "",
            "zerolinecolor": "white"
           }
          },
          "shapedefaults": {
           "line": {
            "color": "#2a3f5f"
           }
          },
          "ternary": {
           "aaxis": {
            "gridcolor": "white",
            "linecolor": "white",
            "ticks": ""
           },
           "baxis": {
            "gridcolor": "white",
            "linecolor": "white",
            "ticks": ""
           },
           "bgcolor": "#E5ECF6",
           "caxis": {
            "gridcolor": "white",
            "linecolor": "white",
            "ticks": ""
           }
          },
          "title": {
           "x": 0.05
          },
          "xaxis": {
           "automargin": true,
           "gridcolor": "white",
           "linecolor": "white",
           "ticks": "",
           "title": {
            "standoff": 15
           },
           "zerolinecolor": "white",
           "zerolinewidth": 2
          },
          "yaxis": {
           "automargin": true,
           "gridcolor": "white",
           "linecolor": "white",
           "ticks": "",
           "title": {
            "standoff": 15
           },
           "zerolinecolor": "white",
           "zerolinewidth": 2
          }
         }
        },
        "xaxis": {
         "autorange": true,
         "dtick": 1,
         "gridcolor": "rgb(0, 0, 0)",
         "range": [
          -0.5,
          22.5
         ],
         "side": "top",
         "ticks": "",
         "type": "category"
        },
        "yaxis": {
         "autorange": true,
         "dtick": 1,
         "range": [
          -1.0794392523364487,
          23.07943925233645
         ],
         "ticks": "",
         "ticksuffix": "  ",
         "type": "category"
        }
       }
      },
      "image/png": "[encoded data removed]",
      "text/html": [
       "<div>\n",
       "        \n",
       "        \n",
       "            <div id=\"f034f3e9-ea11-4062-ae40-bf0ee7b67506\" class=\"plotly-graph-div\" style=\"height:525px; width:100%;\"></div>\n",
       "            <script type=\"text/javascript\">\n",
       "                require([\"plotly\"], function(Plotly) {\n",
       "                    window.PLOTLYENV=window.PLOTLYENV || {};\n",
       "                    \n",
       "                if (document.getElementById(\"f034f3e9-ea11-4062-ae40-bf0ee7b67506\")) {\n",
       "                    Plotly.newPlot(\n",
       "                        'f034f3e9-ea11-4062-ae40-bf0ee7b67506',\n",
       "                        [{\"colorscale\": [[0.0, \"#0d0887\"], [0.1111111111111111, \"#46039f\"], [0.2222222222222222, \"#7201a8\"], [0.3333333333333333, \"#9c179e\"], [0.4444444444444444, \"#bd3786\"], [0.5555555555555556, \"#d8576b\"], [0.6666666666666666, \"#ed7953\"], [0.7777777777777778, \"#fb9f3a\"], [0.8888888888888888, \"#fdca26\"], [1.0, \"#f0f921\"]], \"reversescale\": false, \"showscale\": true, \"type\": \"heatmap\", \"x\": [\"Total\", \"Male\", \"Female\", \"Total Under 18 year\", \"Male Under 18 year\", \"Female Under 18 year\", \"Total 60 years and over\", \"Male 60 years and over\", \"Female 60 years and over\", \"Median age (years)\", \"Sex ratio (males per 100 females)\", \"Age dependency ratio\", \"Old-age dependency ratio\", \"Child dependency ratio\", \"percent_under18\", \"percent_over60\", \"hospital_bed_count\", \"hospital_count\", \"hospitalbeds_per10000\", \"cases\", \"deaths\", \"cases_per1000\", \"deaths_per1000\"], \"y\": [\"Total\", \"Male\", \"Female\", \"Total Under 18 year\", \"Male Under 18 year\", \"Female Under 18 year\", \"Total 60 years and over\", \"Male 60 years and over\", \"Female 60 years and over\", \"Median age (years)\", \"Sex ratio (males per 100 females)\", \"Age dependency ratio\", \"Old-age dependency ratio\", \"Child dependency ratio\", \"percent_under18\", \"percent_over60\", \"hospital_bed_count\", \"hospital_count\", \"hospitalbeds_per10000\", \"cases\", \"deaths\", \"cases_per1000\", \"deaths_per1000\"], \"z\": [[1.0, 0.9998566041781207, 0.9998659173632957, 0.9930703236321372, 0.9930711000987215, 0.9930043638551748, 0.9864211865912907, 0.9860313193149784, 0.9860366485076072, -0.11732462505421164, -0.08473194465201463, -0.16063467629388478, -0.15338029052103425, -0.020493212944466765, 0.0449209920816198, -0.17637004290608965, 0.6739499379856638, 0.9148416054104127, 0.04062110777424557, 0.4834480547113328, 0.4243263921494822, 0.1443447650248451, 0.12711933652257448], [0.9998566041781207, 1.0, 0.9994452378836544, 0.9934531477372317, 0.9934864426879999, 0.9933532322307186, 0.9853454859871662, 0.9853579142114787, 0.9846366331329579, -0.11900114215030147, -0.07563099277004838, -0.16100365746842263, -0.15475839879421643, -0.018792423169260053, 0.04688395992803517, -0.1781720989749057, 0.6713391823029601, 0.9145453118401644, 0.039388029467710674, 0.4796953703120237, 0.42064342288843615, 0.14152085936084244, 0.12417623487773256], [0.9998659173632957, 0.9994452378836544, 1.0, 0.9924292850719548, 0.9923986164913078, 0.9923961779130474, 0.9871923307732746, 0.9864135567468366, 0.9871215045800935, -0.11567146120791676, -0.09350930421113388, -0.16023406546369437, -0.15200584909545012, -0.02213225907806294, 0.043010582763490256, -0.17457938066835496, 0.6762906796614212, 0.9148785988061936, 0.04180239490345215, 0.48697987231610906, 0.4278037737425296, 0.1470513821204039, 0.12994539636725605], [0.9930703236321372, 0.9934531477372317, 0.9924292850719548, 1.0, 0.9999692311576439, 0.9999665007859517, 0.9672378306353969, 0.9676663425212696, 0.9662056005081685, -0.1518056218871095, -0.07315700947623831, -0.1515219064773544, -0.18260159107885046, 0.045074144108907054, 0.11276658225391266, -0.21446412139802495, 0.6565132854631609, 0.9197322765096559, 0.03552018040806173, 0.4640704985928246, 0.40534229654589043, 0.1343134387303802, 0.11710126384831453], [0.9930711000987215, 0.9934864426879999, 0.9923986164913078, 0.9999692311576439, 1.0, 0.9998715239744987, 0.9672547861698482, 0.9677182796138972, 0.9661942769277523, -0.1516294735656077, -0.0711609117232933, -0.15152292207080206, -0.18271242272890362, 0.045261332447674385, 0.11292167560047431, -0.2144603545799274, 0.6563858424517337, 0.9191954343003512, 0.03536138802083567, 0.4639579220593779, 0.4052686770485445, 0.13427851416108233, 0.117024619661254], [0.9930043638551748, 0.9933532322307186, 0.9923961779130474, 0.9999665007859517, 0.9998715239744987, 1.0, 0.9671566839271637, 0.967548667052033, 0.9661540286673298, -0.1519794604448855, -0.0752349893068646, -0.1515109063066316, -0.18247396707943755, 0.0448758699748191, 0.11259735594340392, -0.21445398204317045, 0.6566031927133468, 0.9202320930373584, 0.03568353815621518, 0.4641570901485364, 0.4053921445980883, 0.13434094448689238, 0.11717344936500405], [0.9864211865912907, 0.9853454859871662, 0.9871923307732746, 0.9672378306353969, 0.9672547861698482, 0.9671566839271637, 1.0, 0.9995145628885247, 0.9996830576448963, -0.0276437419245432, -0.11396868775639754, -0.09993088884068366, -0.06289666784386447, -0.06796253929333149, -0.027470365554151072, -0.078036458149925, 0.6681127734439811, 0.8911502566190251, 0.046182484292806456, 0.5110436020575527, 0.4574515000513292, 0.16710341282825006, 0.15345272733885676], [0.9860313193149784, 0.9853579142114787, 0.9864135567468366, 0.9676663425212696, 0.9677182796138972, 0.967548667052033, 0.9995145628885247, 1.0, 0.9984134431783466, -0.02327492715911884, -0.1050383984840398, -0.09476301487970788, -0.05834059648333028, -0.06665239962208541, -0.027728247868154643, -0.074045809160588, 0.6627312229952217, 0.8908303499438419, 0.044353793547442934, 0.5042829387505143, 0.45137968057528344, 0.16254491871233565, 0.14931678822000424], [0.9860366485076072, 0.9846366331329579, 0.9871215045800935, 0.9662056005081685, 0.9661942769277523, 0.9661540286673298, 0.9996830576448963, 0.9984134431783466, 1.0, -0.031154387872954336, -0.12110404279362681, -0.10403595382316655, -0.06653362629187948, -0.06897300746490355, -0.027242499896970244, -0.08120578595421545, 0.6719875447964455, 0.8907767528333709, 0.047627417729189866, 0.5162556005741651, 0.4621332869681025, 0.17071551218886288, 0.15672898519615894], [-0.11732462505421164, -0.11900114215030147, -0.11567146120791676, -0.1518056218871095, -0.1516294735656077, -0.1519794604448855, -0.0276437419245432, -0.02327492715911884, -0.031154387872954336, 1.0, -0.16207800253011923, 0.6586416983381603, 0.8493044348640966, -0.2900612605340451, -0.5270274226565816, 0.9137606775474263, -0.04208319285164234, -0.15537895895050183, 0.002369997807436473, -0.009024084913095098, 0.006985031303431375, 0.015159692033063527, 0.047079606938972875], [-0.08473194465201463, -0.07563099277004838, -0.09350930421113388, -0.07315700947623831, -0.0711609117232933, -0.0752349893068646, -0.11396868775639754, -0.1050383984840398, -0.12110404279362681, -0.16207800253011923, 1.0, -0.12775291413411016, -0.14565962129583093, 0.02401047655321817, 0.06821253891483053, -0.1647072852054576, -0.11734857399930193, -0.10228642107342989, -0.08216740671511391, -0.10290296683689218, -0.10619881401457296, -0.13481913620531122, -0.17189258252413347], [-0.16063467629388478, -0.16100365746842263, -0.16023406546369437, -0.1515219064773544, -0.15152292207080206, -0.1515109063066316, -0.09993088884068366, -0.09476301487970788, -0.10403595382316655, 0.6586416983381603, -0.12775291413411016, 1.0, 0.8320504003800574, 0.3363349199218412, 0.03985760201879908, 0.7179166308940914, -0.10101524173678421, -0.1606216356366712, -0.03587361211537243, -0.09527775180889857, -0.07631510847095155, -0.060028137851449, -0.029844812433699373], [-0.15338029052103425, -0.15475839879421643, -0.15200584909545012, -0.18260159107885046, -0.18271242272890362, -0.18247396707943755, -0.06289666784386447, -0.05834059648333028, -0.06653362629187948, 0.8493044348640966, -0.14565962129583093, 0.8320504003800574, 1.0, -0.24251232985924456, -0.5182407839389599, 0.9522869249388397, -0.06126024351244424, -0.16154516710531186, 0.014699374639529578, -0.07007945891726136, -0.051536788799641874, -0.047952115811153745, -0.008869005191691065], [-0.020493212944466765, -0.018792423169260053, -0.02213225907806294, 0.045074144108907054, 0.045261332447674385, 0.0448758699748191, -0.06796253929333149, -0.06665239962208541, -0.06897300746490355, -0.2900612605340451, 0.02401047655321817, 0.3363349199218412, -0.24251232985924456, 1.0, 0.9496125894668466, -0.3612356074537854, -0.07288214637359297, -0.0064757875001022714, -0.08783836850542967, -0.04740093609716071, -0.04571732502333475, -0.02327941500558054, -0.03710717397189007], [0.0449209920816198, 0.04688395992803517, 0.043010582763490256, 0.11276658225391266, 0.11292167560047431, 0.11259735594340392, -0.027470365554151072, -0.027728247868154643, -0.027242499896970244, -0.5270274226565816, 0.06821253891483053, 0.03985760201879908, -0.5182407839389599, 0.9496125894668466, 1.0, -0.6255498136237791, -0.03787500053502488, 0.05905221759944079, -0.08007308548751427, -0.014543563691489191, -0.01899319694658857, -0.004929726901664579, -0.02683948786992566], [-0.17637004290608965, -0.1781720989749057, -0.17457938066835496, -0.21446412139802495, -0.2144603545799274, -0.21445398204317045, -0.078036458149925, -0.074045809160588, -0.08120578595421545, 0.9137606775474263, -0.1647072852054576, 0.7179166308940914, 0.9522869249388397, -0.3612356074537854, -0.6255498136237791, 1.0, -0.06756051894018582, -0.18349648249472705, 0.01650310429894954, -0.06549071427412081, -0.043777530502252845, -0.035614877384974666, 0.0062980300629099885], [0.6739499379856638, 0.6713391823029601, 0.6762906796614212, 0.6565132854631609, 0.6563858424517337, 0.6566031927133468, 0.6681127734439811, 0.6627312229952217, 0.6719875447964455, -0.04208319285164234, -0.11734857399930193, -0.10101524173678421, -0.06126024351244424, -0.07288214637359297, -0.03787500053502488, -0.06756051894018582, 1.0, 0.6247167958713372, 0.4874519793501592, 0.3415278025043344, 0.2880256351970271, 0.04555671958922846, 0.04122548891452671], [0.9148416054104127, 0.9145453118401644, 0.9148785988061936, 0.9197322765096559, 0.9191954343003512, 0.9202320930373584, 0.8911502566190251, 0.8908303499438419, 0.8907767528333709, -0.15537895895050183, -0.10228642107342989, -0.1606216356366712, -0.16154516710531186, -0.0064757875001022714, 0.05905221759944079, -0.18349648249472705, 0.6247167958713372, 1.0, 0.01042031246470829, 0.41884361449256724, 0.35725502736505954, 0.13066947281296942, 0.11045645865177933], [0.04062110777424557, 0.039388029467710674, 0.04180239490345215, 0.03552018040806173, 0.03536138802083567, 0.03568353815621518, 0.046182484292806456, 0.044353793547442934, 0.047627417729189866, 0.002369997807436473, -0.08216740671511391, -0.03587361211537243, 0.014699374639529578, -0.08783836850542967, -0.08007308548751427, 0.01650310429894954, 0.4874519793501592, 0.01042031246470829, 1.0, 0.013662685866742949, 0.013057484225948388, -0.04632049958428545, -0.0226102189328316], [0.4834480547113328, 0.4796953703120237, 0.48697987231610906, 0.4640704985928246, 0.4639579220593779, 0.4641570901485364, 0.5110436020575527, 0.5042829387505143, 0.5162556005741651, -0.009024084913095098, -0.10290296683689218, -0.09527775180889857, -0.07007945891726136, -0.04740093609716071, -0.014543563691489191, -0.06549071427412081, 0.3415278025043344, 0.41884361449256724, 0.013662685866742949, 1.0, 0.9325699108370752, 0.7719195904191539, 0.6783395325192721], [0.4243263921494822, 0.42064342288843615, 0.4278037737425296, 0.40534229654589043, 0.4052686770485445, 0.4053921445980883, 0.4574515000513292, 0.45137968057528344, 0.4621332869681025, 0.006985031303431375, -0.10619881401457296, -0.07631510847095155, -0.051536788799641874, -0.04571732502333475, -0.01899319694658857, -0.043777530502252845, 0.2880256351970271, 0.35725502736505954, 0.013057484225948388, 0.9325699108370752, 1.0, 0.7005750201030607, 0.7334724267730354], [0.1443447650248451, 0.14152085936084244, 0.1470513821204039, 0.1343134387303802, 0.13427851416108233, 0.13434094448689238, 0.16710341282825006, 0.16254491871233565, 0.17071551218886288, 0.015159692033063527, -0.13481913620531122, -0.060028137851449, -0.047952115811153745, -0.02327941500558054, -0.004929726901664579, -0.035614877384974666, 0.04555671958922846, 0.13066947281296942, -0.04632049958428545, 0.7719195904191539, 0.7005750201030607, 1.0, 0.8730975329954713], [0.12711933652257448, 0.12417623487773256, 0.12994539636725605, 0.11710126384831453, 0.117024619661254, 0.11717344936500405, 0.15345272733885676, 0.14931678822000424, 0.15672898519615894, 0.047079606938972875, -0.17189258252413347, -0.029844812433699373, -0.008869005191691065, -0.03710717397189007, -0.02683948786992566, 0.0062980300629099885, 0.04122548891452671, 0.11045645865177933, -0.0226102189328316, 0.6783395325192721, 0.7334724267730354, 0.8730975329954713, 1.0]]}],\n",
       "                        {\"annotations\": [{\"font\": {\"color\": \"#000000\"}, \"showarrow\": false, \"text\": \"1.0\", \"x\": \"Total\", \"xref\": \"x\", \"y\": \"Total\", \"yref\": \"y\"}, {\"font\": {\"color\": \"#000000\"}, \"showarrow\": false, \"text\": \"1.0\", \"x\": \"Male\", \"xref\": \"x\", \"y\": \"Total\", \"yref\": \"y\"}, {\"font\": {\"color\": \"#000000\"}, \"showarrow\": false, \"text\": \"1.0\", \"x\": \"Female\", \"xref\": \"x\", \"y\": \"Total\", \"yref\": \"y\"}, {\"font\": {\"color\": \"#000000\"}, \"showarrow\": false, \"text\": \"0.99\", \"x\": \"Total Under 18 year\", \"xref\": \"x\", \"y\": \"Total\", \"yref\": \"y\"}, {\"font\": {\"color\": \"#000000\"}, \"showarrow\": false, \"text\": \"0.99\", \"x\": \"Male Under 18 year\", \"xref\": \"x\", \"y\": \"Total\", \"yref\": \"y\"}, {\"font\": {\"color\": \"#000000\"}, \"showarrow\": false, \"text\": \"0.99\", \"x\": \"Female Under 18 year\", \"xref\": \"x\", \"y\": \"Total\", \"yref\": \"y\"}, {\"font\": {\"color\": \"#000000\"}, \"showarrow\": false, \"text\": \"0.99\", \"x\": \"Total 60 years and over\", \"xref\": \"x\", \"y\": \"Total\", \"yref\": \"y\"}, {\"font\": {\"color\": \"#000000\"}, \"showarrow\": false, \"text\": \"0.99\", \"x\": \"Male 60 years and over\", \"xref\": \"x\", \"y\": \"Total\", \"yref\": \"y\"}, {\"font\": {\"color\": \"#000000\"}, \"showarrow\": false, \"text\": \"0.99\", \"x\": \"Female 60 years and over\", \"xref\": \"x\", \"y\": \"Total\", \"yref\": \"y\"}, {\"font\": {\"color\": \"#FFFFFF\"}, \"showarrow\": false, \"text\": \"-0.12\", \"x\": \"Median age (years)\", \"xref\": \"x\", \"y\": \"Total\", \"yref\": \"y\"}, {\"font\": {\"color\": \"#FFFFFF\"}, \"showarrow\": false, \"text\": \"-0.08\", \"x\": \"Sex ratio (males per 100 females)\", \"xref\": \"x\", \"y\": \"Total\", \"yref\": \"y\"}, {\"font\": {\"color\": \"#FFFFFF\"}, \"showarrow\": false, \"text\": \"-0.16\", \"x\": \"Age dependency ratio\", \"xref\": \"x\", \"y\": \"Total\", \"yref\": \"y\"}, {\"font\": {\"color\": \"#FFFFFF\"}, \"showarrow\": false, \"text\": \"-0.15\", \"x\": \"Old-age dependency ratio\", \"xref\": \"x\", \"y\": \"Total\", \"yref\": \"y\"}, {\"font\": {\"color\": \"#FFFFFF\"}, \"showarrow\": false, \"text\": \"-0.02\", \"x\": \"Child dependency ratio\", \"xref\": \"x\", \"y\": \"Total\", \"yref\": \"y\"}, {\"font\": {\"color\": \"#FFFFFF\"}, \"showarrow\": false, \"text\": \"0.04\", \"x\": \"percent_under18\", \"xref\": \"x\", \"y\": \"Total\", \"yref\": \"y\"}, {\"font\": {\"color\": \"#FFFFFF\"}, \"showarrow\": false, \"text\": \"-0.18\", \"x\": \"percent_over60\", \"xref\": \"x\", \"y\": \"Total\", \"yref\": \"y\"}, {\"font\": {\"color\": \"#000000\"}, \"showarrow\": false, \"text\": \"0.67\", \"x\": \"hospital_bed_count\", \"xref\": \"x\", \"y\": \"Total\", \"yref\": \"y\"}, {\"font\": {\"color\": \"#000000\"}, \"showarrow\": false, \"text\": \"0.91\", \"x\": \"hospital_count\", \"xref\": \"x\", \"y\": \"Total\", \"yref\": \"y\"}, {\"font\": {\"color\": \"#FFFFFF\"}, \"showarrow\": false, \"text\": \"0.04\", \"x\": \"hospitalbeds_per10000\", \"xref\": \"x\", \"y\": \"Total\", \"yref\": \"y\"}, {\"font\": {\"color\": \"#000000\"}, \"showarrow\": false, \"text\": \"0.48\", \"x\": \"cases\", \"xref\": \"x\", \"y\": \"Total\", \"yref\": \"y\"}, {\"font\": {\"color\": \"#000000\"}, \"showarrow\": false, \"text\": \"0.42\", \"x\": \"deaths\", \"xref\": \"x\", \"y\": \"Total\", \"yref\": \"y\"}, {\"font\": {\"color\": \"#FFFFFF\"}, \"showarrow\": false, \"text\": \"0.14\", \"x\": \"cases_per1000\", \"xref\": \"x\", \"y\": \"Total\", \"yref\": \"y\"}, {\"font\": {\"color\": \"#FFFFFF\"}, \"showarrow\": false, \"text\": \"0.13\", \"x\": \"deaths_per1000\", \"xref\": \"x\", \"y\": \"Total\", \"yref\": \"y\"}, {\"font\": {\"color\": \"#000000\"}, \"showarrow\": false, \"text\": \"1.0\", \"x\": \"Total\", \"xref\": \"x\", \"y\": \"Male\", \"yref\": \"y\"}, {\"font\": {\"color\": \"#000000\"}, \"showarrow\": false, \"text\": \"1.0\", \"x\": \"Male\", \"xref\": \"x\", \"y\": \"Male\", \"yref\": \"y\"}, {\"font\": {\"color\": \"#000000\"}, \"showarrow\": false, \"text\": \"1.0\", \"x\": \"Female\", \"xref\": \"x\", \"y\": \"Male\", \"yref\": \"y\"}, {\"font\": {\"color\": \"#000000\"}, \"showarrow\": false, \"text\": \"0.99\", \"x\": \"Total Under 18 year\", \"xref\": \"x\", \"y\": \"Male\", \"yref\": \"y\"}, {\"font\": {\"color\": \"#000000\"}, \"showarrow\": false, \"text\": \"0.99\", \"x\": \"Male Under 18 year\", \"xref\": \"x\", \"y\": \"Male\", \"yref\": \"y\"}, {\"font\": {\"color\": \"#000000\"}, \"showarrow\": false, \"text\": \"0.99\", \"x\": \"Female Under 18 year\", \"xref\": \"x\", \"y\": \"Male\", \"yref\": \"y\"}, {\"font\": {\"color\": \"#000000\"}, \"showarrow\": false, \"text\": \"0.99\", \"x\": \"Total 60 years and over\", \"xref\": \"x\", \"y\": \"Male\", \"yref\": \"y\"}, {\"font\": {\"color\": \"#000000\"}, \"showarrow\": false, \"text\": \"0.99\", \"x\": \"Male 60 years and over\", \"xref\": \"x\", \"y\": \"Male\", \"yref\": \"y\"}, {\"font\": {\"color\": \"#000000\"}, \"showarrow\": false, \"text\": \"0.98\", \"x\": \"Female 60 years and over\", \"xref\": \"x\", \"y\": \"Male\", \"yref\": \"y\"}, {\"font\": {\"color\": \"#FFFFFF\"}, \"showarrow\": false, \"text\": \"-0.12\", \"x\": \"Median age (years)\", \"xref\": \"x\", \"y\": \"Male\", \"yref\": \"y\"}, {\"font\": {\"color\": \"#FFFFFF\"}, \"showarrow\": false, \"text\": \"-0.08\", \"x\": \"Sex ratio (males per 100 females)\", \"xref\": \"x\", \"y\": \"Male\", \"yref\": \"y\"}, {\"font\": {\"color\": \"#FFFFFF\"}, \"showarrow\": false, \"text\": \"-0.16\", \"x\": \"Age dependency ratio\", \"xref\": \"x\", \"y\": \"Male\", \"yref\": \"y\"}, {\"font\": {\"color\": \"#FFFFFF\"}, \"showarrow\": false, \"text\": \"-0.15\", \"x\": \"Old-age dependency ratio\", \"xref\": \"x\", \"y\": \"Male\", \"yref\": \"y\"}, {\"font\": {\"color\": \"#FFFFFF\"}, \"showarrow\": false, \"text\": \"-0.02\", \"x\": \"Child dependency ratio\", \"xref\": \"x\", \"y\": \"Male\", \"yref\": \"y\"}, {\"font\": {\"color\": \"#FFFFFF\"}, \"showarrow\": false, \"text\": \"0.05\", \"x\": \"percent_under18\", \"xref\": \"x\", \"y\": \"Male\", \"yref\": \"y\"}, {\"font\": {\"color\": \"#FFFFFF\"}, \"showarrow\": false, \"text\": \"-0.18\", \"x\": \"percent_over60\", \"xref\": \"x\", \"y\": \"Male\", \"yref\": \"y\"}, {\"font\": {\"color\": \"#000000\"}, \"showarrow\": false, \"text\": \"0.67\", \"x\": \"hospital_bed_count\", \"xref\": \"x\", \"y\": \"Male\", \"yref\": \"y\"}, {\"font\": {\"color\": \"#000000\"}, \"showarrow\": false, \"text\": \"0.91\", \"x\": \"hospital_count\", \"xref\": \"x\", \"y\": \"Male\", \"yref\": \"y\"}, {\"font\": {\"color\": \"#FFFFFF\"}, \"showarrow\": false, \"text\": \"0.04\", \"x\": \"hospitalbeds_per10000\", \"xref\": \"x\", \"y\": \"Male\", \"yref\": \"y\"}, {\"font\": {\"color\": \"#000000\"}, \"showarrow\": false, \"text\": \"0.48\", \"x\": \"cases\", \"xref\": \"x\", \"y\": \"Male\", \"yref\": \"y\"}, {\"font\": {\"color\": \"#000000\"}, \"showarrow\": false, \"text\": \"0.42\", \"x\": \"deaths\", \"xref\": \"x\", \"y\": \"Male\", \"yref\": \"y\"}, {\"font\": {\"color\": \"#FFFFFF\"}, \"showarrow\": false, \"text\": \"0.14\", \"x\": \"cases_per1000\", \"xref\": \"x\", \"y\": \"Male\", \"yref\": \"y\"}, {\"font\": {\"color\": \"#FFFFFF\"}, \"showarrow\": false, \"text\": \"0.12\", \"x\": \"deaths_per1000\", \"xref\": \"x\", \"y\": \"Male\", \"yref\": \"y\"}, {\"font\": {\"color\": \"#000000\"}, \"showarrow\": false, \"text\": \"1.0\", \"x\": \"Total\", \"xref\": \"x\", \"y\": \"Female\", \"yref\": \"y\"}, {\"font\": {\"color\": \"#000000\"}, \"showarrow\": false, \"text\": \"1.0\", \"x\": \"Male\", \"xref\": \"x\", \"y\": \"Female\", \"yref\": \"y\"}, {\"font\": {\"color\": \"#000000\"}, \"showarrow\": false, \"text\": \"1.0\", \"x\": \"Female\", \"xref\": \"x\", \"y\": \"Female\", \"yref\": \"y\"}, {\"font\": {\"color\": \"#000000\"}, \"showarrow\": false, \"text\": \"0.99\", \"x\": \"Total Under 18 year\", \"xref\": \"x\", \"y\": \"Female\", \"yref\": \"y\"}, {\"font\": {\"color\": \"#000000\"}, \"showarrow\": false, \"text\": \"0.99\", \"x\": \"Male Under 18 year\", \"xref\": \"x\", \"y\": \"Female\", \"yref\": \"y\"}, {\"font\": {\"color\": \"#000000\"}, \"showarrow\": false, \"text\": \"0.99\", \"x\": \"Female Under 18 year\", \"xref\": \"x\", \"y\": \"Female\", \"yref\": \"y\"}, {\"font\": {\"color\": \"#000000\"}, \"showarrow\": false, \"text\": \"0.99\", \"x\": \"Total 60 years and over\", \"xref\": \"x\", \"y\": \"Female\", \"yref\": \"y\"}, {\"font\": {\"color\": \"#000000\"}, \"showarrow\": false, \"text\": \"0.99\", \"x\": \"Male 60 years and over\", \"xref\": \"x\", \"y\": \"Female\", \"yref\": \"y\"}, {\"font\": {\"color\": \"#000000\"}, \"showarrow\": false, \"text\": \"0.99\", \"x\": \"Female 60 years and over\", \"xref\": \"x\", \"y\": \"Female\", \"yref\": \"y\"}, {\"font\": {\"color\": \"#FFFFFF\"}, \"showarrow\": false, \"text\": \"-0.12\", \"x\": \"Median age (years)\", \"xref\": \"x\", \"y\": \"Female\", \"yref\": \"y\"}, {\"font\": {\"color\": \"#FFFFFF\"}, \"showarrow\": false, \"text\": \"-0.09\", \"x\": \"Sex ratio (males per 100 females)\", \"xref\": \"x\", \"y\": \"Female\", \"yref\": \"y\"}, {\"font\": {\"color\": \"#FFFFFF\"}, \"showarrow\": false, \"text\": \"-0.16\", \"x\": \"Age dependency ratio\", \"xref\": \"x\", \"y\": \"Female\", \"yref\": \"y\"}, {\"font\": {\"color\": \"#FFFFFF\"}, \"showarrow\": false, \"text\": \"-0.15\", \"x\": \"Old-age dependency ratio\", \"xref\": \"x\", \"y\": \"Female\", \"yref\": \"y\"}, {\"font\": {\"color\": \"#FFFFFF\"}, \"showarrow\": false, \"text\": \"-0.02\", \"x\": \"Child dependency ratio\", \"xref\": \"x\", \"y\": \"Female\", \"yref\": \"y\"}, {\"font\": {\"color\": \"#FFFFFF\"}, \"showarrow\": false, \"text\": \"0.04\", \"x\": \"percent_under18\", \"xref\": \"x\", \"y\": \"Female\", \"yref\": \"y\"}, {\"font\": {\"color\": \"#FFFFFF\"}, \"showarrow\": false, \"text\": \"-0.17\", \"x\": \"percent_over60\", \"xref\": \"x\", \"y\": \"Female\", \"yref\": \"y\"}, {\"font\": {\"color\": \"#000000\"}, \"showarrow\": false, \"text\": \"0.68\", \"x\": \"hospital_bed_count\", \"xref\": \"x\", \"y\": \"Female\", \"yref\": \"y\"}, {\"font\": {\"color\": \"#000000\"}, \"showarrow\": false, \"text\": \"0.91\", \"x\": \"hospital_count\", \"xref\": \"x\", \"y\": \"Female\", \"yref\": \"y\"}, {\"font\": {\"color\": \"#FFFFFF\"}, \"showarrow\": false, \"text\": \"0.04\", \"x\": \"hospitalbeds_per10000\", \"xref\": \"x\", \"y\": \"Female\", \"yref\": \"y\"}, {\"font\": {\"color\": \"#000000\"}, \"showarrow\": false, \"text\": \"0.49\", \"x\": \"cases\", \"xref\": \"x\", \"y\": \"Female\", \"yref\": \"y\"}, {\"font\": {\"color\": \"#000000\"}, \"showarrow\": false, \"text\": \"0.43\", \"x\": \"deaths\", \"xref\": \"x\", \"y\": \"Female\", \"yref\": \"y\"}, {\"font\": {\"color\": \"#FFFFFF\"}, \"showarrow\": false, \"text\": \"0.15\", \"x\": \"cases_per1000\", \"xref\": \"x\", \"y\": \"Female\", \"yref\": \"y\"}, {\"font\": {\"color\": \"#FFFFFF\"}, \"showarrow\": false, \"text\": \"0.13\", \"x\": \"deaths_per1000\", \"xref\": \"x\", \"y\": \"Female\", \"yref\": \"y\"}, {\"font\": {\"color\": \"#000000\"}, \"showarrow\": false, \"text\": \"0.99\", \"x\": \"Total\", \"xref\": \"x\", \"y\": \"Total Under 18 year\", \"yref\": \"y\"}, {\"font\": {\"color\": \"#000000\"}, \"showarrow\": false, \"text\": \"0.99\", \"x\": \"Male\", \"xref\": \"x\", \"y\": \"Total Under 18 year\", \"yref\": \"y\"}, {\"font\": {\"color\": \"#000000\"}, \"showarrow\": false, \"text\": \"0.99\", \"x\": \"Female\", \"xref\": \"x\", \"y\": \"Total Under 18 year\", \"yref\": \"y\"}, {\"font\": {\"color\": \"#000000\"}, \"showarrow\": false, \"text\": \"1.0\", \"x\": \"Total Under 18 year\", \"xref\": \"x\", \"y\": \"Total Under 18 year\", \"yref\": \"y\"}, {\"font\": {\"color\": \"#000000\"}, \"showarrow\": false, \"text\": \"1.0\", \"x\": \"Male Under 18 year\", \"xref\": \"x\", \"y\": \"Total Under 18 year\", \"yref\": \"y\"}, {\"font\": {\"color\": \"#000000\"}, \"showarrow\": false, \"text\": \"1.0\", \"x\": \"Female Under 18 year\", \"xref\": \"x\", \"y\": \"Total Under 18 year\", \"yref\": \"y\"}, {\"font\": {\"color\": \"#000000\"}, \"showarrow\": false, \"text\": \"0.97\", \"x\": \"Total 60 years and over\", \"xref\": \"x\", \"y\": \"Total Under 18 year\", \"yref\": \"y\"}, {\"font\": {\"color\": \"#000000\"}, \"showarrow\": false, \"text\": \"0.97\", \"x\": \"Male 60 years and over\", \"xref\": \"x\", \"y\": \"Total Under 18 year\", \"yref\": \"y\"}, {\"font\": {\"color\": \"#000000\"}, \"showarrow\": false, \"text\": \"0.97\", \"x\": \"Female 60 years and over\", \"xref\": \"x\", \"y\": \"Total Under 18 year\", \"yref\": \"y\"}, {\"font\": {\"color\": \"#FFFFFF\"}, \"showarrow\": false, \"text\": \"-0.15\", \"x\": \"Median age (years)\", \"xref\": \"x\", \"y\": \"Total Under 18 year\", \"yref\": \"y\"}, {\"font\": {\"color\": \"#FFFFFF\"}, \"showarrow\": false, \"text\": \"-0.07\", \"x\": \"Sex ratio (males per 100 females)\", \"xref\": \"x\", \"y\": \"Total Under 18 year\", \"yref\": \"y\"}, {\"font\": {\"color\": \"#FFFFFF\"}, \"showarrow\": false, \"text\": \"-0.15\", \"x\": \"Age dependency ratio\", \"xref\": \"x\", \"y\": \"Total Under 18 year\", \"yref\": \"y\"}, {\"font\": {\"color\": \"#FFFFFF\"}, \"showarrow\": false, \"text\": \"-0.18\", \"x\": \"Old-age dependency ratio\", \"xref\": \"x\", \"y\": \"Total Under 18 year\", \"yref\": \"y\"}, {\"font\": {\"color\": \"#FFFFFF\"}, \"showarrow\": false, \"text\": \"0.05\", \"x\": \"Child dependency ratio\", \"xref\": \"x\", \"y\": \"Total Under 18 year\", \"yref\": \"y\"}, {\"font\": {\"color\": \"#FFFFFF\"}, \"showarrow\": false, \"text\": \"0.11\", \"x\": \"percent_under18\", \"xref\": \"x\", \"y\": \"Total Under 18 year\", \"yref\": \"y\"}, {\"font\": {\"color\": \"#FFFFFF\"}, \"showarrow\": false, \"text\": \"-0.21\", \"x\": \"percent_over60\", \"xref\": \"x\", \"y\": \"Total Under 18 year\", \"yref\": \"y\"}, {\"font\": {\"color\": \"#000000\"}, \"showarrow\": false, \"text\": \"0.66\", \"x\": \"hospital_bed_count\", \"xref\": \"x\", \"y\": \"Total Under 18 year\", \"yref\": \"y\"}, {\"font\": {\"color\": \"#000000\"}, \"showarrow\": false, \"text\": \"0.92\", \"x\": \"hospital_count\", \"xref\": \"x\", \"y\": \"Total Under 18 year\", \"yref\": \"y\"}, {\"font\": {\"color\": \"#FFFFFF\"}, \"showarrow\": false, \"text\": \"0.04\", \"x\": \"hospitalbeds_per10000\", \"xref\": \"x\", \"y\": \"Total Under 18 year\", \"yref\": \"y\"}, {\"font\": {\"color\": \"#000000\"}, \"showarrow\": false, \"text\": \"0.46\", \"x\": \"cases\", \"xref\": \"x\", \"y\": \"Total Under 18 year\", \"yref\": \"y\"}, {\"font\": {\"color\": \"#000000\"}, \"showarrow\": false, \"text\": \"0.41\", \"x\": \"deaths\", \"xref\": \"x\", \"y\": \"Total Under 18 year\", \"yref\": \"y\"}, {\"font\": {\"color\": \"#FFFFFF\"}, \"showarrow\": false, \"text\": \"0.13\", \"x\": \"cases_per1000\", \"xref\": \"x\", \"y\": \"Total Under 18 year\", \"yref\": \"y\"}, {\"font\": {\"color\": \"#FFFFFF\"}, \"showarrow\": false, \"text\": \"0.12\", \"x\": \"deaths_per1000\", \"xref\": \"x\", \"y\": \"Total Under 18 year\", \"yref\": \"y\"}, {\"font\": {\"color\": \"#000000\"}, \"showarrow\": false, \"text\": \"0.99\", \"x\": \"Total\", \"xref\": \"x\", \"y\": \"Male Under 18 year\", \"yref\": \"y\"}, {\"font\": {\"color\": \"#000000\"}, \"showarrow\": false, \"text\": \"0.99\", \"x\": \"Male\", \"xref\": \"x\", \"y\": \"Male Under 18 year\", \"yref\": \"y\"}, {\"font\": {\"color\": \"#000000\"}, \"showarrow\": false, \"text\": \"0.99\", \"x\": \"Female\", \"xref\": \"x\", \"y\": \"Male Under 18 year\", \"yref\": \"y\"}, {\"font\": {\"color\": \"#000000\"}, \"showarrow\": false, \"text\": \"1.0\", \"x\": \"Total Under 18 year\", \"xref\": \"x\", \"y\": \"Male Under 18 year\", \"yref\": \"y\"}, {\"font\": {\"color\": \"#000000\"}, \"showarrow\": false, \"text\": \"1.0\", \"x\": \"Male Under 18 year\", \"xref\": \"x\", \"y\": \"Male Under 18 year\", \"yref\": \"y\"}, {\"font\": {\"color\": \"#000000\"}, \"showarrow\": false, \"text\": \"1.0\", \"x\": \"Female Under 18 year\", \"xref\": \"x\", \"y\": \"Male Under 18 year\", \"yref\": \"y\"}, {\"font\": {\"color\": \"#000000\"}, \"showarrow\": false, \"text\": \"0.97\", \"x\": \"Total 60 years and over\", \"xref\": \"x\", \"y\": \"Male Under 18 year\", \"yref\": \"y\"}, {\"font\": {\"color\": \"#000000\"}, \"showarrow\": false, \"text\": \"0.97\", \"x\": \"Male 60 years and over\", \"xref\": \"x\", \"y\": \"Male Under 18 year\", \"yref\": \"y\"}, {\"font\": {\"color\": \"#000000\"}, \"showarrow\": false, \"text\": \"0.97\", \"x\": \"Female 60 years and over\", \"xref\": \"x\", \"y\": \"Male Under 18 year\", \"yref\": \"y\"}, {\"font\": {\"color\": \"#FFFFFF\"}, \"showarrow\": false, \"text\": \"-0.15\", \"x\": \"Median age (years)\", \"xref\": \"x\", \"y\": \"Male Under 18 year\", \"yref\": \"y\"}, {\"font\": {\"color\": \"#FFFFFF\"}, \"showarrow\": false, \"text\": \"-0.07\", \"x\": \"Sex ratio (males per 100 females)\", \"xref\": \"x\", \"y\": \"Male Under 18 year\", \"yref\": \"y\"}, {\"font\": {\"color\": \"#FFFFFF\"}, \"showarrow\": false, \"text\": \"-0.15\", \"x\": \"Age dependency ratio\", \"xref\": \"x\", \"y\": \"Male Under 18 year\", \"yref\": \"y\"}, {\"font\": {\"color\": \"#FFFFFF\"}, \"showarrow\": false, \"text\": \"-0.18\", \"x\": \"Old-age dependency ratio\", \"xref\": \"x\", \"y\": \"Male Under 18 year\", \"yref\": \"y\"}, {\"font\": {\"color\": \"#FFFFFF\"}, \"showarrow\": false, \"text\": \"0.05\", \"x\": \"Child dependency ratio\", \"xref\": \"x\", \"y\": \"Male Under 18 year\", \"yref\": \"y\"}, {\"font\": {\"color\": \"#FFFFFF\"}, \"showarrow\": false, \"text\": \"0.11\", \"x\": \"percent_under18\", \"xref\": \"x\", \"y\": \"Male Under 18 year\", \"yref\": \"y\"}, {\"font\": {\"color\": \"#FFFFFF\"}, \"showarrow\": false, \"text\": \"-0.21\", \"x\": \"percent_over60\", \"xref\": \"x\", \"y\": \"Male Under 18 year\", \"yref\": \"y\"}, {\"font\": {\"color\": \"#000000\"}, \"showarrow\": false, \"text\": \"0.66\", \"x\": \"hospital_bed_count\", \"xref\": \"x\", \"y\": \"Male Under 18 year\", \"yref\": \"y\"}, {\"font\": {\"color\": \"#000000\"}, \"showarrow\": false, \"text\": \"0.92\", \"x\": \"hospital_count\", \"xref\": \"x\", \"y\": \"Male Under 18 year\", \"yref\": \"y\"}, {\"font\": {\"color\": \"#FFFFFF\"}, \"showarrow\": false, \"text\": \"0.04\", \"x\": \"hospitalbeds_per10000\", \"xref\": \"x\", \"y\": \"Male Under 18 year\", \"yref\": \"y\"}, {\"font\": {\"color\": \"#000000\"}, \"showarrow\": false, \"text\": \"0.46\", \"x\": \"cases\", \"xref\": \"x\", \"y\": \"Male Under 18 year\", \"yref\": \"y\"}, {\"font\": {\"color\": \"#000000\"}, \"showarrow\": false, \"text\": \"0.41\", \"x\": \"deaths\", \"xref\": \"x\", \"y\": \"Male Under 18 year\", \"yref\": \"y\"}, {\"font\": {\"color\": \"#FFFFFF\"}, \"showarrow\": false, \"text\": \"0.13\", \"x\": \"cases_per1000\", \"xref\": \"x\", \"y\": \"Male Under 18 year\", \"yref\": \"y\"}, {\"font\": {\"color\": \"#FFFFFF\"}, \"showarrow\": false, \"text\": \"0.12\", \"x\": \"deaths_per1000\", \"xref\": \"x\", \"y\": \"Male Under 18 year\", \"yref\": \"y\"}, {\"font\": {\"color\": \"#000000\"}, \"showarrow\": false, \"text\": \"0.99\", \"x\": \"Total\", \"xref\": \"x\", \"y\": \"Female Under 18 year\", \"yref\": \"y\"}, {\"font\": {\"color\": \"#000000\"}, \"showarrow\": false, \"text\": \"0.99\", \"x\": \"Male\", \"xref\": \"x\", \"y\": \"Female Under 18 year\", \"yref\": \"y\"}, {\"font\": {\"color\": \"#000000\"}, \"showarrow\": false, \"text\": \"0.99\", \"x\": \"Female\", \"xref\": \"x\", \"y\": \"Female Under 18 year\", \"yref\": \"y\"}, {\"font\": {\"color\": \"#000000\"}, \"showarrow\": false, \"text\": \"1.0\", \"x\": \"Total Under 18 year\", \"xref\": \"x\", \"y\": \"Female Under 18 year\", \"yref\": \"y\"}, {\"font\": {\"color\": \"#000000\"}, \"showarrow\": false, \"text\": \"1.0\", \"x\": \"Male Under 18 year\", \"xref\": \"x\", \"y\": \"Female Under 18 year\", \"yref\": \"y\"}, {\"font\": {\"color\": \"#000000\"}, \"showarrow\": false, \"text\": \"1.0\", \"x\": \"Female Under 18 year\", \"xref\": \"x\", \"y\": \"Female Under 18 year\", \"yref\": \"y\"}, {\"font\": {\"color\": \"#000000\"}, \"showarrow\": false, \"text\": \"0.97\", \"x\": \"Total 60 years and over\", \"xref\": \"x\", \"y\": \"Female Under 18 year\", \"yref\": \"y\"}, {\"font\": {\"color\": \"#000000\"}, \"showarrow\": false, \"text\": \"0.97\", \"x\": \"Male 60 years and over\", \"xref\": \"x\", \"y\": \"Female Under 18 year\", \"yref\": \"y\"}, {\"font\": {\"color\": \"#000000\"}, \"showarrow\": false, \"text\": \"0.97\", \"x\": \"Female 60 years and over\", \"xref\": \"x\", \"y\": \"Female Under 18 year\", \"yref\": \"y\"}, {\"font\": {\"color\": \"#FFFFFF\"}, \"showarrow\": false, \"text\": \"-0.15\", \"x\": \"Median age (years)\", \"xref\": \"x\", \"y\": \"Female Under 18 year\", \"yref\": \"y\"}, {\"font\": {\"color\": \"#FFFFFF\"}, \"showarrow\": false, \"text\": \"-0.08\", \"x\": \"Sex ratio (males per 100 females)\", \"xref\": \"x\", \"y\": \"Female Under 18 year\", \"yref\": \"y\"}, {\"font\": {\"color\": \"#FFFFFF\"}, \"showarrow\": false, \"text\": \"-0.15\", \"x\": \"Age dependency ratio\", \"xref\": \"x\", \"y\": \"Female Under 18 year\", \"yref\": \"y\"}, {\"font\": {\"color\": \"#FFFFFF\"}, \"showarrow\": false, \"text\": \"-0.18\", \"x\": \"Old-age dependency ratio\", \"xref\": \"x\", \"y\": \"Female Under 18 year\", \"yref\": \"y\"}, {\"font\": {\"color\": \"#FFFFFF\"}, \"showarrow\": false, \"text\": \"0.04\", \"x\": \"Child dependency ratio\", \"xref\": \"x\", \"y\": \"Female Under 18 year\", \"yref\": \"y\"}, {\"font\": {\"color\": \"#FFFFFF\"}, \"showarrow\": false, \"text\": \"0.11\", \"x\": \"percent_under18\", \"xref\": \"x\", \"y\": \"Female Under 18 year\", \"yref\": \"y\"}, {\"font\": {\"color\": \"#FFFFFF\"}, \"showarrow\": false, \"text\": \"-0.21\", \"x\": \"percent_over60\", \"xref\": \"x\", \"y\": \"Female Under 18 year\", \"yref\": \"y\"}, {\"font\": {\"color\": \"#000000\"}, \"showarrow\": false, \"text\": \"0.66\", \"x\": \"hospital_bed_count\", \"xref\": \"x\", \"y\": \"Female Under 18 year\", \"yref\": \"y\"}, {\"font\": {\"color\": \"#000000\"}, \"showarrow\": false, \"text\": \"0.92\", \"x\": \"hospital_count\", \"xref\": \"x\", \"y\": \"Female Under 18 year\", \"yref\": \"y\"}, {\"font\": {\"color\": \"#FFFFFF\"}, \"showarrow\": false, \"text\": \"0.04\", \"x\": \"hospitalbeds_per10000\", \"xref\": \"x\", \"y\": \"Female Under 18 year\", \"yref\": \"y\"}, {\"font\": {\"color\": \"#000000\"}, \"showarrow\": false, \"text\": \"0.46\", \"x\": \"cases\", \"xref\": \"x\", \"y\": \"Female Under 18 year\", \"yref\": \"y\"}, {\"font\": {\"color\": \"#000000\"}, \"showarrow\": false, \"text\": \"0.41\", \"x\": \"deaths\", \"xref\": \"x\", \"y\": \"Female Under 18 year\", \"yref\": \"y\"}, {\"font\": {\"color\": \"#FFFFFF\"}, \"showarrow\": false, \"text\": \"0.13\", \"x\": \"cases_per1000\", \"xref\": \"x\", \"y\": \"Female Under 18 year\", \"yref\": \"y\"}, {\"font\": {\"color\": \"#FFFFFF\"}, \"showarrow\": false, \"text\": \"0.12\", \"x\": \"deaths_per1000\", \"xref\": \"x\", \"y\": \"Female Under 18 year\", \"yref\": \"y\"}, {\"font\": {\"color\": \"#000000\"}, \"showarrow\": false, \"text\": \"0.99\", \"x\": \"Total\", \"xref\": \"x\", \"y\": \"Total 60 years and over\", \"yref\": \"y\"}, {\"font\": {\"color\": \"#000000\"}, \"showarrow\": false, \"text\": \"0.99\", \"x\": \"Male\", \"xref\": \"x\", \"y\": \"Total 60 years and over\", \"yref\": \"y\"}, {\"font\": {\"color\": \"#000000\"}, \"showarrow\": false, \"text\": \"0.99\", \"x\": \"Female\", \"xref\": \"x\", \"y\": \"Total 60 years and over\", \"yref\": \"y\"}, {\"font\": {\"color\": \"#000000\"}, \"showarrow\": false, \"text\": \"0.97\", \"x\": \"Total Under 18 year\", \"xref\": \"x\", \"y\": \"Total 60 years and over\", \"yref\": \"y\"}, {\"font\": {\"color\": \"#000000\"}, \"showarrow\": false, \"text\": \"0.97\", \"x\": \"Male Under 18 year\", \"xref\": \"x\", \"y\": \"Total 60 years and over\", \"yref\": \"y\"}, {\"font\": {\"color\": \"#000000\"}, \"showarrow\": false, \"text\": \"0.97\", \"x\": \"Female Under 18 year\", \"xref\": \"x\", \"y\": \"Total 60 years and over\", \"yref\": \"y\"}, {\"font\": {\"color\": \"#000000\"}, \"showarrow\": false, \"text\": \"1.0\", \"x\": \"Total 60 years and over\", \"xref\": \"x\", \"y\": \"Total 60 years and over\", \"yref\": \"y\"}, {\"font\": {\"color\": \"#000000\"}, \"showarrow\": false, \"text\": \"1.0\", \"x\": \"Male 60 years and over\", \"xref\": \"x\", \"y\": \"Total 60 years and over\", \"yref\": \"y\"}, {\"font\": {\"color\": \"#000000\"}, \"showarrow\": false, \"text\": \"1.0\", \"x\": \"Female 60 years and over\", \"xref\": \"x\", \"y\": \"Total 60 years and over\", \"yref\": \"y\"}, {\"font\": {\"color\": \"#FFFFFF\"}, \"showarrow\": false, \"text\": \"-0.03\", \"x\": \"Median age (years)\", \"xref\": \"x\", \"y\": \"Total 60 years and over\", \"yref\": \"y\"}, {\"font\": {\"color\": \"#FFFFFF\"}, \"showarrow\": false, \"text\": \"-0.11\", \"x\": \"Sex ratio (males per 100 females)\", \"xref\": \"x\", \"y\": \"Total 60 years and over\", \"yref\": \"y\"}, {\"font\": {\"color\": \"#FFFFFF\"}, \"showarrow\": false, \"text\": \"-0.1\", \"x\": \"Age dependency ratio\", \"xref\": \"x\", \"y\": \"Total 60 years and over\", \"yref\": \"y\"}, {\"font\": {\"color\": \"#FFFFFF\"}, \"showarrow\": false, \"text\": \"-0.06\", \"x\": \"Old-age dependency ratio\", \"xref\": \"x\", \"y\": \"Total 60 years and over\", \"yref\": \"y\"}, {\"font\": {\"color\": \"#FFFFFF\"}, \"showarrow\": false, \"text\": \"-0.07\", \"x\": \"Child dependency ratio\", \"xref\": \"x\", \"y\": \"Total 60 years and over\", \"yref\": \"y\"}, {\"font\": {\"color\": \"#FFFFFF\"}, \"showarrow\": false, \"text\": \"-0.03\", \"x\": \"percent_under18\", \"xref\": \"x\", \"y\": \"Total 60 years and over\", \"yref\": \"y\"}, {\"font\": {\"color\": \"#FFFFFF\"}, \"showarrow\": false, \"text\": \"-0.08\", \"x\": \"percent_over60\", \"xref\": \"x\", \"y\": \"Total 60 years and over\", \"yref\": \"y\"}, {\"font\": {\"color\": \"#000000\"}, \"showarrow\": false, \"text\": \"0.67\", \"x\": \"hospital_bed_count\", \"xref\": \"x\", \"y\": \"Total 60 years and over\", \"yref\": \"y\"}, {\"font\": {\"color\": \"#000000\"}, \"showarrow\": false, \"text\": \"0.89\", \"x\": \"hospital_count\", \"xref\": \"x\", \"y\": \"Total 60 years and over\", \"yref\": \"y\"}, {\"font\": {\"color\": \"#FFFFFF\"}, \"showarrow\": false, \"text\": \"0.05\", \"x\": \"hospitalbeds_per10000\", \"xref\": \"x\", \"y\": \"Total 60 years and over\", \"yref\": \"y\"}, {\"font\": {\"color\": \"#000000\"}, \"showarrow\": false, \"text\": \"0.51\", \"x\": \"cases\", \"xref\": \"x\", \"y\": \"Total 60 years and over\", \"yref\": \"y\"}, {\"font\": {\"color\": \"#000000\"}, \"showarrow\": false, \"text\": \"0.46\", \"x\": \"deaths\", \"xref\": \"x\", \"y\": \"Total 60 years and over\", \"yref\": \"y\"}, {\"font\": {\"color\": \"#FFFFFF\"}, \"showarrow\": false, \"text\": \"0.17\", \"x\": \"cases_per1000\", \"xref\": \"x\", \"y\": \"Total 60 years and over\", \"yref\": \"y\"}, {\"font\": {\"color\": \"#FFFFFF\"}, \"showarrow\": false, \"text\": \"0.15\", \"x\": \"deaths_per1000\", \"xref\": \"x\", \"y\": \"Total 60 years and over\", \"yref\": \"y\"}, {\"font\": {\"color\": \"#000000\"}, \"showarrow\": false, \"text\": \"0.99\", \"x\": \"Total\", \"xref\": \"x\", \"y\": \"Male 60 years and over\", \"yref\": \"y\"}, {\"font\": {\"color\": \"#000000\"}, \"showarrow\": false, \"text\": \"0.99\", \"x\": \"Male\", \"xref\": \"x\", \"y\": \"Male 60 years and over\", \"yref\": \"y\"}, {\"font\": {\"color\": \"#000000\"}, \"showarrow\": false, \"text\": \"0.99\", \"x\": \"Female\", \"xref\": \"x\", \"y\": \"Male 60 years and over\", \"yref\": \"y\"}, {\"font\": {\"color\": \"#000000\"}, \"showarrow\": false, \"text\": \"0.97\", \"x\": \"Total Under 18 year\", \"xref\": \"x\", \"y\": \"Male 60 years and over\", \"yref\": \"y\"}, {\"font\": {\"color\": \"#000000\"}, \"showarrow\": false, \"text\": \"0.97\", \"x\": \"Male Under 18 year\", \"xref\": \"x\", \"y\": \"Male 60 years and over\", \"yref\": \"y\"}, {\"font\": {\"color\": \"#000000\"}, \"showarrow\": false, \"text\": \"0.97\", \"x\": \"Female Under 18 year\", \"xref\": \"x\", \"y\": \"Male 60 years and over\", \"yref\": \"y\"}, {\"font\": {\"color\": \"#000000\"}, \"showarrow\": false, \"text\": \"1.0\", \"x\": \"Total 60 years and over\", \"xref\": \"x\", \"y\": \"Male 60 years and over\", \"yref\": \"y\"}, {\"font\": {\"color\": \"#000000\"}, \"showarrow\": false, \"text\": \"1.0\", \"x\": \"Male 60 years and over\", \"xref\": \"x\", \"y\": \"Male 60 years and over\", \"yref\": \"y\"}, {\"font\": {\"color\": \"#000000\"}, \"showarrow\": false, \"text\": \"1.0\", \"x\": \"Female 60 years and over\", \"xref\": \"x\", \"y\": \"Male 60 years and over\", \"yref\": \"y\"}, {\"font\": {\"color\": \"#FFFFFF\"}, \"showarrow\": false, \"text\": \"-0.02\", \"x\": \"Median age (years)\", \"xref\": \"x\", \"y\": \"Male 60 years and over\", \"yref\": \"y\"}, {\"font\": {\"color\": \"#FFFFFF\"}, \"showarrow\": false, \"text\": \"-0.11\", \"x\": \"Sex ratio (males per 100 females)\", \"xref\": \"x\", \"y\": \"Male 60 years and over\", \"yref\": \"y\"}, {\"font\": {\"color\": \"#FFFFFF\"}, \"showarrow\": false, \"text\": \"-0.09\", \"x\": \"Age dependency ratio\", \"xref\": \"x\", \"y\": \"Male 60 years and over\", \"yref\": \"y\"}, {\"font\": {\"color\": \"#FFFFFF\"}, \"showarrow\": false, \"text\": \"-0.06\", \"x\": \"Old-age dependency ratio\", \"xref\": \"x\", \"y\": \"Male 60 years and over\", \"yref\": \"y\"}, {\"font\": {\"color\": \"#FFFFFF\"}, \"showarrow\": false, \"text\": \"-0.07\", \"x\": \"Child dependency ratio\", \"xref\": \"x\", \"y\": \"Male 60 years and over\", \"yref\": \"y\"}, {\"font\": {\"color\": \"#FFFFFF\"}, \"showarrow\": false, \"text\": \"-0.03\", \"x\": \"percent_under18\", \"xref\": \"x\", \"y\": \"Male 60 years and over\", \"yref\": \"y\"}, {\"font\": {\"color\": \"#FFFFFF\"}, \"showarrow\": false, \"text\": \"-0.07\", \"x\": \"percent_over60\", \"xref\": \"x\", \"y\": \"Male 60 years and over\", \"yref\": \"y\"}, {\"font\": {\"color\": \"#000000\"}, \"showarrow\": false, \"text\": \"0.66\", \"x\": \"hospital_bed_count\", \"xref\": \"x\", \"y\": \"Male 60 years and over\", \"yref\": \"y\"}, {\"font\": {\"color\": \"#000000\"}, \"showarrow\": false, \"text\": \"0.89\", \"x\": \"hospital_count\", \"xref\": \"x\", \"y\": \"Male 60 years and over\", \"yref\": \"y\"}, {\"font\": {\"color\": \"#FFFFFF\"}, \"showarrow\": false, \"text\": \"0.04\", \"x\": \"hospitalbeds_per10000\", \"xref\": \"x\", \"y\": \"Male 60 years and over\", \"yref\": \"y\"}, {\"font\": {\"color\": \"#000000\"}, \"showarrow\": false, \"text\": \"0.5\", \"x\": \"cases\", \"xref\": \"x\", \"y\": \"Male 60 years and over\", \"yref\": \"y\"}, {\"font\": {\"color\": \"#000000\"}, \"showarrow\": false, \"text\": \"0.45\", \"x\": \"deaths\", \"xref\": \"x\", \"y\": \"Male 60 years and over\", \"yref\": \"y\"}, {\"font\": {\"color\": \"#FFFFFF\"}, \"showarrow\": false, \"text\": \"0.16\", \"x\": \"cases_per1000\", \"xref\": \"x\", \"y\": \"Male 60 years and over\", \"yref\": \"y\"}, {\"font\": {\"color\": \"#FFFFFF\"}, \"showarrow\": false, \"text\": \"0.15\", \"x\": \"deaths_per1000\", \"xref\": \"x\", \"y\": \"Male 60 years and over\", \"yref\": \"y\"}, {\"font\": {\"color\": \"#000000\"}, \"showarrow\": false, \"text\": \"0.99\", \"x\": \"Total\", \"xref\": \"x\", \"y\": \"Female 60 years and over\", \"yref\": \"y\"}, {\"font\": {\"color\": \"#000000\"}, \"showarrow\": false, \"text\": \"0.98\", \"x\": \"Male\", \"xref\": \"x\", \"y\": \"Female 60 years and over\", \"yref\": \"y\"}, {\"font\": {\"color\": \"#000000\"}, \"showarrow\": false, \"text\": \"0.99\", \"x\": \"Female\", \"xref\": \"x\", \"y\": \"Female 60 years and over\", \"yref\": \"y\"}, {\"font\": {\"color\": \"#000000\"}, \"showarrow\": false, \"text\": \"0.97\", \"x\": \"Total Under 18 year\", \"xref\": \"x\", \"y\": \"Female 60 years and over\", \"yref\": \"y\"}, {\"font\": {\"color\": \"#000000\"}, \"showarrow\": false, \"text\": \"0.97\", \"x\": \"Male Under 18 year\", \"xref\": \"x\", \"y\": \"Female 60 years and over\", \"yref\": \"y\"}, {\"font\": {\"color\": \"#000000\"}, \"showarrow\": false, \"text\": \"0.97\", \"x\": \"Female Under 18 year\", \"xref\": \"x\", \"y\": \"Female 60 years and over\", \"yref\": \"y\"}, {\"font\": {\"color\": \"#000000\"}, \"showarrow\": false, \"text\": \"1.0\", \"x\": \"Total 60 years and over\", \"xref\": \"x\", \"y\": \"Female 60 years and over\", \"yref\": \"y\"}, {\"font\": {\"color\": \"#000000\"}, \"showarrow\": false, \"text\": \"1.0\", \"x\": \"Male 60 years and over\", \"xref\": \"x\", \"y\": \"Female 60 years and over\", \"yref\": \"y\"}, {\"font\": {\"color\": \"#000000\"}, \"showarrow\": false, \"text\": \"1.0\", \"x\": \"Female 60 years and over\", \"xref\": \"x\", \"y\": \"Female 60 years and over\", \"yref\": \"y\"}, {\"font\": {\"color\": \"#FFFFFF\"}, \"showarrow\": false, \"text\": \"-0.03\", \"x\": \"Median age (years)\", \"xref\": \"x\", \"y\": \"Female 60 years and over\", \"yref\": \"y\"}, {\"font\": {\"color\": \"#FFFFFF\"}, \"showarrow\": false, \"text\": \"-0.12\", \"x\": \"Sex ratio (males per 100 females)\", \"xref\": \"x\", \"y\": \"Female 60 years and over\", \"yref\": \"y\"}, {\"font\": {\"color\": \"#FFFFFF\"}, \"showarrow\": false, \"text\": \"-0.1\", \"x\": \"Age dependency ratio\", \"xref\": \"x\", \"y\": \"Female 60 years and over\", \"yref\": \"y\"}, {\"font\": {\"color\": \"#FFFFFF\"}, \"showarrow\": false, \"text\": \"-0.07\", \"x\": \"Old-age dependency ratio\", \"xref\": \"x\", \"y\": \"Female 60 years and over\", \"yref\": \"y\"}, {\"font\": {\"color\": \"#FFFFFF\"}, \"showarrow\": false, \"text\": \"-0.07\", \"x\": \"Child dependency ratio\", \"xref\": \"x\", \"y\": \"Female 60 years and over\", \"yref\": \"y\"}, {\"font\": {\"color\": \"#FFFFFF\"}, \"showarrow\": false, \"text\": \"-0.03\", \"x\": \"percent_under18\", \"xref\": \"x\", \"y\": \"Female 60 years and over\", \"yref\": \"y\"}, {\"font\": {\"color\": \"#FFFFFF\"}, \"showarrow\": false, \"text\": \"-0.08\", \"x\": \"percent_over60\", \"xref\": \"x\", \"y\": \"Female 60 years and over\", \"yref\": \"y\"}, {\"font\": {\"color\": \"#000000\"}, \"showarrow\": false, \"text\": \"0.67\", \"x\": \"hospital_bed_count\", \"xref\": \"x\", \"y\": \"Female 60 years and over\", \"yref\": \"y\"}, {\"font\": {\"color\": \"#000000\"}, \"showarrow\": false, \"text\": \"0.89\", \"x\": \"hospital_count\", \"xref\": \"x\", \"y\": \"Female 60 years and over\", \"yref\": \"y\"}, {\"font\": {\"color\": \"#FFFFFF\"}, \"showarrow\": false, \"text\": \"0.05\", \"x\": \"hospitalbeds_per10000\", \"xref\": \"x\", \"y\": \"Female 60 years and over\", \"yref\": \"y\"}, {\"font\": {\"color\": \"#000000\"}, \"showarrow\": false, \"text\": \"0.52\", \"x\": \"cases\", \"xref\": \"x\", \"y\": \"Female 60 years and over\", \"yref\": \"y\"}, {\"font\": {\"color\": \"#000000\"}, \"showarrow\": false, \"text\": \"0.46\", \"x\": \"deaths\", \"xref\": \"x\", \"y\": \"Female 60 years and over\", \"yref\": \"y\"}, {\"font\": {\"color\": \"#FFFFFF\"}, \"showarrow\": false, \"text\": \"0.17\", \"x\": \"cases_per1000\", \"xref\": \"x\", \"y\": \"Female 60 years and over\", \"yref\": \"y\"}, {\"font\": {\"color\": \"#FFFFFF\"}, \"showarrow\": false, \"text\": \"0.16\", \"x\": \"deaths_per1000\", \"xref\": \"x\", \"y\": \"Female 60 years and over\", \"yref\": \"y\"}, {\"font\": {\"color\": \"#FFFFFF\"}, \"showarrow\": false, \"text\": \"-0.12\", \"x\": \"Total\", \"xref\": \"x\", \"y\": \"Median age (years)\", \"yref\": \"y\"}, {\"font\": {\"color\": \"#FFFFFF\"}, \"showarrow\": false, \"text\": \"-0.12\", \"x\": \"Male\", \"xref\": \"x\", \"y\": \"Median age (years)\", \"yref\": \"y\"}, {\"font\": {\"color\": \"#FFFFFF\"}, \"showarrow\": false, \"text\": \"-0.12\", \"x\": \"Female\", \"xref\": \"x\", \"y\": \"Median age (years)\", \"yref\": \"y\"}, {\"font\": {\"color\": \"#FFFFFF\"}, \"showarrow\": false, \"text\": \"-0.15\", \"x\": \"Total Under 18 year\", \"xref\": \"x\", \"y\": \"Median age (years)\", \"yref\": \"y\"}, {\"font\": {\"color\": \"#FFFFFF\"}, \"showarrow\": false, \"text\": \"-0.15\", \"x\": \"Male Under 18 year\", \"xref\": \"x\", \"y\": \"Median age (years)\", \"yref\": \"y\"}, {\"font\": {\"color\": \"#FFFFFF\"}, \"showarrow\": false, \"text\": \"-0.15\", \"x\": \"Female Under 18 year\", \"xref\": \"x\", \"y\": \"Median age (years)\", \"yref\": \"y\"}, {\"font\": {\"color\": \"#FFFFFF\"}, \"showarrow\": false, \"text\": \"-0.03\", \"x\": \"Total 60 years and over\", \"xref\": \"x\", \"y\": \"Median age (years)\", \"yref\": \"y\"}, {\"font\": {\"color\": \"#FFFFFF\"}, \"showarrow\": false, \"text\": \"-0.02\", \"x\": \"Male 60 years and over\", \"xref\": \"x\", \"y\": \"Median age (years)\", \"yref\": \"y\"}, {\"font\": {\"color\": \"#FFFFFF\"}, \"showarrow\": false, \"text\": \"-0.03\", \"x\": \"Female 60 years and over\", \"xref\": \"x\", \"y\": \"Median age (years)\", \"yref\": \"y\"}, {\"font\": {\"color\": \"#000000\"}, \"showarrow\": false, \"text\": \"1.0\", \"x\": \"Median age (years)\", \"xref\": \"x\", \"y\": \"Median age (years)\", \"yref\": \"y\"}, {\"font\": {\"color\": \"#FFFFFF\"}, \"showarrow\": false, \"text\": \"-0.16\", \"x\": \"Sex ratio (males per 100 females)\", \"xref\": \"x\", \"y\": \"Median age (years)\", \"yref\": \"y\"}, {\"font\": {\"color\": \"#000000\"}, \"showarrow\": false, \"text\": \"0.66\", \"x\": \"Age dependency ratio\", \"xref\": \"x\", \"y\": \"Median age (years)\", \"yref\": \"y\"}, {\"font\": {\"color\": \"#000000\"}, \"showarrow\": false, \"text\": \"0.85\", \"x\": \"Old-age dependency ratio\", \"xref\": \"x\", \"y\": \"Median age (years)\", \"yref\": \"y\"}, {\"font\": {\"color\": \"#FFFFFF\"}, \"showarrow\": false, \"text\": \"-0.29\", \"x\": \"Child dependency ratio\", \"xref\": \"x\", \"y\": \"Median age (years)\", \"yref\": \"y\"}, {\"font\": {\"color\": \"#FFFFFF\"}, \"showarrow\": false, \"text\": \"-0.53\", \"x\": \"percent_under18\", \"xref\": \"x\", \"y\": \"Median age (years)\", \"yref\": \"y\"}, {\"font\": {\"color\": \"#000000\"}, \"showarrow\": false, \"text\": \"0.91\", \"x\": \"percent_over60\", \"xref\": \"x\", \"y\": \"Median age (years)\", \"yref\": \"y\"}, {\"font\": {\"color\": \"#FFFFFF\"}, \"showarrow\": false, \"text\": \"-0.04\", \"x\": \"hospital_bed_count\", \"xref\": \"x\", \"y\": \"Median age (years)\", \"yref\": \"y\"}, {\"font\": {\"color\": \"#FFFFFF\"}, \"showarrow\": false, \"text\": \"-0.16\", \"x\": \"hospital_count\", \"xref\": \"x\", \"y\": \"Median age (years)\", \"yref\": \"y\"}, {\"font\": {\"color\": \"#FFFFFF\"}, \"showarrow\": false, \"text\": \"0.0\", \"x\": \"hospitalbeds_per10000\", \"xref\": \"x\", \"y\": \"Median age (years)\", \"yref\": \"y\"}, {\"font\": {\"color\": \"#FFFFFF\"}, \"showarrow\": false, \"text\": \"-0.01\", \"x\": \"cases\", \"xref\": \"x\", \"y\": \"Median age (years)\", \"yref\": \"y\"}, {\"font\": {\"color\": \"#FFFFFF\"}, \"showarrow\": false, \"text\": \"0.01\", \"x\": \"deaths\", \"xref\": \"x\", \"y\": \"Median age (years)\", \"yref\": \"y\"}, {\"font\": {\"color\": \"#FFFFFF\"}, \"showarrow\": false, \"text\": \"0.02\", \"x\": \"cases_per1000\", \"xref\": \"x\", \"y\": \"Median age (years)\", \"yref\": \"y\"}, {\"font\": {\"color\": \"#FFFFFF\"}, \"showarrow\": false, \"text\": \"0.05\", \"x\": \"deaths_per1000\", \"xref\": \"x\", \"y\": \"Median age (years)\", \"yref\": \"y\"}, {\"font\": {\"color\": \"#FFFFFF\"}, \"showarrow\": false, \"text\": \"-0.08\", \"x\": \"Total\", \"xref\": \"x\", \"y\": \"Sex ratio (males per 100 females)\", \"yref\": \"y\"}, {\"font\": {\"color\": \"#FFFFFF\"}, \"showarrow\": false, \"text\": \"-0.08\", \"x\": \"Male\", \"xref\": \"x\", \"y\": \"Sex ratio (males per 100 females)\", \"yref\": \"y\"}, {\"font\": {\"color\": \"#FFFFFF\"}, \"showarrow\": false, \"text\": \"-0.09\", \"x\": \"Female\", \"xref\": \"x\", \"y\": \"Sex ratio (males per 100 females)\", \"yref\": \"y\"}, {\"font\": {\"color\": \"#FFFFFF\"}, \"showarrow\": false, \"text\": \"-0.07\", \"x\": \"Total Under 18 year\", \"xref\": \"x\", \"y\": \"Sex ratio (males per 100 females)\", \"yref\": \"y\"}, {\"font\": {\"color\": \"#FFFFFF\"}, \"showarrow\": false, \"text\": \"-0.07\", \"x\": \"Male Under 18 year\", \"xref\": \"x\", \"y\": \"Sex ratio (males per 100 females)\", \"yref\": \"y\"}, {\"font\": {\"color\": \"#FFFFFF\"}, \"showarrow\": false, \"text\": \"-0.08\", \"x\": \"Female Under 18 year\", \"xref\": \"x\", \"y\": \"Sex ratio (males per 100 females)\", \"yref\": \"y\"}, {\"font\": {\"color\": \"#FFFFFF\"}, \"showarrow\": false, \"text\": \"-0.11\", \"x\": \"Total 60 years and over\", \"xref\": \"x\", \"y\": \"Sex ratio (males per 100 females)\", \"yref\": \"y\"}, {\"font\": {\"color\": \"#FFFFFF\"}, \"showarrow\": false, \"text\": \"-0.11\", \"x\": \"Male 60 years and over\", \"xref\": \"x\", \"y\": \"Sex ratio (males per 100 females)\", \"yref\": \"y\"}, {\"font\": {\"color\": \"#FFFFFF\"}, \"showarrow\": false, \"text\": \"-0.12\", \"x\": \"Female 60 years and over\", \"xref\": \"x\", \"y\": \"Sex ratio (males per 100 females)\", \"yref\": \"y\"}, {\"font\": {\"color\": \"#FFFFFF\"}, \"showarrow\": false, \"text\": \"-0.16\", \"x\": \"Median age (years)\", \"xref\": \"x\", \"y\": \"Sex ratio (males per 100 females)\", \"yref\": \"y\"}, {\"font\": {\"color\": \"#000000\"}, \"showarrow\": false, \"text\": \"1.0\", \"x\": \"Sex ratio (males per 100 females)\", \"xref\": \"x\", \"y\": \"Sex ratio (males per 100 females)\", \"yref\": \"y\"}, {\"font\": {\"color\": \"#FFFFFF\"}, \"showarrow\": false, \"text\": \"-0.13\", \"x\": \"Age dependency ratio\", \"xref\": \"x\", \"y\": \"Sex ratio (males per 100 females)\", \"yref\": \"y\"}, {\"font\": {\"color\": \"#FFFFFF\"}, \"showarrow\": false, \"text\": \"-0.15\", \"x\": \"Old-age dependency ratio\", \"xref\": \"x\", \"y\": \"Sex ratio (males per 100 females)\", \"yref\": \"y\"}, {\"font\": {\"color\": \"#FFFFFF\"}, \"showarrow\": false, \"text\": \"0.02\", \"x\": \"Child dependency ratio\", \"xref\": \"x\", \"y\": \"Sex ratio (males per 100 females)\", \"yref\": \"y\"}, {\"font\": {\"color\": \"#FFFFFF\"}, \"showarrow\": false, \"text\": \"0.07\", \"x\": \"percent_under18\", \"xref\": \"x\", \"y\": \"Sex ratio (males per 100 females)\", \"yref\": \"y\"}, {\"font\": {\"color\": \"#FFFFFF\"}, \"showarrow\": false, \"text\": \"-0.16\", \"x\": \"percent_over60\", \"xref\": \"x\", \"y\": \"Sex ratio (males per 100 females)\", \"yref\": \"y\"}, {\"font\": {\"color\": \"#FFFFFF\"}, \"showarrow\": false, \"text\": \"-0.12\", \"x\": \"hospital_bed_count\", \"xref\": \"x\", \"y\": \"Sex ratio (males per 100 females)\", \"yref\": \"y\"}, {\"font\": {\"color\": \"#FFFFFF\"}, \"showarrow\": false, \"text\": \"-0.1\", \"x\": \"hospital_count\", \"xref\": \"x\", \"y\": \"Sex ratio (males per 100 females)\", \"yref\": \"y\"}, {\"font\": {\"color\": \"#FFFFFF\"}, \"showarrow\": false, \"text\": \"-0.08\", \"x\": \"hospitalbeds_per10000\", \"xref\": \"x\", \"y\": \"Sex ratio (males per 100 females)\", \"yref\": \"y\"}, {\"font\": {\"color\": \"#FFFFFF\"}, \"showarrow\": false, \"text\": \"-0.1\", \"x\": \"cases\", \"xref\": \"x\", \"y\": \"Sex ratio (males per 100 females)\", \"yref\": \"y\"}, {\"font\": {\"color\": \"#FFFFFF\"}, \"showarrow\": false, \"text\": \"-0.11\", \"x\": \"deaths\", \"xref\": \"x\", \"y\": \"Sex ratio (males per 100 females)\", \"yref\": \"y\"}, {\"font\": {\"color\": \"#FFFFFF\"}, \"showarrow\": false, \"text\": \"-0.13\", \"x\": \"cases_per1000\", \"xref\": \"x\", \"y\": \"Sex ratio (males per 100 females)\", \"yref\": \"y\"}, {\"font\": {\"color\": \"#FFFFFF\"}, \"showarrow\": false, \"text\": \"-0.17\", \"x\": \"deaths_per1000\", \"xref\": \"x\", \"y\": \"Sex ratio (males per 100 females)\", \"yref\": \"y\"}, {\"font\": {\"color\": \"#FFFFFF\"}, \"showarrow\": false, \"text\": \"-0.16\", \"x\": \"Total\", \"xref\": \"x\", \"y\": \"Age dependency ratio\", \"yref\": \"y\"}, {\"font\": {\"color\": \"#FFFFFF\"}, \"showarrow\": false, \"text\": \"-0.16\", \"x\": \"Male\", \"xref\": \"x\", \"y\": \"Age dependency ratio\", \"yref\": \"y\"}, {\"font\": {\"color\": \"#FFFFFF\"}, \"showarrow\": false, \"text\": \"-0.16\", \"x\": \"Female\", \"xref\": \"x\", \"y\": \"Age dependency ratio\", \"yref\": \"y\"}, {\"font\": {\"color\": \"#FFFFFF\"}, \"showarrow\": false, \"text\": \"-0.15\", \"x\": \"Total Under 18 year\", \"xref\": \"x\", \"y\": \"Age dependency ratio\", \"yref\": \"y\"}, {\"font\": {\"color\": \"#FFFFFF\"}, \"showarrow\": false, \"text\": \"-0.15\", \"x\": \"Male Under 18 year\", \"xref\": \"x\", \"y\": \"Age dependency ratio\", \"yref\": \"y\"}, {\"font\": {\"color\": \"#FFFFFF\"}, \"showarrow\": false, \"text\": \"-0.15\", \"x\": \"Female Under 18 year\", \"xref\": \"x\", \"y\": \"Age dependency ratio\", \"yref\": \"y\"}, {\"font\": {\"color\": \"#FFFFFF\"}, \"showarrow\": false, \"text\": \"-0.1\", \"x\": \"Total 60 years and over\", \"xref\": \"x\", \"y\": \"Age dependency ratio\", \"yref\": \"y\"}, {\"font\": {\"color\": \"#FFFFFF\"}, \"showarrow\": false, \"text\": \"-0.09\", \"x\": \"Male 60 years and over\", \"xref\": \"x\", \"y\": \"Age dependency ratio\", \"yref\": \"y\"}, {\"font\": {\"color\": \"#FFFFFF\"}, \"showarrow\": false, \"text\": \"-0.1\", \"x\": \"Female 60 years and over\", \"xref\": \"x\", \"y\": \"Age dependency ratio\", \"yref\": \"y\"}, {\"font\": {\"color\": \"#000000\"}, \"showarrow\": false, \"text\": \"0.66\", \"x\": \"Median age (years)\", \"xref\": \"x\", \"y\": \"Age dependency ratio\", \"yref\": \"y\"}, {\"font\": {\"color\": \"#FFFFFF\"}, \"showarrow\": false, \"text\": \"-0.13\", \"x\": \"Sex ratio (males per 100 females)\", \"xref\": \"x\", \"y\": \"Age dependency ratio\", \"yref\": \"y\"}, {\"font\": {\"color\": \"#000000\"}, \"showarrow\": false, \"text\": \"1.0\", \"x\": \"Age dependency ratio\", \"xref\": \"x\", \"y\": \"Age dependency ratio\", \"yref\": \"y\"}, {\"font\": {\"color\": \"#000000\"}, \"showarrow\": false, \"text\": \"0.83\", \"x\": \"Old-age dependency ratio\", \"xref\": \"x\", \"y\": \"Age dependency ratio\", \"yref\": \"y\"}, {\"font\": {\"color\": \"#000000\"}, \"showarrow\": false, \"text\": \"0.34\", \"x\": \"Child dependency ratio\", \"xref\": \"x\", \"y\": \"Age dependency ratio\", \"yref\": \"y\"}, {\"font\": {\"color\": \"#FFFFFF\"}, \"showarrow\": false, \"text\": \"0.04\", \"x\": \"percent_under18\", \"xref\": \"x\", \"y\": \"Age dependency ratio\", \"yref\": \"y\"}, {\"font\": {\"color\": \"#000000\"}, \"showarrow\": false, \"text\": \"0.72\", \"x\": \"percent_over60\", \"xref\": \"x\", \"y\": \"Age dependency ratio\", \"yref\": \"y\"}, {\"font\": {\"color\": \"#FFFFFF\"}, \"showarrow\": false, \"text\": \"-0.1\", \"x\": \"hospital_bed_count\", \"xref\": \"x\", \"y\": \"Age dependency ratio\", \"yref\": \"y\"}, {\"font\": {\"color\": \"#FFFFFF\"}, \"showarrow\": false, \"text\": \"-0.16\", \"x\": \"hospital_count\", \"xref\": \"x\", \"y\": \"Age dependency ratio\", \"yref\": \"y\"}, {\"font\": {\"color\": \"#FFFFFF\"}, \"showarrow\": false, \"text\": \"-0.04\", \"x\": \"hospitalbeds_per10000\", \"xref\": \"x\", \"y\": \"Age dependency ratio\", \"yref\": \"y\"}, {\"font\": {\"color\": \"#FFFFFF\"}, \"showarrow\": false, \"text\": \"-0.1\", \"x\": \"cases\", \"xref\": \"x\", \"y\": \"Age dependency ratio\", \"yref\": \"y\"}, {\"font\": {\"color\": \"#FFFFFF\"}, \"showarrow\": false, \"text\": \"-0.08\", \"x\": \"deaths\", \"xref\": \"x\", \"y\": \"Age dependency ratio\", \"yref\": \"y\"}, {\"font\": {\"color\": \"#FFFFFF\"}, \"showarrow\": false, \"text\": \"-0.06\", \"x\": \"cases_per1000\", \"xref\": \"x\", \"y\": \"Age dependency ratio\", \"yref\": \"y\"}, {\"font\": {\"color\": \"#FFFFFF\"}, \"showarrow\": false, \"text\": \"-0.03\", \"x\": \"deaths_per1000\", \"xref\": \"x\", \"y\": \"Age dependency ratio\", \"yref\": \"y\"}, {\"font\": {\"color\": \"#FFFFFF\"}, \"showarrow\": false, \"text\": \"-0.15\", \"x\": \"Total\", \"xref\": \"x\", \"y\": \"Old-age dependency ratio\", \"yref\": \"y\"}, {\"font\": {\"color\": \"#FFFFFF\"}, \"showarrow\": false, \"text\": \"-0.15\", \"x\": \"Male\", \"xref\": \"x\", \"y\": \"Old-age dependency ratio\", \"yref\": \"y\"}, {\"font\": {\"color\": \"#FFFFFF\"}, \"showarrow\": false, \"text\": \"-0.15\", \"x\": \"Female\", \"xref\": \"x\", \"y\": \"Old-age dependency ratio\", \"yref\": \"y\"}, {\"font\": {\"color\": \"#FFFFFF\"}, \"showarrow\": false, \"text\": \"-0.18\", \"x\": \"Total Under 18 year\", \"xref\": \"x\", \"y\": \"Old-age dependency ratio\", \"yref\": \"y\"}, {\"font\": {\"color\": \"#FFFFFF\"}, \"showarrow\": false, \"text\": \"-0.18\", \"x\": \"Male Under 18 year\", \"xref\": \"x\", \"y\": \"Old-age dependency ratio\", \"yref\": \"y\"}, {\"font\": {\"color\": \"#FFFFFF\"}, \"showarrow\": false, \"text\": \"-0.18\", \"x\": \"Female Under 18 year\", \"xref\": \"x\", \"y\": \"Old-age dependency ratio\", \"yref\": \"y\"}, {\"font\": {\"color\": \"#FFFFFF\"}, \"showarrow\": false, \"text\": \"-0.06\", \"x\": \"Total 60 years and over\", \"xref\": \"x\", \"y\": \"Old-age dependency ratio\", \"yref\": \"y\"}, {\"font\": {\"color\": \"#FFFFFF\"}, \"showarrow\": false, \"text\": \"-0.06\", \"x\": \"Male 60 years and over\", \"xref\": \"x\", \"y\": \"Old-age dependency ratio\", \"yref\": \"y\"}, {\"font\": {\"color\": \"#FFFFFF\"}, \"showarrow\": false, \"text\": \"-0.07\", \"x\": \"Female 60 years and over\", \"xref\": \"x\", \"y\": \"Old-age dependency ratio\", \"yref\": \"y\"}, {\"font\": {\"color\": \"#000000\"}, \"showarrow\": false, \"text\": \"0.85\", \"x\": \"Median age (years)\", \"xref\": \"x\", \"y\": \"Old-age dependency ratio\", \"yref\": \"y\"}, {\"font\": {\"color\": \"#FFFFFF\"}, \"showarrow\": false, \"text\": \"-0.15\", \"x\": \"Sex ratio (males per 100 females)\", \"xref\": \"x\", \"y\": \"Old-age dependency ratio\", \"yref\": \"y\"}, {\"font\": {\"color\": \"#000000\"}, \"showarrow\": false, \"text\": \"0.83\", \"x\": \"Age dependency ratio\", \"xref\": \"x\", \"y\": \"Old-age dependency ratio\", \"yref\": \"y\"}, {\"font\": {\"color\": \"#000000\"}, \"showarrow\": false, \"text\": \"1.0\", \"x\": \"Old-age dependency ratio\", \"xref\": \"x\", \"y\": \"Old-age dependency ratio\", \"yref\": \"y\"}, {\"font\": {\"color\": \"#FFFFFF\"}, \"showarrow\": false, \"text\": \"-0.24\", \"x\": \"Child dependency ratio\", \"xref\": \"x\", \"y\": \"Old-age dependency ratio\", \"yref\": \"y\"}, {\"font\": {\"color\": \"#FFFFFF\"}, \"showarrow\": false, \"text\": \"-0.52\", \"x\": \"percent_under18\", \"xref\": \"x\", \"y\": \"Old-age dependency ratio\", \"yref\": \"y\"}, {\"font\": {\"color\": \"#000000\"}, \"showarrow\": false, \"text\": \"0.95\", \"x\": \"percent_over60\", \"xref\": \"x\", \"y\": \"Old-age dependency ratio\", \"yref\": \"y\"}, {\"font\": {\"color\": \"#FFFFFF\"}, \"showarrow\": false, \"text\": \"-0.06\", \"x\": \"hospital_bed_count\", \"xref\": \"x\", \"y\": \"Old-age dependency ratio\", \"yref\": \"y\"}, {\"font\": {\"color\": \"#FFFFFF\"}, \"showarrow\": false, \"text\": \"-0.16\", \"x\": \"hospital_count\", \"xref\": \"x\", \"y\": \"Old-age dependency ratio\", \"yref\": \"y\"}, {\"font\": {\"color\": \"#FFFFFF\"}, \"showarrow\": false, \"text\": \"0.01\", \"x\": \"hospitalbeds_per10000\", \"xref\": \"x\", \"y\": \"Old-age dependency ratio\", \"yref\": \"y\"}, {\"font\": {\"color\": \"#FFFFFF\"}, \"showarrow\": false, \"text\": \"-0.07\", \"x\": \"cases\", \"xref\": \"x\", \"y\": \"Old-age dependency ratio\", \"yref\": \"y\"}, {\"font\": {\"color\": \"#FFFFFF\"}, \"showarrow\": false, \"text\": \"-0.05\", \"x\": \"deaths\", \"xref\": \"x\", \"y\": \"Old-age dependency ratio\", \"yref\": \"y\"}, {\"font\": {\"color\": \"#FFFFFF\"}, \"showarrow\": false, \"text\": \"-0.05\", \"x\": \"cases_per1000\", \"xref\": \"x\", \"y\": \"Old-age dependency ratio\", \"yref\": \"y\"}, {\"font\": {\"color\": \"#FFFFFF\"}, \"showarrow\": false, \"text\": \"-0.01\", \"x\": \"deaths_per1000\", \"xref\": \"x\", \"y\": \"Old-age dependency ratio\", \"yref\": \"y\"}, {\"font\": {\"color\": \"#FFFFFF\"}, \"showarrow\": false, \"text\": \"-0.02\", \"x\": \"Total\", \"xref\": \"x\", \"y\": \"Child dependency ratio\", \"yref\": \"y\"}, {\"font\": {\"color\": \"#FFFFFF\"}, \"showarrow\": false, \"text\": \"-0.02\", \"x\": \"Male\", \"xref\": \"x\", \"y\": \"Child dependency ratio\", \"yref\": \"y\"}, {\"font\": {\"color\": \"#FFFFFF\"}, \"showarrow\": false, \"text\": \"-0.02\", \"x\": \"Female\", \"xref\": \"x\", \"y\": \"Child dependency ratio\", \"yref\": \"y\"}, {\"font\": {\"color\": \"#FFFFFF\"}, \"showarrow\": false, \"text\": \"0.05\", \"x\": \"Total Under 18 year\", \"xref\": \"x\", \"y\": \"Child dependency ratio\", \"yref\": \"y\"}, {\"font\": {\"color\": \"#FFFFFF\"}, \"showarrow\": false, \"text\": \"0.05\", \"x\": \"Male Under 18 year\", \"xref\": \"x\", \"y\": \"Child dependency ratio\", \"yref\": \"y\"}, {\"font\": {\"color\": \"#FFFFFF\"}, \"showarrow\": false, \"text\": \"0.04\", \"x\": \"Female Under 18 year\", \"xref\": \"x\", \"y\": \"Child dependency ratio\", \"yref\": \"y\"}, {\"font\": {\"color\": \"#FFFFFF\"}, \"showarrow\": false, \"text\": \"-0.07\", \"x\": \"Total 60 years and over\", \"xref\": \"x\", \"y\": \"Child dependency ratio\", \"yref\": \"y\"}, {\"font\": {\"color\": \"#FFFFFF\"}, \"showarrow\": false, \"text\": \"-0.07\", \"x\": \"Male 60 years and over\", \"xref\": \"x\", \"y\": \"Child dependency ratio\", \"yref\": \"y\"}, {\"font\": {\"color\": \"#FFFFFF\"}, \"showarrow\": false, \"text\": \"-0.07\", \"x\": \"Female 60 years and over\", \"xref\": \"x\", \"y\": \"Child dependency ratio\", \"yref\": \"y\"}, {\"font\": {\"color\": \"#FFFFFF\"}, \"showarrow\": false, \"text\": \"-0.29\", \"x\": \"Median age (years)\", \"xref\": \"x\", \"y\": \"Child dependency ratio\", \"yref\": \"y\"}, {\"font\": {\"color\": \"#FFFFFF\"}, \"showarrow\": false, \"text\": \"0.02\", \"x\": \"Sex ratio (males per 100 females)\", \"xref\": \"x\", \"y\": \"Child dependency ratio\", \"yref\": \"y\"}, {\"font\": {\"color\": \"#000000\"}, \"showarrow\": false, \"text\": \"0.34\", \"x\": \"Age dependency ratio\", \"xref\": \"x\", \"y\": \"Child dependency ratio\", \"yref\": \"y\"}, {\"font\": {\"color\": \"#FFFFFF\"}, \"showarrow\": false, \"text\": \"-0.24\", \"x\": \"Old-age dependency ratio\", \"xref\": \"x\", \"y\": \"Child dependency ratio\", \"yref\": \"y\"}, {\"font\": {\"color\": \"#000000\"}, \"showarrow\": false, \"text\": \"1.0\", \"x\": \"Child dependency ratio\", \"xref\": \"x\", \"y\": \"Child dependency ratio\", \"yref\": \"y\"}, {\"font\": {\"color\": \"#000000\"}, \"showarrow\": false, \"text\": \"0.95\", \"x\": \"percent_under18\", \"xref\": \"x\", \"y\": \"Child dependency ratio\", \"yref\": \"y\"}, {\"font\": {\"color\": \"#FFFFFF\"}, \"showarrow\": false, \"text\": \"-0.36\", \"x\": \"percent_over60\", \"xref\": \"x\", \"y\": \"Child dependency ratio\", \"yref\": \"y\"}, {\"font\": {\"color\": \"#FFFFFF\"}, \"showarrow\": false, \"text\": \"-0.07\", \"x\": \"hospital_bed_count\", \"xref\": \"x\", \"y\": \"Child dependency ratio\", \"yref\": \"y\"}, {\"font\": {\"color\": \"#FFFFFF\"}, \"showarrow\": false, \"text\": \"-0.01\", \"x\": \"hospital_count\", \"xref\": \"x\", \"y\": \"Child dependency ratio\", \"yref\": \"y\"}, {\"font\": {\"color\": \"#FFFFFF\"}, \"showarrow\": false, \"text\": \"-0.09\", \"x\": \"hospitalbeds_per10000\", \"xref\": \"x\", \"y\": \"Child dependency ratio\", \"yref\": \"y\"}, {\"font\": {\"color\": \"#FFFFFF\"}, \"showarrow\": false, \"text\": \"-0.05\", \"x\": \"cases\", \"xref\": \"x\", \"y\": \"Child dependency ratio\", \"yref\": \"y\"}, {\"font\": {\"color\": \"#FFFFFF\"}, \"showarrow\": false, \"text\": \"-0.05\", \"x\": \"deaths\", \"xref\": \"x\", \"y\": \"Child dependency ratio\", \"yref\": \"y\"}, {\"font\": {\"color\": \"#FFFFFF\"}, \"showarrow\": false, \"text\": \"-0.02\", \"x\": \"cases_per1000\", \"xref\": \"x\", \"y\": \"Child dependency ratio\", \"yref\": \"y\"}, {\"font\": {\"color\": \"#FFFFFF\"}, \"showarrow\": false, \"text\": \"-0.04\", \"x\": \"deaths_per1000\", \"xref\": \"x\", \"y\": \"Child dependency ratio\", \"yref\": \"y\"}, {\"font\": {\"color\": \"#FFFFFF\"}, \"showarrow\": false, \"text\": \"0.04\", \"x\": \"Total\", \"xref\": \"x\", \"y\": \"percent_under18\", \"yref\": \"y\"}, {\"font\": {\"color\": \"#FFFFFF\"}, \"showarrow\": false, \"text\": \"0.05\", \"x\": \"Male\", \"xref\": \"x\", \"y\": \"percent_under18\", \"yref\": \"y\"}, {\"font\": {\"color\": \"#FFFFFF\"}, \"showarrow\": false, \"text\": \"0.04\", \"x\": \"Female\", \"xref\": \"x\", \"y\": \"percent_under18\", \"yref\": \"y\"}, {\"font\": {\"color\": \"#FFFFFF\"}, \"showarrow\": false, \"text\": \"0.11\", \"x\": \"Total Under 18 year\", \"xref\": \"x\", \"y\": \"percent_under18\", \"yref\": \"y\"}, {\"font\": {\"color\": \"#FFFFFF\"}, \"showarrow\": false, \"text\": \"0.11\", \"x\": \"Male Under 18 year\", \"xref\": \"x\", \"y\": \"percent_under18\", \"yref\": \"y\"}, {\"font\": {\"color\": \"#FFFFFF\"}, \"showarrow\": false, \"text\": \"0.11\", \"x\": \"Female Under 18 year\", \"xref\": \"x\", \"y\": \"percent_under18\", \"yref\": \"y\"}, {\"font\": {\"color\": \"#FFFFFF\"}, \"showarrow\": false, \"text\": \"-0.03\", \"x\": \"Total 60 years and over\", \"xref\": \"x\", \"y\": \"percent_under18\", \"yref\": \"y\"}, {\"font\": {\"color\": \"#FFFFFF\"}, \"showarrow\": false, \"text\": \"-0.03\", \"x\": \"Male 60 years and over\", \"xref\": \"x\", \"y\": \"percent_under18\", \"yref\": \"y\"}, {\"font\": {\"color\": \"#FFFFFF\"}, \"showarrow\": false, \"text\": \"-0.03\", \"x\": \"Female 60 years and over\", \"xref\": \"x\", \"y\": \"percent_under18\", \"yref\": \"y\"}, {\"font\": {\"color\": \"#FFFFFF\"}, \"showarrow\": false, \"text\": \"-0.53\", \"x\": \"Median age (years)\", \"xref\": \"x\", \"y\": \"percent_under18\", \"yref\": \"y\"}, {\"font\": {\"color\": \"#FFFFFF\"}, \"showarrow\": false, \"text\": \"0.07\", \"x\": \"Sex ratio (males per 100 females)\", \"xref\": \"x\", \"y\": \"percent_under18\", \"yref\": \"y\"}, {\"font\": {\"color\": \"#FFFFFF\"}, \"showarrow\": false, \"text\": \"0.04\", \"x\": \"Age dependency ratio\", \"xref\": \"x\", \"y\": \"percent_under18\", \"yref\": \"y\"}, {\"font\": {\"color\": \"#FFFFFF\"}, \"showarrow\": false, \"text\": \"-0.52\", \"x\": \"Old-age dependency ratio\", \"xref\": \"x\", \"y\": \"percent_under18\", \"yref\": \"y\"}, {\"font\": {\"color\": \"#000000\"}, \"showarrow\": false, \"text\": \"0.95\", \"x\": \"Child dependency ratio\", \"xref\": \"x\", \"y\": \"percent_under18\", \"yref\": \"y\"}, {\"font\": {\"color\": \"#000000\"}, \"showarrow\": false, \"text\": \"1.0\", \"x\": \"percent_under18\", \"xref\": \"x\", \"y\": \"percent_under18\", \"yref\": \"y\"}, {\"font\": {\"color\": \"#FFFFFF\"}, \"showarrow\": false, \"text\": \"-0.63\", \"x\": \"percent_over60\", \"xref\": \"x\", \"y\": \"percent_under18\", \"yref\": \"y\"}, {\"font\": {\"color\": \"#FFFFFF\"}, \"showarrow\": false, \"text\": \"-0.04\", \"x\": \"hospital_bed_count\", \"xref\": \"x\", \"y\": \"percent_under18\", \"yref\": \"y\"}, {\"font\": {\"color\": \"#FFFFFF\"}, \"showarrow\": false, \"text\": \"0.06\", \"x\": \"hospital_count\", \"xref\": \"x\", \"y\": \"percent_under18\", \"yref\": \"y\"}, {\"font\": {\"color\": \"#FFFFFF\"}, \"showarrow\": false, \"text\": \"-0.08\", \"x\": \"hospitalbeds_per10000\", \"xref\": \"x\", \"y\": \"percent_under18\", \"yref\": \"y\"}, {\"font\": {\"color\": \"#FFFFFF\"}, \"showarrow\": false, \"text\": \"-0.01\", \"x\": \"cases\", \"xref\": \"x\", \"y\": \"percent_under18\", \"yref\": \"y\"}, {\"font\": {\"color\": \"#FFFFFF\"}, \"showarrow\": false, \"text\": \"-0.02\", \"x\": \"deaths\", \"xref\": \"x\", \"y\": \"percent_under18\", \"yref\": \"y\"}, {\"font\": {\"color\": \"#FFFFFF\"}, \"showarrow\": false, \"text\": \"-0.0\", \"x\": \"cases_per1000\", \"xref\": \"x\", \"y\": \"percent_under18\", \"yref\": \"y\"}, {\"font\": {\"color\": \"#FFFFFF\"}, \"showarrow\": false, \"text\": \"-0.03\", \"x\": \"deaths_per1000\", \"xref\": \"x\", \"y\": \"percent_under18\", \"yref\": \"y\"}, {\"font\": {\"color\": \"#FFFFFF\"}, \"showarrow\": false, \"text\": \"-0.18\", \"x\": \"Total\", \"xref\": \"x\", \"y\": \"percent_over60\", \"yref\": \"y\"}, {\"font\": {\"color\": \"#FFFFFF\"}, \"showarrow\": false, \"text\": \"-0.18\", \"x\": \"Male\", \"xref\": \"x\", \"y\": \"percent_over60\", \"yref\": \"y\"}, {\"font\": {\"color\": \"#FFFFFF\"}, \"showarrow\": false, \"text\": \"-0.17\", \"x\": \"Female\", \"xref\": \"x\", \"y\": \"percent_over60\", \"yref\": \"y\"}, {\"font\": {\"color\": \"#FFFFFF\"}, \"showarrow\": false, \"text\": \"-0.21\", \"x\": \"Total Under 18 year\", \"xref\": \"x\", \"y\": \"percent_over60\", \"yref\": \"y\"}, {\"font\": {\"color\": \"#FFFFFF\"}, \"showarrow\": false, \"text\": \"-0.21\", \"x\": \"Male Under 18 year\", \"xref\": \"x\", \"y\": \"percent_over60\", \"yref\": \"y\"}, {\"font\": {\"color\": \"#FFFFFF\"}, \"showarrow\": false, \"text\": \"-0.21\", \"x\": \"Female Under 18 year\", \"xref\": \"x\", \"y\": \"percent_over60\", \"yref\": \"y\"}, {\"font\": {\"color\": \"#FFFFFF\"}, \"showarrow\": false, \"text\": \"-0.08\", \"x\": \"Total 60 years and over\", \"xref\": \"x\", \"y\": \"percent_over60\", \"yref\": \"y\"}, {\"font\": {\"color\": \"#FFFFFF\"}, \"showarrow\": false, \"text\": \"-0.07\", \"x\": \"Male 60 years and over\", \"xref\": \"x\", \"y\": \"percent_over60\", \"yref\": \"y\"}, {\"font\": {\"color\": \"#FFFFFF\"}, \"showarrow\": false, \"text\": \"-0.08\", \"x\": \"Female 60 years and over\", \"xref\": \"x\", \"y\": \"percent_over60\", \"yref\": \"y\"}, {\"font\": {\"color\": \"#000000\"}, \"showarrow\": false, \"text\": \"0.91\", \"x\": \"Median age (years)\", \"xref\": \"x\", \"y\": \"percent_over60\", \"yref\": \"y\"}, {\"font\": {\"color\": \"#FFFFFF\"}, \"showarrow\": false, \"text\": \"-0.16\", \"x\": \"Sex ratio (males per 100 females)\", \"xref\": \"x\", \"y\": \"percent_over60\", \"yref\": \"y\"}, {\"font\": {\"color\": \"#000000\"}, \"showarrow\": false, \"text\": \"0.72\", \"x\": \"Age dependency ratio\", \"xref\": \"x\", \"y\": \"percent_over60\", \"yref\": \"y\"}, {\"font\": {\"color\": \"#000000\"}, \"showarrow\": false, \"text\": \"0.95\", \"x\": \"Old-age dependency ratio\", \"xref\": \"x\", \"y\": \"percent_over60\", \"yref\": \"y\"}, {\"font\": {\"color\": \"#FFFFFF\"}, \"showarrow\": false, \"text\": \"-0.36\", \"x\": \"Child dependency ratio\", \"xref\": \"x\", \"y\": \"percent_over60\", \"yref\": \"y\"}, {\"font\": {\"color\": \"#FFFFFF\"}, \"showarrow\": false, \"text\": \"-0.63\", \"x\": \"percent_under18\", \"xref\": \"x\", \"y\": \"percent_over60\", \"yref\": \"y\"}, {\"font\": {\"color\": \"#000000\"}, \"showarrow\": false, \"text\": \"1.0\", \"x\": \"percent_over60\", \"xref\": \"x\", \"y\": \"percent_over60\", \"yref\": \"y\"}, {\"font\": {\"color\": \"#FFFFFF\"}, \"showarrow\": false, \"text\": \"-0.07\", \"x\": \"hospital_bed_count\", \"xref\": \"x\", \"y\": \"percent_over60\", \"yref\": \"y\"}, {\"font\": {\"color\": \"#FFFFFF\"}, \"showarrow\": false, \"text\": \"-0.18\", \"x\": \"hospital_count\", \"xref\": \"x\", \"y\": \"percent_over60\", \"yref\": \"y\"}, {\"font\": {\"color\": \"#FFFFFF\"}, \"showarrow\": false, \"text\": \"0.02\", \"x\": \"hospitalbeds_per10000\", \"xref\": \"x\", \"y\": \"percent_over60\", \"yref\": \"y\"}, {\"font\": {\"color\": \"#FFFFFF\"}, \"showarrow\": false, \"text\": \"-0.07\", \"x\": \"cases\", \"xref\": \"x\", \"y\": \"percent_over60\", \"yref\": \"y\"}, {\"font\": {\"color\": \"#FFFFFF\"}, \"showarrow\": false, \"text\": \"-0.04\", \"x\": \"deaths\", \"xref\": \"x\", \"y\": \"percent_over60\", \"yref\": \"y\"}, {\"font\": {\"color\": \"#FFFFFF\"}, \"showarrow\": false, \"text\": \"-0.04\", \"x\": \"cases_per1000\", \"xref\": \"x\", \"y\": \"percent_over60\", \"yref\": \"y\"}, {\"font\": {\"color\": \"#FFFFFF\"}, \"showarrow\": false, \"text\": \"0.01\", \"x\": \"deaths_per1000\", \"xref\": \"x\", \"y\": \"percent_over60\", \"yref\": \"y\"}, {\"font\": {\"color\": \"#000000\"}, \"showarrow\": false, \"text\": \"0.67\", \"x\": \"Total\", \"xref\": \"x\", \"y\": \"hospital_bed_count\", \"yref\": \"y\"}, {\"font\": {\"color\": \"#000000\"}, \"showarrow\": false, \"text\": \"0.67\", \"x\": \"Male\", \"xref\": \"x\", \"y\": \"hospital_bed_count\", \"yref\": \"y\"}, {\"font\": {\"color\": \"#000000\"}, \"showarrow\": false, \"text\": \"0.68\", \"x\": \"Female\", \"xref\": \"x\", \"y\": \"hospital_bed_count\", \"yref\": \"y\"}, {\"font\": {\"color\": \"#000000\"}, \"showarrow\": false, \"text\": \"0.66\", \"x\": \"Total Under 18 year\", \"xref\": \"x\", \"y\": \"hospital_bed_count\", \"yref\": \"y\"}, {\"font\": {\"color\": \"#000000\"}, \"showarrow\": false, \"text\": \"0.66\", \"x\": \"Male Under 18 year\", \"xref\": \"x\", \"y\": \"hospital_bed_count\", \"yref\": \"y\"}, {\"font\": {\"color\": \"#000000\"}, \"showarrow\": false, \"text\": \"0.66\", \"x\": \"Female Under 18 year\", \"xref\": \"x\", \"y\": \"hospital_bed_count\", \"yref\": \"y\"}, {\"font\": {\"color\": \"#000000\"}, \"showarrow\": false, \"text\": \"0.67\", \"x\": \"Total 60 years and over\", \"xref\": \"x\", \"y\": \"hospital_bed_count\", \"yref\": \"y\"}, {\"font\": {\"color\": \"#000000\"}, \"showarrow\": false, \"text\": \"0.66\", \"x\": \"Male 60 years and over\", \"xref\": \"x\", \"y\": \"hospital_bed_count\", \"yref\": \"y\"}, {\"font\": {\"color\": \"#000000\"}, \"showarrow\": false, \"text\": \"0.67\", \"x\": \"Female 60 years and over\", \"xref\": \"x\", \"y\": \"hospital_bed_count\", \"yref\": \"y\"}, {\"font\": {\"color\": \"#FFFFFF\"}, \"showarrow\": false, \"text\": \"-0.04\", \"x\": \"Median age (years)\", \"xref\": \"x\", \"y\": \"hospital_bed_count\", \"yref\": \"y\"}, {\"font\": {\"color\": \"#FFFFFF\"}, \"showarrow\": false, \"text\": \"-0.12\", \"x\": \"Sex ratio (males per 100 females)\", \"xref\": \"x\", \"y\": \"hospital_bed_count\", \"yref\": \"y\"}, {\"font\": {\"color\": \"#FFFFFF\"}, \"showarrow\": false, \"text\": \"-0.1\", \"x\": \"Age dependency ratio\", \"xref\": \"x\", \"y\": \"hospital_bed_count\", \"yref\": \"y\"}, {\"font\": {\"color\": \"#FFFFFF\"}, \"showarrow\": false, \"text\": \"-0.06\", \"x\": \"Old-age dependency ratio\", \"xref\": \"x\", \"y\": \"hospital_bed_count\", \"yref\": \"y\"}, {\"font\": {\"color\": \"#FFFFFF\"}, \"showarrow\": false, \"text\": \"-0.07\", \"x\": \"Child dependency ratio\", \"xref\": \"x\", \"y\": \"hospital_bed_count\", \"yref\": \"y\"}, {\"font\": {\"color\": \"#FFFFFF\"}, \"showarrow\": false, \"text\": \"-0.04\", \"x\": \"percent_under18\", \"xref\": \"x\", \"y\": \"hospital_bed_count\", \"yref\": \"y\"}, {\"font\": {\"color\": \"#FFFFFF\"}, \"showarrow\": false, \"text\": \"-0.07\", \"x\": \"percent_over60\", \"xref\": \"x\", \"y\": \"hospital_bed_count\", \"yref\": \"y\"}, {\"font\": {\"color\": \"#000000\"}, \"showarrow\": false, \"text\": \"1.0\", \"x\": \"hospital_bed_count\", \"xref\": \"x\", \"y\": \"hospital_bed_count\", \"yref\": \"y\"}, {\"font\": {\"color\": \"#000000\"}, \"showarrow\": false, \"text\": \"0.62\", \"x\": \"hospital_count\", \"xref\": \"x\", \"y\": \"hospital_bed_count\", \"yref\": \"y\"}, {\"font\": {\"color\": \"#000000\"}, \"showarrow\": false, \"text\": \"0.49\", \"x\": \"hospitalbeds_per10000\", \"xref\": \"x\", \"y\": \"hospital_bed_count\", \"yref\": \"y\"}, {\"font\": {\"color\": \"#000000\"}, \"showarrow\": false, \"text\": \"0.34\", \"x\": \"cases\", \"xref\": \"x\", \"y\": \"hospital_bed_count\", \"yref\": \"y\"}, {\"font\": {\"color\": \"#000000\"}, \"showarrow\": false, \"text\": \"0.29\", \"x\": \"deaths\", \"xref\": \"x\", \"y\": \"hospital_bed_count\", \"yref\": \"y\"}, {\"font\": {\"color\": \"#FFFFFF\"}, \"showarrow\": false, \"text\": \"0.05\", \"x\": \"cases_per1000\", \"xref\": \"x\", \"y\": \"hospital_bed_count\", \"yref\": \"y\"}, {\"font\": {\"color\": \"#FFFFFF\"}, \"showarrow\": false, \"text\": \"0.04\", \"x\": \"deaths_per1000\", \"xref\": \"x\", \"y\": \"hospital_bed_count\", \"yref\": \"y\"}, {\"font\": {\"color\": \"#000000\"}, \"showarrow\": false, \"text\": \"0.91\", \"x\": \"Total\", \"xref\": \"x\", \"y\": \"hospital_count\", \"yref\": \"y\"}, {\"font\": {\"color\": \"#000000\"}, \"showarrow\": false, \"text\": \"0.91\", \"x\": \"Male\", \"xref\": \"x\", \"y\": \"hospital_count\", \"yref\": \"y\"}, {\"font\": {\"color\": \"#000000\"}, \"showarrow\": false, \"text\": \"0.91\", \"x\": \"Female\", \"xref\": \"x\", \"y\": \"hospital_count\", \"yref\": \"y\"}, {\"font\": {\"color\": \"#000000\"}, \"showarrow\": false, \"text\": \"0.92\", \"x\": \"Total Under 18 year\", \"xref\": \"x\", \"y\": \"hospital_count\", \"yref\": \"y\"}, {\"font\": {\"color\": \"#000000\"}, \"showarrow\": false, \"text\": \"0.92\", \"x\": \"Male Under 18 year\", \"xref\": \"x\", \"y\": \"hospital_count\", \"yref\": \"y\"}, {\"font\": {\"color\": \"#000000\"}, \"showarrow\": false, \"text\": \"0.92\", \"x\": \"Female Under 18 year\", \"xref\": \"x\", \"y\": \"hospital_count\", \"yref\": \"y\"}, {\"font\": {\"color\": \"#000000\"}, \"showarrow\": false, \"text\": \"0.89\", \"x\": \"Total 60 years and over\", \"xref\": \"x\", \"y\": \"hospital_count\", \"yref\": \"y\"}, {\"font\": {\"color\": \"#000000\"}, \"showarrow\": false, \"text\": \"0.89\", \"x\": \"Male 60 years and over\", \"xref\": \"x\", \"y\": \"hospital_count\", \"yref\": \"y\"}, {\"font\": {\"color\": \"#000000\"}, \"showarrow\": false, \"text\": \"0.89\", \"x\": \"Female 60 years and over\", \"xref\": \"x\", \"y\": \"hospital_count\", \"yref\": \"y\"}, {\"font\": {\"color\": \"#FFFFFF\"}, \"showarrow\": false, \"text\": \"-0.16\", \"x\": \"Median age (years)\", \"xref\": \"x\", \"y\": \"hospital_count\", \"yref\": \"y\"}, {\"font\": {\"color\": \"#FFFFFF\"}, \"showarrow\": false, \"text\": \"-0.1\", \"x\": \"Sex ratio (males per 100 females)\", \"xref\": \"x\", \"y\": \"hospital_count\", \"yref\": \"y\"}, {\"font\": {\"color\": \"#FFFFFF\"}, \"showarrow\": false, \"text\": \"-0.16\", \"x\": \"Age dependency ratio\", \"xref\": \"x\", \"y\": \"hospital_count\", \"yref\": \"y\"}, {\"font\": {\"color\": \"#FFFFFF\"}, \"showarrow\": false, \"text\": \"-0.16\", \"x\": \"Old-age dependency ratio\", \"xref\": \"x\", \"y\": \"hospital_count\", \"yref\": \"y\"}, {\"font\": {\"color\": \"#FFFFFF\"}, \"showarrow\": false, \"text\": \"-0.01\", \"x\": \"Child dependency ratio\", \"xref\": \"x\", \"y\": \"hospital_count\", \"yref\": \"y\"}, {\"font\": {\"color\": \"#FFFFFF\"}, \"showarrow\": false, \"text\": \"0.06\", \"x\": \"percent_under18\", \"xref\": \"x\", \"y\": \"hospital_count\", \"yref\": \"y\"}, {\"font\": {\"color\": \"#FFFFFF\"}, \"showarrow\": false, \"text\": \"-0.18\", \"x\": \"percent_over60\", \"xref\": \"x\", \"y\": \"hospital_count\", \"yref\": \"y\"}, {\"font\": {\"color\": \"#000000\"}, \"showarrow\": false, \"text\": \"0.62\", \"x\": \"hospital_bed_count\", \"xref\": \"x\", \"y\": \"hospital_count\", \"yref\": \"y\"}, {\"font\": {\"color\": \"#000000\"}, \"showarrow\": false, \"text\": \"1.0\", \"x\": \"hospital_count\", \"xref\": \"x\", \"y\": \"hospital_count\", \"yref\": \"y\"}, {\"font\": {\"color\": \"#FFFFFF\"}, \"showarrow\": false, \"text\": \"0.01\", \"x\": \"hospitalbeds_per10000\", \"xref\": \"x\", \"y\": \"hospital_count\", \"yref\": \"y\"}, {\"font\": {\"color\": \"#000000\"}, \"showarrow\": false, \"text\": \"0.42\", \"x\": \"cases\", \"xref\": \"x\", \"y\": \"hospital_count\", \"yref\": \"y\"}, {\"font\": {\"color\": \"#000000\"}, \"showarrow\": false, \"text\": \"0.36\", \"x\": \"deaths\", \"xref\": \"x\", \"y\": \"hospital_count\", \"yref\": \"y\"}, {\"font\": {\"color\": \"#FFFFFF\"}, \"showarrow\": false, \"text\": \"0.13\", \"x\": \"cases_per1000\", \"xref\": \"x\", \"y\": \"hospital_count\", \"yref\": \"y\"}, {\"font\": {\"color\": \"#FFFFFF\"}, \"showarrow\": false, \"text\": \"0.11\", \"x\": \"deaths_per1000\", \"xref\": \"x\", \"y\": \"hospital_count\", \"yref\": \"y\"}, {\"font\": {\"color\": \"#FFFFFF\"}, \"showarrow\": false, \"text\": \"0.04\", \"x\": \"Total\", \"xref\": \"x\", \"y\": \"hospitalbeds_per10000\", \"yref\": \"y\"}, {\"font\": {\"color\": \"#FFFFFF\"}, \"showarrow\": false, \"text\": \"0.04\", \"x\": \"Male\", \"xref\": \"x\", \"y\": \"hospitalbeds_per10000\", \"yref\": \"y\"}, {\"font\": {\"color\": \"#FFFFFF\"}, \"showarrow\": false, \"text\": \"0.04\", \"x\": \"Female\", \"xref\": \"x\", \"y\": \"hospitalbeds_per10000\", \"yref\": \"y\"}, {\"font\": {\"color\": \"#FFFFFF\"}, \"showarrow\": false, \"text\": \"0.04\", \"x\": \"Total Under 18 year\", \"xref\": \"x\", \"y\": \"hospitalbeds_per10000\", \"yref\": \"y\"}, {\"font\": {\"color\": \"#FFFFFF\"}, \"showarrow\": false, \"text\": \"0.04\", \"x\": \"Male Under 18 year\", \"xref\": \"x\", \"y\": \"hospitalbeds_per10000\", \"yref\": \"y\"}, {\"font\": {\"color\": \"#FFFFFF\"}, \"showarrow\": false, \"text\": \"0.04\", \"x\": \"Female Under 18 year\", \"xref\": \"x\", \"y\": \"hospitalbeds_per10000\", \"yref\": \"y\"}, {\"font\": {\"color\": \"#FFFFFF\"}, \"showarrow\": false, \"text\": \"0.05\", \"x\": \"Total 60 years and over\", \"xref\": \"x\", \"y\": \"hospitalbeds_per10000\", \"yref\": \"y\"}, {\"font\": {\"color\": \"#FFFFFF\"}, \"showarrow\": false, \"text\": \"0.04\", \"x\": \"Male 60 years and over\", \"xref\": \"x\", \"y\": \"hospitalbeds_per10000\", \"yref\": \"y\"}, {\"font\": {\"color\": \"#FFFFFF\"}, \"showarrow\": false, \"text\": \"0.05\", \"x\": \"Female 60 years and over\", \"xref\": \"x\", \"y\": \"hospitalbeds_per10000\", \"yref\": \"y\"}, {\"font\": {\"color\": \"#FFFFFF\"}, \"showarrow\": false, \"text\": \"0.0\", \"x\": \"Median age (years)\", \"xref\": \"x\", \"y\": \"hospitalbeds_per10000\", \"yref\": \"y\"}, {\"font\": {\"color\": \"#FFFFFF\"}, \"showarrow\": false, \"text\": \"-0.08\", \"x\": \"Sex ratio (males per 100 females)\", \"xref\": \"x\", \"y\": \"hospitalbeds_per10000\", \"yref\": \"y\"}, {\"font\": {\"color\": \"#FFFFFF\"}, \"showarrow\": false, \"text\": \"-0.04\", \"x\": \"Age dependency ratio\", \"xref\": \"x\", \"y\": \"hospitalbeds_per10000\", \"yref\": \"y\"}, {\"font\": {\"color\": \"#FFFFFF\"}, \"showarrow\": false, \"text\": \"0.01\", \"x\": \"Old-age dependency ratio\", \"xref\": \"x\", \"y\": \"hospitalbeds_per10000\", \"yref\": \"y\"}, {\"font\": {\"color\": \"#FFFFFF\"}, \"showarrow\": false, \"text\": \"-0.09\", \"x\": \"Child dependency ratio\", \"xref\": \"x\", \"y\": \"hospitalbeds_per10000\", \"yref\": \"y\"}, {\"font\": {\"color\": \"#FFFFFF\"}, \"showarrow\": false, \"text\": \"-0.08\", \"x\": \"percent_under18\", \"xref\": \"x\", \"y\": \"hospitalbeds_per10000\", \"yref\": \"y\"}, {\"font\": {\"color\": \"#FFFFFF\"}, \"showarrow\": false, \"text\": \"0.02\", \"x\": \"percent_over60\", \"xref\": \"x\", \"y\": \"hospitalbeds_per10000\", \"yref\": \"y\"}, {\"font\": {\"color\": \"#000000\"}, \"showarrow\": false, \"text\": \"0.49\", \"x\": \"hospital_bed_count\", \"xref\": \"x\", \"y\": \"hospitalbeds_per10000\", \"yref\": \"y\"}, {\"font\": {\"color\": \"#FFFFFF\"}, \"showarrow\": false, \"text\": \"0.01\", \"x\": \"hospital_count\", \"xref\": \"x\", \"y\": \"hospitalbeds_per10000\", \"yref\": \"y\"}, {\"font\": {\"color\": \"#000000\"}, \"showarrow\": false, \"text\": \"1.0\", \"x\": \"hospitalbeds_per10000\", \"xref\": \"x\", \"y\": \"hospitalbeds_per10000\", \"yref\": \"y\"}, {\"font\": {\"color\": \"#FFFFFF\"}, \"showarrow\": false, \"text\": \"0.01\", \"x\": \"cases\", \"xref\": \"x\", \"y\": \"hospitalbeds_per10000\", \"yref\": \"y\"}, {\"font\": {\"color\": \"#FFFFFF\"}, \"showarrow\": false, \"text\": \"0.01\", \"x\": \"deaths\", \"xref\": \"x\", \"y\": \"hospitalbeds_per10000\", \"yref\": \"y\"}, {\"font\": {\"color\": \"#FFFFFF\"}, \"showarrow\": false, \"text\": \"-0.05\", \"x\": \"cases_per1000\", \"xref\": \"x\", \"y\": \"hospitalbeds_per10000\", \"yref\": \"y\"}, {\"font\": {\"color\": \"#FFFFFF\"}, \"showarrow\": false, \"text\": \"-0.02\", \"x\": \"deaths_per1000\", \"xref\": \"x\", \"y\": \"hospitalbeds_per10000\", \"yref\": \"y\"}, {\"font\": {\"color\": \"#000000\"}, \"showarrow\": false, \"text\": \"0.48\", \"x\": \"Total\", \"xref\": \"x\", \"y\": \"cases\", \"yref\": \"y\"}, {\"font\": {\"color\": \"#000000\"}, \"showarrow\": false, \"text\": \"0.48\", \"x\": \"Male\", \"xref\": \"x\", \"y\": \"cases\", \"yref\": \"y\"}, {\"font\": {\"color\": \"#000000\"}, \"showarrow\": false, \"text\": \"0.49\", \"x\": \"Female\", \"xref\": \"x\", \"y\": \"cases\", \"yref\": \"y\"}, {\"font\": {\"color\": \"#000000\"}, \"showarrow\": false, \"text\": \"0.46\", \"x\": \"Total Under 18 year\", \"xref\": \"x\", \"y\": \"cases\", \"yref\": \"y\"}, {\"font\": {\"color\": \"#000000\"}, \"showarrow\": false, \"text\": \"0.46\", \"x\": \"Male Under 18 year\", \"xref\": \"x\", \"y\": \"cases\", \"yref\": \"y\"}, {\"font\": {\"color\": \"#000000\"}, \"showarrow\": false, \"text\": \"0.46\", \"x\": \"Female Under 18 year\", \"xref\": \"x\", \"y\": \"cases\", \"yref\": \"y\"}, {\"font\": {\"color\": \"#000000\"}, \"showarrow\": false, \"text\": \"0.51\", \"x\": \"Total 60 years and over\", \"xref\": \"x\", \"y\": \"cases\", \"yref\": \"y\"}, {\"font\": {\"color\": \"#000000\"}, \"showarrow\": false, \"text\": \"0.5\", \"x\": \"Male 60 years and over\", \"xref\": \"x\", \"y\": \"cases\", \"yref\": \"y\"}, {\"font\": {\"color\": \"#000000\"}, \"showarrow\": false, \"text\": \"0.52\", \"x\": \"Female 60 years and over\", \"xref\": \"x\", \"y\": \"cases\", \"yref\": \"y\"}, {\"font\": {\"color\": \"#FFFFFF\"}, \"showarrow\": false, \"text\": \"-0.01\", \"x\": \"Median age (years)\", \"xref\": \"x\", \"y\": \"cases\", \"yref\": \"y\"}, {\"font\": {\"color\": \"#FFFFFF\"}, \"showarrow\": false, \"text\": \"-0.1\", \"x\": \"Sex ratio (males per 100 females)\", \"xref\": \"x\", \"y\": \"cases\", \"yref\": \"y\"}, {\"font\": {\"color\": \"#FFFFFF\"}, \"showarrow\": false, \"text\": \"-0.1\", \"x\": \"Age dependency ratio\", \"xref\": \"x\", \"y\": \"cases\", \"yref\": \"y\"}, {\"font\": {\"color\": \"#FFFFFF\"}, \"showarrow\": false, \"text\": \"-0.07\", \"x\": \"Old-age dependency ratio\", \"xref\": \"x\", \"y\": \"cases\", \"yref\": \"y\"}, {\"font\": {\"color\": \"#FFFFFF\"}, \"showarrow\": false, \"text\": \"-0.05\", \"x\": \"Child dependency ratio\", \"xref\": \"x\", \"y\": \"cases\", \"yref\": \"y\"}, {\"font\": {\"color\": \"#FFFFFF\"}, \"showarrow\": false, \"text\": \"-0.01\", \"x\": \"percent_under18\", \"xref\": \"x\", \"y\": \"cases\", \"yref\": \"y\"}, {\"font\": {\"color\": \"#FFFFFF\"}, \"showarrow\": false, \"text\": \"-0.07\", \"x\": \"percent_over60\", \"xref\": \"x\", \"y\": \"cases\", \"yref\": \"y\"}, {\"font\": {\"color\": \"#000000\"}, \"showarrow\": false, \"text\": \"0.34\", \"x\": \"hospital_bed_count\", \"xref\": \"x\", \"y\": \"cases\", \"yref\": \"y\"}, {\"font\": {\"color\": \"#000000\"}, \"showarrow\": false, \"text\": \"0.42\", \"x\": \"hospital_count\", \"xref\": \"x\", \"y\": \"cases\", \"yref\": \"y\"}, {\"font\": {\"color\": \"#FFFFFF\"}, \"showarrow\": false, \"text\": \"0.01\", \"x\": \"hospitalbeds_per10000\", \"xref\": \"x\", \"y\": \"cases\", \"yref\": \"y\"}, {\"font\": {\"color\": \"#000000\"}, \"showarrow\": false, \"text\": \"1.0\", \"x\": \"cases\", \"xref\": \"x\", \"y\": \"cases\", \"yref\": \"y\"}, {\"font\": {\"color\": \"#000000\"}, \"showarrow\": false, \"text\": \"0.93\", \"x\": \"deaths\", \"xref\": \"x\", \"y\": \"cases\", \"yref\": \"y\"}, {\"font\": {\"color\": \"#000000\"}, \"showarrow\": false, \"text\": \"0.77\", \"x\": \"cases_per1000\", \"xref\": \"x\", \"y\": \"cases\", \"yref\": \"y\"}, {\"font\": {\"color\": \"#000000\"}, \"showarrow\": false, \"text\": \"0.68\", \"x\": \"deaths_per1000\", \"xref\": \"x\", \"y\": \"cases\", \"yref\": \"y\"}, {\"font\": {\"color\": \"#000000\"}, \"showarrow\": false, \"text\": \"0.42\", \"x\": \"Total\", \"xref\": \"x\", \"y\": \"deaths\", \"yref\": \"y\"}, {\"font\": {\"color\": \"#000000\"}, \"showarrow\": false, \"text\": \"0.42\", \"x\": \"Male\", \"xref\": \"x\", \"y\": \"deaths\", \"yref\": \"y\"}, {\"font\": {\"color\": \"#000000\"}, \"showarrow\": false, \"text\": \"0.43\", \"x\": \"Female\", \"xref\": \"x\", \"y\": \"deaths\", \"yref\": \"y\"}, {\"font\": {\"color\": \"#000000\"}, \"showarrow\": false, \"text\": \"0.41\", \"x\": \"Total Under 18 year\", \"xref\": \"x\", \"y\": \"deaths\", \"yref\": \"y\"}, {\"font\": {\"color\": \"#000000\"}, \"showarrow\": false, \"text\": \"0.41\", \"x\": \"Male Under 18 year\", \"xref\": \"x\", \"y\": \"deaths\", \"yref\": \"y\"}, {\"font\": {\"color\": \"#000000\"}, \"showarrow\": false, \"text\": \"0.41\", \"x\": \"Female Under 18 year\", \"xref\": \"x\", \"y\": \"deaths\", \"yref\": \"y\"}, {\"font\": {\"color\": \"#000000\"}, \"showarrow\": false, \"text\": \"0.46\", \"x\": \"Total 60 years and over\", \"xref\": \"x\", \"y\": \"deaths\", \"yref\": \"y\"}, {\"font\": {\"color\": \"#000000\"}, \"showarrow\": false, \"text\": \"0.45\", \"x\": \"Male 60 years and over\", \"xref\": \"x\", \"y\": \"deaths\", \"yref\": \"y\"}, {\"font\": {\"color\": \"#000000\"}, \"showarrow\": false, \"text\": \"0.46\", \"x\": \"Female 60 years and over\", \"xref\": \"x\", \"y\": \"deaths\", \"yref\": \"y\"}, {\"font\": {\"color\": \"#FFFFFF\"}, \"showarrow\": false, \"text\": \"0.01\", \"x\": \"Median age (years)\", \"xref\": \"x\", \"y\": \"deaths\", \"yref\": \"y\"}, {\"font\": {\"color\": \"#FFFFFF\"}, \"showarrow\": false, \"text\": \"-0.11\", \"x\": \"Sex ratio (males per 100 females)\", \"xref\": \"x\", \"y\": \"deaths\", \"yref\": \"y\"}, {\"font\": {\"color\": \"#FFFFFF\"}, \"showarrow\": false, \"text\": \"-0.08\", \"x\": \"Age dependency ratio\", \"xref\": \"x\", \"y\": \"deaths\", \"yref\": \"y\"}, {\"font\": {\"color\": \"#FFFFFF\"}, \"showarrow\": false, \"text\": \"-0.05\", \"x\": \"Old-age dependency ratio\", \"xref\": \"x\", \"y\": \"deaths\", \"yref\": \"y\"}, {\"font\": {\"color\": \"#FFFFFF\"}, \"showarrow\": false, \"text\": \"-0.05\", \"x\": \"Child dependency ratio\", \"xref\": \"x\", \"y\": \"deaths\", \"yref\": \"y\"}, {\"font\": {\"color\": \"#FFFFFF\"}, \"showarrow\": false, \"text\": \"-0.02\", \"x\": \"percent_under18\", \"xref\": \"x\", \"y\": \"deaths\", \"yref\": \"y\"}, {\"font\": {\"color\": \"#FFFFFF\"}, \"showarrow\": false, \"text\": \"-0.04\", \"x\": \"percent_over60\", \"xref\": \"x\", \"y\": \"deaths\", \"yref\": \"y\"}, {\"font\": {\"color\": \"#000000\"}, \"showarrow\": false, \"text\": \"0.29\", \"x\": \"hospital_bed_count\", \"xref\": \"x\", \"y\": \"deaths\", \"yref\": \"y\"}, {\"font\": {\"color\": \"#000000\"}, \"showarrow\": false, \"text\": \"0.36\", \"x\": \"hospital_count\", \"xref\": \"x\", \"y\": \"deaths\", \"yref\": \"y\"}, {\"font\": {\"color\": \"#FFFFFF\"}, \"showarrow\": false, \"text\": \"0.01\", \"x\": \"hospitalbeds_per10000\", \"xref\": \"x\", \"y\": \"deaths\", \"yref\": \"y\"}, {\"font\": {\"color\": \"#000000\"}, \"showarrow\": false, \"text\": \"0.93\", \"x\": \"cases\", \"xref\": \"x\", \"y\": \"deaths\", \"yref\": \"y\"}, {\"font\": {\"color\": \"#000000\"}, \"showarrow\": false, \"text\": \"1.0\", \"x\": \"deaths\", \"xref\": \"x\", \"y\": \"deaths\", \"yref\": \"y\"}, {\"font\": {\"color\": \"#000000\"}, \"showarrow\": false, \"text\": \"0.7\", \"x\": \"cases_per1000\", \"xref\": \"x\", \"y\": \"deaths\", \"yref\": \"y\"}, {\"font\": {\"color\": \"#000000\"}, \"showarrow\": false, \"text\": \"0.73\", \"x\": \"deaths_per1000\", \"xref\": \"x\", \"y\": \"deaths\", \"yref\": \"y\"}, {\"font\": {\"color\": \"#FFFFFF\"}, \"showarrow\": false, \"text\": \"0.14\", \"x\": \"Total\", \"xref\": \"x\", \"y\": \"cases_per1000\", \"yref\": \"y\"}, {\"font\": {\"color\": \"#FFFFFF\"}, \"showarrow\": false, \"text\": \"0.14\", \"x\": \"Male\", \"xref\": \"x\", \"y\": \"cases_per1000\", \"yref\": \"y\"}, {\"font\": {\"color\": \"#FFFFFF\"}, \"showarrow\": false, \"text\": \"0.15\", \"x\": \"Female\", \"xref\": \"x\", \"y\": \"cases_per1000\", \"yref\": \"y\"}, {\"font\": {\"color\": \"#FFFFFF\"}, \"showarrow\": false, \"text\": \"0.13\", \"x\": \"Total Under 18 year\", \"xref\": \"x\", \"y\": \"cases_per1000\", \"yref\": \"y\"}, {\"font\": {\"color\": \"#FFFFFF\"}, \"showarrow\": false, \"text\": \"0.13\", \"x\": \"Male Under 18 year\", \"xref\": \"x\", \"y\": \"cases_per1000\", \"yref\": \"y\"}, {\"font\": {\"color\": \"#FFFFFF\"}, \"showarrow\": false, \"text\": \"0.13\", \"x\": \"Female Under 18 year\", \"xref\": \"x\", \"y\": \"cases_per1000\", \"yref\": \"y\"}, {\"font\": {\"color\": \"#FFFFFF\"}, \"showarrow\": false, \"text\": \"0.17\", \"x\": \"Total 60 years and over\", \"xref\": \"x\", \"y\": \"cases_per1000\", \"yref\": \"y\"}, {\"font\": {\"color\": \"#FFFFFF\"}, \"showarrow\": false, \"text\": \"0.16\", \"x\": \"Male 60 years and over\", \"xref\": \"x\", \"y\": \"cases_per1000\", \"yref\": \"y\"}, {\"font\": {\"color\": \"#FFFFFF\"}, \"showarrow\": false, \"text\": \"0.17\", \"x\": \"Female 60 years and over\", \"xref\": \"x\", \"y\": \"cases_per1000\", \"yref\": \"y\"}, {\"font\": {\"color\": \"#FFFFFF\"}, \"showarrow\": false, \"text\": \"0.02\", \"x\": \"Median age (years)\", \"xref\": \"x\", \"y\": \"cases_per1000\", \"yref\": \"y\"}, {\"font\": {\"color\": \"#FFFFFF\"}, \"showarrow\": false, \"text\": \"-0.13\", \"x\": \"Sex ratio (males per 100 females)\", \"xref\": \"x\", \"y\": \"cases_per1000\", \"yref\": \"y\"}, {\"font\": {\"color\": \"#FFFFFF\"}, \"showarrow\": false, \"text\": \"-0.06\", \"x\": \"Age dependency ratio\", \"xref\": \"x\", \"y\": \"cases_per1000\", \"yref\": \"y\"}, {\"font\": {\"color\": \"#FFFFFF\"}, \"showarrow\": false, \"text\": \"-0.05\", \"x\": \"Old-age dependency ratio\", \"xref\": \"x\", \"y\": \"cases_per1000\", \"yref\": \"y\"}, {\"font\": {\"color\": \"#FFFFFF\"}, \"showarrow\": false, \"text\": \"-0.02\", \"x\": \"Child dependency ratio\", \"xref\": \"x\", \"y\": \"cases_per1000\", \"yref\": \"y\"}, {\"font\": {\"color\": \"#FFFFFF\"}, \"showarrow\": false, \"text\": \"-0.0\", \"x\": \"percent_under18\", \"xref\": \"x\", \"y\": \"cases_per1000\", \"yref\": \"y\"}, {\"font\": {\"color\": \"#FFFFFF\"}, \"showarrow\": false, \"text\": \"-0.04\", \"x\": \"percent_over60\", \"xref\": \"x\", \"y\": \"cases_per1000\", \"yref\": \"y\"}, {\"font\": {\"color\": \"#FFFFFF\"}, \"showarrow\": false, \"text\": \"0.05\", \"x\": \"hospital_bed_count\", \"xref\": \"x\", \"y\": \"cases_per1000\", \"yref\": \"y\"}, {\"font\": {\"color\": \"#FFFFFF\"}, \"showarrow\": false, \"text\": \"0.13\", \"x\": \"hospital_count\", \"xref\": \"x\", \"y\": \"cases_per1000\", \"yref\": \"y\"}, {\"font\": {\"color\": \"#FFFFFF\"}, \"showarrow\": false, \"text\": \"-0.05\", \"x\": \"hospitalbeds_per10000\", \"xref\": \"x\", \"y\": \"cases_per1000\", \"yref\": \"y\"}, {\"font\": {\"color\": \"#000000\"}, \"showarrow\": false, \"text\": \"0.77\", \"x\": \"cases\", \"xref\": \"x\", \"y\": \"cases_per1000\", \"yref\": \"y\"}, {\"font\": {\"color\": \"#000000\"}, \"showarrow\": false, \"text\": \"0.7\", \"x\": \"deaths\", \"xref\": \"x\", \"y\": \"cases_per1000\", \"yref\": \"y\"}, {\"font\": {\"color\": \"#000000\"}, \"showarrow\": false, \"text\": \"1.0\", \"x\": \"cases_per1000\", \"xref\": \"x\", \"y\": \"cases_per1000\", \"yref\": \"y\"}, {\"font\": {\"color\": \"#000000\"}, \"showarrow\": false, \"text\": \"0.87\", \"x\": \"deaths_per1000\", \"xref\": \"x\", \"y\": \"cases_per1000\", \"yref\": \"y\"}, {\"font\": {\"color\": \"#FFFFFF\"}, \"showarrow\": false, \"text\": \"0.13\", \"x\": \"Total\", \"xref\": \"x\", \"y\": \"deaths_per1000\", \"yref\": \"y\"}, {\"font\": {\"color\": \"#FFFFFF\"}, \"showarrow\": false, \"text\": \"0.12\", \"x\": \"Male\", \"xref\": \"x\", \"y\": \"deaths_per1000\", \"yref\": \"y\"}, {\"font\": {\"color\": \"#FFFFFF\"}, \"showarrow\": false, \"text\": \"0.13\", \"x\": \"Female\", \"xref\": \"x\", \"y\": \"deaths_per1000\", \"yref\": \"y\"}, {\"font\": {\"color\": \"#FFFFFF\"}, \"showarrow\": false, \"text\": \"0.12\", \"x\": \"Total Under 18 year\", \"xref\": \"x\", \"y\": \"deaths_per1000\", \"yref\": \"y\"}, {\"font\": {\"color\": \"#FFFFFF\"}, \"showarrow\": false, \"text\": \"0.12\", \"x\": \"Male Under 18 year\", \"xref\": \"x\", \"y\": \"deaths_per1000\", \"yref\": \"y\"}, {\"font\": {\"color\": \"#FFFFFF\"}, \"showarrow\": false, \"text\": \"0.12\", \"x\": \"Female Under 18 year\", \"xref\": \"x\", \"y\": \"deaths_per1000\", \"yref\": \"y\"}, {\"font\": {\"color\": \"#FFFFFF\"}, \"showarrow\": false, \"text\": \"0.15\", \"x\": \"Total 60 years and over\", \"xref\": \"x\", \"y\": \"deaths_per1000\", \"yref\": \"y\"}, {\"font\": {\"color\": \"#FFFFFF\"}, \"showarrow\": false, \"text\": \"0.15\", \"x\": \"Male 60 years and over\", \"xref\": \"x\", \"y\": \"deaths_per1000\", \"yref\": \"y\"}, {\"font\": {\"color\": \"#FFFFFF\"}, \"showarrow\": false, \"text\": \"0.16\", \"x\": \"Female 60 years and over\", \"xref\": \"x\", \"y\": \"deaths_per1000\", \"yref\": \"y\"}, {\"font\": {\"color\": \"#FFFFFF\"}, \"showarrow\": false, \"text\": \"0.05\", \"x\": \"Median age (years)\", \"xref\": \"x\", \"y\": \"deaths_per1000\", \"yref\": \"y\"}, {\"font\": {\"color\": \"#FFFFFF\"}, \"showarrow\": false, \"text\": \"-0.17\", \"x\": \"Sex ratio (males per 100 females)\", \"xref\": \"x\", \"y\": \"deaths_per1000\", \"yref\": \"y\"}, {\"font\": {\"color\": \"#FFFFFF\"}, \"showarrow\": false, \"text\": \"-0.03\", \"x\": \"Age dependency ratio\", \"xref\": \"x\", \"y\": \"deaths_per1000\", \"yref\": \"y\"}, {\"font\": {\"color\": \"#FFFFFF\"}, \"showarrow\": false, \"text\": \"-0.01\", \"x\": \"Old-age dependency ratio\", \"xref\": \"x\", \"y\": \"deaths_per1000\", \"yref\": \"y\"}, {\"font\": {\"color\": \"#FFFFFF\"}, \"showarrow\": false, \"text\": \"-0.04\", \"x\": \"Child dependency ratio\", \"xref\": \"x\", \"y\": \"deaths_per1000\", \"yref\": \"y\"}, {\"font\": {\"color\": \"#FFFFFF\"}, \"showarrow\": false, \"text\": \"-0.03\", \"x\": \"percent_under18\", \"xref\": \"x\", \"y\": \"deaths_per1000\", \"yref\": \"y\"}, {\"font\": {\"color\": \"#FFFFFF\"}, \"showarrow\": false, \"text\": \"0.01\", \"x\": \"percent_over60\", \"xref\": \"x\", \"y\": \"deaths_per1000\", \"yref\": \"y\"}, {\"font\": {\"color\": \"#FFFFFF\"}, \"showarrow\": false, \"text\": \"0.04\", \"x\": \"hospital_bed_count\", \"xref\": \"x\", \"y\": \"deaths_per1000\", \"yref\": \"y\"}, {\"font\": {\"color\": \"#FFFFFF\"}, \"showarrow\": false, \"text\": \"0.11\", \"x\": \"hospital_count\", \"xref\": \"x\", \"y\": \"deaths_per1000\", \"yref\": \"y\"}, {\"font\": {\"color\": \"#FFFFFF\"}, \"showarrow\": false, \"text\": \"-0.02\", \"x\": \"hospitalbeds_per10000\", \"xref\": \"x\", \"y\": \"deaths_per1000\", \"yref\": \"y\"}, {\"font\": {\"color\": \"#000000\"}, \"showarrow\": false, \"text\": \"0.68\", \"x\": \"cases\", \"xref\": \"x\", \"y\": \"deaths_per1000\", \"yref\": \"y\"}, {\"font\": {\"color\": \"#000000\"}, \"showarrow\": false, \"text\": \"0.73\", \"x\": \"deaths\", \"xref\": \"x\", \"y\": \"deaths_per1000\", \"yref\": \"y\"}, {\"font\": {\"color\": \"#000000\"}, \"showarrow\": false, \"text\": \"0.87\", \"x\": \"cases_per1000\", \"xref\": \"x\", \"y\": \"deaths_per1000\", \"yref\": \"y\"}, {\"font\": {\"color\": \"#000000\"}, \"showarrow\": false, \"text\": \"1.0\", \"x\": \"deaths_per1000\", \"xref\": \"x\", \"y\": \"deaths_per1000\", \"yref\": \"y\"}], \"template\": {\"data\": {\"bar\": [{\"error_x\": {\"color\": \"#2a3f5f\"}, \"error_y\": {\"color\": \"#2a3f5f\"}, \"marker\": {\"line\": {\"color\": \"#E5ECF6\", \"width\": 0.5}}, \"type\": \"bar\"}], \"barpolar\": [{\"marker\": {\"line\": {\"color\": \"#E5ECF6\", \"width\": 0.5}}, \"type\": \"barpolar\"}], \"carpet\": [{\"aaxis\": {\"endlinecolor\": \"#2a3f5f\", \"gridcolor\": \"white\", \"linecolor\": \"white\", \"minorgridcolor\": \"white\", \"startlinecolor\": \"#2a3f5f\"}, \"baxis\": {\"endlinecolor\": \"#2a3f5f\", \"gridcolor\": \"white\", \"linecolor\": \"white\", \"minorgridcolor\": \"white\", \"startlinecolor\": \"#2a3f5f\"}, \"type\": \"carpet\"}], \"choropleth\": [{\"colorbar\": {\"outlinewidth\": 0, \"ticks\": \"\"}, \"type\": \"choropleth\"}], \"contour\": [{\"colorbar\": {\"outlinewidth\": 0, \"ticks\": \"\"}, \"colorscale\": [[0.0, \"#0d0887\"], [0.1111111111111111, \"#46039f\"], [0.2222222222222222, \"#7201a8\"], [0.3333333333333333, \"#9c179e\"], [0.4444444444444444, \"#bd3786\"], [0.5555555555555556, \"#d8576b\"], [0.6666666666666666, \"#ed7953\"], [0.7777777777777778, \"#fb9f3a\"], [0.8888888888888888, \"#fdca26\"], [1.0, \"#f0f921\"]], \"type\": \"contour\"}], \"contourcarpet\": [{\"colorbar\": {\"outlinewidth\": 0, \"ticks\": \"\"}, \"type\": \"contourcarpet\"}], \"heatmap\": [{\"colorbar\": {\"outlinewidth\": 0, \"ticks\": \"\"}, \"colorscale\": [[0.0, \"#0d0887\"], [0.1111111111111111, \"#46039f\"], [0.2222222222222222, \"#7201a8\"], [0.3333333333333333, \"#9c179e\"], [0.4444444444444444, \"#bd3786\"], [0.5555555555555556, \"#d8576b\"], [0.6666666666666666, \"#ed7953\"], [0.7777777777777778, \"#fb9f3a\"], [0.8888888888888888, \"#fdca26\"], [1.0, \"#f0f921\"]], \"type\": \"heatmap\"}], \"heatmapgl\": [{\"colorbar\": {\"outlinewidth\": 0, \"ticks\": \"\"}, \"colorscale\": [[0.0, \"#0d0887\"], [0.1111111111111111, \"#46039f\"], [0.2222222222222222, \"#7201a8\"], [0.3333333333333333, \"#9c179e\"], [0.4444444444444444, \"#bd3786\"], [0.5555555555555556, \"#d8576b\"], [0.6666666666666666, \"#ed7953\"], [0.7777777777777778, \"#fb9f3a\"], [0.8888888888888888, \"#fdca26\"], [1.0, \"#f0f921\"]], \"type\": \"heatmapgl\"}], \"histogram\": [{\"marker\": {\"colorbar\": {\"outlinewidth\": 0, \"ticks\": \"\"}}, \"type\": \"histogram\"}], \"histogram2d\": [{\"colorbar\": {\"outlinewidth\": 0, \"ticks\": \"\"}, \"colorscale\": [[0.0, \"#0d0887\"], [0.1111111111111111, \"#46039f\"], [0.2222222222222222, \"#7201a8\"], [0.3333333333333333, \"#9c179e\"], [0.4444444444444444, \"#bd3786\"], [0.5555555555555556, \"#d8576b\"], [0.6666666666666666, \"#ed7953\"], [0.7777777777777778, \"#fb9f3a\"], [0.8888888888888888, \"#fdca26\"], [1.0, \"#f0f921\"]], \"type\": \"histogram2d\"}], \"histogram2dcontour\": [{\"colorbar\": {\"outlinewidth\": 0, \"ticks\": \"\"}, \"colorscale\": [[0.0, \"#0d0887\"], [0.1111111111111111, \"#46039f\"], [0.2222222222222222, \"#7201a8\"], [0.3333333333333333, \"#9c179e\"], [0.4444444444444444, \"#bd3786\"], [0.5555555555555556, \"#d8576b\"], [0.6666666666666666, \"#ed7953\"], [0.7777777777777778, \"#fb9f3a\"], [0.8888888888888888, \"#fdca26\"], [1.0, \"#f0f921\"]], \"type\": \"histogram2dcontour\"}], \"mesh3d\": [{\"colorbar\": {\"outlinewidth\": 0, \"ticks\": \"\"}, \"type\": \"mesh3d\"}], \"parcoords\": [{\"line\": {\"colorbar\": {\"outlinewidth\": 0, \"ticks\": \"\"}}, \"type\": \"parcoords\"}], \"pie\": [{\"automargin\": true, \"type\": \"pie\"}], \"scatter\": [{\"marker\": {\"colorbar\": {\"outlinewidth\": 0, \"ticks\": \"\"}}, \"type\": \"scatter\"}], \"scatter3d\": [{\"line\": {\"colorbar\": {\"outlinewidth\": 0, \"ticks\": \"\"}}, \"marker\": {\"colorbar\": {\"outlinewidth\": 0, \"ticks\": \"\"}}, \"type\": \"scatter3d\"}], \"scattercarpet\": [{\"marker\": {\"colorbar\": {\"outlinewidth\": 0, \"ticks\": \"\"}}, \"type\": \"scattercarpet\"}], \"scattergeo\": [{\"marker\": {\"colorbar\": {\"outlinewidth\": 0, \"ticks\": \"\"}}, \"type\": \"scattergeo\"}], \"scattergl\": [{\"marker\": {\"colorbar\": {\"outlinewidth\": 0, \"ticks\": \"\"}}, \"type\": \"scattergl\"}], \"scattermapbox\": [{\"marker\": {\"colorbar\": {\"outlinewidth\": 0, \"ticks\": \"\"}}, \"type\": \"scattermapbox\"}], \"scatterpolar\": [{\"marker\": {\"colorbar\": {\"outlinewidth\": 0, \"ticks\": \"\"}}, \"type\": \"scatterpolar\"}], \"scatterpolargl\": [{\"marker\": {\"colorbar\": {\"outlinewidth\": 0, \"ticks\": \"\"}}, \"type\": \"scatterpolargl\"}], \"scatterternary\": [{\"marker\": {\"colorbar\": {\"outlinewidth\": 0, \"ticks\": \"\"}}, \"type\": \"scatterternary\"}], \"surface\": [{\"colorbar\": {\"outlinewidth\": 0, \"ticks\": \"\"}, \"colorscale\": [[0.0, \"#0d0887\"], [0.1111111111111111, \"#46039f\"], [0.2222222222222222, \"#7201a8\"], [0.3333333333333333, \"#9c179e\"], [0.4444444444444444, \"#bd3786\"], [0.5555555555555556, \"#d8576b\"], [0.6666666666666666, \"#ed7953\"], [0.7777777777777778, \"#fb9f3a\"], [0.8888888888888888, \"#fdca26\"], [1.0, \"#f0f921\"]], \"type\": \"surface\"}], \"table\": [{\"cells\": {\"fill\": {\"color\": \"#EBF0F8\"}, \"line\": {\"color\": \"white\"}}, \"header\": {\"fill\": {\"color\": \"#C8D4E3\"}, \"line\": {\"color\": \"white\"}}, \"type\": \"table\"}]}, \"layout\": {\"annotationdefaults\": {\"arrowcolor\": \"#2a3f5f\", \"arrowhead\": 0, \"arrowwidth\": 1}, \"coloraxis\": {\"colorbar\": {\"outlinewidth\": 0, \"ticks\": \"\"}}, \"colorscale\": {\"diverging\": [[0, \"#8e0152\"], [0.1, \"#c51b7d\"], [0.2, \"#de77ae\"], [0.3, \"#f1b6da\"], [0.4, \"#fde0ef\"], [0.5, \"#f7f7f7\"], [0.6, \"#e6f5d0\"], [0.7, \"#b8e186\"], [0.8, \"#7fbc41\"], [0.9, \"#4d9221\"], [1, \"#276419\"]], \"sequential\": [[0.0, \"#0d0887\"], [0.1111111111111111, \"#46039f\"], [0.2222222222222222, \"#7201a8\"], [0.3333333333333333, \"#9c179e\"], [0.4444444444444444, \"#bd3786\"], [0.5555555555555556, \"#d8576b\"], [0.6666666666666666, \"#ed7953\"], [0.7777777777777778, \"#fb9f3a\"], [0.8888888888888888, \"#fdca26\"], [1.0, \"#f0f921\"]], \"sequentialminus\": [[0.0, \"#0d0887\"], [0.1111111111111111, \"#46039f\"], [0.2222222222222222, \"#7201a8\"], [0.3333333333333333, \"#9c179e\"], [0.4444444444444444, \"#bd3786\"], [0.5555555555555556, \"#d8576b\"], [0.6666666666666666, \"#ed7953\"], [0.7777777777777778, \"#fb9f3a\"], [0.8888888888888888, \"#fdca26\"], [1.0, \"#f0f921\"]]}, \"colorway\": [\"#636efa\", \"#EF553B\", \"#00cc96\", \"#ab63fa\", \"#FFA15A\", \"#19d3f3\", \"#FF6692\", \"#B6E880\", \"#FF97FF\", \"#FECB52\"], \"font\": {\"color\": \"#2a3f5f\"}, \"geo\": {\"bgcolor\": \"white\", \"lakecolor\": \"white\", \"landcolor\": \"#E5ECF6\", \"showlakes\": true, \"showland\": true, \"subunitcolor\": \"white\"}, \"hoverlabel\": {\"align\": \"left\"}, \"hovermode\": \"closest\", \"mapbox\": {\"style\": \"light\"}, \"paper_bgcolor\": \"white\", \"plot_bgcolor\": \"#E5ECF6\", \"polar\": {\"angularaxis\": {\"gridcolor\": \"white\", \"linecolor\": \"white\", \"ticks\": \"\"}, \"bgcolor\": \"#E5ECF6\", \"radialaxis\": {\"gridcolor\": \"white\", \"linecolor\": \"white\", \"ticks\": \"\"}}, \"scene\": {\"xaxis\": {\"backgroundcolor\": \"#E5ECF6\", \"gridcolor\": \"white\", \"gridwidth\": 2, \"linecolor\": \"white\", \"showbackground\": true, \"ticks\": \"\", \"zerolinecolor\": \"white\"}, \"yaxis\": {\"backgroundcolor\": \"#E5ECF6\", \"gridcolor\": \"white\", \"gridwidth\": 2, \"linecolor\": \"white\", \"showbackground\": true, \"ticks\": \"\", \"zerolinecolor\": \"white\"}, \"zaxis\": {\"backgroundcolor\": \"#E5ECF6\", \"gridcolor\": \"white\", \"gridwidth\": 2, \"linecolor\": \"white\", \"showbackground\": true, \"ticks\": \"\", \"zerolinecolor\": \"white\"}}, \"shapedefaults\": {\"line\": {\"color\": \"#2a3f5f\"}}, \"ternary\": {\"aaxis\": {\"gridcolor\": \"white\", \"linecolor\": \"white\", \"ticks\": \"\"}, \"baxis\": {\"gridcolor\": \"white\", \"linecolor\": \"white\", \"ticks\": \"\"}, \"bgcolor\": \"#E5ECF6\", \"caxis\": {\"gridcolor\": \"white\", \"linecolor\": \"white\", \"ticks\": \"\"}}, \"title\": {\"x\": 0.05}, \"xaxis\": {\"automargin\": true, \"gridcolor\": \"white\", \"linecolor\": \"white\", \"ticks\": \"\", \"title\": {\"standoff\": 15}, \"zerolinecolor\": \"white\", \"zerolinewidth\": 2}, \"yaxis\": {\"automargin\": true, \"gridcolor\": \"white\", \"linecolor\": \"white\", \"ticks\": \"\", \"title\": {\"standoff\": 15}, \"zerolinecolor\": \"white\", \"zerolinewidth\": 2}}}, \"xaxis\": {\"dtick\": 1, \"gridcolor\": \"rgb(0, 0, 0)\", \"side\": \"top\", \"ticks\": \"\"}, \"yaxis\": {\"dtick\": 1, \"ticks\": \"\", \"ticksuffix\": \"  \"}},\n",
       "                        {\"responsive\": true}\n",
       "                    ).then(function(){\n",
       "                            \n",
       "var gd = document.getElementById('f034f3e9-ea11-4062-ae40-bf0ee7b67506');\n",
       "var x = new MutationObserver(function (mutations, observer) {{\n",
       "        var display = window.getComputedStyle(gd).display;\n",
       "        if (!display || display === 'none') {{\n",
       "            console.log([gd, 'removed!']);\n",
       "            Plotly.purge(gd);\n",
       "            observer.disconnect();\n",
       "        }}\n",
       "}});\n",
       "\n",
       "// Listen for the removal of the full notebook cells\n",
       "var notebookContainer = gd.closest('#notebook-container');\n",
       "if (notebookContainer) {{\n",
       "    x.observe(notebookContainer, {childList: true});\n",
       "}}\n",
       "\n",
       "// Listen for the clearing of the current output cell\n",
       "var outputEl = gd.closest('.output');\n",
       "if (outputEl) {{\n",
       "    x.observe(outputEl, {childList: true});\n",
       "}}\n",
       "\n",
       "                        })\n",
       "                };\n",
       "                });\n",
       "            </script>\n",
       "        </div>"
      ]
     },
     "metadata": {},
     "output_type": "display_data"
    }
   ],
   "source": [
    "# show correlation heatmap\n",
    "county_covid19_heatmap"
   ]
  },
  {
   "cell_type": "code",
   "execution_count": 102,
   "metadata": {},
   "outputs": [],
   "source": [
    "df_total60 = df_county_health.sort_values(by = \"percent_over60\" , ascending = False)"
   ]
  },
  {
   "cell_type": "code",
   "execution_count": 103,
   "metadata": {},
   "outputs": [],
   "source": [
    "df_total60_up = df_total60.head(20)"
   ]
  },
  {
   "cell_type": "code",
   "execution_count": 104,
   "metadata": {},
   "outputs": [],
   "source": [
    "# make a graph to show percent of largest 18 under population \n",
    "bar_total_pop60_up = px.bar(df_total60_up,\n",
    "                   x = \"Geographic Area N\",\n",
    "                   y = \"percent_over60\",\n",
    "                   title = \"US Counties with the Highest Percent Over 60 Population\",\n",
    "                   labels = {\"Geographic Area N\": \"County, State Name\", \"percent_over60\": \"Percent Over 60\"})"
   ]
  },
  {
   "cell_type": "code",
   "execution_count": 105,
   "metadata": {},
   "outputs": [
    {
     "data": {
      "application/vnd.plotly.v1+json": {
       "config": {
        "plotlyServerURL": "https://plot.ly"
       },
       "data": [
        {
         "alignmentgroup": "True",
         "hovertemplate": "County, State Name=%{x}<br>Percent Over 60=%{y}<extra></extra>",
         "legendgroup": "",
         "marker": {
          "color": "#636efa"
         },
         "name": "",
         "offsetgroup": "",
         "orientation": "v",
         "showlegend": false,
         "textposition": "auto",
         "type": "bar",
         "x": [
          "Sumter County, Florida",
          "Charlotte County, Florida",
          "Citrus County, Florida",
          "Sarasota County, Florida",
          "Highlands County, Florida",
          "Indian River County, Florida",
          "Brunswick County, North Carolina",
          "Yavapai County, Arizona",
          "Collier County, Florida",
          "Barnstable County, Massachusetts",
          "Mohave County, Arizona",
          "Martin County, Florida",
          "Flagler County, Florida",
          "Clallam County, Washington",
          "Sussex County, Delaware",
          "Nevada County, California",
          "Marion County, Florida",
          "Lee County, Florida",
          "Hernando County, Florida",
          "Cape May County, New Jersey"
         ],
         "xaxis": "x",
         "y": [
          65.90707861503333,
          49.664320695358875,
          46.15660215373592,
          44.50222395118087,
          42.880179086356044,
          42.879558867437886,
          42.298748025507514,
          41.01028910355054,
          39.432425862907145,
          39.419810414548316,
          39.40252922930088,
          39.04556527791588,
          38.57246111701036,
          37.19196736906577,
          36.90543687796028,
          36.695554485636336,
          35.84895701669829,
          35.619061501967906,
          35.51567862101485,
          34.867113223854794
         ],
         "yaxis": "y"
        }
       ],
       "layout": {
        "autosize": true,
        "barmode": "relative",
        "legend": {
         "tracegroupgap": 0
        },
        "template": {
         "data": {
          "bar": [
           {
            "error_x": {
             "color": "#2a3f5f"
            },
            "error_y": {
             "color": "#2a3f5f"
            },
            "marker": {
             "line": {
              "color": "#E5ECF6",
              "width": 0.5
             }
            },
            "type": "bar"
           }
          ],
          "barpolar": [
           {
            "marker": {
             "line": {
              "color": "#E5ECF6",
              "width": 0.5
             }
            },
            "type": "barpolar"
           }
          ],
          "carpet": [
           {
            "aaxis": {
             "endlinecolor": "#2a3f5f",
             "gridcolor": "white",
             "linecolor": "white",
             "minorgridcolor": "white",
             "startlinecolor": "#2a3f5f"
            },
            "baxis": {
             "endlinecolor": "#2a3f5f",
             "gridcolor": "white",
             "linecolor": "white",
             "minorgridcolor": "white",
             "startlinecolor": "#2a3f5f"
            },
            "type": "carpet"
           }
          ],
          "choropleth": [
           {
            "colorbar": {
             "outlinewidth": 0,
             "ticks": ""
            },
            "type": "choropleth"
           }
          ],
          "contour": [
           {
            "colorbar": {
             "outlinewidth": 0,
             "ticks": ""
            },
            "colorscale": [
             [
              0,
              "#0d0887"
             ],
             [
              0.1111111111111111,
              "#46039f"
             ],
             [
              0.2222222222222222,
              "#7201a8"
             ],
             [
              0.3333333333333333,
              "#9c179e"
             ],
             [
              0.4444444444444444,
              "#bd3786"
             ],
             [
              0.5555555555555556,
              "#d8576b"
             ],
             [
              0.6666666666666666,
              "#ed7953"
             ],
             [
              0.7777777777777778,
              "#fb9f3a"
             ],
             [
              0.8888888888888888,
              "#fdca26"
             ],
             [
              1,
              "#f0f921"
             ]
            ],
            "type": "contour"
           }
          ],
          "contourcarpet": [
           {
            "colorbar": {
             "outlinewidth": 0,
             "ticks": ""
            },
            "type": "contourcarpet"
           }
          ],
          "heatmap": [
           {
            "colorbar": {
             "outlinewidth": 0,
             "ticks": ""
            },
            "colorscale": [
             [
              0,
              "#0d0887"
             ],
             [
              0.1111111111111111,
              "#46039f"
             ],
             [
              0.2222222222222222,
              "#7201a8"
             ],
             [
              0.3333333333333333,
              "#9c179e"
             ],
             [
              0.4444444444444444,
              "#bd3786"
             ],
             [
              0.5555555555555556,
              "#d8576b"
             ],
             [
              0.6666666666666666,
              "#ed7953"
             ],
             [
              0.7777777777777778,
              "#fb9f3a"
             ],
             [
              0.8888888888888888,
              "#fdca26"
             ],
             [
              1,
              "#f0f921"
             ]
            ],
            "type": "heatmap"
           }
          ],
          "heatmapgl": [
           {
            "colorbar": {
             "outlinewidth": 0,
             "ticks": ""
            },
            "colorscale": [
             [
              0,
              "#0d0887"
             ],
             [
              0.1111111111111111,
              "#46039f"
             ],
             [
              0.2222222222222222,
              "#7201a8"
             ],
             [
              0.3333333333333333,
              "#9c179e"
             ],
             [
              0.4444444444444444,
              "#bd3786"
             ],
             [
              0.5555555555555556,
              "#d8576b"
             ],
             [
              0.6666666666666666,
              "#ed7953"
             ],
             [
              0.7777777777777778,
              "#fb9f3a"
             ],
             [
              0.8888888888888888,
              "#fdca26"
             ],
             [
              1,
              "#f0f921"
             ]
            ],
            "type": "heatmapgl"
           }
          ],
          "histogram": [
           {
            "marker": {
             "colorbar": {
              "outlinewidth": 0,
              "ticks": ""
             }
            },
            "type": "histogram"
           }
          ],
          "histogram2d": [
           {
            "colorbar": {
             "outlinewidth": 0,
             "ticks": ""
            },
            "colorscale": [
             [
              0,
              "#0d0887"
             ],
             [
              0.1111111111111111,
              "#46039f"
             ],
             [
              0.2222222222222222,
              "#7201a8"
             ],
             [
              0.3333333333333333,
              "#9c179e"
             ],
             [
              0.4444444444444444,
              "#bd3786"
             ],
             [
              0.5555555555555556,
              "#d8576b"
             ],
             [
              0.6666666666666666,
              "#ed7953"
             ],
             [
              0.7777777777777778,
              "#fb9f3a"
             ],
             [
              0.8888888888888888,
              "#fdca26"
             ],
             [
              1,
              "#f0f921"
             ]
            ],
            "type": "histogram2d"
           }
          ],
          "histogram2dcontour": [
           {
            "colorbar": {
             "outlinewidth": 0,
             "ticks": ""
            },
            "colorscale": [
             [
              0,
              "#0d0887"
             ],
             [
              0.1111111111111111,
              "#46039f"
             ],
             [
              0.2222222222222222,
              "#7201a8"
             ],
             [
              0.3333333333333333,
              "#9c179e"
             ],
             [
              0.4444444444444444,
              "#bd3786"
             ],
             [
              0.5555555555555556,
              "#d8576b"
             ],
             [
              0.6666666666666666,
              "#ed7953"
             ],
             [
              0.7777777777777778,
              "#fb9f3a"
             ],
             [
              0.8888888888888888,
              "#fdca26"
             ],
             [
              1,
              "#f0f921"
             ]
            ],
            "type": "histogram2dcontour"
           }
          ],
          "mesh3d": [
           {
            "colorbar": {
             "outlinewidth": 0,
             "ticks": ""
            },
            "type": "mesh3d"
           }
          ],
          "parcoords": [
           {
            "line": {
             "colorbar": {
              "outlinewidth": 0,
              "ticks": ""
             }
            },
            "type": "parcoords"
           }
          ],
          "pie": [
           {
            "automargin": true,
            "type": "pie"
           }
          ],
          "scatter": [
           {
            "marker": {
             "colorbar": {
              "outlinewidth": 0,
              "ticks": ""
             }
            },
            "type": "scatter"
           }
          ],
          "scatter3d": [
           {
            "line": {
             "colorbar": {
              "outlinewidth": 0,
              "ticks": ""
             }
            },
            "marker": {
             "colorbar": {
              "outlinewidth": 0,
              "ticks": ""
             }
            },
            "type": "scatter3d"
           }
          ],
          "scattercarpet": [
           {
            "marker": {
             "colorbar": {
              "outlinewidth": 0,
              "ticks": ""
             }
            },
            "type": "scattercarpet"
           }
          ],
          "scattergeo": [
           {
            "marker": {
             "colorbar": {
              "outlinewidth": 0,
              "ticks": ""
             }
            },
            "type": "scattergeo"
           }
          ],
          "scattergl": [
           {
            "marker": {
             "colorbar": {
              "outlinewidth": 0,
              "ticks": ""
             }
            },
            "type": "scattergl"
           }
          ],
          "scattermapbox": [
           {
            "marker": {
             "colorbar": {
              "outlinewidth": 0,
              "ticks": ""
             }
            },
            "type": "scattermapbox"
           }
          ],
          "scatterpolar": [
           {
            "marker": {
             "colorbar": {
              "outlinewidth": 0,
              "ticks": ""
             }
            },
            "type": "scatterpolar"
           }
          ],
          "scatterpolargl": [
           {
            "marker": {
             "colorbar": {
              "outlinewidth": 0,
              "ticks": ""
             }
            },
            "type": "scatterpolargl"
           }
          ],
          "scatterternary": [
           {
            "marker": {
             "colorbar": {
              "outlinewidth": 0,
              "ticks": ""
             }
            },
            "type": "scatterternary"
           }
          ],
          "surface": [
           {
            "colorbar": {
             "outlinewidth": 0,
             "ticks": ""
            },
            "colorscale": [
             [
              0,
              "#0d0887"
             ],
             [
              0.1111111111111111,
              "#46039f"
             ],
             [
              0.2222222222222222,
              "#7201a8"
             ],
             [
              0.3333333333333333,
              "#9c179e"
             ],
             [
              0.4444444444444444,
              "#bd3786"
             ],
             [
              0.5555555555555556,
              "#d8576b"
             ],
             [
              0.6666666666666666,
              "#ed7953"
             ],
             [
              0.7777777777777778,
              "#fb9f3a"
             ],
             [
              0.8888888888888888,
              "#fdca26"
             ],
             [
              1,
              "#f0f921"
             ]
            ],
            "type": "surface"
           }
          ],
          "table": [
           {
            "cells": {
             "fill": {
              "color": "#EBF0F8"
             },
             "line": {
              "color": "white"
             }
            },
            "header": {
             "fill": {
              "color": "#C8D4E3"
             },
             "line": {
              "color": "white"
             }
            },
            "type": "table"
           }
          ]
         },
         "layout": {
          "annotationdefaults": {
           "arrowcolor": "#2a3f5f",
           "arrowhead": 0,
           "arrowwidth": 1
          },
          "coloraxis": {
           "colorbar": {
            "outlinewidth": 0,
            "ticks": ""
           }
          },
          "colorscale": {
           "diverging": [
            [
             0,
             "#8e0152"
            ],
            [
             0.1,
             "#c51b7d"
            ],
            [
             0.2,
             "#de77ae"
            ],
            [
             0.3,
             "#f1b6da"
            ],
            [
             0.4,
             "#fde0ef"
            ],
            [
             0.5,
             "#f7f7f7"
            ],
            [
             0.6,
             "#e6f5d0"
            ],
            [
             0.7,
             "#b8e186"
            ],
            [
             0.8,
             "#7fbc41"
            ],
            [
             0.9,
             "#4d9221"
            ],
            [
             1,
             "#276419"
            ]
           ],
           "sequential": [
            [
             0,
             "#0d0887"
            ],
            [
             0.1111111111111111,
             "#46039f"
            ],
            [
             0.2222222222222222,
             "#7201a8"
            ],
            [
             0.3333333333333333,
             "#9c179e"
            ],
            [
             0.4444444444444444,
             "#bd3786"
            ],
            [
             0.5555555555555556,
             "#d8576b"
            ],
            [
             0.6666666666666666,
             "#ed7953"
            ],
            [
             0.7777777777777778,
             "#fb9f3a"
            ],
            [
             0.8888888888888888,
             "#fdca26"
            ],
            [
             1,
             "#f0f921"
            ]
           ],
           "sequentialminus": [
            [
             0,
             "#0d0887"
            ],
            [
             0.1111111111111111,
             "#46039f"
            ],
            [
             0.2222222222222222,
             "#7201a8"
            ],
            [
             0.3333333333333333,
             "#9c179e"
            ],
            [
             0.4444444444444444,
             "#bd3786"
            ],
            [
             0.5555555555555556,
             "#d8576b"
            ],
            [
             0.6666666666666666,
             "#ed7953"
            ],
            [
             0.7777777777777778,
             "#fb9f3a"
            ],
            [
             0.8888888888888888,
             "#fdca26"
            ],
            [
             1,
             "#f0f921"
            ]
           ]
          },
          "colorway": [
           "#636efa",
           "#EF553B",
           "#00cc96",
           "#ab63fa",
           "#FFA15A",
           "#19d3f3",
           "#FF6692",
           "#B6E880",
           "#FF97FF",
           "#FECB52"
          ],
          "font": {
           "color": "#2a3f5f"
          },
          "geo": {
           "bgcolor": "white",
           "lakecolor": "white",
           "landcolor": "#E5ECF6",
           "showlakes": true,
           "showland": true,
           "subunitcolor": "white"
          },
          "hoverlabel": {
           "align": "left"
          },
          "hovermode": "closest",
          "mapbox": {
           "style": "light"
          },
          "paper_bgcolor": "white",
          "plot_bgcolor": "#E5ECF6",
          "polar": {
           "angularaxis": {
            "gridcolor": "white",
            "linecolor": "white",
            "ticks": ""
           },
           "bgcolor": "#E5ECF6",
           "radialaxis": {
            "gridcolor": "white",
            "linecolor": "white",
            "ticks": ""
           }
          },
          "scene": {
           "xaxis": {
            "backgroundcolor": "#E5ECF6",
            "gridcolor": "white",
            "gridwidth": 2,
            "linecolor": "white",
            "showbackground": true,
            "ticks": "",
            "zerolinecolor": "white"
           },
           "yaxis": {
            "backgroundcolor": "#E5ECF6",
            "gridcolor": "white",
            "gridwidth": 2,
            "linecolor": "white",
            "showbackground": true,
            "ticks": "",
            "zerolinecolor": "white"
           },
           "zaxis": {
            "backgroundcolor": "#E5ECF6",
            "gridcolor": "white",
            "gridwidth": 2,
            "linecolor": "white",
            "showbackground": true,
            "ticks": "",
            "zerolinecolor": "white"
           }
          },
          "shapedefaults": {
           "line": {
            "color": "#2a3f5f"
           }
          },
          "ternary": {
           "aaxis": {
            "gridcolor": "white",
            "linecolor": "white",
            "ticks": ""
           },
           "baxis": {
            "gridcolor": "white",
            "linecolor": "white",
            "ticks": ""
           },
           "bgcolor": "#E5ECF6",
           "caxis": {
            "gridcolor": "white",
            "linecolor": "white",
            "ticks": ""
           }
          },
          "title": {
           "x": 0.05
          },
          "xaxis": {
           "automargin": true,
           "gridcolor": "white",
           "linecolor": "white",
           "ticks": "",
           "title": {
            "standoff": 15
           },
           "zerolinecolor": "white",
           "zerolinewidth": 2
          },
          "yaxis": {
           "automargin": true,
           "gridcolor": "white",
           "linecolor": "white",
           "ticks": "",
           "title": {
            "standoff": 15
           },
           "zerolinecolor": "white",
           "zerolinewidth": 2
          }
         }
        },
        "title": {
         "text": "US Counties with the Highest Percent Over 60 Population"
        },
        "xaxis": {
         "anchor": "y",
         "autorange": true,
         "domain": [
          0,
          1
         ],
         "range": [
          -0.5,
          19.5
         ],
         "title": {
          "text": "County, State Name"
         },
         "type": "category"
        },
        "yaxis": {
         "anchor": "x",
         "autorange": true,
         "domain": [
          0,
          1
         ],
         "range": [
          0,
          69.37587222635086
         ],
         "title": {
          "text": "Percent Over 60"
         },
         "type": "linear"
        }
       }
      },
      "image/png": "[encoded data removed]",
      "text/html": [
       "<div>\n",
       "        \n",
       "        \n",
       "            <div id=\"ca1df562-507b-4bf1-8588-ac39368d2238\" class=\"plotly-graph-div\" style=\"height:525px; width:100%;\"></div>\n",
       "            <script type=\"text/javascript\">\n",
       "                require([\"plotly\"], function(Plotly) {\n",
       "                    window.PLOTLYENV=window.PLOTLYENV || {};\n",
       "                    \n",
       "                if (document.getElementById(\"ca1df562-507b-4bf1-8588-ac39368d2238\")) {\n",
       "                    Plotly.newPlot(\n",
       "                        'ca1df562-507b-4bf1-8588-ac39368d2238',\n",
       "                        [{\"alignmentgroup\": \"True\", \"hovertemplate\": \"County, State Name=%{x}<br>Percent Over 60=%{y}<extra></extra>\", \"legendgroup\": \"\", \"marker\": {\"color\": \"#636efa\"}, \"name\": \"\", \"offsetgroup\": \"\", \"orientation\": \"v\", \"showlegend\": false, \"textposition\": \"auto\", \"type\": \"bar\", \"x\": [\"Sumter County, Florida\", \"Charlotte County, Florida\", \"Citrus County, Florida\", \"Sarasota County, Florida\", \"Highlands County, Florida\", \"Indian River County, Florida\", \"Brunswick County, North Carolina\", \"Yavapai County, Arizona\", \"Collier County, Florida\", \"Barnstable County, Massachusetts\", \"Mohave County, Arizona\", \"Martin County, Florida\", \"Flagler County, Florida\", \"Clallam County, Washington\", \"Sussex County, Delaware\", \"Nevada County, California\", \"Marion County, Florida\", \"Lee County, Florida\", \"Hernando County, Florida\", \"Cape May County, New Jersey\"], \"xaxis\": \"x\", \"y\": [65.90707861503333, 49.664320695358875, 46.15660215373592, 44.50222395118087, 42.880179086356044, 42.879558867437886, 42.298748025507514, 41.01028910355054, 39.432425862907145, 39.419810414548316, 39.40252922930088, 39.04556527791588, 38.57246111701036, 37.19196736906577, 36.90543687796028, 36.695554485636336, 35.84895701669829, 35.619061501967906, 35.51567862101485, 34.867113223854794], \"yaxis\": \"y\"}],\n",
       "                        {\"barmode\": \"relative\", \"legend\": {\"tracegroupgap\": 0}, \"template\": {\"data\": {\"bar\": [{\"error_x\": {\"color\": \"#2a3f5f\"}, \"error_y\": {\"color\": \"#2a3f5f\"}, \"marker\": {\"line\": {\"color\": \"#E5ECF6\", \"width\": 0.5}}, \"type\": \"bar\"}], \"barpolar\": [{\"marker\": {\"line\": {\"color\": \"#E5ECF6\", \"width\": 0.5}}, \"type\": \"barpolar\"}], \"carpet\": [{\"aaxis\": {\"endlinecolor\": \"#2a3f5f\", \"gridcolor\": \"white\", \"linecolor\": \"white\", \"minorgridcolor\": \"white\", \"startlinecolor\": \"#2a3f5f\"}, \"baxis\": {\"endlinecolor\": \"#2a3f5f\", \"gridcolor\": \"white\", \"linecolor\": \"white\", \"minorgridcolor\": \"white\", \"startlinecolor\": \"#2a3f5f\"}, \"type\": \"carpet\"}], \"choropleth\": [{\"colorbar\": {\"outlinewidth\": 0, \"ticks\": \"\"}, \"type\": \"choropleth\"}], \"contour\": [{\"colorbar\": {\"outlinewidth\": 0, \"ticks\": \"\"}, \"colorscale\": [[0.0, \"#0d0887\"], [0.1111111111111111, \"#46039f\"], [0.2222222222222222, \"#7201a8\"], [0.3333333333333333, \"#9c179e\"], [0.4444444444444444, \"#bd3786\"], [0.5555555555555556, \"#d8576b\"], [0.6666666666666666, \"#ed7953\"], [0.7777777777777778, \"#fb9f3a\"], [0.8888888888888888, \"#fdca26\"], [1.0, \"#f0f921\"]], \"type\": \"contour\"}], \"contourcarpet\": [{\"colorbar\": {\"outlinewidth\": 0, \"ticks\": \"\"}, \"type\": \"contourcarpet\"}], \"heatmap\": [{\"colorbar\": {\"outlinewidth\": 0, \"ticks\": \"\"}, \"colorscale\": [[0.0, \"#0d0887\"], [0.1111111111111111, \"#46039f\"], [0.2222222222222222, \"#7201a8\"], [0.3333333333333333, \"#9c179e\"], [0.4444444444444444, \"#bd3786\"], [0.5555555555555556, \"#d8576b\"], [0.6666666666666666, \"#ed7953\"], [0.7777777777777778, \"#fb9f3a\"], [0.8888888888888888, \"#fdca26\"], [1.0, \"#f0f921\"]], \"type\": \"heatmap\"}], \"heatmapgl\": [{\"colorbar\": {\"outlinewidth\": 0, \"ticks\": \"\"}, \"colorscale\": [[0.0, \"#0d0887\"], [0.1111111111111111, \"#46039f\"], [0.2222222222222222, \"#7201a8\"], [0.3333333333333333, \"#9c179e\"], [0.4444444444444444, \"#bd3786\"], [0.5555555555555556, \"#d8576b\"], [0.6666666666666666, \"#ed7953\"], [0.7777777777777778, \"#fb9f3a\"], [0.8888888888888888, \"#fdca26\"], [1.0, \"#f0f921\"]], \"type\": \"heatmapgl\"}], \"histogram\": [{\"marker\": {\"colorbar\": {\"outlinewidth\": 0, \"ticks\": \"\"}}, \"type\": \"histogram\"}], \"histogram2d\": [{\"colorbar\": {\"outlinewidth\": 0, \"ticks\": \"\"}, \"colorscale\": [[0.0, \"#0d0887\"], [0.1111111111111111, \"#46039f\"], [0.2222222222222222, \"#7201a8\"], [0.3333333333333333, \"#9c179e\"], [0.4444444444444444, \"#bd3786\"], [0.5555555555555556, \"#d8576b\"], [0.6666666666666666, \"#ed7953\"], [0.7777777777777778, \"#fb9f3a\"], [0.8888888888888888, \"#fdca26\"], [1.0, \"#f0f921\"]], \"type\": \"histogram2d\"}], \"histogram2dcontour\": [{\"colorbar\": {\"outlinewidth\": 0, \"ticks\": \"\"}, \"colorscale\": [[0.0, \"#0d0887\"], [0.1111111111111111, \"#46039f\"], [0.2222222222222222, \"#7201a8\"], [0.3333333333333333, \"#9c179e\"], [0.4444444444444444, \"#bd3786\"], [0.5555555555555556, \"#d8576b\"], [0.6666666666666666, \"#ed7953\"], [0.7777777777777778, \"#fb9f3a\"], [0.8888888888888888, \"#fdca26\"], [1.0, \"#f0f921\"]], \"type\": \"histogram2dcontour\"}], \"mesh3d\": [{\"colorbar\": {\"outlinewidth\": 0, \"ticks\": \"\"}, \"type\": \"mesh3d\"}], \"parcoords\": [{\"line\": {\"colorbar\": {\"outlinewidth\": 0, \"ticks\": \"\"}}, \"type\": \"parcoords\"}], \"pie\": [{\"automargin\": true, \"type\": \"pie\"}], \"scatter\": [{\"marker\": {\"colorbar\": {\"outlinewidth\": 0, \"ticks\": \"\"}}, \"type\": \"scatter\"}], \"scatter3d\": [{\"line\": {\"colorbar\": {\"outlinewidth\": 0, \"ticks\": \"\"}}, \"marker\": {\"colorbar\": {\"outlinewidth\": 0, \"ticks\": \"\"}}, \"type\": \"scatter3d\"}], \"scattercarpet\": [{\"marker\": {\"colorbar\": {\"outlinewidth\": 0, \"ticks\": \"\"}}, \"type\": \"scattercarpet\"}], \"scattergeo\": [{\"marker\": {\"colorbar\": {\"outlinewidth\": 0, \"ticks\": \"\"}}, \"type\": \"scattergeo\"}], \"scattergl\": [{\"marker\": {\"colorbar\": {\"outlinewidth\": 0, \"ticks\": \"\"}}, \"type\": \"scattergl\"}], \"scattermapbox\": [{\"marker\": {\"colorbar\": {\"outlinewidth\": 0, \"ticks\": \"\"}}, \"type\": \"scattermapbox\"}], \"scatterpolar\": [{\"marker\": {\"colorbar\": {\"outlinewidth\": 0, \"ticks\": \"\"}}, \"type\": \"scatterpolar\"}], \"scatterpolargl\": [{\"marker\": {\"colorbar\": {\"outlinewidth\": 0, \"ticks\": \"\"}}, \"type\": \"scatterpolargl\"}], \"scatterternary\": [{\"marker\": {\"colorbar\": {\"outlinewidth\": 0, \"ticks\": \"\"}}, \"type\": \"scatterternary\"}], \"surface\": [{\"colorbar\": {\"outlinewidth\": 0, \"ticks\": \"\"}, \"colorscale\": [[0.0, \"#0d0887\"], [0.1111111111111111, \"#46039f\"], [0.2222222222222222, \"#7201a8\"], [0.3333333333333333, \"#9c179e\"], [0.4444444444444444, \"#bd3786\"], [0.5555555555555556, \"#d8576b\"], [0.6666666666666666, \"#ed7953\"], [0.7777777777777778, \"#fb9f3a\"], [0.8888888888888888, \"#fdca26\"], [1.0, \"#f0f921\"]], \"type\": \"surface\"}], \"table\": [{\"cells\": {\"fill\": {\"color\": \"#EBF0F8\"}, \"line\": {\"color\": \"white\"}}, \"header\": {\"fill\": {\"color\": \"#C8D4E3\"}, \"line\": {\"color\": \"white\"}}, \"type\": \"table\"}]}, \"layout\": {\"annotationdefaults\": {\"arrowcolor\": \"#2a3f5f\", \"arrowhead\": 0, \"arrowwidth\": 1}, \"coloraxis\": {\"colorbar\": {\"outlinewidth\": 0, \"ticks\": \"\"}}, \"colorscale\": {\"diverging\": [[0, \"#8e0152\"], [0.1, \"#c51b7d\"], [0.2, \"#de77ae\"], [0.3, \"#f1b6da\"], [0.4, \"#fde0ef\"], [0.5, \"#f7f7f7\"], [0.6, \"#e6f5d0\"], [0.7, \"#b8e186\"], [0.8, \"#7fbc41\"], [0.9, \"#4d9221\"], [1, \"#276419\"]], \"sequential\": [[0.0, \"#0d0887\"], [0.1111111111111111, \"#46039f\"], [0.2222222222222222, \"#7201a8\"], [0.3333333333333333, \"#9c179e\"], [0.4444444444444444, \"#bd3786\"], [0.5555555555555556, \"#d8576b\"], [0.6666666666666666, \"#ed7953\"], [0.7777777777777778, \"#fb9f3a\"], [0.8888888888888888, \"#fdca26\"], [1.0, \"#f0f921\"]], \"sequentialminus\": [[0.0, \"#0d0887\"], [0.1111111111111111, \"#46039f\"], [0.2222222222222222, \"#7201a8\"], [0.3333333333333333, \"#9c179e\"], [0.4444444444444444, \"#bd3786\"], [0.5555555555555556, \"#d8576b\"], [0.6666666666666666, \"#ed7953\"], [0.7777777777777778, \"#fb9f3a\"], [0.8888888888888888, \"#fdca26\"], [1.0, \"#f0f921\"]]}, \"colorway\": [\"#636efa\", \"#EF553B\", \"#00cc96\", \"#ab63fa\", \"#FFA15A\", \"#19d3f3\", \"#FF6692\", \"#B6E880\", \"#FF97FF\", \"#FECB52\"], \"font\": {\"color\": \"#2a3f5f\"}, \"geo\": {\"bgcolor\": \"white\", \"lakecolor\": \"white\", \"landcolor\": \"#E5ECF6\", \"showlakes\": true, \"showland\": true, \"subunitcolor\": \"white\"}, \"hoverlabel\": {\"align\": \"left\"}, \"hovermode\": \"closest\", \"mapbox\": {\"style\": \"light\"}, \"paper_bgcolor\": \"white\", \"plot_bgcolor\": \"#E5ECF6\", \"polar\": {\"angularaxis\": {\"gridcolor\": \"white\", \"linecolor\": \"white\", \"ticks\": \"\"}, \"bgcolor\": \"#E5ECF6\", \"radialaxis\": {\"gridcolor\": \"white\", \"linecolor\": \"white\", \"ticks\": \"\"}}, \"scene\": {\"xaxis\": {\"backgroundcolor\": \"#E5ECF6\", \"gridcolor\": \"white\", \"gridwidth\": 2, \"linecolor\": \"white\", \"showbackground\": true, \"ticks\": \"\", \"zerolinecolor\": \"white\"}, \"yaxis\": {\"backgroundcolor\": \"#E5ECF6\", \"gridcolor\": \"white\", \"gridwidth\": 2, \"linecolor\": \"white\", \"showbackground\": true, \"ticks\": \"\", \"zerolinecolor\": \"white\"}, \"zaxis\": {\"backgroundcolor\": \"#E5ECF6\", \"gridcolor\": \"white\", \"gridwidth\": 2, \"linecolor\": \"white\", \"showbackground\": true, \"ticks\": \"\", \"zerolinecolor\": \"white\"}}, \"shapedefaults\": {\"line\": {\"color\": \"#2a3f5f\"}}, \"ternary\": {\"aaxis\": {\"gridcolor\": \"white\", \"linecolor\": \"white\", \"ticks\": \"\"}, \"baxis\": {\"gridcolor\": \"white\", \"linecolor\": \"white\", \"ticks\": \"\"}, \"bgcolor\": \"#E5ECF6\", \"caxis\": {\"gridcolor\": \"white\", \"linecolor\": \"white\", \"ticks\": \"\"}}, \"title\": {\"x\": 0.05}, \"xaxis\": {\"automargin\": true, \"gridcolor\": \"white\", \"linecolor\": \"white\", \"ticks\": \"\", \"title\": {\"standoff\": 15}, \"zerolinecolor\": \"white\", \"zerolinewidth\": 2}, \"yaxis\": {\"automargin\": true, \"gridcolor\": \"white\", \"linecolor\": \"white\", \"ticks\": \"\", \"title\": {\"standoff\": 15}, \"zerolinecolor\": \"white\", \"zerolinewidth\": 2}}}, \"title\": {\"text\": \"US Counties with the Highest Percent Over 60 Population\"}, \"xaxis\": {\"anchor\": \"y\", \"domain\": [0.0, 1.0], \"title\": {\"text\": \"County, State Name\"}}, \"yaxis\": {\"anchor\": \"x\", \"domain\": [0.0, 1.0], \"title\": {\"text\": \"Percent Over 60\"}}},\n",
       "                        {\"responsive\": true}\n",
       "                    ).then(function(){\n",
       "                            \n",
       "var gd = document.getElementById('ca1df562-507b-4bf1-8588-ac39368d2238');\n",
       "var x = new MutationObserver(function (mutations, observer) {{\n",
       "        var display = window.getComputedStyle(gd).display;\n",
       "        if (!display || display === 'none') {{\n",
       "            console.log([gd, 'removed!']);\n",
       "            Plotly.purge(gd);\n",
       "            observer.disconnect();\n",
       "        }}\n",
       "}});\n",
       "\n",
       "// Listen for the removal of the full notebook cells\n",
       "var notebookContainer = gd.closest('#notebook-container');\n",
       "if (notebookContainer) {{\n",
       "    x.observe(notebookContainer, {childList: true});\n",
       "}}\n",
       "\n",
       "// Listen for the clearing of the current output cell\n",
       "var outputEl = gd.closest('.output');\n",
       "if (outputEl) {{\n",
       "    x.observe(outputEl, {childList: true});\n",
       "}}\n",
       "\n",
       "                        })\n",
       "                };\n",
       "                });\n",
       "            </script>\n",
       "        </div>"
      ]
     },
     "metadata": {},
     "output_type": "display_data"
    }
   ],
   "source": [
    "bar_total_pop60_up"
   ]
  },
  {
   "cell_type": "code",
   "execution_count": null,
   "metadata": {},
   "outputs": [],
   "source": []
  }
 ],
 "metadata": {
  "kernelspec": {
   "display_name": "Python 3",
   "language": "python",
   "name": "python3"
  },
  "language_info": {
   "codemirror_mode": {
    "name": "ipython",
    "version": 3
   },
   "file_extension": ".py",
   "mimetype": "text/x-python",
   "name": "python",
   "nbconvert_exporter": "python",
   "pygments_lexer": "ipython3",
   "version": "3.7.7"
  }
 },
 "nbformat": 4,
 "nbformat_minor": 4
}
